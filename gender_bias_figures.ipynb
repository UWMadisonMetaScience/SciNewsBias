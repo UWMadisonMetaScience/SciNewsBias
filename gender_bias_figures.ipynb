{
 "cells": [
  {
   "cell_type": "code",
   "execution_count": 3,
   "metadata": {},
   "outputs": [],
   "source": [
    "import pandas as pd\n",
    "import seaborn as sns\n",
    "import matplotlib.pyplot as plt\n",
    "import plotly.express as px\n",
    "import plotly.graph_objects as go\n",
    "from plotly.subplots import make_subplots\n",
    "from textwrap import wrap\n",
    "import random\n",
    "from utils import *"
   ]
  },
  {
   "cell_type": "code",
   "execution_count": 44,
   "metadata": {},
   "outputs": [
    {
     "data": {
      "text/html": [
       "<div>\n",
       "<style scoped>\n",
       "    .dataframe tbody tr th:only-of-type {\n",
       "        vertical-align: middle;\n",
       "    }\n",
       "\n",
       "    .dataframe tbody tr th {\n",
       "        vertical-align: top;\n",
       "    }\n",
       "\n",
       "    .dataframe thead th {\n",
       "        text-align: right;\n",
       "    }\n",
       "</style>\n",
       "<table border=\"1\" class=\"dataframe\">\n",
       "  <thead>\n",
       "    <tr style=\"text-align: right;\">\n",
       "      <th></th>\n",
       "      <th>domain</th>\n",
       "      <th>subdomain</th>\n",
       "      <th>value</th>\n",
       "    </tr>\n",
       "  </thead>\n",
       "  <tbody>\n",
       "    <tr>\n",
       "      <th>14</th>\n",
       "      <td>Natural Sciences</td>\n",
       "      <td>Biology</td>\n",
       "      <td>38.220</td>\n",
       "    </tr>\n",
       "    <tr>\n",
       "      <th>15</th>\n",
       "      <td>Natural Sciences</td>\n",
       "      <td>Chemistry</td>\n",
       "      <td>21.158</td>\n",
       "    </tr>\n",
       "    <tr>\n",
       "      <th>16</th>\n",
       "      <td>Natural Sciences</td>\n",
       "      <td>Earth &amp; Env Sciences</td>\n",
       "      <td>33.693</td>\n",
       "    </tr>\n",
       "    <tr>\n",
       "      <th>17</th>\n",
       "      <td>Natural Sciences</td>\n",
       "      <td>Math &amp; Stat</td>\n",
       "      <td>22.333</td>\n",
       "    </tr>\n",
       "    <tr>\n",
       "      <th>18</th>\n",
       "      <td>Natural Sciences</td>\n",
       "      <td>Physics &amp; Astronomy</td>\n",
       "      <td>20.034</td>\n",
       "    </tr>\n",
       "    <tr>\n",
       "      <th>0</th>\n",
       "      <td>Applied Sciences</td>\n",
       "      <td>Agri, Fish &amp; Forestry</td>\n",
       "      <td>38.034</td>\n",
       "    </tr>\n",
       "    <tr>\n",
       "      <th>1</th>\n",
       "      <td>Applied Sciences</td>\n",
       "      <td>Built Env &amp; Design</td>\n",
       "      <td>34.696</td>\n",
       "    </tr>\n",
       "    <tr>\n",
       "      <th>2</th>\n",
       "      <td>Applied Sciences</td>\n",
       "      <td>Enab &amp; Strategic Tech</td>\n",
       "      <td>23.360</td>\n",
       "    </tr>\n",
       "    <tr>\n",
       "      <th>3</th>\n",
       "      <td>Applied Sciences</td>\n",
       "      <td>Engineering</td>\n",
       "      <td>23.780</td>\n",
       "    </tr>\n",
       "    <tr>\n",
       "      <th>4</th>\n",
       "      <td>Applied Sciences</td>\n",
       "      <td>Info &amp; Com Tech</td>\n",
       "      <td>28.459</td>\n",
       "    </tr>\n",
       "    <tr>\n",
       "      <th>10</th>\n",
       "      <td>Health Sciences</td>\n",
       "      <td>Biomedical Research</td>\n",
       "      <td>35.934</td>\n",
       "    </tr>\n",
       "    <tr>\n",
       "      <th>11</th>\n",
       "      <td>Health Sciences</td>\n",
       "      <td>Clinical Medicine</td>\n",
       "      <td>36.618</td>\n",
       "    </tr>\n",
       "    <tr>\n",
       "      <th>12</th>\n",
       "      <td>Health Sciences</td>\n",
       "      <td>Psych &amp; Cog Sciences</td>\n",
       "      <td>56.365</td>\n",
       "    </tr>\n",
       "    <tr>\n",
       "      <th>13</th>\n",
       "      <td>Health Sciences</td>\n",
       "      <td>Public Health &amp; Services</td>\n",
       "      <td>62.126</td>\n",
       "    </tr>\n",
       "    <tr>\n",
       "      <th>8</th>\n",
       "      <td>Economic &amp; Social Sciences</td>\n",
       "      <td>Econ &amp; Business</td>\n",
       "      <td>31.457</td>\n",
       "    </tr>\n",
       "    <tr>\n",
       "      <th>9</th>\n",
       "      <td>Economic &amp; Social Sciences</td>\n",
       "      <td>Social Sciences</td>\n",
       "      <td>53.860</td>\n",
       "    </tr>\n",
       "    <tr>\n",
       "      <th>5</th>\n",
       "      <td>Arts &amp; Humanities</td>\n",
       "      <td>Com &amp; Text Studies</td>\n",
       "      <td>52.810</td>\n",
       "    </tr>\n",
       "    <tr>\n",
       "      <th>6</th>\n",
       "      <td>Arts &amp; Humanities</td>\n",
       "      <td>Historical Studies</td>\n",
       "      <td>47.069</td>\n",
       "    </tr>\n",
       "    <tr>\n",
       "      <th>7</th>\n",
       "      <td>Arts &amp; Humanities</td>\n",
       "      <td>Phil &amp; Theo</td>\n",
       "      <td>29.888</td>\n",
       "    </tr>\n",
       "  </tbody>\n",
       "</table>\n",
       "</div>"
      ],
      "text/plain": [
       "                        domain                 subdomain   value\n",
       "14            Natural Sciences                   Biology  38.220\n",
       "15            Natural Sciences                 Chemistry  21.158\n",
       "16            Natural Sciences      Earth & Env Sciences  33.693\n",
       "17            Natural Sciences               Math & Stat  22.333\n",
       "18            Natural Sciences       Physics & Astronomy  20.034\n",
       "0             Applied Sciences     Agri, Fish & Forestry  38.034\n",
       "1             Applied Sciences        Built Env & Design  34.696\n",
       "2             Applied Sciences     Enab & Strategic Tech  23.360\n",
       "3             Applied Sciences               Engineering  23.780\n",
       "4             Applied Sciences           Info & Com Tech  28.459\n",
       "10             Health Sciences       Biomedical Research  35.934\n",
       "11             Health Sciences         Clinical Medicine  36.618\n",
       "12             Health Sciences      Psych & Cog Sciences  56.365\n",
       "13             Health Sciences  Public Health & Services  62.126\n",
       "8   Economic & Social Sciences           Econ & Business  31.457\n",
       "9   Economic & Social Sciences           Social Sciences  53.860\n",
       "5            Arts & Humanities        Com & Text Studies  52.810\n",
       "6            Arts & Humanities        Historical Studies  47.069\n",
       "7            Arts & Humanities               Phil & Theo  29.888"
      ]
     },
     "execution_count": 44,
     "metadata": {},
     "output_type": "execute_result"
    }
   ],
   "source": [
    "df = pd.read_excel(\"bar chart compare.xlsx\")\n",
    "# sort by domains list order\n",
    "df[\"domain\"] = pd.Categorical(df[\"domain\"], domains)\n",
    "df[\"subdomain\"] = pd.Categorical(df[\"subdomain\"], subdomains)\n",
    "df = df.sort_values([\"domain\", \"subdomain\"])\n",
    "df"
   ]
  },
  {
   "cell_type": "code",
   "execution_count": 45,
   "metadata": {
    "colab": {
     "base_uri": "https://localhost:8080/",
     "height": 1000
    },
    "id": "KVxut2eA9Ijd",
    "outputId": "0de2f573-a22e-4ba6-9fbf-5f8a3a4ba59d"
   },
   "outputs": [
    {
     "data": {
      "application/vnd.plotly.v1+json": {
       "config": {
        "plotlyServerURL": "https://plot.ly"
       },
       "data": [
        {
         "marker": {
          "color": "rgb(145,181,214)"
         },
         "orientation": "h",
         "showlegend": false,
         "type": "bar",
         "x": [
          38.22,
          21.158,
          33.693,
          22.333,
          20.034
         ],
         "y": [
          "Biology",
          "Chemistry",
          "Earth & Env Sciences",
          "Math & Stat",
          "Physics & Astronomy"
         ]
        },
        {
         "marker": {
          "color": "rgb(255,187,120)"
         },
         "orientation": "h",
         "showlegend": false,
         "type": "bar",
         "x": [
          38.034,
          34.696,
          23.36,
          23.78,
          28.459
         ],
         "y": [
          "Agri, Fish & Forestry",
          "Built Env & Design",
          "Enab & Strategic Tech",
          "Engineering",
          "Info & Com Tech"
         ]
        },
        {
         "marker": {
          "color": "rgb(31,119,180)"
         },
         "orientation": "h",
         "showlegend": false,
         "type": "bar",
         "x": [
          35.934,
          36.618,
          56.365,
          62.126
         ],
         "y": [
          "Biomedical Research",
          "Clinical Medicine",
          "Psych & Cog Sciences",
          "Public Health & Services"
         ]
        },
        {
         "marker": {
          "color": "rgb(81,182,137)"
         },
         "orientation": "h",
         "showlegend": false,
         "type": "bar",
         "x": [
          31.457,
          53.86
         ],
         "y": [
          "Econ & Business",
          "Social Sciences"
         ]
        },
        {
         "marker": {
          "color": "rgb(197,176,213)"
         },
         "orientation": "h",
         "showlegend": false,
         "type": "bar",
         "x": [
          52.81,
          47.069,
          29.888
         ],
         "y": [
          "Com & Text Studies",
          "Historical Studies",
          "Phil & Theo"
         ]
        }
       ],
       "layout": {
        "font": {
         "family": "Arial",
         "size": 12
        },
        "height": 500,
        "margin": {
         "b": 20,
         "l": 100,
         "r": 20,
         "t": 50
        },
        "shapes": [
         {
          "line": {
           "color": "black",
           "dash": "dash",
           "width": 1
          },
          "type": "line",
          "x0": 50,
          "x1": 50,
          "xref": "x",
          "y0": 0,
          "y1": 1,
          "yref": "y domain"
         }
        ],
        "template": {
         "data": {
          "bar": [
           {
            "error_x": {
             "color": "rgb(36,36,36)"
            },
            "error_y": {
             "color": "rgb(36,36,36)"
            },
            "marker": {
             "line": {
              "color": "white",
              "width": 0.5
             },
             "pattern": {
              "fillmode": "overlay",
              "size": 10,
              "solidity": 0.2
             }
            },
            "type": "bar"
           }
          ],
          "barpolar": [
           {
            "marker": {
             "line": {
              "color": "white",
              "width": 0.5
             },
             "pattern": {
              "fillmode": "overlay",
              "size": 10,
              "solidity": 0.2
             }
            },
            "type": "barpolar"
           }
          ],
          "carpet": [
           {
            "aaxis": {
             "endlinecolor": "rgb(36,36,36)",
             "gridcolor": "white",
             "linecolor": "white",
             "minorgridcolor": "white",
             "startlinecolor": "rgb(36,36,36)"
            },
            "baxis": {
             "endlinecolor": "rgb(36,36,36)",
             "gridcolor": "white",
             "linecolor": "white",
             "minorgridcolor": "white",
             "startlinecolor": "rgb(36,36,36)"
            },
            "type": "carpet"
           }
          ],
          "choropleth": [
           {
            "colorbar": {
             "outlinewidth": 1,
             "tickcolor": "rgb(36,36,36)",
             "ticks": "outside"
            },
            "type": "choropleth"
           }
          ],
          "contour": [
           {
            "colorbar": {
             "outlinewidth": 1,
             "tickcolor": "rgb(36,36,36)",
             "ticks": "outside"
            },
            "colorscale": [
             [
              0,
              "#440154"
             ],
             [
              0.1111111111111111,
              "#482878"
             ],
             [
              0.2222222222222222,
              "#3e4989"
             ],
             [
              0.3333333333333333,
              "#31688e"
             ],
             [
              0.4444444444444444,
              "#26828e"
             ],
             [
              0.5555555555555556,
              "#1f9e89"
             ],
             [
              0.6666666666666666,
              "#35b779"
             ],
             [
              0.7777777777777778,
              "#6ece58"
             ],
             [
              0.8888888888888888,
              "#b5de2b"
             ],
             [
              1,
              "#fde725"
             ]
            ],
            "type": "contour"
           }
          ],
          "contourcarpet": [
           {
            "colorbar": {
             "outlinewidth": 1,
             "tickcolor": "rgb(36,36,36)",
             "ticks": "outside"
            },
            "type": "contourcarpet"
           }
          ],
          "heatmap": [
           {
            "colorbar": {
             "outlinewidth": 1,
             "tickcolor": "rgb(36,36,36)",
             "ticks": "outside"
            },
            "colorscale": [
             [
              0,
              "#440154"
             ],
             [
              0.1111111111111111,
              "#482878"
             ],
             [
              0.2222222222222222,
              "#3e4989"
             ],
             [
              0.3333333333333333,
              "#31688e"
             ],
             [
              0.4444444444444444,
              "#26828e"
             ],
             [
              0.5555555555555556,
              "#1f9e89"
             ],
             [
              0.6666666666666666,
              "#35b779"
             ],
             [
              0.7777777777777778,
              "#6ece58"
             ],
             [
              0.8888888888888888,
              "#b5de2b"
             ],
             [
              1,
              "#fde725"
             ]
            ],
            "type": "heatmap"
           }
          ],
          "heatmapgl": [
           {
            "colorbar": {
             "outlinewidth": 1,
             "tickcolor": "rgb(36,36,36)",
             "ticks": "outside"
            },
            "colorscale": [
             [
              0,
              "#440154"
             ],
             [
              0.1111111111111111,
              "#482878"
             ],
             [
              0.2222222222222222,
              "#3e4989"
             ],
             [
              0.3333333333333333,
              "#31688e"
             ],
             [
              0.4444444444444444,
              "#26828e"
             ],
             [
              0.5555555555555556,
              "#1f9e89"
             ],
             [
              0.6666666666666666,
              "#35b779"
             ],
             [
              0.7777777777777778,
              "#6ece58"
             ],
             [
              0.8888888888888888,
              "#b5de2b"
             ],
             [
              1,
              "#fde725"
             ]
            ],
            "type": "heatmapgl"
           }
          ],
          "histogram": [
           {
            "marker": {
             "line": {
              "color": "white",
              "width": 0.6
             }
            },
            "type": "histogram"
           }
          ],
          "histogram2d": [
           {
            "colorbar": {
             "outlinewidth": 1,
             "tickcolor": "rgb(36,36,36)",
             "ticks": "outside"
            },
            "colorscale": [
             [
              0,
              "#440154"
             ],
             [
              0.1111111111111111,
              "#482878"
             ],
             [
              0.2222222222222222,
              "#3e4989"
             ],
             [
              0.3333333333333333,
              "#31688e"
             ],
             [
              0.4444444444444444,
              "#26828e"
             ],
             [
              0.5555555555555556,
              "#1f9e89"
             ],
             [
              0.6666666666666666,
              "#35b779"
             ],
             [
              0.7777777777777778,
              "#6ece58"
             ],
             [
              0.8888888888888888,
              "#b5de2b"
             ],
             [
              1,
              "#fde725"
             ]
            ],
            "type": "histogram2d"
           }
          ],
          "histogram2dcontour": [
           {
            "colorbar": {
             "outlinewidth": 1,
             "tickcolor": "rgb(36,36,36)",
             "ticks": "outside"
            },
            "colorscale": [
             [
              0,
              "#440154"
             ],
             [
              0.1111111111111111,
              "#482878"
             ],
             [
              0.2222222222222222,
              "#3e4989"
             ],
             [
              0.3333333333333333,
              "#31688e"
             ],
             [
              0.4444444444444444,
              "#26828e"
             ],
             [
              0.5555555555555556,
              "#1f9e89"
             ],
             [
              0.6666666666666666,
              "#35b779"
             ],
             [
              0.7777777777777778,
              "#6ece58"
             ],
             [
              0.8888888888888888,
              "#b5de2b"
             ],
             [
              1,
              "#fde725"
             ]
            ],
            "type": "histogram2dcontour"
           }
          ],
          "mesh3d": [
           {
            "colorbar": {
             "outlinewidth": 1,
             "tickcolor": "rgb(36,36,36)",
             "ticks": "outside"
            },
            "type": "mesh3d"
           }
          ],
          "parcoords": [
           {
            "line": {
             "colorbar": {
              "outlinewidth": 1,
              "tickcolor": "rgb(36,36,36)",
              "ticks": "outside"
             }
            },
            "type": "parcoords"
           }
          ],
          "pie": [
           {
            "automargin": true,
            "type": "pie"
           }
          ],
          "scatter": [
           {
            "fillpattern": {
             "fillmode": "overlay",
             "size": 10,
             "solidity": 0.2
            },
            "type": "scatter"
           }
          ],
          "scatter3d": [
           {
            "line": {
             "colorbar": {
              "outlinewidth": 1,
              "tickcolor": "rgb(36,36,36)",
              "ticks": "outside"
             }
            },
            "marker": {
             "colorbar": {
              "outlinewidth": 1,
              "tickcolor": "rgb(36,36,36)",
              "ticks": "outside"
             }
            },
            "type": "scatter3d"
           }
          ],
          "scattercarpet": [
           {
            "marker": {
             "colorbar": {
              "outlinewidth": 1,
              "tickcolor": "rgb(36,36,36)",
              "ticks": "outside"
             }
            },
            "type": "scattercarpet"
           }
          ],
          "scattergeo": [
           {
            "marker": {
             "colorbar": {
              "outlinewidth": 1,
              "tickcolor": "rgb(36,36,36)",
              "ticks": "outside"
             }
            },
            "type": "scattergeo"
           }
          ],
          "scattergl": [
           {
            "marker": {
             "colorbar": {
              "outlinewidth": 1,
              "tickcolor": "rgb(36,36,36)",
              "ticks": "outside"
             }
            },
            "type": "scattergl"
           }
          ],
          "scattermapbox": [
           {
            "marker": {
             "colorbar": {
              "outlinewidth": 1,
              "tickcolor": "rgb(36,36,36)",
              "ticks": "outside"
             }
            },
            "type": "scattermapbox"
           }
          ],
          "scatterpolar": [
           {
            "marker": {
             "colorbar": {
              "outlinewidth": 1,
              "tickcolor": "rgb(36,36,36)",
              "ticks": "outside"
             }
            },
            "type": "scatterpolar"
           }
          ],
          "scatterpolargl": [
           {
            "marker": {
             "colorbar": {
              "outlinewidth": 1,
              "tickcolor": "rgb(36,36,36)",
              "ticks": "outside"
             }
            },
            "type": "scatterpolargl"
           }
          ],
          "scatterternary": [
           {
            "marker": {
             "colorbar": {
              "outlinewidth": 1,
              "tickcolor": "rgb(36,36,36)",
              "ticks": "outside"
             }
            },
            "type": "scatterternary"
           }
          ],
          "surface": [
           {
            "colorbar": {
             "outlinewidth": 1,
             "tickcolor": "rgb(36,36,36)",
             "ticks": "outside"
            },
            "colorscale": [
             [
              0,
              "#440154"
             ],
             [
              0.1111111111111111,
              "#482878"
             ],
             [
              0.2222222222222222,
              "#3e4989"
             ],
             [
              0.3333333333333333,
              "#31688e"
             ],
             [
              0.4444444444444444,
              "#26828e"
             ],
             [
              0.5555555555555556,
              "#1f9e89"
             ],
             [
              0.6666666666666666,
              "#35b779"
             ],
             [
              0.7777777777777778,
              "#6ece58"
             ],
             [
              0.8888888888888888,
              "#b5de2b"
             ],
             [
              1,
              "#fde725"
             ]
            ],
            "type": "surface"
           }
          ],
          "table": [
           {
            "cells": {
             "fill": {
              "color": "rgb(237,237,237)"
             },
             "line": {
              "color": "white"
             }
            },
            "header": {
             "fill": {
              "color": "rgb(217,217,217)"
             },
             "line": {
              "color": "white"
             }
            },
            "type": "table"
           }
          ]
         },
         "layout": {
          "annotationdefaults": {
           "arrowhead": 0,
           "arrowwidth": 1
          },
          "autotypenumbers": "strict",
          "coloraxis": {
           "colorbar": {
            "outlinewidth": 1,
            "tickcolor": "rgb(36,36,36)",
            "ticks": "outside"
           }
          },
          "colorscale": {
           "diverging": [
            [
             0,
             "rgb(103,0,31)"
            ],
            [
             0.1,
             "rgb(178,24,43)"
            ],
            [
             0.2,
             "rgb(214,96,77)"
            ],
            [
             0.3,
             "rgb(244,165,130)"
            ],
            [
             0.4,
             "rgb(253,219,199)"
            ],
            [
             0.5,
             "rgb(247,247,247)"
            ],
            [
             0.6,
             "rgb(209,229,240)"
            ],
            [
             0.7,
             "rgb(146,197,222)"
            ],
            [
             0.8,
             "rgb(67,147,195)"
            ],
            [
             0.9,
             "rgb(33,102,172)"
            ],
            [
             1,
             "rgb(5,48,97)"
            ]
           ],
           "sequential": [
            [
             0,
             "#440154"
            ],
            [
             0.1111111111111111,
             "#482878"
            ],
            [
             0.2222222222222222,
             "#3e4989"
            ],
            [
             0.3333333333333333,
             "#31688e"
            ],
            [
             0.4444444444444444,
             "#26828e"
            ],
            [
             0.5555555555555556,
             "#1f9e89"
            ],
            [
             0.6666666666666666,
             "#35b779"
            ],
            [
             0.7777777777777778,
             "#6ece58"
            ],
            [
             0.8888888888888888,
             "#b5de2b"
            ],
            [
             1,
             "#fde725"
            ]
           ],
           "sequentialminus": [
            [
             0,
             "#440154"
            ],
            [
             0.1111111111111111,
             "#482878"
            ],
            [
             0.2222222222222222,
             "#3e4989"
            ],
            [
             0.3333333333333333,
             "#31688e"
            ],
            [
             0.4444444444444444,
             "#26828e"
            ],
            [
             0.5555555555555556,
             "#1f9e89"
            ],
            [
             0.6666666666666666,
             "#35b779"
            ],
            [
             0.7777777777777778,
             "#6ece58"
            ],
            [
             0.8888888888888888,
             "#b5de2b"
            ],
            [
             1,
             "#fde725"
            ]
           ]
          },
          "colorway": [
           "#1F77B4",
           "#FF7F0E",
           "#2CA02C",
           "#D62728",
           "#9467BD",
           "#8C564B",
           "#E377C2",
           "#7F7F7F",
           "#BCBD22",
           "#17BECF"
          ],
          "font": {
           "color": "rgb(36,36,36)"
          },
          "geo": {
           "bgcolor": "white",
           "lakecolor": "white",
           "landcolor": "white",
           "showlakes": true,
           "showland": true,
           "subunitcolor": "white"
          },
          "hoverlabel": {
           "align": "left"
          },
          "hovermode": "closest",
          "mapbox": {
           "style": "light"
          },
          "paper_bgcolor": "white",
          "plot_bgcolor": "white",
          "polar": {
           "angularaxis": {
            "gridcolor": "rgb(232,232,232)",
            "linecolor": "rgb(36,36,36)",
            "showgrid": false,
            "showline": true,
            "ticks": "outside"
           },
           "bgcolor": "white",
           "radialaxis": {
            "gridcolor": "rgb(232,232,232)",
            "linecolor": "rgb(36,36,36)",
            "showgrid": false,
            "showline": true,
            "ticks": "outside"
           }
          },
          "scene": {
           "xaxis": {
            "backgroundcolor": "white",
            "gridcolor": "rgb(232,232,232)",
            "gridwidth": 2,
            "linecolor": "rgb(36,36,36)",
            "showbackground": true,
            "showgrid": false,
            "showline": true,
            "ticks": "outside",
            "zeroline": false,
            "zerolinecolor": "rgb(36,36,36)"
           },
           "yaxis": {
            "backgroundcolor": "white",
            "gridcolor": "rgb(232,232,232)",
            "gridwidth": 2,
            "linecolor": "rgb(36,36,36)",
            "showbackground": true,
            "showgrid": false,
            "showline": true,
            "ticks": "outside",
            "zeroline": false,
            "zerolinecolor": "rgb(36,36,36)"
           },
           "zaxis": {
            "backgroundcolor": "white",
            "gridcolor": "rgb(232,232,232)",
            "gridwidth": 2,
            "linecolor": "rgb(36,36,36)",
            "showbackground": true,
            "showgrid": false,
            "showline": true,
            "ticks": "outside",
            "zeroline": false,
            "zerolinecolor": "rgb(36,36,36)"
           }
          },
          "shapedefaults": {
           "fillcolor": "black",
           "line": {
            "width": 0
           },
           "opacity": 0.3
          },
          "ternary": {
           "aaxis": {
            "gridcolor": "rgb(232,232,232)",
            "linecolor": "rgb(36,36,36)",
            "showgrid": false,
            "showline": true,
            "ticks": "outside"
           },
           "baxis": {
            "gridcolor": "rgb(232,232,232)",
            "linecolor": "rgb(36,36,36)",
            "showgrid": false,
            "showline": true,
            "ticks": "outside"
           },
           "bgcolor": "white",
           "caxis": {
            "gridcolor": "rgb(232,232,232)",
            "linecolor": "rgb(36,36,36)",
            "showgrid": false,
            "showline": true,
            "ticks": "outside"
           }
          },
          "title": {
           "x": 0.05
          },
          "xaxis": {
           "automargin": true,
           "gridcolor": "rgb(232,232,232)",
           "linecolor": "rgb(36,36,36)",
           "showgrid": false,
           "showline": true,
           "ticks": "outside",
           "title": {
            "standoff": 15
           },
           "zeroline": false,
           "zerolinecolor": "rgb(36,36,36)"
          },
          "yaxis": {
           "automargin": true,
           "gridcolor": "rgb(232,232,232)",
           "linecolor": "rgb(36,36,36)",
           "showgrid": false,
           "showline": true,
           "ticks": "outside",
           "title": {
            "standoff": 15
           },
           "zeroline": false,
           "zerolinecolor": "rgb(36,36,36)"
          }
         }
        },
        "width": 400,
        "xaxis": {
         "mirror": true,
         "range": [
          0,
          100
         ],
         "title": {
          "text": "% women corresponding authors<br>in all publications"
         }
        },
        "yaxis": {
         "autorange": "reversed",
         "mirror": true
        }
       }
      }
     },
     "metadata": {},
     "output_type": "display_data"
    }
   ],
   "source": [
    "# Create a bar chart\n",
    "fig = go.Figure()\n",
    "\n",
    "for i, domain in enumerate(domains):\n",
    "    t = df.query(\"domain == @domain\")\n",
    "    fig.add_trace(\n",
    "        go.Bar(\n",
    "            x=t[\"value\"],\n",
    "            y=t[\"subdomain\"],\n",
    "            orientation=\"h\",\n",
    "            marker_color=domain_colors[domain],\n",
    "            showlegend=False,\n",
    "        )\n",
    "    )\n",
    "\n",
    "# Customize layout\n",
    "fig.update_layout(\n",
    "    template=\"simple_white\",\n",
    "    font=dict(size=12, family=\"Arial\"),\n",
    "    height=500,\n",
    "    width=400,\n",
    "    margin=dict(l=100, r=20, t=50, b=20),\n",
    ")\n",
    "\n",
    "fig.update_xaxes(\n",
    "    title=\"% women corresponding authors<br>in all publications\",\n",
    "    mirror=True,\n",
    "    range=[0, 100],\n",
    ")\n",
    "fig.update_yaxes(autorange=\"reversed\", mirror=True)\n",
    "\n",
    "# add reference line at 50%\n",
    "fig.add_vline(x=50, line_width=1, line_dash=\"dash\", line_color=\"black\")\n",
    "\n",
    "# Show the plot\n",
    "fig.show()\n",
    "fig.write_image(\"figures/bar_chart_compare.svg\")"
   ]
  },
  {
   "cell_type": "markdown",
   "metadata": {
    "id": "troTMIls9BA6"
   },
   "source": [
    "## Fig 2(a) - distribution of demale across domains and relative difference after CEM"
   ]
  },
  {
   "cell_type": "code",
   "execution_count": 46,
   "metadata": {},
   "outputs": [
    {
     "data": {
      "text/html": [
       "<div>\n",
       "<style scoped>\n",
       "    .dataframe tbody tr th:only-of-type {\n",
       "        vertical-align: middle;\n",
       "    }\n",
       "\n",
       "    .dataframe tbody tr th {\n",
       "        vertical-align: top;\n",
       "    }\n",
       "\n",
       "    .dataframe thead th {\n",
       "        text-align: right;\n",
       "    }\n",
       "</style>\n",
       "<table border=\"1\" class=\"dataframe\">\n",
       "  <thead>\n",
       "    <tr style=\"text-align: right;\">\n",
       "      <th></th>\n",
       "      <th>domain</th>\n",
       "      <th>subdomain</th>\n",
       "      <th>value</th>\n",
       "    </tr>\n",
       "  </thead>\n",
       "  <tbody>\n",
       "    <tr>\n",
       "      <th>1</th>\n",
       "      <td>Natural Sciences</td>\n",
       "      <td>Biology</td>\n",
       "      <td>-0.483</td>\n",
       "    </tr>\n",
       "    <tr>\n",
       "      <th>4</th>\n",
       "      <td>Natural Sciences</td>\n",
       "      <td>Chemistry</td>\n",
       "      <td>1.278</td>\n",
       "    </tr>\n",
       "    <tr>\n",
       "      <th>7</th>\n",
       "      <td>Natural Sciences</td>\n",
       "      <td>Earth &amp; Env Sciences</td>\n",
       "      <td>5.219</td>\n",
       "    </tr>\n",
       "    <tr>\n",
       "      <th>13</th>\n",
       "      <td>Natural Sciences</td>\n",
       "      <td>Math &amp; Stat</td>\n",
       "      <td>-10.852</td>\n",
       "    </tr>\n",
       "    <tr>\n",
       "      <th>15</th>\n",
       "      <td>Natural Sciences</td>\n",
       "      <td>Physics &amp; Astronomy</td>\n",
       "      <td>-4.740</td>\n",
       "    </tr>\n",
       "    <tr>\n",
       "      <th>0</th>\n",
       "      <td>Applied Sciences</td>\n",
       "      <td>Agri, Fish &amp; Forestry</td>\n",
       "      <td>13.616</td>\n",
       "    </tr>\n",
       "    <tr>\n",
       "      <th>3</th>\n",
       "      <td>Applied Sciences</td>\n",
       "      <td>Built Env &amp; Design</td>\n",
       "      <td>-0.954</td>\n",
       "    </tr>\n",
       "    <tr>\n",
       "      <th>9</th>\n",
       "      <td>Applied Sciences</td>\n",
       "      <td>Enab &amp; Strategic Tech</td>\n",
       "      <td>0.635</td>\n",
       "    </tr>\n",
       "    <tr>\n",
       "      <th>10</th>\n",
       "      <td>Applied Sciences</td>\n",
       "      <td>Engineering</td>\n",
       "      <td>5.910</td>\n",
       "    </tr>\n",
       "    <tr>\n",
       "      <th>12</th>\n",
       "      <td>Applied Sciences</td>\n",
       "      <td>Info &amp; Com Tech</td>\n",
       "      <td>3.060</td>\n",
       "    </tr>\n",
       "    <tr>\n",
       "      <th>2</th>\n",
       "      <td>Health Sciences</td>\n",
       "      <td>Biomedical Research</td>\n",
       "      <td>-9.773</td>\n",
       "    </tr>\n",
       "    <tr>\n",
       "      <th>5</th>\n",
       "      <td>Health Sciences</td>\n",
       "      <td>Clinical Medicine</td>\n",
       "      <td>2.435</td>\n",
       "    </tr>\n",
       "    <tr>\n",
       "      <th>16</th>\n",
       "      <td>Health Sciences</td>\n",
       "      <td>Psych &amp; Cog Sciences</td>\n",
       "      <td>-1.520</td>\n",
       "    </tr>\n",
       "    <tr>\n",
       "      <th>17</th>\n",
       "      <td>Health Sciences</td>\n",
       "      <td>Public Health &amp; Services</td>\n",
       "      <td>-8.142</td>\n",
       "    </tr>\n",
       "    <tr>\n",
       "      <th>8</th>\n",
       "      <td>Economic &amp; Social Sciences</td>\n",
       "      <td>Econ &amp; Business</td>\n",
       "      <td>20.670</td>\n",
       "    </tr>\n",
       "    <tr>\n",
       "      <th>18</th>\n",
       "      <td>Economic &amp; Social Sciences</td>\n",
       "      <td>Social Sciences</td>\n",
       "      <td>-8.250</td>\n",
       "    </tr>\n",
       "    <tr>\n",
       "      <th>6</th>\n",
       "      <td>Arts &amp; Humanities</td>\n",
       "      <td>Com &amp; Text Studies</td>\n",
       "      <td>2.713</td>\n",
       "    </tr>\n",
       "    <tr>\n",
       "      <th>11</th>\n",
       "      <td>Arts &amp; Humanities</td>\n",
       "      <td>Historical Studies</td>\n",
       "      <td>-15.044</td>\n",
       "    </tr>\n",
       "    <tr>\n",
       "      <th>14</th>\n",
       "      <td>Arts &amp; Humanities</td>\n",
       "      <td>Phil &amp; Theo</td>\n",
       "      <td>14.567</td>\n",
       "    </tr>\n",
       "  </tbody>\n",
       "</table>\n",
       "</div>"
      ],
      "text/plain": [
       "                        domain                 subdomain   value\n",
       "1             Natural Sciences                   Biology  -0.483\n",
       "4             Natural Sciences                 Chemistry   1.278\n",
       "7             Natural Sciences      Earth & Env Sciences   5.219\n",
       "13            Natural Sciences               Math & Stat -10.852\n",
       "15            Natural Sciences       Physics & Astronomy  -4.740\n",
       "0             Applied Sciences     Agri, Fish & Forestry  13.616\n",
       "3             Applied Sciences        Built Env & Design  -0.954\n",
       "9             Applied Sciences     Enab & Strategic Tech   0.635\n",
       "10            Applied Sciences               Engineering   5.910\n",
       "12            Applied Sciences           Info & Com Tech   3.060\n",
       "2              Health Sciences       Biomedical Research  -9.773\n",
       "5              Health Sciences         Clinical Medicine   2.435\n",
       "16             Health Sciences      Psych & Cog Sciences  -1.520\n",
       "17             Health Sciences  Public Health & Services  -8.142\n",
       "8   Economic & Social Sciences           Econ & Business  20.670\n",
       "18  Economic & Social Sciences           Social Sciences  -8.250\n",
       "6            Arts & Humanities        Com & Text Studies   2.713\n",
       "11           Arts & Humanities        Historical Studies -15.044\n",
       "14           Arts & Humanities               Phil & Theo  14.567"
      ]
     },
     "execution_count": 46,
     "metadata": {},
     "output_type": "execute_result"
    }
   ],
   "source": [
    "df1 = pd.read_excel(\"bar chart compare.xlsx\", sheet_name=\"diff\")\n",
    "# sort by domains list order\n",
    "df1[\"domain\"] = pd.Categorical(df1[\"domain\"], domains)\n",
    "df1[\"subdomain\"] = pd.Categorical(df1[\"subdomain\"], subdomains)\n",
    "df1 = df1.sort_values([\"domain\", \"subdomain\"])\n",
    "df1"
   ]
  },
  {
   "cell_type": "code",
   "execution_count": 47,
   "metadata": {},
   "outputs": [
    {
     "data": {
      "text/html": [
       "<div>\n",
       "<style scoped>\n",
       "    .dataframe tbody tr th:only-of-type {\n",
       "        vertical-align: middle;\n",
       "    }\n",
       "\n",
       "    .dataframe tbody tr th {\n",
       "        vertical-align: top;\n",
       "    }\n",
       "\n",
       "    .dataframe thead th {\n",
       "        text-align: right;\n",
       "    }\n",
       "</style>\n",
       "<table border=\"1\" class=\"dataframe\">\n",
       "  <thead>\n",
       "    <tr style=\"text-align: right;\">\n",
       "      <th></th>\n",
       "      <th>subdomain</th>\n",
       "      <th>est</th>\n",
       "      <th>error</th>\n",
       "      <th>pval</th>\n",
       "      <th>gender</th>\n",
       "      <th>odds_ratio</th>\n",
       "      <th>upper</th>\n",
       "      <th>ci_error</th>\n",
       "      <th>indicator</th>\n",
       "    </tr>\n",
       "  </thead>\n",
       "  <tbody>\n",
       "    <tr>\n",
       "      <th>4</th>\n",
       "      <td>Biology</td>\n",
       "      <td>0.012323</td>\n",
       "      <td>0.034374</td>\n",
       "      <td>NaN</td>\n",
       "      <td>1</td>\n",
       "      <td>1.012399</td>\n",
       "      <td>1.082958</td>\n",
       "      <td>0.070559</td>\n",
       "      <td>0</td>\n",
       "    </tr>\n",
       "    <tr>\n",
       "      <th>3</th>\n",
       "      <td>Chemistry</td>\n",
       "      <td>-0.017560</td>\n",
       "      <td>0.064650</td>\n",
       "      <td>NaN</td>\n",
       "      <td>0</td>\n",
       "      <td>0.982593</td>\n",
       "      <td>1.115334</td>\n",
       "      <td>0.132741</td>\n",
       "      <td>0</td>\n",
       "    </tr>\n",
       "    <tr>\n",
       "      <th>2</th>\n",
       "      <td>Earth &amp; Env Sciences</td>\n",
       "      <td>0.071000</td>\n",
       "      <td>0.044800</td>\n",
       "      <td>NaN</td>\n",
       "      <td>1</td>\n",
       "      <td>1.073581</td>\n",
       "      <td>1.172113</td>\n",
       "      <td>0.098532</td>\n",
       "      <td>0</td>\n",
       "    </tr>\n",
       "    <tr>\n",
       "      <th>1</th>\n",
       "      <td>Math &amp; Stat</td>\n",
       "      <td>-0.360000</td>\n",
       "      <td>0.268000</td>\n",
       "      <td>NaN</td>\n",
       "      <td>0</td>\n",
       "      <td>0.697676</td>\n",
       "      <td>1.179723</td>\n",
       "      <td>0.482047</td>\n",
       "      <td>0</td>\n",
       "    </tr>\n",
       "    <tr>\n",
       "      <th>0</th>\n",
       "      <td>Physics &amp; Astronomy</td>\n",
       "      <td>-0.056000</td>\n",
       "      <td>0.052700</td>\n",
       "      <td>NaN</td>\n",
       "      <td>0</td>\n",
       "      <td>0.945539</td>\n",
       "      <td>1.048428</td>\n",
       "      <td>0.102889</td>\n",
       "      <td>0</td>\n",
       "    </tr>\n",
       "    <tr>\n",
       "      <th>18</th>\n",
       "      <td>Agri, Fish &amp; Forestry</td>\n",
       "      <td>0.143030</td>\n",
       "      <td>0.063189</td>\n",
       "      <td>*</td>\n",
       "      <td>1</td>\n",
       "      <td>1.153765</td>\n",
       "      <td>1.305884</td>\n",
       "      <td>0.152119</td>\n",
       "      <td>1</td>\n",
       "    </tr>\n",
       "    <tr>\n",
       "      <th>17</th>\n",
       "      <td>Built Env &amp; Design</td>\n",
       "      <td>-0.205768</td>\n",
       "      <td>0.167424</td>\n",
       "      <td>NaN</td>\n",
       "      <td>0</td>\n",
       "      <td>0.814022</td>\n",
       "      <td>1.130187</td>\n",
       "      <td>0.316165</td>\n",
       "      <td>0</td>\n",
       "    </tr>\n",
       "    <tr>\n",
       "      <th>16</th>\n",
       "      <td>Enab &amp; Strategic Tech</td>\n",
       "      <td>0.030330</td>\n",
       "      <td>0.043530</td>\n",
       "      <td>NaN</td>\n",
       "      <td>1</td>\n",
       "      <td>1.030795</td>\n",
       "      <td>1.122602</td>\n",
       "      <td>0.091807</td>\n",
       "      <td>0</td>\n",
       "    </tr>\n",
       "    <tr>\n",
       "      <th>15</th>\n",
       "      <td>Engineering</td>\n",
       "      <td>0.159315</td>\n",
       "      <td>0.083196</td>\n",
       "      <td>NaN</td>\n",
       "      <td>1</td>\n",
       "      <td>1.172707</td>\n",
       "      <td>1.380408</td>\n",
       "      <td>0.207701</td>\n",
       "      <td>0</td>\n",
       "    </tr>\n",
       "    <tr>\n",
       "      <th>14</th>\n",
       "      <td>Info &amp; Com Tech</td>\n",
       "      <td>0.224774</td>\n",
       "      <td>0.087237</td>\n",
       "      <td>**</td>\n",
       "      <td>1</td>\n",
       "      <td>1.252040</td>\n",
       "      <td>1.485511</td>\n",
       "      <td>0.233471</td>\n",
       "      <td>1</td>\n",
       "    </tr>\n",
       "    <tr>\n",
       "      <th>8</th>\n",
       "      <td>Biomedical Research</td>\n",
       "      <td>-0.042539</td>\n",
       "      <td>0.022614</td>\n",
       "      <td>NaN</td>\n",
       "      <td>0</td>\n",
       "      <td>0.958353</td>\n",
       "      <td>1.001786</td>\n",
       "      <td>0.043433</td>\n",
       "      <td>0</td>\n",
       "    </tr>\n",
       "    <tr>\n",
       "      <th>7</th>\n",
       "      <td>Clinical Medicine</td>\n",
       "      <td>-0.002436</td>\n",
       "      <td>0.011320</td>\n",
       "      <td>NaN</td>\n",
       "      <td>0</td>\n",
       "      <td>0.997567</td>\n",
       "      <td>1.019948</td>\n",
       "      <td>0.022381</td>\n",
       "      <td>0</td>\n",
       "    </tr>\n",
       "    <tr>\n",
       "      <th>6</th>\n",
       "      <td>Psych &amp; Cog Sciences</td>\n",
       "      <td>0.114584</td>\n",
       "      <td>0.036990</td>\n",
       "      <td>**</td>\n",
       "      <td>1</td>\n",
       "      <td>1.121407</td>\n",
       "      <td>1.205729</td>\n",
       "      <td>0.084322</td>\n",
       "      <td>1</td>\n",
       "    </tr>\n",
       "    <tr>\n",
       "      <th>5</th>\n",
       "      <td>Public Health &amp; Services</td>\n",
       "      <td>-0.083941</td>\n",
       "      <td>0.025519</td>\n",
       "      <td>**</td>\n",
       "      <td>0</td>\n",
       "      <td>0.919486</td>\n",
       "      <td>0.966645</td>\n",
       "      <td>0.047159</td>\n",
       "      <td>-1</td>\n",
       "    </tr>\n",
       "    <tr>\n",
       "      <th>10</th>\n",
       "      <td>Econ &amp; Business</td>\n",
       "      <td>0.200888</td>\n",
       "      <td>0.055441</td>\n",
       "      <td>***</td>\n",
       "      <td>1</td>\n",
       "      <td>1.222488</td>\n",
       "      <td>1.362815</td>\n",
       "      <td>0.140327</td>\n",
       "      <td>1</td>\n",
       "    </tr>\n",
       "    <tr>\n",
       "      <th>9</th>\n",
       "      <td>Social Sciences</td>\n",
       "      <td>-0.095637</td>\n",
       "      <td>0.042004</td>\n",
       "      <td>*</td>\n",
       "      <td>0</td>\n",
       "      <td>0.908794</td>\n",
       "      <td>0.986779</td>\n",
       "      <td>0.077985</td>\n",
       "      <td>-1</td>\n",
       "    </tr>\n",
       "    <tr>\n",
       "      <th>13</th>\n",
       "      <td>Com &amp; Text Studies</td>\n",
       "      <td>0.190563</td>\n",
       "      <td>0.100530</td>\n",
       "      <td>NaN</td>\n",
       "      <td>1</td>\n",
       "      <td>1.209931</td>\n",
       "      <td>1.473443</td>\n",
       "      <td>0.263512</td>\n",
       "      <td>0</td>\n",
       "    </tr>\n",
       "    <tr>\n",
       "      <th>12</th>\n",
       "      <td>Historical Studies</td>\n",
       "      <td>-0.244832</td>\n",
       "      <td>0.127498</td>\n",
       "      <td>NaN</td>\n",
       "      <td>0</td>\n",
       "      <td>0.782836</td>\n",
       "      <td>1.005077</td>\n",
       "      <td>0.222241</td>\n",
       "      <td>0</td>\n",
       "    </tr>\n",
       "    <tr>\n",
       "      <th>11</th>\n",
       "      <td>Phil &amp; Theo</td>\n",
       "      <td>-0.084886</td>\n",
       "      <td>0.239748</td>\n",
       "      <td>NaN</td>\n",
       "      <td>0</td>\n",
       "      <td>0.918617</td>\n",
       "      <td>1.469644</td>\n",
       "      <td>0.551027</td>\n",
       "      <td>0</td>\n",
       "    </tr>\n",
       "  </tbody>\n",
       "</table>\n",
       "</div>"
      ],
      "text/plain": [
       "                   subdomain       est     error pval  gender  odds_ratio  \\\n",
       "4                    Biology  0.012323  0.034374  NaN       1    1.012399   \n",
       "3                  Chemistry -0.017560  0.064650  NaN       0    0.982593   \n",
       "2       Earth & Env Sciences  0.071000  0.044800  NaN       1    1.073581   \n",
       "1                Math & Stat -0.360000  0.268000  NaN       0    0.697676   \n",
       "0        Physics & Astronomy -0.056000  0.052700  NaN       0    0.945539   \n",
       "18     Agri, Fish & Forestry  0.143030  0.063189    *       1    1.153765   \n",
       "17        Built Env & Design -0.205768  0.167424  NaN       0    0.814022   \n",
       "16     Enab & Strategic Tech  0.030330  0.043530  NaN       1    1.030795   \n",
       "15               Engineering  0.159315  0.083196  NaN       1    1.172707   \n",
       "14           Info & Com Tech  0.224774  0.087237   **       1    1.252040   \n",
       "8        Biomedical Research -0.042539  0.022614  NaN       0    0.958353   \n",
       "7          Clinical Medicine -0.002436  0.011320  NaN       0    0.997567   \n",
       "6       Psych & Cog Sciences  0.114584  0.036990   **       1    1.121407   \n",
       "5   Public Health & Services -0.083941  0.025519   **       0    0.919486   \n",
       "10           Econ & Business  0.200888  0.055441  ***       1    1.222488   \n",
       "9            Social Sciences -0.095637  0.042004    *       0    0.908794   \n",
       "13        Com & Text Studies  0.190563  0.100530  NaN       1    1.209931   \n",
       "12        Historical Studies -0.244832  0.127498  NaN       0    0.782836   \n",
       "11               Phil & Theo -0.084886  0.239748  NaN       0    0.918617   \n",
       "\n",
       "       upper  ci_error  indicator  \n",
       "4   1.082958  0.070559          0  \n",
       "3   1.115334  0.132741          0  \n",
       "2   1.172113  0.098532          0  \n",
       "1   1.179723  0.482047          0  \n",
       "0   1.048428  0.102889          0  \n",
       "18  1.305884  0.152119          1  \n",
       "17  1.130187  0.316165          0  \n",
       "16  1.122602  0.091807          0  \n",
       "15  1.380408  0.207701          0  \n",
       "14  1.485511  0.233471          1  \n",
       "8   1.001786  0.043433          0  \n",
       "7   1.019948  0.022381          0  \n",
       "6   1.205729  0.084322          1  \n",
       "5   0.966645  0.047159         -1  \n",
       "10  1.362815  0.140327          1  \n",
       "9   0.986779  0.077985         -1  \n",
       "13  1.473443  0.263512          0  \n",
       "12  1.005077  0.222241          0  \n",
       "11  1.469644  0.551027          0  "
      ]
     },
     "execution_count": 47,
     "metadata": {},
     "output_type": "execute_result"
    }
   ],
   "source": [
    "df2 = pd.read_excel(\"bar chart compare.xlsx\", sheet_name=\"reg\")\n",
    "df2[\"upper\"] = df2.apply(lambda x: get_ci(x[\"est\"], x[\"error\"])[1], axis=1)\n",
    "df2[\"ci_error\"] = df2[\"upper\"] - df2[\"odds_ratio\"]\n",
    "df2[\"indicator\"] = df2.apply(\n",
    "    lambda x: get_indicator(x[\"odds_ratio\"], x[\"pval\"]), axis=1\n",
    ")\n",
    "\n",
    "# reordering\n",
    "df2[\"subdomain\"] = pd.Categorical(df2[\"subdomain\"], subdomains)\n",
    "df2 = df2.sort_values(\"subdomain\")\n",
    "df2"
   ]
  },
  {
   "cell_type": "code",
   "execution_count": null,
   "metadata": {},
   "outputs": [
    {
     "data": {
      "application/vnd.plotly.v1+json": {
       "config": {
        "plotlyServerURL": "https://plot.ly"
       },
       "data": [
        {
         "marker": {
          "color": "rgb(145,181,214)"
         },
         "orientation": "h",
         "showlegend": false,
         "type": "bar",
         "x": [
          -0.483,
          1.278,
          5.219,
          -10.852,
          -4.74
         ],
         "xaxis": "x",
         "y": [
          "Biology",
          "Chemistry",
          "Earth & Env Sciences",
          "Math & Stat",
          "Physics & Astronomy"
         ],
         "yaxis": "y"
        },
        {
         "marker": {
          "color": "rgb(255,187,120)"
         },
         "orientation": "h",
         "showlegend": false,
         "type": "bar",
         "x": [
          13.616,
          -0.954,
          0.635,
          5.91,
          3.06
         ],
         "xaxis": "x",
         "y": [
          "Agri, Fish & Forestry",
          "Built Env & Design",
          "Enab & Strategic Tech",
          "Engineering",
          "Info & Com Tech"
         ],
         "yaxis": "y"
        },
        {
         "marker": {
          "color": "rgb(31,119,180)"
         },
         "orientation": "h",
         "showlegend": false,
         "type": "bar",
         "x": [
          -9.773,
          2.435,
          -1.52,
          -8.142
         ],
         "xaxis": "x",
         "y": [
          "Biomedical Research",
          "Clinical Medicine",
          "Psych & Cog Sciences",
          "Public Health & Services"
         ],
         "yaxis": "y"
        },
        {
         "marker": {
          "color": "rgb(81,182,137)"
         },
         "orientation": "h",
         "showlegend": false,
         "type": "bar",
         "x": [
          20.67,
          -8.25
         ],
         "xaxis": "x",
         "y": [
          "Econ & Business",
          "Social Sciences"
         ],
         "yaxis": "y"
        },
        {
         "marker": {
          "color": "rgb(197,176,213)"
         },
         "orientation": "h",
         "showlegend": false,
         "type": "bar",
         "x": [
          2.713,
          -15.044,
          14.567
         ],
         "xaxis": "x",
         "y": [
          "Com & Text Studies",
          "Historical Studies",
          "Phil & Theo"
         ],
         "yaxis": "y"
        },
        {
         "error_x": {
          "array": [],
          "color": "rgb(120,171,201)",
          "type": "data",
          "visible": true,
          "width": 0
         },
         "marker": {
          "color": "rgb(120,171,201)"
         },
         "orientation": "h",
         "showlegend": false,
         "type": "scatter",
         "x": [],
         "xaxis": "x2",
         "y": [],
         "yaxis": "y2"
        },
        {
         "error_x": {
          "array": [
           0.0705588417761549
          ],
          "color": "rgb(200,200,200)",
          "type": "data",
          "visible": true,
          "width": 0
         },
         "marker": {
          "color": "rgb(200,200,200)"
         },
         "orientation": "h",
         "showlegend": false,
         "type": "scatter",
         "x": [
          1.012399
         ],
         "xaxis": "x2",
         "y": [
          "Biology"
         ],
         "yaxis": "y2"
        },
        {
         "error_x": {
          "array": [],
          "color": "rgb(224,144,91)",
          "type": "data",
          "visible": true,
          "width": 0
         },
         "marker": {
          "color": "rgb(224,144,91)"
         },
         "orientation": "h",
         "showlegend": false,
         "type": "scatter",
         "x": [],
         "xaxis": "x2",
         "y": [],
         "yaxis": "y2"
        },
        {
         "error_x": {
          "array": [],
          "color": "rgb(120,171,201)",
          "type": "data",
          "visible": true,
          "width": 0
         },
         "marker": {
          "color": "rgb(120,171,201)"
         },
         "orientation": "h",
         "showlegend": false,
         "type": "scatter",
         "x": [],
         "xaxis": "x2",
         "y": [],
         "yaxis": "y2"
        },
        {
         "error_x": {
          "array": [
           0.13274109856767424
          ],
          "color": "rgb(200,200,200)",
          "type": "data",
          "visible": true,
          "width": 0
         },
         "marker": {
          "color": "rgb(200,200,200)"
         },
         "orientation": "h",
         "showlegend": false,
         "type": "scatter",
         "x": [
          0.982593
         ],
         "xaxis": "x2",
         "y": [
          "Chemistry"
         ],
         "yaxis": "y2"
        },
        {
         "error_x": {
          "array": [],
          "color": "rgb(224,144,91)",
          "type": "data",
          "visible": true,
          "width": 0
         },
         "marker": {
          "color": "rgb(224,144,91)"
         },
         "orientation": "h",
         "showlegend": false,
         "type": "scatter",
         "x": [],
         "xaxis": "x2",
         "y": [],
         "yaxis": "y2"
        },
        {
         "error_x": {
          "array": [],
          "color": "rgb(120,171,201)",
          "type": "data",
          "visible": true,
          "width": 0
         },
         "marker": {
          "color": "rgb(120,171,201)"
         },
         "orientation": "h",
         "showlegend": false,
         "type": "scatter",
         "x": [],
         "xaxis": "x2",
         "y": [],
         "yaxis": "y2"
        },
        {
         "error_x": {
          "array": [
           0.09853187940210528
          ],
          "color": "rgb(200,200,200)",
          "type": "data",
          "visible": true,
          "width": 0
         },
         "marker": {
          "color": "rgb(200,200,200)"
         },
         "orientation": "h",
         "showlegend": false,
         "type": "scatter",
         "x": [
          1.073581
         ],
         "xaxis": "x2",
         "y": [
          "Earth & Env Sciences"
         ],
         "yaxis": "y2"
        },
        {
         "error_x": {
          "array": [],
          "color": "rgb(224,144,91)",
          "type": "data",
          "visible": true,
          "width": 0
         },
         "marker": {
          "color": "rgb(224,144,91)"
         },
         "orientation": "h",
         "showlegend": false,
         "type": "scatter",
         "x": [],
         "xaxis": "x2",
         "y": [],
         "yaxis": "y2"
        },
        {
         "error_x": {
          "array": [],
          "color": "rgb(120,171,201)",
          "type": "data",
          "visible": true,
          "width": 0
         },
         "marker": {
          "color": "rgb(120,171,201)"
         },
         "orientation": "h",
         "showlegend": false,
         "type": "scatter",
         "x": [],
         "xaxis": "x2",
         "y": [],
         "yaxis": "y2"
        },
        {
         "error_x": {
          "array": [
           0.48204739502115546
          ],
          "color": "rgb(200,200,200)",
          "type": "data",
          "visible": true,
          "width": 0
         },
         "marker": {
          "color": "rgb(200,200,200)"
         },
         "orientation": "h",
         "showlegend": false,
         "type": "scatter",
         "x": [
          0.697676
         ],
         "xaxis": "x2",
         "y": [
          "Math & Stat"
         ],
         "yaxis": "y2"
        },
        {
         "error_x": {
          "array": [],
          "color": "rgb(224,144,91)",
          "type": "data",
          "visible": true,
          "width": 0
         },
         "marker": {
          "color": "rgb(224,144,91)"
         },
         "orientation": "h",
         "showlegend": false,
         "type": "scatter",
         "x": [],
         "xaxis": "x2",
         "y": [],
         "yaxis": "y2"
        },
        {
         "error_x": {
          "array": [],
          "color": "rgb(120,171,201)",
          "type": "data",
          "visible": true,
          "width": 0
         },
         "marker": {
          "color": "rgb(120,171,201)"
         },
         "orientation": "h",
         "showlegend": false,
         "type": "scatter",
         "x": [],
         "xaxis": "x2",
         "y": [],
         "yaxis": "y2"
        },
        {
         "error_x": {
          "array": [
           0.10288910539419394
          ],
          "color": "rgb(200,200,200)",
          "type": "data",
          "visible": true,
          "width": 0
         },
         "marker": {
          "color": "rgb(200,200,200)"
         },
         "orientation": "h",
         "showlegend": false,
         "type": "scatter",
         "x": [
          0.945539
         ],
         "xaxis": "x2",
         "y": [
          "Physics & Astronomy"
         ],
         "yaxis": "y2"
        },
        {
         "error_x": {
          "array": [],
          "color": "rgb(224,144,91)",
          "type": "data",
          "visible": true,
          "width": 0
         },
         "marker": {
          "color": "rgb(224,144,91)"
         },
         "orientation": "h",
         "showlegend": false,
         "type": "scatter",
         "x": [],
         "xaxis": "x2",
         "y": [],
         "yaxis": "y2"
        },
        {
         "error_x": {
          "array": [],
          "color": "rgb(120,171,201)",
          "type": "data",
          "visible": true,
          "width": 0
         },
         "marker": {
          "color": "rgb(120,171,201)"
         },
         "orientation": "h",
         "showlegend": false,
         "type": "scatter",
         "x": [],
         "xaxis": "x2",
         "y": [],
         "yaxis": "y2"
        },
        {
         "error_x": {
          "array": [],
          "color": "rgb(200,200,200)",
          "type": "data",
          "visible": true,
          "width": 0
         },
         "marker": {
          "color": "rgb(200,200,200)"
         },
         "orientation": "h",
         "showlegend": false,
         "type": "scatter",
         "x": [],
         "xaxis": "x2",
         "y": [],
         "yaxis": "y2"
        },
        {
         "error_x": {
          "array": [
           0.15211930546917785
          ],
          "color": "rgb(224,144,91)",
          "type": "data",
          "visible": true,
          "width": 0
         },
         "marker": {
          "color": "rgb(224,144,91)"
         },
         "orientation": "h",
         "showlegend": false,
         "type": "scatter",
         "x": [
          1.153765
         ],
         "xaxis": "x2",
         "y": [
          "Agri, Fish & Forestry"
         ],
         "yaxis": "y2"
        },
        {
         "error_x": {
          "array": [],
          "color": "rgb(120,171,201)",
          "type": "data",
          "visible": true,
          "width": 0
         },
         "marker": {
          "color": "rgb(120,171,201)"
         },
         "orientation": "h",
         "showlegend": false,
         "type": "scatter",
         "x": [],
         "xaxis": "x2",
         "y": [],
         "yaxis": "y2"
        },
        {
         "error_x": {
          "array": [
           0.31616492568060584
          ],
          "color": "rgb(200,200,200)",
          "type": "data",
          "visible": true,
          "width": 0
         },
         "marker": {
          "color": "rgb(200,200,200)"
         },
         "orientation": "h",
         "showlegend": false,
         "type": "scatter",
         "x": [
          0.814022
         ],
         "xaxis": "x2",
         "y": [
          "Built Env & Design"
         ],
         "yaxis": "y2"
        },
        {
         "error_x": {
          "array": [],
          "color": "rgb(224,144,91)",
          "type": "data",
          "visible": true,
          "width": 0
         },
         "marker": {
          "color": "rgb(224,144,91)"
         },
         "orientation": "h",
         "showlegend": false,
         "type": "scatter",
         "x": [],
         "xaxis": "x2",
         "y": [],
         "yaxis": "y2"
        },
        {
         "error_x": {
          "array": [],
          "color": "rgb(120,171,201)",
          "type": "data",
          "visible": true,
          "width": 0
         },
         "marker": {
          "color": "rgb(120,171,201)"
         },
         "orientation": "h",
         "showlegend": false,
         "type": "scatter",
         "x": [],
         "xaxis": "x2",
         "y": [],
         "yaxis": "y2"
        },
        {
         "error_x": {
          "array": [
           0.09180654523081877
          ],
          "color": "rgb(200,200,200)",
          "type": "data",
          "visible": true,
          "width": 0
         },
         "marker": {
          "color": "rgb(200,200,200)"
         },
         "orientation": "h",
         "showlegend": false,
         "type": "scatter",
         "x": [
          1.030795
         ],
         "xaxis": "x2",
         "y": [
          "Enab & Strategic Tech"
         ],
         "yaxis": "y2"
        },
        {
         "error_x": {
          "array": [],
          "color": "rgb(224,144,91)",
          "type": "data",
          "visible": true,
          "width": 0
         },
         "marker": {
          "color": "rgb(224,144,91)"
         },
         "orientation": "h",
         "showlegend": false,
         "type": "scatter",
         "x": [],
         "xaxis": "x2",
         "y": [],
         "yaxis": "y2"
        },
        {
         "error_x": {
          "array": [],
          "color": "rgb(120,171,201)",
          "type": "data",
          "visible": true,
          "width": 0
         },
         "marker": {
          "color": "rgb(120,171,201)"
         },
         "orientation": "h",
         "showlegend": false,
         "type": "scatter",
         "x": [],
         "xaxis": "x2",
         "y": [],
         "yaxis": "y2"
        },
        {
         "error_x": {
          "array": [
           0.20770107226914414
          ],
          "color": "rgb(200,200,200)",
          "type": "data",
          "visible": true,
          "width": 0
         },
         "marker": {
          "color": "rgb(200,200,200)"
         },
         "orientation": "h",
         "showlegend": false,
         "type": "scatter",
         "x": [
          1.172707
         ],
         "xaxis": "x2",
         "y": [
          "Engineering"
         ],
         "yaxis": "y2"
        },
        {
         "error_x": {
          "array": [],
          "color": "rgb(224,144,91)",
          "type": "data",
          "visible": true,
          "width": 0
         },
         "marker": {
          "color": "rgb(224,144,91)"
         },
         "orientation": "h",
         "showlegend": false,
         "type": "scatter",
         "x": [],
         "xaxis": "x2",
         "y": [],
         "yaxis": "y2"
        },
        {
         "error_x": {
          "array": [],
          "color": "rgb(120,171,201)",
          "type": "data",
          "visible": true,
          "width": 0
         },
         "marker": {
          "color": "rgb(120,171,201)"
         },
         "orientation": "h",
         "showlegend": false,
         "type": "scatter",
         "x": [],
         "xaxis": "x2",
         "y": [],
         "yaxis": "y2"
        },
        {
         "error_x": {
          "array": [],
          "color": "rgb(200,200,200)",
          "type": "data",
          "visible": true,
          "width": 0
         },
         "marker": {
          "color": "rgb(200,200,200)"
         },
         "orientation": "h",
         "showlegend": false,
         "type": "scatter",
         "x": [],
         "xaxis": "x2",
         "y": [],
         "yaxis": "y2"
        },
        {
         "error_x": {
          "array": [
           0.23347055314754472
          ],
          "color": "rgb(224,144,91)",
          "type": "data",
          "visible": true,
          "width": 0
         },
         "marker": {
          "color": "rgb(224,144,91)"
         },
         "orientation": "h",
         "showlegend": false,
         "type": "scatter",
         "x": [
          1.25204
         ],
         "xaxis": "x2",
         "y": [
          "Info & Com Tech"
         ],
         "yaxis": "y2"
        },
        {
         "error_x": {
          "array": [],
          "color": "rgb(120,171,201)",
          "type": "data",
          "visible": true,
          "width": 0
         },
         "marker": {
          "color": "rgb(120,171,201)"
         },
         "orientation": "h",
         "showlegend": false,
         "type": "scatter",
         "x": [],
         "xaxis": "x2",
         "y": [],
         "yaxis": "y2"
        },
        {
         "error_x": {
          "array": [
           0.04343303306048951
          ],
          "color": "rgb(200,200,200)",
          "type": "data",
          "visible": true,
          "width": 0
         },
         "marker": {
          "color": "rgb(200,200,200)"
         },
         "orientation": "h",
         "showlegend": false,
         "type": "scatter",
         "x": [
          0.958353
         ],
         "xaxis": "x2",
         "y": [
          "Biomedical Research"
         ],
         "yaxis": "y2"
        },
        {
         "error_x": {
          "array": [],
          "color": "rgb(224,144,91)",
          "type": "data",
          "visible": true,
          "width": 0
         },
         "marker": {
          "color": "rgb(224,144,91)"
         },
         "orientation": "h",
         "showlegend": false,
         "type": "scatter",
         "x": [],
         "xaxis": "x2",
         "y": [],
         "yaxis": "y2"
        },
        {
         "error_x": {
          "array": [],
          "color": "rgb(120,171,201)",
          "type": "data",
          "visible": true,
          "width": 0
         },
         "marker": {
          "color": "rgb(120,171,201)"
         },
         "orientation": "h",
         "showlegend": false,
         "type": "scatter",
         "x": [],
         "xaxis": "x2",
         "y": [],
         "yaxis": "y2"
        },
        {
         "error_x": {
          "array": [
           0.022380545506704652
          ],
          "color": "rgb(200,200,200)",
          "type": "data",
          "visible": true,
          "width": 0
         },
         "marker": {
          "color": "rgb(200,200,200)"
         },
         "orientation": "h",
         "showlegend": false,
         "type": "scatter",
         "x": [
          0.997567
         ],
         "xaxis": "x2",
         "y": [
          "Clinical Medicine"
         ],
         "yaxis": "y2"
        },
        {
         "error_x": {
          "array": [],
          "color": "rgb(224,144,91)",
          "type": "data",
          "visible": true,
          "width": 0
         },
         "marker": {
          "color": "rgb(224,144,91)"
         },
         "orientation": "h",
         "showlegend": false,
         "type": "scatter",
         "x": [],
         "xaxis": "x2",
         "y": [],
         "yaxis": "y2"
        },
        {
         "error_x": {
          "array": [],
          "color": "rgb(120,171,201)",
          "type": "data",
          "visible": true,
          "width": 0
         },
         "marker": {
          "color": "rgb(120,171,201)"
         },
         "orientation": "h",
         "showlegend": false,
         "type": "scatter",
         "x": [],
         "xaxis": "x2",
         "y": [],
         "yaxis": "y2"
        },
        {
         "error_x": {
          "array": [],
          "color": "rgb(200,200,200)",
          "type": "data",
          "visible": true,
          "width": 0
         },
         "marker": {
          "color": "rgb(200,200,200)"
         },
         "orientation": "h",
         "showlegend": false,
         "type": "scatter",
         "x": [],
         "xaxis": "x2",
         "y": [],
         "yaxis": "y2"
        },
        {
         "error_x": {
          "array": [
           0.08432204428696233
          ],
          "color": "rgb(224,144,91)",
          "type": "data",
          "visible": true,
          "width": 0
         },
         "marker": {
          "color": "rgb(224,144,91)"
         },
         "orientation": "h",
         "showlegend": false,
         "type": "scatter",
         "x": [
          1.121407
         ],
         "xaxis": "x2",
         "y": [
          "Psych & Cog Sciences"
         ],
         "yaxis": "y2"
        },
        {
         "error_x": {
          "array": [
           0.047159198858208184
          ],
          "color": "rgb(120,171,201)",
          "type": "data",
          "visible": true,
          "width": 0
         },
         "marker": {
          "color": "rgb(120,171,201)"
         },
         "orientation": "h",
         "showlegend": false,
         "type": "scatter",
         "x": [
          0.919486
         ],
         "xaxis": "x2",
         "y": [
          "Public Health & Services"
         ],
         "yaxis": "y2"
        },
        {
         "error_x": {
          "array": [],
          "color": "rgb(200,200,200)",
          "type": "data",
          "visible": true,
          "width": 0
         },
         "marker": {
          "color": "rgb(200,200,200)"
         },
         "orientation": "h",
         "showlegend": false,
         "type": "scatter",
         "x": [],
         "xaxis": "x2",
         "y": [],
         "yaxis": "y2"
        },
        {
         "error_x": {
          "array": [],
          "color": "rgb(224,144,91)",
          "type": "data",
          "visible": true,
          "width": 0
         },
         "marker": {
          "color": "rgb(224,144,91)"
         },
         "orientation": "h",
         "showlegend": false,
         "type": "scatter",
         "x": [],
         "xaxis": "x2",
         "y": [],
         "yaxis": "y2"
        },
        {
         "error_x": {
          "array": [],
          "color": "rgb(120,171,201)",
          "type": "data",
          "visible": true,
          "width": 0
         },
         "marker": {
          "color": "rgb(120,171,201)"
         },
         "orientation": "h",
         "showlegend": false,
         "type": "scatter",
         "x": [],
         "xaxis": "x2",
         "y": [],
         "yaxis": "y2"
        },
        {
         "error_x": {
          "array": [],
          "color": "rgb(200,200,200)",
          "type": "data",
          "visible": true,
          "width": 0
         },
         "marker": {
          "color": "rgb(200,200,200)"
         },
         "orientation": "h",
         "showlegend": false,
         "type": "scatter",
         "x": [],
         "xaxis": "x2",
         "y": [],
         "yaxis": "y2"
        },
        {
         "error_x": {
          "array": [
           0.1403269270963392
          ],
          "color": "rgb(224,144,91)",
          "type": "data",
          "visible": true,
          "width": 0
         },
         "marker": {
          "color": "rgb(224,144,91)"
         },
         "orientation": "h",
         "showlegend": false,
         "type": "scatter",
         "x": [
          1.222488
         ],
         "xaxis": "x2",
         "y": [
          "Econ & Business"
         ],
         "yaxis": "y2"
        },
        {
         "error_x": {
          "array": [
           0.07798501525694801
          ],
          "color": "rgb(120,171,201)",
          "type": "data",
          "visible": true,
          "width": 0
         },
         "marker": {
          "color": "rgb(120,171,201)"
         },
         "orientation": "h",
         "showlegend": false,
         "type": "scatter",
         "x": [
          0.908794
         ],
         "xaxis": "x2",
         "y": [
          "Social Sciences"
         ],
         "yaxis": "y2"
        },
        {
         "error_x": {
          "array": [],
          "color": "rgb(200,200,200)",
          "type": "data",
          "visible": true,
          "width": 0
         },
         "marker": {
          "color": "rgb(200,200,200)"
         },
         "orientation": "h",
         "showlegend": false,
         "type": "scatter",
         "x": [],
         "xaxis": "x2",
         "y": [],
         "yaxis": "y2"
        },
        {
         "error_x": {
          "array": [],
          "color": "rgb(224,144,91)",
          "type": "data",
          "visible": true,
          "width": 0
         },
         "marker": {
          "color": "rgb(224,144,91)"
         },
         "orientation": "h",
         "showlegend": false,
         "type": "scatter",
         "x": [],
         "xaxis": "x2",
         "y": [],
         "yaxis": "y2"
        },
        {
         "error_x": {
          "array": [],
          "color": "rgb(120,171,201)",
          "type": "data",
          "visible": true,
          "width": 0
         },
         "marker": {
          "color": "rgb(120,171,201)"
         },
         "orientation": "h",
         "showlegend": false,
         "type": "scatter",
         "x": [],
         "xaxis": "x2",
         "y": [],
         "yaxis": "y2"
        },
        {
         "error_x": {
          "array": [
           0.2635119424759971
          ],
          "color": "rgb(200,200,200)",
          "type": "data",
          "visible": true,
          "width": 0
         },
         "marker": {
          "color": "rgb(200,200,200)"
         },
         "orientation": "h",
         "showlegend": false,
         "type": "scatter",
         "x": [
          1.209931
         ],
         "xaxis": "x2",
         "y": [
          "Com & Text Studies"
         ],
         "yaxis": "y2"
        },
        {
         "error_x": {
          "array": [],
          "color": "rgb(224,144,91)",
          "type": "data",
          "visible": true,
          "width": 0
         },
         "marker": {
          "color": "rgb(224,144,91)"
         },
         "orientation": "h",
         "showlegend": false,
         "type": "scatter",
         "x": [],
         "xaxis": "x2",
         "y": [],
         "yaxis": "y2"
        },
        {
         "error_x": {
          "array": [],
          "color": "rgb(120,171,201)",
          "type": "data",
          "visible": true,
          "width": 0
         },
         "marker": {
          "color": "rgb(120,171,201)"
         },
         "orientation": "h",
         "showlegend": false,
         "type": "scatter",
         "x": [],
         "xaxis": "x2",
         "y": [],
         "yaxis": "y2"
        },
        {
         "error_x": {
          "array": [
           0.22224092412519625
          ],
          "color": "rgb(200,200,200)",
          "type": "data",
          "visible": true,
          "width": 0
         },
         "marker": {
          "color": "rgb(200,200,200)"
         },
         "orientation": "h",
         "showlegend": false,
         "type": "scatter",
         "x": [
          0.782836
         ],
         "xaxis": "x2",
         "y": [
          "Historical Studies"
         ],
         "yaxis": "y2"
        },
        {
         "error_x": {
          "array": [],
          "color": "rgb(224,144,91)",
          "type": "data",
          "visible": true,
          "width": 0
         },
         "marker": {
          "color": "rgb(224,144,91)"
         },
         "orientation": "h",
         "showlegend": false,
         "type": "scatter",
         "x": [],
         "xaxis": "x2",
         "y": [],
         "yaxis": "y2"
        },
        {
         "error_x": {
          "array": [],
          "color": "rgb(120,171,201)",
          "type": "data",
          "visible": true,
          "width": 0
         },
         "marker": {
          "color": "rgb(120,171,201)"
         },
         "orientation": "h",
         "showlegend": false,
         "type": "scatter",
         "x": [],
         "xaxis": "x2",
         "y": [],
         "yaxis": "y2"
        },
        {
         "error_x": {
          "array": [
           0.5510268315929996
          ],
          "color": "rgb(200,200,200)",
          "type": "data",
          "visible": true,
          "width": 0
         },
         "marker": {
          "color": "rgb(200,200,200)"
         },
         "orientation": "h",
         "showlegend": false,
         "type": "scatter",
         "x": [
          0.918617
         ],
         "xaxis": "x2",
         "y": [
          "Phil & Theo"
         ],
         "yaxis": "y2"
        },
        {
         "error_x": {
          "array": [],
          "color": "rgb(224,144,91)",
          "type": "data",
          "visible": true,
          "width": 0
         },
         "marker": {
          "color": "rgb(224,144,91)"
         },
         "orientation": "h",
         "showlegend": false,
         "type": "scatter",
         "x": [],
         "xaxis": "x2",
         "y": [],
         "yaxis": "y2"
        }
       ],
       "layout": {
        "font": {
         "family": "Arial",
         "size": 12
        },
        "height": 500,
        "margin": {
         "b": 20,
         "l": 100,
         "r": 20,
         "t": 50
        },
        "shapes": [
         {
          "line": {
           "color": "black",
           "dash": "dash",
           "width": 1
          },
          "type": "line",
          "x0": 0,
          "x1": 0,
          "xref": "x",
          "y0": 0,
          "y1": 1,
          "yref": "y domain"
         },
         {
          "fillcolor": "gray",
          "layer": "below",
          "line": {
           "width": 0
          },
          "opacity": 0.1,
          "type": "rect",
          "x0": 0,
          "x1": 18.034,
          "xref": "x",
          "y0": 0,
          "y1": 1,
          "yref": "y"
         },
         {
          "line": {
           "color": "black",
           "dash": "dash",
           "width": 1
          },
          "type": "line",
          "x0": 1,
          "x1": 1,
          "xref": "x2",
          "y0": 0,
          "y1": 1,
          "yref": "y2 domain"
         }
        ],
        "template": {
         "data": {
          "bar": [
           {
            "error_x": {
             "color": "rgb(36,36,36)"
            },
            "error_y": {
             "color": "rgb(36,36,36)"
            },
            "marker": {
             "line": {
              "color": "white",
              "width": 0.5
             },
             "pattern": {
              "fillmode": "overlay",
              "size": 10,
              "solidity": 0.2
             }
            },
            "type": "bar"
           }
          ],
          "barpolar": [
           {
            "marker": {
             "line": {
              "color": "white",
              "width": 0.5
             },
             "pattern": {
              "fillmode": "overlay",
              "size": 10,
              "solidity": 0.2
             }
            },
            "type": "barpolar"
           }
          ],
          "carpet": [
           {
            "aaxis": {
             "endlinecolor": "rgb(36,36,36)",
             "gridcolor": "white",
             "linecolor": "white",
             "minorgridcolor": "white",
             "startlinecolor": "rgb(36,36,36)"
            },
            "baxis": {
             "endlinecolor": "rgb(36,36,36)",
             "gridcolor": "white",
             "linecolor": "white",
             "minorgridcolor": "white",
             "startlinecolor": "rgb(36,36,36)"
            },
            "type": "carpet"
           }
          ],
          "choropleth": [
           {
            "colorbar": {
             "outlinewidth": 1,
             "tickcolor": "rgb(36,36,36)",
             "ticks": "outside"
            },
            "type": "choropleth"
           }
          ],
          "contour": [
           {
            "colorbar": {
             "outlinewidth": 1,
             "tickcolor": "rgb(36,36,36)",
             "ticks": "outside"
            },
            "colorscale": [
             [
              0,
              "#440154"
             ],
             [
              0.1111111111111111,
              "#482878"
             ],
             [
              0.2222222222222222,
              "#3e4989"
             ],
             [
              0.3333333333333333,
              "#31688e"
             ],
             [
              0.4444444444444444,
              "#26828e"
             ],
             [
              0.5555555555555556,
              "#1f9e89"
             ],
             [
              0.6666666666666666,
              "#35b779"
             ],
             [
              0.7777777777777778,
              "#6ece58"
             ],
             [
              0.8888888888888888,
              "#b5de2b"
             ],
             [
              1,
              "#fde725"
             ]
            ],
            "type": "contour"
           }
          ],
          "contourcarpet": [
           {
            "colorbar": {
             "outlinewidth": 1,
             "tickcolor": "rgb(36,36,36)",
             "ticks": "outside"
            },
            "type": "contourcarpet"
           }
          ],
          "heatmap": [
           {
            "colorbar": {
             "outlinewidth": 1,
             "tickcolor": "rgb(36,36,36)",
             "ticks": "outside"
            },
            "colorscale": [
             [
              0,
              "#440154"
             ],
             [
              0.1111111111111111,
              "#482878"
             ],
             [
              0.2222222222222222,
              "#3e4989"
             ],
             [
              0.3333333333333333,
              "#31688e"
             ],
             [
              0.4444444444444444,
              "#26828e"
             ],
             [
              0.5555555555555556,
              "#1f9e89"
             ],
             [
              0.6666666666666666,
              "#35b779"
             ],
             [
              0.7777777777777778,
              "#6ece58"
             ],
             [
              0.8888888888888888,
              "#b5de2b"
             ],
             [
              1,
              "#fde725"
             ]
            ],
            "type": "heatmap"
           }
          ],
          "heatmapgl": [
           {
            "colorbar": {
             "outlinewidth": 1,
             "tickcolor": "rgb(36,36,36)",
             "ticks": "outside"
            },
            "colorscale": [
             [
              0,
              "#440154"
             ],
             [
              0.1111111111111111,
              "#482878"
             ],
             [
              0.2222222222222222,
              "#3e4989"
             ],
             [
              0.3333333333333333,
              "#31688e"
             ],
             [
              0.4444444444444444,
              "#26828e"
             ],
             [
              0.5555555555555556,
              "#1f9e89"
             ],
             [
              0.6666666666666666,
              "#35b779"
             ],
             [
              0.7777777777777778,
              "#6ece58"
             ],
             [
              0.8888888888888888,
              "#b5de2b"
             ],
             [
              1,
              "#fde725"
             ]
            ],
            "type": "heatmapgl"
           }
          ],
          "histogram": [
           {
            "marker": {
             "line": {
              "color": "white",
              "width": 0.6
             }
            },
            "type": "histogram"
           }
          ],
          "histogram2d": [
           {
            "colorbar": {
             "outlinewidth": 1,
             "tickcolor": "rgb(36,36,36)",
             "ticks": "outside"
            },
            "colorscale": [
             [
              0,
              "#440154"
             ],
             [
              0.1111111111111111,
              "#482878"
             ],
             [
              0.2222222222222222,
              "#3e4989"
             ],
             [
              0.3333333333333333,
              "#31688e"
             ],
             [
              0.4444444444444444,
              "#26828e"
             ],
             [
              0.5555555555555556,
              "#1f9e89"
             ],
             [
              0.6666666666666666,
              "#35b779"
             ],
             [
              0.7777777777777778,
              "#6ece58"
             ],
             [
              0.8888888888888888,
              "#b5de2b"
             ],
             [
              1,
              "#fde725"
             ]
            ],
            "type": "histogram2d"
           }
          ],
          "histogram2dcontour": [
           {
            "colorbar": {
             "outlinewidth": 1,
             "tickcolor": "rgb(36,36,36)",
             "ticks": "outside"
            },
            "colorscale": [
             [
              0,
              "#440154"
             ],
             [
              0.1111111111111111,
              "#482878"
             ],
             [
              0.2222222222222222,
              "#3e4989"
             ],
             [
              0.3333333333333333,
              "#31688e"
             ],
             [
              0.4444444444444444,
              "#26828e"
             ],
             [
              0.5555555555555556,
              "#1f9e89"
             ],
             [
              0.6666666666666666,
              "#35b779"
             ],
             [
              0.7777777777777778,
              "#6ece58"
             ],
             [
              0.8888888888888888,
              "#b5de2b"
             ],
             [
              1,
              "#fde725"
             ]
            ],
            "type": "histogram2dcontour"
           }
          ],
          "mesh3d": [
           {
            "colorbar": {
             "outlinewidth": 1,
             "tickcolor": "rgb(36,36,36)",
             "ticks": "outside"
            },
            "type": "mesh3d"
           }
          ],
          "parcoords": [
           {
            "line": {
             "colorbar": {
              "outlinewidth": 1,
              "tickcolor": "rgb(36,36,36)",
              "ticks": "outside"
             }
            },
            "type": "parcoords"
           }
          ],
          "pie": [
           {
            "automargin": true,
            "type": "pie"
           }
          ],
          "scatter": [
           {
            "fillpattern": {
             "fillmode": "overlay",
             "size": 10,
             "solidity": 0.2
            },
            "type": "scatter"
           }
          ],
          "scatter3d": [
           {
            "line": {
             "colorbar": {
              "outlinewidth": 1,
              "tickcolor": "rgb(36,36,36)",
              "ticks": "outside"
             }
            },
            "marker": {
             "colorbar": {
              "outlinewidth": 1,
              "tickcolor": "rgb(36,36,36)",
              "ticks": "outside"
             }
            },
            "type": "scatter3d"
           }
          ],
          "scattercarpet": [
           {
            "marker": {
             "colorbar": {
              "outlinewidth": 1,
              "tickcolor": "rgb(36,36,36)",
              "ticks": "outside"
             }
            },
            "type": "scattercarpet"
           }
          ],
          "scattergeo": [
           {
            "marker": {
             "colorbar": {
              "outlinewidth": 1,
              "tickcolor": "rgb(36,36,36)",
              "ticks": "outside"
             }
            },
            "type": "scattergeo"
           }
          ],
          "scattergl": [
           {
            "marker": {
             "colorbar": {
              "outlinewidth": 1,
              "tickcolor": "rgb(36,36,36)",
              "ticks": "outside"
             }
            },
            "type": "scattergl"
           }
          ],
          "scattermapbox": [
           {
            "marker": {
             "colorbar": {
              "outlinewidth": 1,
              "tickcolor": "rgb(36,36,36)",
              "ticks": "outside"
             }
            },
            "type": "scattermapbox"
           }
          ],
          "scatterpolar": [
           {
            "marker": {
             "colorbar": {
              "outlinewidth": 1,
              "tickcolor": "rgb(36,36,36)",
              "ticks": "outside"
             }
            },
            "type": "scatterpolar"
           }
          ],
          "scatterpolargl": [
           {
            "marker": {
             "colorbar": {
              "outlinewidth": 1,
              "tickcolor": "rgb(36,36,36)",
              "ticks": "outside"
             }
            },
            "type": "scatterpolargl"
           }
          ],
          "scatterternary": [
           {
            "marker": {
             "colorbar": {
              "outlinewidth": 1,
              "tickcolor": "rgb(36,36,36)",
              "ticks": "outside"
             }
            },
            "type": "scatterternary"
           }
          ],
          "surface": [
           {
            "colorbar": {
             "outlinewidth": 1,
             "tickcolor": "rgb(36,36,36)",
             "ticks": "outside"
            },
            "colorscale": [
             [
              0,
              "#440154"
             ],
             [
              0.1111111111111111,
              "#482878"
             ],
             [
              0.2222222222222222,
              "#3e4989"
             ],
             [
              0.3333333333333333,
              "#31688e"
             ],
             [
              0.4444444444444444,
              "#26828e"
             ],
             [
              0.5555555555555556,
              "#1f9e89"
             ],
             [
              0.6666666666666666,
              "#35b779"
             ],
             [
              0.7777777777777778,
              "#6ece58"
             ],
             [
              0.8888888888888888,
              "#b5de2b"
             ],
             [
              1,
              "#fde725"
             ]
            ],
            "type": "surface"
           }
          ],
          "table": [
           {
            "cells": {
             "fill": {
              "color": "rgb(237,237,237)"
             },
             "line": {
              "color": "white"
             }
            },
            "header": {
             "fill": {
              "color": "rgb(217,217,217)"
             },
             "line": {
              "color": "white"
             }
            },
            "type": "table"
           }
          ]
         },
         "layout": {
          "annotationdefaults": {
           "arrowhead": 0,
           "arrowwidth": 1
          },
          "autotypenumbers": "strict",
          "coloraxis": {
           "colorbar": {
            "outlinewidth": 1,
            "tickcolor": "rgb(36,36,36)",
            "ticks": "outside"
           }
          },
          "colorscale": {
           "diverging": [
            [
             0,
             "rgb(103,0,31)"
            ],
            [
             0.1,
             "rgb(178,24,43)"
            ],
            [
             0.2,
             "rgb(214,96,77)"
            ],
            [
             0.3,
             "rgb(244,165,130)"
            ],
            [
             0.4,
             "rgb(253,219,199)"
            ],
            [
             0.5,
             "rgb(247,247,247)"
            ],
            [
             0.6,
             "rgb(209,229,240)"
            ],
            [
             0.7,
             "rgb(146,197,222)"
            ],
            [
             0.8,
             "rgb(67,147,195)"
            ],
            [
             0.9,
             "rgb(33,102,172)"
            ],
            [
             1,
             "rgb(5,48,97)"
            ]
           ],
           "sequential": [
            [
             0,
             "#440154"
            ],
            [
             0.1111111111111111,
             "#482878"
            ],
            [
             0.2222222222222222,
             "#3e4989"
            ],
            [
             0.3333333333333333,
             "#31688e"
            ],
            [
             0.4444444444444444,
             "#26828e"
            ],
            [
             0.5555555555555556,
             "#1f9e89"
            ],
            [
             0.6666666666666666,
             "#35b779"
            ],
            [
             0.7777777777777778,
             "#6ece58"
            ],
            [
             0.8888888888888888,
             "#b5de2b"
            ],
            [
             1,
             "#fde725"
            ]
           ],
           "sequentialminus": [
            [
             0,
             "#440154"
            ],
            [
             0.1111111111111111,
             "#482878"
            ],
            [
             0.2222222222222222,
             "#3e4989"
            ],
            [
             0.3333333333333333,
             "#31688e"
            ],
            [
             0.4444444444444444,
             "#26828e"
            ],
            [
             0.5555555555555556,
             "#1f9e89"
            ],
            [
             0.6666666666666666,
             "#35b779"
            ],
            [
             0.7777777777777778,
             "#6ece58"
            ],
            [
             0.8888888888888888,
             "#b5de2b"
            ],
            [
             1,
             "#fde725"
            ]
           ]
          },
          "colorway": [
           "#1F77B4",
           "#FF7F0E",
           "#2CA02C",
           "#D62728",
           "#9467BD",
           "#8C564B",
           "#E377C2",
           "#7F7F7F",
           "#BCBD22",
           "#17BECF"
          ],
          "font": {
           "color": "rgb(36,36,36)"
          },
          "geo": {
           "bgcolor": "white",
           "lakecolor": "white",
           "landcolor": "white",
           "showlakes": true,
           "showland": true,
           "subunitcolor": "white"
          },
          "hoverlabel": {
           "align": "left"
          },
          "hovermode": "closest",
          "mapbox": {
           "style": "light"
          },
          "paper_bgcolor": "white",
          "plot_bgcolor": "white",
          "polar": {
           "angularaxis": {
            "gridcolor": "rgb(232,232,232)",
            "linecolor": "rgb(36,36,36)",
            "showgrid": false,
            "showline": true,
            "ticks": "outside"
           },
           "bgcolor": "white",
           "radialaxis": {
            "gridcolor": "rgb(232,232,232)",
            "linecolor": "rgb(36,36,36)",
            "showgrid": false,
            "showline": true,
            "ticks": "outside"
           }
          },
          "scene": {
           "xaxis": {
            "backgroundcolor": "white",
            "gridcolor": "rgb(232,232,232)",
            "gridwidth": 2,
            "linecolor": "rgb(36,36,36)",
            "showbackground": true,
            "showgrid": false,
            "showline": true,
            "ticks": "outside",
            "zeroline": false,
            "zerolinecolor": "rgb(36,36,36)"
           },
           "yaxis": {
            "backgroundcolor": "white",
            "gridcolor": "rgb(232,232,232)",
            "gridwidth": 2,
            "linecolor": "rgb(36,36,36)",
            "showbackground": true,
            "showgrid": false,
            "showline": true,
            "ticks": "outside",
            "zeroline": false,
            "zerolinecolor": "rgb(36,36,36)"
           },
           "zaxis": {
            "backgroundcolor": "white",
            "gridcolor": "rgb(232,232,232)",
            "gridwidth": 2,
            "linecolor": "rgb(36,36,36)",
            "showbackground": true,
            "showgrid": false,
            "showline": true,
            "ticks": "outside",
            "zeroline": false,
            "zerolinecolor": "rgb(36,36,36)"
           }
          },
          "shapedefaults": {
           "fillcolor": "black",
           "line": {
            "width": 0
           },
           "opacity": 0.3
          },
          "ternary": {
           "aaxis": {
            "gridcolor": "rgb(232,232,232)",
            "linecolor": "rgb(36,36,36)",
            "showgrid": false,
            "showline": true,
            "ticks": "outside"
           },
           "baxis": {
            "gridcolor": "rgb(232,232,232)",
            "linecolor": "rgb(36,36,36)",
            "showgrid": false,
            "showline": true,
            "ticks": "outside"
           },
           "bgcolor": "white",
           "caxis": {
            "gridcolor": "rgb(232,232,232)",
            "linecolor": "rgb(36,36,36)",
            "showgrid": false,
            "showline": true,
            "ticks": "outside"
           }
          },
          "title": {
           "x": 0.05
          },
          "xaxis": {
           "automargin": true,
           "gridcolor": "rgb(232,232,232)",
           "linecolor": "rgb(36,36,36)",
           "showgrid": false,
           "showline": true,
           "ticks": "outside",
           "title": {
            "standoff": 15
           },
           "zeroline": false,
           "zerolinecolor": "rgb(36,36,36)"
          },
          "yaxis": {
           "automargin": true,
           "gridcolor": "rgb(232,232,232)",
           "linecolor": "rgb(36,36,36)",
           "showgrid": false,
           "showline": true,
           "ticks": "outside",
           "title": {
            "standoff": 15
           },
           "zeroline": false,
           "zerolinecolor": "rgb(36,36,36)"
          }
         }
        },
        "width": 700,
        "xaxis": {
         "anchor": "y",
         "domain": [
          0,
          0.45
         ],
         "mirror": true,
         "title": {
          "text": "Relative diff. in % women corr. authors<br>(treatment over control)"
         }
        },
        "xaxis2": {
         "anchor": "y2",
         "domain": [
          0.55,
          1
         ],
         "mirror": true,
         "title": {
          "text": "Odds ratio of being cited more by media<br>(women over men)"
         }
        },
        "yaxis": {
         "anchor": "x",
         "autorange": "reversed",
         "domain": [
          0,
          1
         ],
         "mirror": true
        },
        "yaxis2": {
         "anchor": "x2",
         "autorange": "reversed",
         "domain": [
          0,
          1
         ],
         "matches": "y",
         "mirror": true,
         "showticklabels": false
        }
       }
      }
     },
     "metadata": {},
     "output_type": "display_data"
    }
   ],
   "source": [
    "# Create a bar chart\n",
    "fig = make_subplots(rows=1, cols=2, shared_yaxes=True, horizontal_spacing=0.1)\n",
    "\n",
    "for i, domain in enumerate(domains):\n",
    "    t = df1.query(\"domain == @domain\")\n",
    "    fig.add_trace(\n",
    "        go.Bar(\n",
    "            x=t[\"value\"],\n",
    "            y=t[\"subdomain\"],\n",
    "            orientation=\"h\",\n",
    "            marker_color=domain_colors[domain],\n",
    "            showlegend=False,\n",
    "        ),\n",
    "        row=1,\n",
    "        col=1,\n",
    "    )\n",
    "\n",
    "fig.update_xaxes(\n",
    "    title=\"Relative diff. in % women corr. authors<br>(treatment over control)\", mirror=True, row=1, col=1\n",
    ")\n",
    "fig.update_yaxes(autorange=\"reversed\", mirror=True, row=1, col=1)\n",
    "\n",
    "# add reference line at 0\n",
    "fig.add_vline(x=0, line_width=1, line_dash=\"dash\", line_color=\"black\", row=1, col=1)\n",
    "\n",
    "# add gray shading for negative values\n",
    "fig.add_shape(\n",
    "    type=\"rect\",\n",
    "    xref=\"x\",\n",
    "    yref=\"paper\",\n",
    "    x0=0,\n",
    "    y0=0,\n",
    "    x1=df[\"value\"].min() - 2,\n",
    "    y1=1,\n",
    "    fillcolor=\"gray\",\n",
    "    opacity=0.1,\n",
    "    layer=\"below\",\n",
    "    line_width=0,\n",
    "    row=1,\n",
    "    col=1,\n",
    ")\n",
    "\n",
    "# Create a forest chart\n",
    "indicators = [-1, 0, 1]\n",
    "\n",
    "for i, subdomain in enumerate(subdomains):\n",
    "    for j, indicator in enumerate(indicators):\n",
    "        t = df2.query(\"subdomain == @subdomain and indicator == @indicator\")\n",
    "\n",
    "        fig.add_trace(\n",
    "            go.Scatter(\n",
    "                x=t[\"odds_ratio\"],\n",
    "                y=t[\"subdomain\"],\n",
    "                error_x=dict(\n",
    "                    type=\"data\",\n",
    "                    array=t[\"ci_error\"],\n",
    "                    visible=True,\n",
    "                    color=indicator_colors[indicator],\n",
    "                    width=0,\n",
    "                ),\n",
    "                orientation=\"h\",\n",
    "                marker_color=indicator_colors[indicator],\n",
    "                showlegend=False,\n",
    "            ),\n",
    "            row=1,\n",
    "            col=2,\n",
    "        )\n",
    "\n",
    "# Customize layout\n",
    "fig.update_layout(\n",
    "    template=\"simple_white\",\n",
    "    font=dict(size=12, family=\"Arial\"),\n",
    "    height=500,\n",
    "    width=700,\n",
    "    margin=dict(l=100, r=20, t=50, b=20),\n",
    ")\n",
    "\n",
    "fig.update_xaxes(title=\"Odds ratio of being cited in media<br>(women over men)\", mirror=True, row=1, col=2)\n",
    "fig.update_yaxes(autorange=\"reversed\", mirror=True, row=1, col=2)\n",
    "\n",
    "\n",
    "# add reference line at 50%\n",
    "fig.add_vline(x=1, line_width=1, line_dash=\"dash\", line_color=\"black\", row=1, col=2)\n",
    "\n",
    "# Show the plot\n",
    "fig.show()\n",
    "fig.write_image(\"figures/bar_chart_compare_reg.svg\")"
   ]
  },
  {
   "cell_type": "code",
   "execution_count": 49,
   "metadata": {},
   "outputs": [
    {
     "data": {
      "text/html": [
       "<div>\n",
       "<style scoped>\n",
       "    .dataframe tbody tr th:only-of-type {\n",
       "        vertical-align: middle;\n",
       "    }\n",
       "\n",
       "    .dataframe tbody tr th {\n",
       "        vertical-align: top;\n",
       "    }\n",
       "\n",
       "    .dataframe thead th {\n",
       "        text-align: right;\n",
       "    }\n",
       "</style>\n",
       "<table border=\"1\" class=\"dataframe\">\n",
       "  <thead>\n",
       "    <tr style=\"text-align: right;\">\n",
       "      <th></th>\n",
       "      <th>domain</th>\n",
       "      <th>subdomain</th>\n",
       "      <th>relative diff %</th>\n",
       "      <th>con_val</th>\n",
       "      <th>treat_val</th>\n",
       "      <th>value</th>\n",
       "    </tr>\n",
       "  </thead>\n",
       "  <tbody>\n",
       "    <tr>\n",
       "      <th>14</th>\n",
       "      <td>Natural Sciences</td>\n",
       "      <td>Biology</td>\n",
       "      <td>0.483</td>\n",
       "      <td>38.769</td>\n",
       "      <td>38.580</td>\n",
       "      <td>38.220</td>\n",
       "    </tr>\n",
       "    <tr>\n",
       "      <th>15</th>\n",
       "      <td>Natural Sciences</td>\n",
       "      <td>Chemistry</td>\n",
       "      <td>1.278</td>\n",
       "      <td>19.488</td>\n",
       "      <td>19.737</td>\n",
       "      <td>21.158</td>\n",
       "    </tr>\n",
       "    <tr>\n",
       "      <th>16</th>\n",
       "      <td>Natural Sciences</td>\n",
       "      <td>Earth &amp; Env Sciences</td>\n",
       "      <td>5.219</td>\n",
       "      <td>33.270</td>\n",
       "      <td>35.010</td>\n",
       "      <td>33.693</td>\n",
       "    </tr>\n",
       "    <tr>\n",
       "      <th>17</th>\n",
       "      <td>Natural Sciences</td>\n",
       "      <td>Math &amp; Stat</td>\n",
       "      <td>10.852</td>\n",
       "      <td>28.040</td>\n",
       "      <td>25.000</td>\n",
       "      <td>22.333</td>\n",
       "    </tr>\n",
       "    <tr>\n",
       "      <th>18</th>\n",
       "      <td>Natural Sciences</td>\n",
       "      <td>Physics &amp; Astronomy</td>\n",
       "      <td>4.740</td>\n",
       "      <td>22.060</td>\n",
       "      <td>21.018</td>\n",
       "      <td>20.034</td>\n",
       "    </tr>\n",
       "    <tr>\n",
       "      <th>0</th>\n",
       "      <td>Applied Sciences</td>\n",
       "      <td>Agri, Fish &amp; Forestry</td>\n",
       "      <td>13.616</td>\n",
       "      <td>37.667</td>\n",
       "      <td>42.796</td>\n",
       "      <td>38.034</td>\n",
       "    </tr>\n",
       "    <tr>\n",
       "      <th>1</th>\n",
       "      <td>Applied Sciences</td>\n",
       "      <td>Built Env &amp; Design</td>\n",
       "      <td>0.954</td>\n",
       "      <td>36.129</td>\n",
       "      <td>35.784</td>\n",
       "      <td>34.696</td>\n",
       "    </tr>\n",
       "    <tr>\n",
       "      <th>2</th>\n",
       "      <td>Applied Sciences</td>\n",
       "      <td>Enab &amp; Strategic Tech</td>\n",
       "      <td>0.635</td>\n",
       "      <td>22.495</td>\n",
       "      <td>22.638</td>\n",
       "      <td>23.360</td>\n",
       "    </tr>\n",
       "    <tr>\n",
       "      <th>3</th>\n",
       "      <td>Applied Sciences</td>\n",
       "      <td>Engineering</td>\n",
       "      <td>5.910</td>\n",
       "      <td>25.775</td>\n",
       "      <td>27.300</td>\n",
       "      <td>23.780</td>\n",
       "    </tr>\n",
       "    <tr>\n",
       "      <th>4</th>\n",
       "      <td>Applied Sciences</td>\n",
       "      <td>Info &amp; Com Tech</td>\n",
       "      <td>3.060</td>\n",
       "      <td>30.954</td>\n",
       "      <td>31.904</td>\n",
       "      <td>28.459</td>\n",
       "    </tr>\n",
       "    <tr>\n",
       "      <th>10</th>\n",
       "      <td>Health Sciences</td>\n",
       "      <td>Biomedical Research</td>\n",
       "      <td>9.773</td>\n",
       "      <td>36.330</td>\n",
       "      <td>32.780</td>\n",
       "      <td>35.934</td>\n",
       "    </tr>\n",
       "    <tr>\n",
       "      <th>11</th>\n",
       "      <td>Health Sciences</td>\n",
       "      <td>Clinical Medicine</td>\n",
       "      <td>2.435</td>\n",
       "      <td>35.665</td>\n",
       "      <td>36.534</td>\n",
       "      <td>36.618</td>\n",
       "    </tr>\n",
       "    <tr>\n",
       "      <th>12</th>\n",
       "      <td>Health Sciences</td>\n",
       "      <td>Psych &amp; Cog Sciences</td>\n",
       "      <td>1.520</td>\n",
       "      <td>57.029</td>\n",
       "      <td>56.160</td>\n",
       "      <td>56.365</td>\n",
       "    </tr>\n",
       "    <tr>\n",
       "      <th>13</th>\n",
       "      <td>Health Sciences</td>\n",
       "      <td>Public Health &amp; Services</td>\n",
       "      <td>8.142</td>\n",
       "      <td>64.690</td>\n",
       "      <td>59.420</td>\n",
       "      <td>62.126</td>\n",
       "    </tr>\n",
       "    <tr>\n",
       "      <th>8</th>\n",
       "      <td>Economic &amp; Social Sciences</td>\n",
       "      <td>Econ &amp; Business</td>\n",
       "      <td>20.670</td>\n",
       "      <td>29.253</td>\n",
       "      <td>35.300</td>\n",
       "      <td>31.457</td>\n",
       "    </tr>\n",
       "    <tr>\n",
       "      <th>9</th>\n",
       "      <td>Economic &amp; Social Sciences</td>\n",
       "      <td>Social Sciences</td>\n",
       "      <td>8.250</td>\n",
       "      <td>54.079</td>\n",
       "      <td>49.610</td>\n",
       "      <td>53.860</td>\n",
       "    </tr>\n",
       "    <tr>\n",
       "      <th>5</th>\n",
       "      <td>Arts &amp; Humanities</td>\n",
       "      <td>Com &amp; Text Studies</td>\n",
       "      <td>2.713</td>\n",
       "      <td>51.006</td>\n",
       "      <td>52.390</td>\n",
       "      <td>52.810</td>\n",
       "    </tr>\n",
       "    <tr>\n",
       "      <th>6</th>\n",
       "      <td>Arts &amp; Humanities</td>\n",
       "      <td>Historical Studies</td>\n",
       "      <td>15.044</td>\n",
       "      <td>49.906</td>\n",
       "      <td>42.397</td>\n",
       "      <td>47.069</td>\n",
       "    </tr>\n",
       "    <tr>\n",
       "      <th>7</th>\n",
       "      <td>Arts &amp; Humanities</td>\n",
       "      <td>Phil &amp; Theo</td>\n",
       "      <td>14.567</td>\n",
       "      <td>29.350</td>\n",
       "      <td>33.628</td>\n",
       "      <td>29.888</td>\n",
       "    </tr>\n",
       "  </tbody>\n",
       "</table>\n",
       "</div>"
      ],
      "text/plain": [
       "                        domain                 subdomain  relative diff %  \\\n",
       "14            Natural Sciences                   Biology            0.483   \n",
       "15            Natural Sciences                 Chemistry            1.278   \n",
       "16            Natural Sciences      Earth & Env Sciences            5.219   \n",
       "17            Natural Sciences               Math & Stat           10.852   \n",
       "18            Natural Sciences       Physics & Astronomy            4.740   \n",
       "0             Applied Sciences     Agri, Fish & Forestry           13.616   \n",
       "1             Applied Sciences        Built Env & Design            0.954   \n",
       "2             Applied Sciences     Enab & Strategic Tech            0.635   \n",
       "3             Applied Sciences               Engineering            5.910   \n",
       "4             Applied Sciences           Info & Com Tech            3.060   \n",
       "10             Health Sciences       Biomedical Research            9.773   \n",
       "11             Health Sciences         Clinical Medicine            2.435   \n",
       "12             Health Sciences      Psych & Cog Sciences            1.520   \n",
       "13             Health Sciences  Public Health & Services            8.142   \n",
       "8   Economic & Social Sciences           Econ & Business           20.670   \n",
       "9   Economic & Social Sciences           Social Sciences            8.250   \n",
       "5            Arts & Humanities        Com & Text Studies            2.713   \n",
       "6            Arts & Humanities        Historical Studies           15.044   \n",
       "7            Arts & Humanities               Phil & Theo           14.567   \n",
       "\n",
       "    con_val  treat_val   value  \n",
       "14   38.769     38.580  38.220  \n",
       "15   19.488     19.737  21.158  \n",
       "16   33.270     35.010  33.693  \n",
       "17   28.040     25.000  22.333  \n",
       "18   22.060     21.018  20.034  \n",
       "0    37.667     42.796  38.034  \n",
       "1    36.129     35.784  34.696  \n",
       "2    22.495     22.638  23.360  \n",
       "3    25.775     27.300  23.780  \n",
       "4    30.954     31.904  28.459  \n",
       "10   36.330     32.780  35.934  \n",
       "11   35.665     36.534  36.618  \n",
       "12   57.029     56.160  56.365  \n",
       "13   64.690     59.420  62.126  \n",
       "8    29.253     35.300  31.457  \n",
       "9    54.079     49.610  53.860  \n",
       "5    51.006     52.390  52.810  \n",
       "6    49.906     42.397  47.069  \n",
       "7    29.350     33.628  29.888  "
      ]
     },
     "execution_count": 49,
     "metadata": {},
     "output_type": "execute_result"
    }
   ],
   "source": [
    "df = pd.read_excel(\"bar chart compare.xlsx\", sheet_name=\"scatter\")\n",
    "df[\"domain\"] = pd.Categorical(df[\"domain\"], domains)\n",
    "df[\"subdomain\"] = pd.Categorical(df[\"subdomain\"], subdomains)\n",
    "df = df.sort_values([\"domain\", \"subdomain\"])\n",
    "df"
   ]
  },
  {
   "cell_type": "code",
   "execution_count": 50,
   "metadata": {},
   "outputs": [
    {
     "data": {
      "application/vnd.plotly.v1+json": {
       "config": {
        "plotlyServerURL": "https://plot.ly"
       },
       "data": [
        {
         "hoverinfo": "x+y+text",
         "marker": {
          "color": "rgb(145,181,214)"
         },
         "mode": "markers",
         "name": "Natural Sciences",
         "showlegend": true,
         "text": [
          "Biology",
          "Chemistry",
          "Earth & Env Sciences",
          "Math & Stat",
          "Physics & Astronomy"
         ],
         "type": "scatter",
         "x": [
          38.58,
          19.737,
          35.01,
          25,
          21.018
         ],
         "y": [
          38.769,
          19.488,
          33.27,
          28.04,
          22.06
         ]
        },
        {
         "hoverinfo": "x+y+text",
         "marker": {
          "color": "rgb(255,187,120)"
         },
         "mode": "markers",
         "name": "Applied Sciences",
         "showlegend": true,
         "text": [
          "Agri, Fish & Forestry",
          "Built Env & Design",
          "Enab & Strategic Tech",
          "Engineering",
          "Info & Com Tech"
         ],
         "type": "scatter",
         "x": [
          42.796,
          35.784,
          22.638,
          27.3,
          31.904
         ],
         "y": [
          37.667,
          36.129,
          22.495,
          25.775,
          30.954
         ]
        },
        {
         "hoverinfo": "x+y+text",
         "marker": {
          "color": "rgb(31,119,180)"
         },
         "mode": "markers",
         "name": "Health Sciences",
         "showlegend": true,
         "text": [
          "Biomedical Research",
          "Clinical Medicine",
          "Psych & Cog Sciences",
          "Public Health & Services"
         ],
         "type": "scatter",
         "x": [
          32.78,
          36.534,
          56.16,
          59.42
         ],
         "y": [
          36.33,
          35.665,
          57.029,
          64.69
         ]
        },
        {
         "hoverinfo": "x+y+text",
         "marker": {
          "color": "rgb(81,182,137)"
         },
         "mode": "markers",
         "name": "Economic & Social Sciences",
         "showlegend": true,
         "text": [
          "Econ & Business",
          "Social Sciences"
         ],
         "type": "scatter",
         "x": [
          35.3,
          49.61
         ],
         "y": [
          29.253,
          54.079
         ]
        },
        {
         "hoverinfo": "x+y+text",
         "marker": {
          "color": "rgb(197,176,213)"
         },
         "mode": "markers",
         "name": "Arts & Humanities",
         "showlegend": true,
         "text": [
          "Com & Text Studies",
          "Historical Studies",
          "Phil & Theo"
         ],
         "type": "scatter",
         "x": [
          52.39,
          42.397,
          33.628
         ],
         "y": [
          51.006,
          49.906,
          29.35
         ]
        },
        {
         "line": {
          "color": "black",
          "dash": "dash",
          "width": 1
         },
         "mode": "lines",
         "showlegend": false,
         "type": "scatter",
         "x": [
          0,
          100
         ],
         "y": [
          0,
          100
         ]
        }
       ],
       "layout": {
        "annotations": [
         {
          "ax": -30,
          "ay": -18,
          "showarrow": true,
          "text": "Math & Stat",
          "x": 25,
          "y": 28.04
         },
         {
          "ax": 30,
          "ay": -18,
          "showarrow": true,
          "text": "Agri, Fish & Forestry",
          "x": 42.796,
          "y": 37.667
         },
         {
          "ax": -30,
          "ay": -18,
          "showarrow": true,
          "text": "Biomedical Research",
          "x": 32.78,
          "y": 36.33
         },
         {
          "ax": -30,
          "ay": -18,
          "showarrow": true,
          "text": "Public Health & Services",
          "x": 59.42,
          "y": 64.69
         },
         {
          "ax": 30,
          "ay": -18,
          "showarrow": true,
          "text": "Econ & Business",
          "x": 35.3,
          "y": 29.253
         },
         {
          "ax": -30,
          "ay": -18,
          "showarrow": true,
          "text": "Social Sciences",
          "x": 49.61,
          "y": 54.079
         },
         {
          "ax": -30,
          "ay": -18,
          "showarrow": true,
          "text": "Historical Studies",
          "x": 42.397,
          "y": 49.906
         },
         {
          "ax": 30,
          "ay": -18,
          "showarrow": true,
          "text": "Phil & Theo",
          "x": 33.628,
          "y": 29.35
         },
         {
          "font": {
           "size": 20
          },
          "showarrow": false,
          "text": "<b>Treatment > control",
          "x": 0.99,
          "xref": "x domain",
          "y": 0.01,
          "yref": "y domain"
         },
         {
          "font": {
           "size": 20
          },
          "showarrow": false,
          "text": "<b>Treatment < control",
          "x": 0.01,
          "xref": "x domain",
          "y": 0.99,
          "yref": "y domain"
         }
        ],
        "font": {
         "family": "Arial",
         "size": 12
        },
        "height": 500,
        "legend": {
         "bgcolor": "rgba(255, 255, 255, 0.5)",
         "x": 1.01,
         "y": 0.99
        },
        "margin": {
         "b": 20,
         "l": 100,
         "r": 100,
         "t": 50
        },
        "shapes": [
         {
          "line": {
           "color": "black",
           "dash": "dash",
           "width": 1
          },
          "type": "line",
          "x0": 50,
          "x1": 50,
          "xref": "x",
          "y0": 0,
          "y1": 1,
          "yref": "y domain"
         },
         {
          "line": {
           "color": "black",
           "dash": "dash",
           "width": 1
          },
          "type": "line",
          "x0": 0,
          "x1": 1,
          "xref": "x domain",
          "y0": 50,
          "y1": 50,
          "yref": "y"
         }
        ],
        "template": {
         "data": {
          "bar": [
           {
            "error_x": {
             "color": "rgb(36,36,36)"
            },
            "error_y": {
             "color": "rgb(36,36,36)"
            },
            "marker": {
             "line": {
              "color": "white",
              "width": 0.5
             },
             "pattern": {
              "fillmode": "overlay",
              "size": 10,
              "solidity": 0.2
             }
            },
            "type": "bar"
           }
          ],
          "barpolar": [
           {
            "marker": {
             "line": {
              "color": "white",
              "width": 0.5
             },
             "pattern": {
              "fillmode": "overlay",
              "size": 10,
              "solidity": 0.2
             }
            },
            "type": "barpolar"
           }
          ],
          "carpet": [
           {
            "aaxis": {
             "endlinecolor": "rgb(36,36,36)",
             "gridcolor": "white",
             "linecolor": "white",
             "minorgridcolor": "white",
             "startlinecolor": "rgb(36,36,36)"
            },
            "baxis": {
             "endlinecolor": "rgb(36,36,36)",
             "gridcolor": "white",
             "linecolor": "white",
             "minorgridcolor": "white",
             "startlinecolor": "rgb(36,36,36)"
            },
            "type": "carpet"
           }
          ],
          "choropleth": [
           {
            "colorbar": {
             "outlinewidth": 1,
             "tickcolor": "rgb(36,36,36)",
             "ticks": "outside"
            },
            "type": "choropleth"
           }
          ],
          "contour": [
           {
            "colorbar": {
             "outlinewidth": 1,
             "tickcolor": "rgb(36,36,36)",
             "ticks": "outside"
            },
            "colorscale": [
             [
              0,
              "#440154"
             ],
             [
              0.1111111111111111,
              "#482878"
             ],
             [
              0.2222222222222222,
              "#3e4989"
             ],
             [
              0.3333333333333333,
              "#31688e"
             ],
             [
              0.4444444444444444,
              "#26828e"
             ],
             [
              0.5555555555555556,
              "#1f9e89"
             ],
             [
              0.6666666666666666,
              "#35b779"
             ],
             [
              0.7777777777777778,
              "#6ece58"
             ],
             [
              0.8888888888888888,
              "#b5de2b"
             ],
             [
              1,
              "#fde725"
             ]
            ],
            "type": "contour"
           }
          ],
          "contourcarpet": [
           {
            "colorbar": {
             "outlinewidth": 1,
             "tickcolor": "rgb(36,36,36)",
             "ticks": "outside"
            },
            "type": "contourcarpet"
           }
          ],
          "heatmap": [
           {
            "colorbar": {
             "outlinewidth": 1,
             "tickcolor": "rgb(36,36,36)",
             "ticks": "outside"
            },
            "colorscale": [
             [
              0,
              "#440154"
             ],
             [
              0.1111111111111111,
              "#482878"
             ],
             [
              0.2222222222222222,
              "#3e4989"
             ],
             [
              0.3333333333333333,
              "#31688e"
             ],
             [
              0.4444444444444444,
              "#26828e"
             ],
             [
              0.5555555555555556,
              "#1f9e89"
             ],
             [
              0.6666666666666666,
              "#35b779"
             ],
             [
              0.7777777777777778,
              "#6ece58"
             ],
             [
              0.8888888888888888,
              "#b5de2b"
             ],
             [
              1,
              "#fde725"
             ]
            ],
            "type": "heatmap"
           }
          ],
          "heatmapgl": [
           {
            "colorbar": {
             "outlinewidth": 1,
             "tickcolor": "rgb(36,36,36)",
             "ticks": "outside"
            },
            "colorscale": [
             [
              0,
              "#440154"
             ],
             [
              0.1111111111111111,
              "#482878"
             ],
             [
              0.2222222222222222,
              "#3e4989"
             ],
             [
              0.3333333333333333,
              "#31688e"
             ],
             [
              0.4444444444444444,
              "#26828e"
             ],
             [
              0.5555555555555556,
              "#1f9e89"
             ],
             [
              0.6666666666666666,
              "#35b779"
             ],
             [
              0.7777777777777778,
              "#6ece58"
             ],
             [
              0.8888888888888888,
              "#b5de2b"
             ],
             [
              1,
              "#fde725"
             ]
            ],
            "type": "heatmapgl"
           }
          ],
          "histogram": [
           {
            "marker": {
             "line": {
              "color": "white",
              "width": 0.6
             }
            },
            "type": "histogram"
           }
          ],
          "histogram2d": [
           {
            "colorbar": {
             "outlinewidth": 1,
             "tickcolor": "rgb(36,36,36)",
             "ticks": "outside"
            },
            "colorscale": [
             [
              0,
              "#440154"
             ],
             [
              0.1111111111111111,
              "#482878"
             ],
             [
              0.2222222222222222,
              "#3e4989"
             ],
             [
              0.3333333333333333,
              "#31688e"
             ],
             [
              0.4444444444444444,
              "#26828e"
             ],
             [
              0.5555555555555556,
              "#1f9e89"
             ],
             [
              0.6666666666666666,
              "#35b779"
             ],
             [
              0.7777777777777778,
              "#6ece58"
             ],
             [
              0.8888888888888888,
              "#b5de2b"
             ],
             [
              1,
              "#fde725"
             ]
            ],
            "type": "histogram2d"
           }
          ],
          "histogram2dcontour": [
           {
            "colorbar": {
             "outlinewidth": 1,
             "tickcolor": "rgb(36,36,36)",
             "ticks": "outside"
            },
            "colorscale": [
             [
              0,
              "#440154"
             ],
             [
              0.1111111111111111,
              "#482878"
             ],
             [
              0.2222222222222222,
              "#3e4989"
             ],
             [
              0.3333333333333333,
              "#31688e"
             ],
             [
              0.4444444444444444,
              "#26828e"
             ],
             [
              0.5555555555555556,
              "#1f9e89"
             ],
             [
              0.6666666666666666,
              "#35b779"
             ],
             [
              0.7777777777777778,
              "#6ece58"
             ],
             [
              0.8888888888888888,
              "#b5de2b"
             ],
             [
              1,
              "#fde725"
             ]
            ],
            "type": "histogram2dcontour"
           }
          ],
          "mesh3d": [
           {
            "colorbar": {
             "outlinewidth": 1,
             "tickcolor": "rgb(36,36,36)",
             "ticks": "outside"
            },
            "type": "mesh3d"
           }
          ],
          "parcoords": [
           {
            "line": {
             "colorbar": {
              "outlinewidth": 1,
              "tickcolor": "rgb(36,36,36)",
              "ticks": "outside"
             }
            },
            "type": "parcoords"
           }
          ],
          "pie": [
           {
            "automargin": true,
            "type": "pie"
           }
          ],
          "scatter": [
           {
            "fillpattern": {
             "fillmode": "overlay",
             "size": 10,
             "solidity": 0.2
            },
            "type": "scatter"
           }
          ],
          "scatter3d": [
           {
            "line": {
             "colorbar": {
              "outlinewidth": 1,
              "tickcolor": "rgb(36,36,36)",
              "ticks": "outside"
             }
            },
            "marker": {
             "colorbar": {
              "outlinewidth": 1,
              "tickcolor": "rgb(36,36,36)",
              "ticks": "outside"
             }
            },
            "type": "scatter3d"
           }
          ],
          "scattercarpet": [
           {
            "marker": {
             "colorbar": {
              "outlinewidth": 1,
              "tickcolor": "rgb(36,36,36)",
              "ticks": "outside"
             }
            },
            "type": "scattercarpet"
           }
          ],
          "scattergeo": [
           {
            "marker": {
             "colorbar": {
              "outlinewidth": 1,
              "tickcolor": "rgb(36,36,36)",
              "ticks": "outside"
             }
            },
            "type": "scattergeo"
           }
          ],
          "scattergl": [
           {
            "marker": {
             "colorbar": {
              "outlinewidth": 1,
              "tickcolor": "rgb(36,36,36)",
              "ticks": "outside"
             }
            },
            "type": "scattergl"
           }
          ],
          "scattermapbox": [
           {
            "marker": {
             "colorbar": {
              "outlinewidth": 1,
              "tickcolor": "rgb(36,36,36)",
              "ticks": "outside"
             }
            },
            "type": "scattermapbox"
           }
          ],
          "scatterpolar": [
           {
            "marker": {
             "colorbar": {
              "outlinewidth": 1,
              "tickcolor": "rgb(36,36,36)",
              "ticks": "outside"
             }
            },
            "type": "scatterpolar"
           }
          ],
          "scatterpolargl": [
           {
            "marker": {
             "colorbar": {
              "outlinewidth": 1,
              "tickcolor": "rgb(36,36,36)",
              "ticks": "outside"
             }
            },
            "type": "scatterpolargl"
           }
          ],
          "scatterternary": [
           {
            "marker": {
             "colorbar": {
              "outlinewidth": 1,
              "tickcolor": "rgb(36,36,36)",
              "ticks": "outside"
             }
            },
            "type": "scatterternary"
           }
          ],
          "surface": [
           {
            "colorbar": {
             "outlinewidth": 1,
             "tickcolor": "rgb(36,36,36)",
             "ticks": "outside"
            },
            "colorscale": [
             [
              0,
              "#440154"
             ],
             [
              0.1111111111111111,
              "#482878"
             ],
             [
              0.2222222222222222,
              "#3e4989"
             ],
             [
              0.3333333333333333,
              "#31688e"
             ],
             [
              0.4444444444444444,
              "#26828e"
             ],
             [
              0.5555555555555556,
              "#1f9e89"
             ],
             [
              0.6666666666666666,
              "#35b779"
             ],
             [
              0.7777777777777778,
              "#6ece58"
             ],
             [
              0.8888888888888888,
              "#b5de2b"
             ],
             [
              1,
              "#fde725"
             ]
            ],
            "type": "surface"
           }
          ],
          "table": [
           {
            "cells": {
             "fill": {
              "color": "rgb(237,237,237)"
             },
             "line": {
              "color": "white"
             }
            },
            "header": {
             "fill": {
              "color": "rgb(217,217,217)"
             },
             "line": {
              "color": "white"
             }
            },
            "type": "table"
           }
          ]
         },
         "layout": {
          "annotationdefaults": {
           "arrowhead": 0,
           "arrowwidth": 1
          },
          "autotypenumbers": "strict",
          "coloraxis": {
           "colorbar": {
            "outlinewidth": 1,
            "tickcolor": "rgb(36,36,36)",
            "ticks": "outside"
           }
          },
          "colorscale": {
           "diverging": [
            [
             0,
             "rgb(103,0,31)"
            ],
            [
             0.1,
             "rgb(178,24,43)"
            ],
            [
             0.2,
             "rgb(214,96,77)"
            ],
            [
             0.3,
             "rgb(244,165,130)"
            ],
            [
             0.4,
             "rgb(253,219,199)"
            ],
            [
             0.5,
             "rgb(247,247,247)"
            ],
            [
             0.6,
             "rgb(209,229,240)"
            ],
            [
             0.7,
             "rgb(146,197,222)"
            ],
            [
             0.8,
             "rgb(67,147,195)"
            ],
            [
             0.9,
             "rgb(33,102,172)"
            ],
            [
             1,
             "rgb(5,48,97)"
            ]
           ],
           "sequential": [
            [
             0,
             "#440154"
            ],
            [
             0.1111111111111111,
             "#482878"
            ],
            [
             0.2222222222222222,
             "#3e4989"
            ],
            [
             0.3333333333333333,
             "#31688e"
            ],
            [
             0.4444444444444444,
             "#26828e"
            ],
            [
             0.5555555555555556,
             "#1f9e89"
            ],
            [
             0.6666666666666666,
             "#35b779"
            ],
            [
             0.7777777777777778,
             "#6ece58"
            ],
            [
             0.8888888888888888,
             "#b5de2b"
            ],
            [
             1,
             "#fde725"
            ]
           ],
           "sequentialminus": [
            [
             0,
             "#440154"
            ],
            [
             0.1111111111111111,
             "#482878"
            ],
            [
             0.2222222222222222,
             "#3e4989"
            ],
            [
             0.3333333333333333,
             "#31688e"
            ],
            [
             0.4444444444444444,
             "#26828e"
            ],
            [
             0.5555555555555556,
             "#1f9e89"
            ],
            [
             0.6666666666666666,
             "#35b779"
            ],
            [
             0.7777777777777778,
             "#6ece58"
            ],
            [
             0.8888888888888888,
             "#b5de2b"
            ],
            [
             1,
             "#fde725"
            ]
           ]
          },
          "colorway": [
           "#1F77B4",
           "#FF7F0E",
           "#2CA02C",
           "#D62728",
           "#9467BD",
           "#8C564B",
           "#E377C2",
           "#7F7F7F",
           "#BCBD22",
           "#17BECF"
          ],
          "font": {
           "color": "rgb(36,36,36)"
          },
          "geo": {
           "bgcolor": "white",
           "lakecolor": "white",
           "landcolor": "white",
           "showlakes": true,
           "showland": true,
           "subunitcolor": "white"
          },
          "hoverlabel": {
           "align": "left"
          },
          "hovermode": "closest",
          "mapbox": {
           "style": "light"
          },
          "paper_bgcolor": "white",
          "plot_bgcolor": "white",
          "polar": {
           "angularaxis": {
            "gridcolor": "rgb(232,232,232)",
            "linecolor": "rgb(36,36,36)",
            "showgrid": false,
            "showline": true,
            "ticks": "outside"
           },
           "bgcolor": "white",
           "radialaxis": {
            "gridcolor": "rgb(232,232,232)",
            "linecolor": "rgb(36,36,36)",
            "showgrid": false,
            "showline": true,
            "ticks": "outside"
           }
          },
          "scene": {
           "xaxis": {
            "backgroundcolor": "white",
            "gridcolor": "rgb(232,232,232)",
            "gridwidth": 2,
            "linecolor": "rgb(36,36,36)",
            "showbackground": true,
            "showgrid": false,
            "showline": true,
            "ticks": "outside",
            "zeroline": false,
            "zerolinecolor": "rgb(36,36,36)"
           },
           "yaxis": {
            "backgroundcolor": "white",
            "gridcolor": "rgb(232,232,232)",
            "gridwidth": 2,
            "linecolor": "rgb(36,36,36)",
            "showbackground": true,
            "showgrid": false,
            "showline": true,
            "ticks": "outside",
            "zeroline": false,
            "zerolinecolor": "rgb(36,36,36)"
           },
           "zaxis": {
            "backgroundcolor": "white",
            "gridcolor": "rgb(232,232,232)",
            "gridwidth": 2,
            "linecolor": "rgb(36,36,36)",
            "showbackground": true,
            "showgrid": false,
            "showline": true,
            "ticks": "outside",
            "zeroline": false,
            "zerolinecolor": "rgb(36,36,36)"
           }
          },
          "shapedefaults": {
           "fillcolor": "black",
           "line": {
            "width": 0
           },
           "opacity": 0.3
          },
          "ternary": {
           "aaxis": {
            "gridcolor": "rgb(232,232,232)",
            "linecolor": "rgb(36,36,36)",
            "showgrid": false,
            "showline": true,
            "ticks": "outside"
           },
           "baxis": {
            "gridcolor": "rgb(232,232,232)",
            "linecolor": "rgb(36,36,36)",
            "showgrid": false,
            "showline": true,
            "ticks": "outside"
           },
           "bgcolor": "white",
           "caxis": {
            "gridcolor": "rgb(232,232,232)",
            "linecolor": "rgb(36,36,36)",
            "showgrid": false,
            "showline": true,
            "ticks": "outside"
           }
          },
          "title": {
           "x": 0.05
          },
          "xaxis": {
           "automargin": true,
           "gridcolor": "rgb(232,232,232)",
           "linecolor": "rgb(36,36,36)",
           "showgrid": false,
           "showline": true,
           "ticks": "outside",
           "title": {
            "standoff": 15
           },
           "zeroline": false,
           "zerolinecolor": "rgb(36,36,36)"
          },
          "yaxis": {
           "automargin": true,
           "gridcolor": "rgb(232,232,232)",
           "linecolor": "rgb(36,36,36)",
           "showgrid": false,
           "showline": true,
           "ticks": "outside",
           "title": {
            "standoff": 15
           },
           "zeroline": false,
           "zerolinecolor": "rgb(36,36,36)"
          }
         }
        },
        "width": 700,
        "xaxis": {
         "dtick": 10,
         "mirror": true,
         "range": [
          15,
          68
         ],
         "title": {
          "text": "% women corresponding authors<br>in treatment group"
         }
        },
        "yaxis": {
         "dtick": 10,
         "mirror": true,
         "range": [
          15,
          68
         ],
         "title": {
          "text": "% women corresponding authors<br>in control group"
         }
        }
       }
      }
     },
     "metadata": {},
     "output_type": "display_data"
    }
   ],
   "source": [
    "# Create a bar chart\n",
    "fig = go.Figure()\n",
    "\n",
    "for i, domain in enumerate(domains):\n",
    "    t = df.query(\"domain == @domain\")\n",
    "    fig.add_trace(\n",
    "        go.Scatter(\n",
    "            x=t[\"treat_val\"],\n",
    "            y=t[\"con_val\"],\n",
    "            text=t[\"subdomain\"],\n",
    "            mode=\"markers\",\n",
    "            marker_color=domain_colors[domain],\n",
    "            hoverinfo=\"x+y+text\",\n",
    "            name=domain,\n",
    "            showlegend=True,\n",
    "        )\n",
    "    )\n",
    "\n",
    "# Customize layout\n",
    "fig.update_layout(\n",
    "    template=\"simple_white\",\n",
    "    font=dict(size=12, family=\"Arial\"),\n",
    "    height=500,\n",
    "    width=700,\n",
    "    margin=dict(l=100, r=100, t=50, b=20),\n",
    "    legend=dict(\n",
    "        x=1.01,\n",
    "        y=0.99,\n",
    "        bgcolor=\"rgba(255, 255, 255, 0.5)\",\n",
    "    ),\n",
    ")\n",
    "\n",
    "fig.update_xaxes(\n",
    "    title=\"% women corresponding authors<br>in treatment group\",\n",
    "    mirror=True,\n",
    "    range=[15, 68],\n",
    "    dtick=10,\n",
    ")\n",
    "fig.update_yaxes(\n",
    "    title=\"% women corresponding authors<br>in control group\",\n",
    "    mirror=True,\n",
    "    range=[15, 68],\n",
    "    dtick=10,\n",
    ")\n",
    "\n",
    "# add reference line\n",
    "fig.add_trace(\n",
    "    go.Scatter(\n",
    "        x=[0, 100],\n",
    "        y=[0, 100],\n",
    "        mode=\"lines\",\n",
    "        line=dict(color=\"black\", width=1, dash=\"dash\"),\n",
    "        showlegend=False,\n",
    "    )\n",
    ")\n",
    "fig.add_vline(x=50, line_width=1, line_dash=\"dash\", line_color=\"black\")\n",
    "fig.add_hline(y=50, line_width=1, line_dash=\"dash\", line_color=\"black\")\n",
    "\n",
    "# annotate points with relative diff > 10%\n",
    "for i, row in df[df[\"relative diff %\"] >= 8].iterrows():\n",
    "    if row[\"treat_val\"] > row[\"con_val\"]:\n",
    "        ax = 30\n",
    "    else:\n",
    "        ax = -30\n",
    "    ay = -18\n",
    "    if row[\"subdomain\"] == \"Phil. & Theo.\":\n",
    "        ay = 20\n",
    "    fig.add_annotation(\n",
    "        x=row[\"treat_val\"],\n",
    "        y=row[\"con_val\"],\n",
    "        text=row[\"subdomain\"],\n",
    "        ax=ax,\n",
    "        ay=ay,\n",
    "        showarrow=True,\n",
    "    )\n",
    "\n",
    "fig.add_annotation(\n",
    "    x=0.99,\n",
    "    y=0.01,\n",
    "    xref=\"x domain\",\n",
    "    yref=\"y domain\",\n",
    "    text=\"<b>Treatment > control\",\n",
    "    font=dict(size=20),\n",
    "    showarrow=False,\n",
    ")\n",
    "\n",
    "fig.add_annotation(\n",
    "    x=0.01,\n",
    "    y=0.99,\n",
    "    xref=\"x domain\",\n",
    "    yref=\"y domain\",\n",
    "    text=\"<b>Treatment < control\",\n",
    "    font=dict(size=20),\n",
    "    showarrow=False,\n",
    ")\n",
    "\n",
    "# Show the plot\n",
    "fig.show()\n",
    "fig.write_image(\"figures/bar_chart_compare_scatter.svg\")"
   ]
  },
  {
   "cell_type": "markdown",
   "metadata": {},
   "source": [
    "### Raw count regression domain level"
   ]
  },
  {
   "cell_type": "code",
   "execution_count": 51,
   "metadata": {},
   "outputs": [
    {
     "data": {
      "text/html": [
       "<div>\n",
       "<style scoped>\n",
       "    .dataframe tbody tr th:only-of-type {\n",
       "        vertical-align: middle;\n",
       "    }\n",
       "\n",
       "    .dataframe tbody tr th {\n",
       "        vertical-align: top;\n",
       "    }\n",
       "\n",
       "    .dataframe thead th {\n",
       "        text-align: right;\n",
       "    }\n",
       "</style>\n",
       "<table border=\"1\" class=\"dataframe\">\n",
       "  <thead>\n",
       "    <tr style=\"text-align: right;\">\n",
       "      <th></th>\n",
       "      <th>domain</th>\n",
       "      <th>est</th>\n",
       "      <th>error</th>\n",
       "      <th>pval</th>\n",
       "      <th>effect</th>\n",
       "      <th>upper</th>\n",
       "      <th>ci_error</th>\n",
       "      <th>indicator</th>\n",
       "    </tr>\n",
       "  </thead>\n",
       "  <tbody>\n",
       "    <tr>\n",
       "      <th>4</th>\n",
       "      <td>Natural Sciences</td>\n",
       "      <td>-0.17640</td>\n",
       "      <td>0.00480</td>\n",
       "      <td>***</td>\n",
       "      <td>-0.02</td>\n",
       "      <td>-0.166992</td>\n",
       "      <td>0.009408</td>\n",
       "      <td>-1</td>\n",
       "    </tr>\n",
       "    <tr>\n",
       "      <th>0</th>\n",
       "      <td>Applied Sciences</td>\n",
       "      <td>-0.07398</td>\n",
       "      <td>0.00718</td>\n",
       "      <td>***</td>\n",
       "      <td>-0.04</td>\n",
       "      <td>-0.059907</td>\n",
       "      <td>0.014073</td>\n",
       "      <td>-1</td>\n",
       "    </tr>\n",
       "    <tr>\n",
       "      <th>3</th>\n",
       "      <td>Health Sciences</td>\n",
       "      <td>-0.07960</td>\n",
       "      <td>0.00238</td>\n",
       "      <td>***</td>\n",
       "      <td>-0.04</td>\n",
       "      <td>-0.074935</td>\n",
       "      <td>0.004665</td>\n",
       "      <td>-1</td>\n",
       "    </tr>\n",
       "    <tr>\n",
       "      <th>2</th>\n",
       "      <td>Economic &amp; Social Sciences</td>\n",
       "      <td>-0.16700</td>\n",
       "      <td>0.00870</td>\n",
       "      <td>***</td>\n",
       "      <td>-0.07</td>\n",
       "      <td>-0.149948</td>\n",
       "      <td>0.017052</td>\n",
       "      <td>-1</td>\n",
       "    </tr>\n",
       "    <tr>\n",
       "      <th>1</th>\n",
       "      <td>Arts &amp; Humanities</td>\n",
       "      <td>-0.24050</td>\n",
       "      <td>0.01650</td>\n",
       "      <td>***</td>\n",
       "      <td>-0.16</td>\n",
       "      <td>-0.208160</td>\n",
       "      <td>0.032340</td>\n",
       "      <td>-1</td>\n",
       "    </tr>\n",
       "  </tbody>\n",
       "</table>\n",
       "</div>"
      ],
      "text/plain": [
       "                       domain      est    error pval  effect     upper  \\\n",
       "4            Natural Sciences -0.17640  0.00480  ***   -0.02 -0.166992   \n",
       "0            Applied Sciences -0.07398  0.00718  ***   -0.04 -0.059907   \n",
       "3             Health Sciences -0.07960  0.00238  ***   -0.04 -0.074935   \n",
       "2  Economic & Social Sciences -0.16700  0.00870  ***   -0.07 -0.149948   \n",
       "1           Arts & Humanities -0.24050  0.01650  ***   -0.16 -0.208160   \n",
       "\n",
       "   ci_error  indicator  \n",
       "4  0.009408         -1  \n",
       "0  0.014073         -1  \n",
       "3  0.004665         -1  \n",
       "2  0.017052         -1  \n",
       "1  0.032340         -1  "
      ]
     },
     "execution_count": 51,
     "metadata": {},
     "output_type": "execute_result"
    }
   ],
   "source": [
    "df = pd.read_excel(\"raw count.xlsx\", sheet_name=\"domain\")\n",
    "df[\"upper\"] = df.apply(lambda x: get_ci(x[\"est\"], x[\"error\"], isExp=False)[1], axis=1)\n",
    "df[\"ci_error\"] = df[\"upper\"] - df[\"est\"]\n",
    "df[\"indicator\"] = df.apply(\n",
    "    lambda x: get_indicator(x[\"est\"], x[\"pval\"], thresh=0), axis=1\n",
    ")\n",
    "# reordering\n",
    "df[\"domain\"] = pd.Categorical(df[\"domain\"], domains)\n",
    "df = df.sort_values(\"domain\")\n",
    "df"
   ]
  },
  {
   "cell_type": "code",
   "execution_count": 52,
   "metadata": {},
   "outputs": [
    {
     "data": {
      "application/vnd.plotly.v1+json": {
       "config": {
        "plotlyServerURL": "https://plot.ly"
       },
       "data": [
        {
         "error_x": {
          "array": [
           0.009408
          ],
          "color": "rgb(120,171,201)",
          "type": "data",
          "visible": true,
          "width": 0
         },
         "marker": {
          "color": "rgb(120,171,201)"
         },
         "orientation": "h",
         "showlegend": false,
         "type": "scatter",
         "x": [
          -0.1764
         ],
         "y": [
          "Natural Sciences"
         ]
        },
        {
         "error_x": {
          "array": [],
          "color": "rgb(200,200,200)",
          "type": "data",
          "visible": true,
          "width": 0
         },
         "marker": {
          "color": "rgb(200,200,200)"
         },
         "orientation": "h",
         "showlegend": false,
         "type": "scatter",
         "x": [],
         "y": []
        },
        {
         "error_x": {
          "array": [],
          "color": "rgb(224,144,91)",
          "type": "data",
          "visible": true,
          "width": 0
         },
         "marker": {
          "color": "rgb(224,144,91)"
         },
         "orientation": "h",
         "showlegend": false,
         "type": "scatter",
         "x": [],
         "y": []
        },
        {
         "error_x": {
          "array": [
           0.014072799999999996
          ],
          "color": "rgb(120,171,201)",
          "type": "data",
          "visible": true,
          "width": 0
         },
         "marker": {
          "color": "rgb(120,171,201)"
         },
         "orientation": "h",
         "showlegend": false,
         "type": "scatter",
         "x": [
          -0.07398
         ],
         "y": [
          "Applied Sciences"
         ]
        },
        {
         "error_x": {
          "array": [],
          "color": "rgb(200,200,200)",
          "type": "data",
          "visible": true,
          "width": 0
         },
         "marker": {
          "color": "rgb(200,200,200)"
         },
         "orientation": "h",
         "showlegend": false,
         "type": "scatter",
         "x": [],
         "y": []
        },
        {
         "error_x": {
          "array": [],
          "color": "rgb(224,144,91)",
          "type": "data",
          "visible": true,
          "width": 0
         },
         "marker": {
          "color": "rgb(224,144,91)"
         },
         "orientation": "h",
         "showlegend": false,
         "type": "scatter",
         "x": [],
         "y": []
        },
        {
         "error_x": {
          "array": [
           0.004664799999999997
          ],
          "color": "rgb(120,171,201)",
          "type": "data",
          "visible": true,
          "width": 0
         },
         "marker": {
          "color": "rgb(120,171,201)"
         },
         "orientation": "h",
         "showlegend": false,
         "type": "scatter",
         "x": [
          -0.0796
         ],
         "y": [
          "Health Sciences"
         ]
        },
        {
         "error_x": {
          "array": [],
          "color": "rgb(200,200,200)",
          "type": "data",
          "visible": true,
          "width": 0
         },
         "marker": {
          "color": "rgb(200,200,200)"
         },
         "orientation": "h",
         "showlegend": false,
         "type": "scatter",
         "x": [],
         "y": []
        },
        {
         "error_x": {
          "array": [],
          "color": "rgb(224,144,91)",
          "type": "data",
          "visible": true,
          "width": 0
         },
         "marker": {
          "color": "rgb(224,144,91)"
         },
         "orientation": "h",
         "showlegend": false,
         "type": "scatter",
         "x": [],
         "y": []
        },
        {
         "error_x": {
          "array": [
           0.017051999999999984
          ],
          "color": "rgb(120,171,201)",
          "type": "data",
          "visible": true,
          "width": 0
         },
         "marker": {
          "color": "rgb(120,171,201)"
         },
         "orientation": "h",
         "showlegend": false,
         "type": "scatter",
         "x": [
          -0.167
         ],
         "y": [
          "Economic & Social Sciences"
         ]
        },
        {
         "error_x": {
          "array": [],
          "color": "rgb(200,200,200)",
          "type": "data",
          "visible": true,
          "width": 0
         },
         "marker": {
          "color": "rgb(200,200,200)"
         },
         "orientation": "h",
         "showlegend": false,
         "type": "scatter",
         "x": [],
         "y": []
        },
        {
         "error_x": {
          "array": [],
          "color": "rgb(224,144,91)",
          "type": "data",
          "visible": true,
          "width": 0
         },
         "marker": {
          "color": "rgb(224,144,91)"
         },
         "orientation": "h",
         "showlegend": false,
         "type": "scatter",
         "x": [],
         "y": []
        },
        {
         "error_x": {
          "array": [
           0.03234000000000001
          ],
          "color": "rgb(120,171,201)",
          "type": "data",
          "visible": true,
          "width": 0
         },
         "marker": {
          "color": "rgb(120,171,201)"
         },
         "orientation": "h",
         "showlegend": false,
         "type": "scatter",
         "x": [
          -0.2405
         ],
         "y": [
          "Arts & Humanities"
         ]
        },
        {
         "error_x": {
          "array": [],
          "color": "rgb(200,200,200)",
          "type": "data",
          "visible": true,
          "width": 0
         },
         "marker": {
          "color": "rgb(200,200,200)"
         },
         "orientation": "h",
         "showlegend": false,
         "type": "scatter",
         "x": [],
         "y": []
        },
        {
         "error_x": {
          "array": [],
          "color": "rgb(224,144,91)",
          "type": "data",
          "visible": true,
          "width": 0
         },
         "marker": {
          "color": "rgb(224,144,91)"
         },
         "orientation": "h",
         "showlegend": false,
         "type": "scatter",
         "x": [],
         "y": []
        }
       ],
       "layout": {
        "font": {
         "family": "Arial",
         "size": 12
        },
        "height": 250,
        "margin": {
         "b": 20,
         "l": 100,
         "r": 20,
         "t": 50
        },
        "shapes": [
         {
          "line": {
           "color": "black",
           "dash": "dash",
           "width": 1
          },
          "type": "line",
          "x0": 0,
          "x1": 0,
          "xref": "x",
          "y0": 0,
          "y1": 1,
          "yref": "y domain"
         }
        ],
        "template": {
         "data": {
          "bar": [
           {
            "error_x": {
             "color": "rgb(36,36,36)"
            },
            "error_y": {
             "color": "rgb(36,36,36)"
            },
            "marker": {
             "line": {
              "color": "white",
              "width": 0.5
             },
             "pattern": {
              "fillmode": "overlay",
              "size": 10,
              "solidity": 0.2
             }
            },
            "type": "bar"
           }
          ],
          "barpolar": [
           {
            "marker": {
             "line": {
              "color": "white",
              "width": 0.5
             },
             "pattern": {
              "fillmode": "overlay",
              "size": 10,
              "solidity": 0.2
             }
            },
            "type": "barpolar"
           }
          ],
          "carpet": [
           {
            "aaxis": {
             "endlinecolor": "rgb(36,36,36)",
             "gridcolor": "white",
             "linecolor": "white",
             "minorgridcolor": "white",
             "startlinecolor": "rgb(36,36,36)"
            },
            "baxis": {
             "endlinecolor": "rgb(36,36,36)",
             "gridcolor": "white",
             "linecolor": "white",
             "minorgridcolor": "white",
             "startlinecolor": "rgb(36,36,36)"
            },
            "type": "carpet"
           }
          ],
          "choropleth": [
           {
            "colorbar": {
             "outlinewidth": 1,
             "tickcolor": "rgb(36,36,36)",
             "ticks": "outside"
            },
            "type": "choropleth"
           }
          ],
          "contour": [
           {
            "colorbar": {
             "outlinewidth": 1,
             "tickcolor": "rgb(36,36,36)",
             "ticks": "outside"
            },
            "colorscale": [
             [
              0,
              "#440154"
             ],
             [
              0.1111111111111111,
              "#482878"
             ],
             [
              0.2222222222222222,
              "#3e4989"
             ],
             [
              0.3333333333333333,
              "#31688e"
             ],
             [
              0.4444444444444444,
              "#26828e"
             ],
             [
              0.5555555555555556,
              "#1f9e89"
             ],
             [
              0.6666666666666666,
              "#35b779"
             ],
             [
              0.7777777777777778,
              "#6ece58"
             ],
             [
              0.8888888888888888,
              "#b5de2b"
             ],
             [
              1,
              "#fde725"
             ]
            ],
            "type": "contour"
           }
          ],
          "contourcarpet": [
           {
            "colorbar": {
             "outlinewidth": 1,
             "tickcolor": "rgb(36,36,36)",
             "ticks": "outside"
            },
            "type": "contourcarpet"
           }
          ],
          "heatmap": [
           {
            "colorbar": {
             "outlinewidth": 1,
             "tickcolor": "rgb(36,36,36)",
             "ticks": "outside"
            },
            "colorscale": [
             [
              0,
              "#440154"
             ],
             [
              0.1111111111111111,
              "#482878"
             ],
             [
              0.2222222222222222,
              "#3e4989"
             ],
             [
              0.3333333333333333,
              "#31688e"
             ],
             [
              0.4444444444444444,
              "#26828e"
             ],
             [
              0.5555555555555556,
              "#1f9e89"
             ],
             [
              0.6666666666666666,
              "#35b779"
             ],
             [
              0.7777777777777778,
              "#6ece58"
             ],
             [
              0.8888888888888888,
              "#b5de2b"
             ],
             [
              1,
              "#fde725"
             ]
            ],
            "type": "heatmap"
           }
          ],
          "heatmapgl": [
           {
            "colorbar": {
             "outlinewidth": 1,
             "tickcolor": "rgb(36,36,36)",
             "ticks": "outside"
            },
            "colorscale": [
             [
              0,
              "#440154"
             ],
             [
              0.1111111111111111,
              "#482878"
             ],
             [
              0.2222222222222222,
              "#3e4989"
             ],
             [
              0.3333333333333333,
              "#31688e"
             ],
             [
              0.4444444444444444,
              "#26828e"
             ],
             [
              0.5555555555555556,
              "#1f9e89"
             ],
             [
              0.6666666666666666,
              "#35b779"
             ],
             [
              0.7777777777777778,
              "#6ece58"
             ],
             [
              0.8888888888888888,
              "#b5de2b"
             ],
             [
              1,
              "#fde725"
             ]
            ],
            "type": "heatmapgl"
           }
          ],
          "histogram": [
           {
            "marker": {
             "line": {
              "color": "white",
              "width": 0.6
             }
            },
            "type": "histogram"
           }
          ],
          "histogram2d": [
           {
            "colorbar": {
             "outlinewidth": 1,
             "tickcolor": "rgb(36,36,36)",
             "ticks": "outside"
            },
            "colorscale": [
             [
              0,
              "#440154"
             ],
             [
              0.1111111111111111,
              "#482878"
             ],
             [
              0.2222222222222222,
              "#3e4989"
             ],
             [
              0.3333333333333333,
              "#31688e"
             ],
             [
              0.4444444444444444,
              "#26828e"
             ],
             [
              0.5555555555555556,
              "#1f9e89"
             ],
             [
              0.6666666666666666,
              "#35b779"
             ],
             [
              0.7777777777777778,
              "#6ece58"
             ],
             [
              0.8888888888888888,
              "#b5de2b"
             ],
             [
              1,
              "#fde725"
             ]
            ],
            "type": "histogram2d"
           }
          ],
          "histogram2dcontour": [
           {
            "colorbar": {
             "outlinewidth": 1,
             "tickcolor": "rgb(36,36,36)",
             "ticks": "outside"
            },
            "colorscale": [
             [
              0,
              "#440154"
             ],
             [
              0.1111111111111111,
              "#482878"
             ],
             [
              0.2222222222222222,
              "#3e4989"
             ],
             [
              0.3333333333333333,
              "#31688e"
             ],
             [
              0.4444444444444444,
              "#26828e"
             ],
             [
              0.5555555555555556,
              "#1f9e89"
             ],
             [
              0.6666666666666666,
              "#35b779"
             ],
             [
              0.7777777777777778,
              "#6ece58"
             ],
             [
              0.8888888888888888,
              "#b5de2b"
             ],
             [
              1,
              "#fde725"
             ]
            ],
            "type": "histogram2dcontour"
           }
          ],
          "mesh3d": [
           {
            "colorbar": {
             "outlinewidth": 1,
             "tickcolor": "rgb(36,36,36)",
             "ticks": "outside"
            },
            "type": "mesh3d"
           }
          ],
          "parcoords": [
           {
            "line": {
             "colorbar": {
              "outlinewidth": 1,
              "tickcolor": "rgb(36,36,36)",
              "ticks": "outside"
             }
            },
            "type": "parcoords"
           }
          ],
          "pie": [
           {
            "automargin": true,
            "type": "pie"
           }
          ],
          "scatter": [
           {
            "fillpattern": {
             "fillmode": "overlay",
             "size": 10,
             "solidity": 0.2
            },
            "type": "scatter"
           }
          ],
          "scatter3d": [
           {
            "line": {
             "colorbar": {
              "outlinewidth": 1,
              "tickcolor": "rgb(36,36,36)",
              "ticks": "outside"
             }
            },
            "marker": {
             "colorbar": {
              "outlinewidth": 1,
              "tickcolor": "rgb(36,36,36)",
              "ticks": "outside"
             }
            },
            "type": "scatter3d"
           }
          ],
          "scattercarpet": [
           {
            "marker": {
             "colorbar": {
              "outlinewidth": 1,
              "tickcolor": "rgb(36,36,36)",
              "ticks": "outside"
             }
            },
            "type": "scattercarpet"
           }
          ],
          "scattergeo": [
           {
            "marker": {
             "colorbar": {
              "outlinewidth": 1,
              "tickcolor": "rgb(36,36,36)",
              "ticks": "outside"
             }
            },
            "type": "scattergeo"
           }
          ],
          "scattergl": [
           {
            "marker": {
             "colorbar": {
              "outlinewidth": 1,
              "tickcolor": "rgb(36,36,36)",
              "ticks": "outside"
             }
            },
            "type": "scattergl"
           }
          ],
          "scattermapbox": [
           {
            "marker": {
             "colorbar": {
              "outlinewidth": 1,
              "tickcolor": "rgb(36,36,36)",
              "ticks": "outside"
             }
            },
            "type": "scattermapbox"
           }
          ],
          "scatterpolar": [
           {
            "marker": {
             "colorbar": {
              "outlinewidth": 1,
              "tickcolor": "rgb(36,36,36)",
              "ticks": "outside"
             }
            },
            "type": "scatterpolar"
           }
          ],
          "scatterpolargl": [
           {
            "marker": {
             "colorbar": {
              "outlinewidth": 1,
              "tickcolor": "rgb(36,36,36)",
              "ticks": "outside"
             }
            },
            "type": "scatterpolargl"
           }
          ],
          "scatterternary": [
           {
            "marker": {
             "colorbar": {
              "outlinewidth": 1,
              "tickcolor": "rgb(36,36,36)",
              "ticks": "outside"
             }
            },
            "type": "scatterternary"
           }
          ],
          "surface": [
           {
            "colorbar": {
             "outlinewidth": 1,
             "tickcolor": "rgb(36,36,36)",
             "ticks": "outside"
            },
            "colorscale": [
             [
              0,
              "#440154"
             ],
             [
              0.1111111111111111,
              "#482878"
             ],
             [
              0.2222222222222222,
              "#3e4989"
             ],
             [
              0.3333333333333333,
              "#31688e"
             ],
             [
              0.4444444444444444,
              "#26828e"
             ],
             [
              0.5555555555555556,
              "#1f9e89"
             ],
             [
              0.6666666666666666,
              "#35b779"
             ],
             [
              0.7777777777777778,
              "#6ece58"
             ],
             [
              0.8888888888888888,
              "#b5de2b"
             ],
             [
              1,
              "#fde725"
             ]
            ],
            "type": "surface"
           }
          ],
          "table": [
           {
            "cells": {
             "fill": {
              "color": "rgb(237,237,237)"
             },
             "line": {
              "color": "white"
             }
            },
            "header": {
             "fill": {
              "color": "rgb(217,217,217)"
             },
             "line": {
              "color": "white"
             }
            },
            "type": "table"
           }
          ]
         },
         "layout": {
          "annotationdefaults": {
           "arrowhead": 0,
           "arrowwidth": 1
          },
          "autotypenumbers": "strict",
          "coloraxis": {
           "colorbar": {
            "outlinewidth": 1,
            "tickcolor": "rgb(36,36,36)",
            "ticks": "outside"
           }
          },
          "colorscale": {
           "diverging": [
            [
             0,
             "rgb(103,0,31)"
            ],
            [
             0.1,
             "rgb(178,24,43)"
            ],
            [
             0.2,
             "rgb(214,96,77)"
            ],
            [
             0.3,
             "rgb(244,165,130)"
            ],
            [
             0.4,
             "rgb(253,219,199)"
            ],
            [
             0.5,
             "rgb(247,247,247)"
            ],
            [
             0.6,
             "rgb(209,229,240)"
            ],
            [
             0.7,
             "rgb(146,197,222)"
            ],
            [
             0.8,
             "rgb(67,147,195)"
            ],
            [
             0.9,
             "rgb(33,102,172)"
            ],
            [
             1,
             "rgb(5,48,97)"
            ]
           ],
           "sequential": [
            [
             0,
             "#440154"
            ],
            [
             0.1111111111111111,
             "#482878"
            ],
            [
             0.2222222222222222,
             "#3e4989"
            ],
            [
             0.3333333333333333,
             "#31688e"
            ],
            [
             0.4444444444444444,
             "#26828e"
            ],
            [
             0.5555555555555556,
             "#1f9e89"
            ],
            [
             0.6666666666666666,
             "#35b779"
            ],
            [
             0.7777777777777778,
             "#6ece58"
            ],
            [
             0.8888888888888888,
             "#b5de2b"
            ],
            [
             1,
             "#fde725"
            ]
           ],
           "sequentialminus": [
            [
             0,
             "#440154"
            ],
            [
             0.1111111111111111,
             "#482878"
            ],
            [
             0.2222222222222222,
             "#3e4989"
            ],
            [
             0.3333333333333333,
             "#31688e"
            ],
            [
             0.4444444444444444,
             "#26828e"
            ],
            [
             0.5555555555555556,
             "#1f9e89"
            ],
            [
             0.6666666666666666,
             "#35b779"
            ],
            [
             0.7777777777777778,
             "#6ece58"
            ],
            [
             0.8888888888888888,
             "#b5de2b"
            ],
            [
             1,
             "#fde725"
            ]
           ]
          },
          "colorway": [
           "#1F77B4",
           "#FF7F0E",
           "#2CA02C",
           "#D62728",
           "#9467BD",
           "#8C564B",
           "#E377C2",
           "#7F7F7F",
           "#BCBD22",
           "#17BECF"
          ],
          "font": {
           "color": "rgb(36,36,36)"
          },
          "geo": {
           "bgcolor": "white",
           "lakecolor": "white",
           "landcolor": "white",
           "showlakes": true,
           "showland": true,
           "subunitcolor": "white"
          },
          "hoverlabel": {
           "align": "left"
          },
          "hovermode": "closest",
          "mapbox": {
           "style": "light"
          },
          "paper_bgcolor": "white",
          "plot_bgcolor": "white",
          "polar": {
           "angularaxis": {
            "gridcolor": "rgb(232,232,232)",
            "linecolor": "rgb(36,36,36)",
            "showgrid": false,
            "showline": true,
            "ticks": "outside"
           },
           "bgcolor": "white",
           "radialaxis": {
            "gridcolor": "rgb(232,232,232)",
            "linecolor": "rgb(36,36,36)",
            "showgrid": false,
            "showline": true,
            "ticks": "outside"
           }
          },
          "scene": {
           "xaxis": {
            "backgroundcolor": "white",
            "gridcolor": "rgb(232,232,232)",
            "gridwidth": 2,
            "linecolor": "rgb(36,36,36)",
            "showbackground": true,
            "showgrid": false,
            "showline": true,
            "ticks": "outside",
            "zeroline": false,
            "zerolinecolor": "rgb(36,36,36)"
           },
           "yaxis": {
            "backgroundcolor": "white",
            "gridcolor": "rgb(232,232,232)",
            "gridwidth": 2,
            "linecolor": "rgb(36,36,36)",
            "showbackground": true,
            "showgrid": false,
            "showline": true,
            "ticks": "outside",
            "zeroline": false,
            "zerolinecolor": "rgb(36,36,36)"
           },
           "zaxis": {
            "backgroundcolor": "white",
            "gridcolor": "rgb(232,232,232)",
            "gridwidth": 2,
            "linecolor": "rgb(36,36,36)",
            "showbackground": true,
            "showgrid": false,
            "showline": true,
            "ticks": "outside",
            "zeroline": false,
            "zerolinecolor": "rgb(36,36,36)"
           }
          },
          "shapedefaults": {
           "fillcolor": "black",
           "line": {
            "width": 0
           },
           "opacity": 0.3
          },
          "ternary": {
           "aaxis": {
            "gridcolor": "rgb(232,232,232)",
            "linecolor": "rgb(36,36,36)",
            "showgrid": false,
            "showline": true,
            "ticks": "outside"
           },
           "baxis": {
            "gridcolor": "rgb(232,232,232)",
            "linecolor": "rgb(36,36,36)",
            "showgrid": false,
            "showline": true,
            "ticks": "outside"
           },
           "bgcolor": "white",
           "caxis": {
            "gridcolor": "rgb(232,232,232)",
            "linecolor": "rgb(36,36,36)",
            "showgrid": false,
            "showline": true,
            "ticks": "outside"
           }
          },
          "title": {
           "x": 0.05
          },
          "xaxis": {
           "automargin": true,
           "gridcolor": "rgb(232,232,232)",
           "linecolor": "rgb(36,36,36)",
           "showgrid": false,
           "showline": true,
           "ticks": "outside",
           "title": {
            "standoff": 15
           },
           "zeroline": false,
           "zerolinecolor": "rgb(36,36,36)"
          },
          "yaxis": {
           "automargin": true,
           "gridcolor": "rgb(232,232,232)",
           "linecolor": "rgb(36,36,36)",
           "showgrid": false,
           "showline": true,
           "ticks": "outside",
           "title": {
            "standoff": 15
           },
           "zeroline": false,
           "zerolinecolor": "rgb(36,36,36)"
          }
         }
        },
        "width": 400,
        "xaxis": {
         "mirror": true,
         "title": {
          "text": "Difference in media citation<br>(women over men)"
         }
        },
        "yaxis": {
         "autorange": "reversed",
         "mirror": true
        }
       }
      }
     },
     "metadata": {},
     "output_type": "display_data"
    }
   ],
   "source": [
    "# Create a bar chart\n",
    "indicators = [-1, 0, 1]\n",
    "fig = go.Figure()\n",
    "\n",
    "for i, domain in enumerate(domains):\n",
    "    for j, indicator in enumerate(indicators):\n",
    "        t = df.query(\"domain == @domain and indicator == @indicator\")\n",
    "        fig.add_trace(\n",
    "            go.Scatter(\n",
    "                x=t[\"est\"],\n",
    "                y=t[\"domain\"],\n",
    "                error_x=dict(\n",
    "                    type=\"data\",\n",
    "                    array=t[\"ci_error\"],\n",
    "                    visible=True,\n",
    "                    color=indicator_colors[indicator],\n",
    "                    width=0,\n",
    "                ),\n",
    "                orientation=\"h\",\n",
    "                marker_color=indicator_colors[indicator],\n",
    "                showlegend=False,\n",
    "            )\n",
    "        )\n",
    "\n",
    "# Customize layout\n",
    "fig.update_layout(\n",
    "    template=\"simple_white\",\n",
    "    font=dict(size=12, family=\"Arial\"),\n",
    "    height=250,\n",
    "    width=400,\n",
    "    margin=dict(l=100, r=20, t=50, b=20),\n",
    ")\n",
    "\n",
    "fig.update_xaxes(title=\"Difference in media citation<br>(women over men)\", mirror=True)\n",
    "fig.update_yaxes(autorange=\"reversed\", mirror=True)\n",
    "\n",
    "# add reference line\n",
    "fig.add_vline(x=0, line_width=1, line_dash=\"dash\", line_color=\"black\")\n",
    "\n",
    "# Show the plot\n",
    "fig.show()\n",
    "fig.write_image(\"figures/raw_count_domain.svg\")"
   ]
  },
  {
   "cell_type": "markdown",
   "metadata": {},
   "source": [
    "## Fig 4: regression significance table for raw unique count analysis"
   ]
  },
  {
   "cell_type": "code",
   "execution_count": 53,
   "metadata": {},
   "outputs": [
    {
     "data": {
      "text/html": [
       "<div>\n",
       "<style scoped>\n",
       "    .dataframe tbody tr th:only-of-type {\n",
       "        vertical-align: middle;\n",
       "    }\n",
       "\n",
       "    .dataframe tbody tr th {\n",
       "        vertical-align: top;\n",
       "    }\n",
       "\n",
       "    .dataframe thead th {\n",
       "        text-align: right;\n",
       "    }\n",
       "</style>\n",
       "<table border=\"1\" class=\"dataframe\">\n",
       "  <thead>\n",
       "    <tr style=\"text-align: right;\">\n",
       "      <th></th>\n",
       "      <th>subdomain</th>\n",
       "      <th>est</th>\n",
       "      <th>error</th>\n",
       "      <th>pval</th>\n",
       "      <th>upper</th>\n",
       "      <th>ci_error</th>\n",
       "      <th>indicator</th>\n",
       "    </tr>\n",
       "  </thead>\n",
       "  <tbody>\n",
       "    <tr>\n",
       "      <th>1</th>\n",
       "      <td>Biology</td>\n",
       "      <td>-0.066300</td>\n",
       "      <td>0.008100</td>\n",
       "      <td>***</td>\n",
       "      <td>-0.050424</td>\n",
       "      <td>0.015876</td>\n",
       "      <td>-1</td>\n",
       "    </tr>\n",
       "    <tr>\n",
       "      <th>4</th>\n",
       "      <td>Chemistry</td>\n",
       "      <td>-0.075500</td>\n",
       "      <td>0.021800</td>\n",
       "      <td>***</td>\n",
       "      <td>-0.032772</td>\n",
       "      <td>0.042728</td>\n",
       "      <td>-1</td>\n",
       "    </tr>\n",
       "    <tr>\n",
       "      <th>7</th>\n",
       "      <td>Earth &amp; Env Sciences</td>\n",
       "      <td>-0.172700</td>\n",
       "      <td>0.008000</td>\n",
       "      <td>***</td>\n",
       "      <td>-0.157020</td>\n",
       "      <td>0.015680</td>\n",
       "      <td>-1</td>\n",
       "    </tr>\n",
       "    <tr>\n",
       "      <th>13</th>\n",
       "      <td>Math &amp; Stat</td>\n",
       "      <td>0.366700</td>\n",
       "      <td>0.235400</td>\n",
       "      <td>NaN</td>\n",
       "      <td>0.828084</td>\n",
       "      <td>0.461384</td>\n",
       "      <td>0</td>\n",
       "    </tr>\n",
       "    <tr>\n",
       "      <th>15</th>\n",
       "      <td>Physics &amp; Astronomy</td>\n",
       "      <td>-0.187800</td>\n",
       "      <td>0.011650</td>\n",
       "      <td>***</td>\n",
       "      <td>-0.164966</td>\n",
       "      <td>0.022834</td>\n",
       "      <td>-1</td>\n",
       "    </tr>\n",
       "    <tr>\n",
       "      <th>0</th>\n",
       "      <td>Agri, Fish &amp; Forestry</td>\n",
       "      <td>0.156600</td>\n",
       "      <td>0.017100</td>\n",
       "      <td>***</td>\n",
       "      <td>0.190116</td>\n",
       "      <td>0.033516</td>\n",
       "      <td>1</td>\n",
       "    </tr>\n",
       "    <tr>\n",
       "      <th>3</th>\n",
       "      <td>Built Env &amp; Design</td>\n",
       "      <td>-0.128870</td>\n",
       "      <td>0.054400</td>\n",
       "      <td>*</td>\n",
       "      <td>-0.022246</td>\n",
       "      <td>0.106624</td>\n",
       "      <td>-1</td>\n",
       "    </tr>\n",
       "    <tr>\n",
       "      <th>9</th>\n",
       "      <td>Enab &amp; Strategic Tech</td>\n",
       "      <td>-0.017020</td>\n",
       "      <td>0.011600</td>\n",
       "      <td>NaN</td>\n",
       "      <td>0.005716</td>\n",
       "      <td>0.022736</td>\n",
       "      <td>0</td>\n",
       "    </tr>\n",
       "    <tr>\n",
       "      <th>10</th>\n",
       "      <td>Engineering</td>\n",
       "      <td>-0.133000</td>\n",
       "      <td>0.019200</td>\n",
       "      <td>***</td>\n",
       "      <td>-0.095368</td>\n",
       "      <td>0.037632</td>\n",
       "      <td>-1</td>\n",
       "    </tr>\n",
       "    <tr>\n",
       "      <th>12</th>\n",
       "      <td>Info &amp; Com Tech</td>\n",
       "      <td>-0.239200</td>\n",
       "      <td>0.025600</td>\n",
       "      <td>***</td>\n",
       "      <td>-0.189024</td>\n",
       "      <td>0.050176</td>\n",
       "      <td>-1</td>\n",
       "    </tr>\n",
       "    <tr>\n",
       "      <th>2</th>\n",
       "      <td>Biomedical Research</td>\n",
       "      <td>-0.016000</td>\n",
       "      <td>0.005600</td>\n",
       "      <td>**</td>\n",
       "      <td>-0.005024</td>\n",
       "      <td>0.010976</td>\n",
       "      <td>-1</td>\n",
       "    </tr>\n",
       "    <tr>\n",
       "      <th>5</th>\n",
       "      <td>Clinical Medicine</td>\n",
       "      <td>-0.052200</td>\n",
       "      <td>0.003070</td>\n",
       "      <td>***</td>\n",
       "      <td>-0.046183</td>\n",
       "      <td>0.006017</td>\n",
       "      <td>-1</td>\n",
       "    </tr>\n",
       "    <tr>\n",
       "      <th>16</th>\n",
       "      <td>Psych &amp; Cog Sciences</td>\n",
       "      <td>0.022300</td>\n",
       "      <td>0.009226</td>\n",
       "      <td>*</td>\n",
       "      <td>0.040383</td>\n",
       "      <td>0.018083</td>\n",
       "      <td>1</td>\n",
       "    </tr>\n",
       "    <tr>\n",
       "      <th>17</th>\n",
       "      <td>Public Health &amp; Services</td>\n",
       "      <td>-0.116713</td>\n",
       "      <td>0.006872</td>\n",
       "      <td>***</td>\n",
       "      <td>-0.103244</td>\n",
       "      <td>0.013469</td>\n",
       "      <td>-1</td>\n",
       "    </tr>\n",
       "    <tr>\n",
       "      <th>8</th>\n",
       "      <td>Econ &amp; Business</td>\n",
       "      <td>-0.131890</td>\n",
       "      <td>0.018000</td>\n",
       "      <td>***</td>\n",
       "      <td>-0.096610</td>\n",
       "      <td>0.035280</td>\n",
       "      <td>-1</td>\n",
       "    </tr>\n",
       "    <tr>\n",
       "      <th>18</th>\n",
       "      <td>Social Sciences</td>\n",
       "      <td>-0.079900</td>\n",
       "      <td>0.012240</td>\n",
       "      <td>***</td>\n",
       "      <td>-0.055910</td>\n",
       "      <td>0.023990</td>\n",
       "      <td>-1</td>\n",
       "    </tr>\n",
       "    <tr>\n",
       "      <th>6</th>\n",
       "      <td>Com &amp; Text Studies</td>\n",
       "      <td>-0.235800</td>\n",
       "      <td>0.032050</td>\n",
       "      <td>***</td>\n",
       "      <td>-0.172982</td>\n",
       "      <td>0.062818</td>\n",
       "      <td>-1</td>\n",
       "    </tr>\n",
       "    <tr>\n",
       "      <th>11</th>\n",
       "      <td>Historical Studies</td>\n",
       "      <td>-0.056600</td>\n",
       "      <td>0.027700</td>\n",
       "      <td>*</td>\n",
       "      <td>-0.002308</td>\n",
       "      <td>0.054292</td>\n",
       "      <td>-1</td>\n",
       "    </tr>\n",
       "    <tr>\n",
       "      <th>14</th>\n",
       "      <td>Phil &amp; Theo</td>\n",
       "      <td>-0.006860</td>\n",
       "      <td>0.089800</td>\n",
       "      <td>NaN</td>\n",
       "      <td>0.169148</td>\n",
       "      <td>0.176008</td>\n",
       "      <td>0</td>\n",
       "    </tr>\n",
       "  </tbody>\n",
       "</table>\n",
       "</div>"
      ],
      "text/plain": [
       "                   subdomain       est     error pval     upper  ci_error  \\\n",
       "1                    Biology -0.066300  0.008100  *** -0.050424  0.015876   \n",
       "4                  Chemistry -0.075500  0.021800  *** -0.032772  0.042728   \n",
       "7       Earth & Env Sciences -0.172700  0.008000  *** -0.157020  0.015680   \n",
       "13               Math & Stat  0.366700  0.235400  NaN  0.828084  0.461384   \n",
       "15       Physics & Astronomy -0.187800  0.011650  *** -0.164966  0.022834   \n",
       "0      Agri, Fish & Forestry  0.156600  0.017100  ***  0.190116  0.033516   \n",
       "3         Built Env & Design -0.128870  0.054400    * -0.022246  0.106624   \n",
       "9      Enab & Strategic Tech -0.017020  0.011600  NaN  0.005716  0.022736   \n",
       "10               Engineering -0.133000  0.019200  *** -0.095368  0.037632   \n",
       "12           Info & Com Tech -0.239200  0.025600  *** -0.189024  0.050176   \n",
       "2        Biomedical Research -0.016000  0.005600   ** -0.005024  0.010976   \n",
       "5          Clinical Medicine -0.052200  0.003070  *** -0.046183  0.006017   \n",
       "16      Psych & Cog Sciences  0.022300  0.009226    *  0.040383  0.018083   \n",
       "17  Public Health & Services -0.116713  0.006872  *** -0.103244  0.013469   \n",
       "8            Econ & Business -0.131890  0.018000  *** -0.096610  0.035280   \n",
       "18           Social Sciences -0.079900  0.012240  *** -0.055910  0.023990   \n",
       "6         Com & Text Studies -0.235800  0.032050  *** -0.172982  0.062818   \n",
       "11        Historical Studies -0.056600  0.027700    * -0.002308  0.054292   \n",
       "14               Phil & Theo -0.006860  0.089800  NaN  0.169148  0.176008   \n",
       "\n",
       "    indicator  \n",
       "1          -1  \n",
       "4          -1  \n",
       "7          -1  \n",
       "13          0  \n",
       "15         -1  \n",
       "0           1  \n",
       "3          -1  \n",
       "9           0  \n",
       "10         -1  \n",
       "12         -1  \n",
       "2          -1  \n",
       "5          -1  \n",
       "16          1  \n",
       "17         -1  \n",
       "8          -1  \n",
       "18         -1  \n",
       "6          -1  \n",
       "11         -1  \n",
       "14          0  "
      ]
     },
     "execution_count": 53,
     "metadata": {},
     "output_type": "execute_result"
    }
   ],
   "source": [
    "df = pd.read_excel(\"raw count.xlsx\", sheet_name=\"subdomain\")\n",
    "df[\"upper\"] = df.apply(lambda x: get_ci(x[\"est\"], x[\"error\"], isExp=False)[1], axis=1)\n",
    "df[\"ci_error\"] = df[\"upper\"] - df[\"est\"]\n",
    "df[\"indicator\"] = df.apply(\n",
    "    lambda x: get_indicator(x[\"est\"], x[\"pval\"], thresh=0), axis=1\n",
    ")\n",
    "# reordering\n",
    "df[\"subdomain\"] = pd.Categorical(df[\"subdomain\"], subdomains)\n",
    "df = df.sort_values(\"subdomain\")\n",
    "df"
   ]
  },
  {
   "cell_type": "code",
   "execution_count": 54,
   "metadata": {},
   "outputs": [
    {
     "data": {
      "application/vnd.plotly.v1+json": {
       "config": {
        "plotlyServerURL": "https://plot.ly"
       },
       "data": [
        {
         "error_x": {
          "array": [
           0.015876
          ],
          "color": "rgb(120,171,201)",
          "type": "data",
          "visible": true,
          "width": 0
         },
         "marker": {
          "color": "rgb(120,171,201)"
         },
         "orientation": "h",
         "showlegend": false,
         "type": "scatter",
         "x": [
          -0.0663
         ],
         "y": [
          "Biology"
         ]
        },
        {
         "error_x": {
          "array": [],
          "color": "rgb(200,200,200)",
          "type": "data",
          "visible": true,
          "width": 0
         },
         "marker": {
          "color": "rgb(200,200,200)"
         },
         "orientation": "h",
         "showlegend": false,
         "type": "scatter",
         "x": [],
         "y": []
        },
        {
         "error_x": {
          "array": [],
          "color": "rgb(224,144,91)",
          "type": "data",
          "visible": true,
          "width": 0
         },
         "marker": {
          "color": "rgb(224,144,91)"
         },
         "orientation": "h",
         "showlegend": false,
         "type": "scatter",
         "x": [],
         "y": []
        },
        {
         "error_x": {
          "array": [
           0.042728
          ],
          "color": "rgb(120,171,201)",
          "type": "data",
          "visible": true,
          "width": 0
         },
         "marker": {
          "color": "rgb(120,171,201)"
         },
         "orientation": "h",
         "showlegend": false,
         "type": "scatter",
         "x": [
          -0.0755
         ],
         "y": [
          "Chemistry"
         ]
        },
        {
         "error_x": {
          "array": [],
          "color": "rgb(200,200,200)",
          "type": "data",
          "visible": true,
          "width": 0
         },
         "marker": {
          "color": "rgb(200,200,200)"
         },
         "orientation": "h",
         "showlegend": false,
         "type": "scatter",
         "x": [],
         "y": []
        },
        {
         "error_x": {
          "array": [],
          "color": "rgb(224,144,91)",
          "type": "data",
          "visible": true,
          "width": 0
         },
         "marker": {
          "color": "rgb(224,144,91)"
         },
         "orientation": "h",
         "showlegend": false,
         "type": "scatter",
         "x": [],
         "y": []
        },
        {
         "error_x": {
          "array": [
           0.01568
          ],
          "color": "rgb(120,171,201)",
          "type": "data",
          "visible": true,
          "width": 0
         },
         "marker": {
          "color": "rgb(120,171,201)"
         },
         "orientation": "h",
         "showlegend": false,
         "type": "scatter",
         "x": [
          -0.1727
         ],
         "y": [
          "Earth & Env Sciences"
         ]
        },
        {
         "error_x": {
          "array": [],
          "color": "rgb(200,200,200)",
          "type": "data",
          "visible": true,
          "width": 0
         },
         "marker": {
          "color": "rgb(200,200,200)"
         },
         "orientation": "h",
         "showlegend": false,
         "type": "scatter",
         "x": [],
         "y": []
        },
        {
         "error_x": {
          "array": [],
          "color": "rgb(224,144,91)",
          "type": "data",
          "visible": true,
          "width": 0
         },
         "marker": {
          "color": "rgb(224,144,91)"
         },
         "orientation": "h",
         "showlegend": false,
         "type": "scatter",
         "x": [],
         "y": []
        },
        {
         "error_x": {
          "array": [],
          "color": "rgb(120,171,201)",
          "type": "data",
          "visible": true,
          "width": 0
         },
         "marker": {
          "color": "rgb(120,171,201)"
         },
         "orientation": "h",
         "showlegend": false,
         "type": "scatter",
         "x": [],
         "y": []
        },
        {
         "error_x": {
          "array": [
           0.461384
          ],
          "color": "rgb(200,200,200)",
          "type": "data",
          "visible": true,
          "width": 0
         },
         "marker": {
          "color": "rgb(200,200,200)"
         },
         "orientation": "h",
         "showlegend": false,
         "type": "scatter",
         "x": [
          0.3667
         ],
         "y": [
          "Math & Stat"
         ]
        },
        {
         "error_x": {
          "array": [],
          "color": "rgb(224,144,91)",
          "type": "data",
          "visible": true,
          "width": 0
         },
         "marker": {
          "color": "rgb(224,144,91)"
         },
         "orientation": "h",
         "showlegend": false,
         "type": "scatter",
         "x": [],
         "y": []
        },
        {
         "error_x": {
          "array": [
           0.022833999999999993
          ],
          "color": "rgb(120,171,201)",
          "type": "data",
          "visible": true,
          "width": 0
         },
         "marker": {
          "color": "rgb(120,171,201)"
         },
         "orientation": "h",
         "showlegend": false,
         "type": "scatter",
         "x": [
          -0.1878
         ],
         "y": [
          "Physics & Astronomy"
         ]
        },
        {
         "error_x": {
          "array": [],
          "color": "rgb(200,200,200)",
          "type": "data",
          "visible": true,
          "width": 0
         },
         "marker": {
          "color": "rgb(200,200,200)"
         },
         "orientation": "h",
         "showlegend": false,
         "type": "scatter",
         "x": [],
         "y": []
        },
        {
         "error_x": {
          "array": [],
          "color": "rgb(224,144,91)",
          "type": "data",
          "visible": true,
          "width": 0
         },
         "marker": {
          "color": "rgb(224,144,91)"
         },
         "orientation": "h",
         "showlegend": false,
         "type": "scatter",
         "x": [],
         "y": []
        },
        {
         "error_x": {
          "array": [],
          "color": "rgb(120,171,201)",
          "type": "data",
          "visible": true,
          "width": 0
         },
         "marker": {
          "color": "rgb(120,171,201)"
         },
         "orientation": "h",
         "showlegend": false,
         "type": "scatter",
         "x": [],
         "y": []
        },
        {
         "error_x": {
          "array": [],
          "color": "rgb(200,200,200)",
          "type": "data",
          "visible": true,
          "width": 0
         },
         "marker": {
          "color": "rgb(200,200,200)"
         },
         "orientation": "h",
         "showlegend": false,
         "type": "scatter",
         "x": [],
         "y": []
        },
        {
         "error_x": {
          "array": [
           0.03351599999999999
          ],
          "color": "rgb(224,144,91)",
          "type": "data",
          "visible": true,
          "width": 0
         },
         "marker": {
          "color": "rgb(224,144,91)"
         },
         "orientation": "h",
         "showlegend": false,
         "type": "scatter",
         "x": [
          0.1566
         ],
         "y": [
          "Agri, Fish & Forestry"
         ]
        },
        {
         "error_x": {
          "array": [
           0.106624
          ],
          "color": "rgb(120,171,201)",
          "type": "data",
          "visible": true,
          "width": 0
         },
         "marker": {
          "color": "rgb(120,171,201)"
         },
         "orientation": "h",
         "showlegend": false,
         "type": "scatter",
         "x": [
          -0.12887
         ],
         "y": [
          "Built Env & Design"
         ]
        },
        {
         "error_x": {
          "array": [],
          "color": "rgb(200,200,200)",
          "type": "data",
          "visible": true,
          "width": 0
         },
         "marker": {
          "color": "rgb(200,200,200)"
         },
         "orientation": "h",
         "showlegend": false,
         "type": "scatter",
         "x": [],
         "y": []
        },
        {
         "error_x": {
          "array": [],
          "color": "rgb(224,144,91)",
          "type": "data",
          "visible": true,
          "width": 0
         },
         "marker": {
          "color": "rgb(224,144,91)"
         },
         "orientation": "h",
         "showlegend": false,
         "type": "scatter",
         "x": [],
         "y": []
        },
        {
         "error_x": {
          "array": [],
          "color": "rgb(120,171,201)",
          "type": "data",
          "visible": true,
          "width": 0
         },
         "marker": {
          "color": "rgb(120,171,201)"
         },
         "orientation": "h",
         "showlegend": false,
         "type": "scatter",
         "x": [],
         "y": []
        },
        {
         "error_x": {
          "array": [
           0.022736
          ],
          "color": "rgb(200,200,200)",
          "type": "data",
          "visible": true,
          "width": 0
         },
         "marker": {
          "color": "rgb(200,200,200)"
         },
         "orientation": "h",
         "showlegend": false,
         "type": "scatter",
         "x": [
          -0.01702
         ],
         "y": [
          "Enab & Strategic Tech"
         ]
        },
        {
         "error_x": {
          "array": [],
          "color": "rgb(224,144,91)",
          "type": "data",
          "visible": true,
          "width": 0
         },
         "marker": {
          "color": "rgb(224,144,91)"
         },
         "orientation": "h",
         "showlegend": false,
         "type": "scatter",
         "x": [],
         "y": []
        },
        {
         "error_x": {
          "array": [
           0.037632
          ],
          "color": "rgb(120,171,201)",
          "type": "data",
          "visible": true,
          "width": 0
         },
         "marker": {
          "color": "rgb(120,171,201)"
         },
         "orientation": "h",
         "showlegend": false,
         "type": "scatter",
         "x": [
          -0.133
         ],
         "y": [
          "Engineering"
         ]
        },
        {
         "error_x": {
          "array": [],
          "color": "rgb(200,200,200)",
          "type": "data",
          "visible": true,
          "width": 0
         },
         "marker": {
          "color": "rgb(200,200,200)"
         },
         "orientation": "h",
         "showlegend": false,
         "type": "scatter",
         "x": [],
         "y": []
        },
        {
         "error_x": {
          "array": [],
          "color": "rgb(224,144,91)",
          "type": "data",
          "visible": true,
          "width": 0
         },
         "marker": {
          "color": "rgb(224,144,91)"
         },
         "orientation": "h",
         "showlegend": false,
         "type": "scatter",
         "x": [],
         "y": []
        },
        {
         "error_x": {
          "array": [
           0.050176
          ],
          "color": "rgb(120,171,201)",
          "type": "data",
          "visible": true,
          "width": 0
         },
         "marker": {
          "color": "rgb(120,171,201)"
         },
         "orientation": "h",
         "showlegend": false,
         "type": "scatter",
         "x": [
          -0.2392
         ],
         "y": [
          "Info & Com Tech"
         ]
        },
        {
         "error_x": {
          "array": [],
          "color": "rgb(200,200,200)",
          "type": "data",
          "visible": true,
          "width": 0
         },
         "marker": {
          "color": "rgb(200,200,200)"
         },
         "orientation": "h",
         "showlegend": false,
         "type": "scatter",
         "x": [],
         "y": []
        },
        {
         "error_x": {
          "array": [],
          "color": "rgb(224,144,91)",
          "type": "data",
          "visible": true,
          "width": 0
         },
         "marker": {
          "color": "rgb(224,144,91)"
         },
         "orientation": "h",
         "showlegend": false,
         "type": "scatter",
         "x": [],
         "y": []
        },
        {
         "error_x": {
          "array": [
           0.010976
          ],
          "color": "rgb(120,171,201)",
          "type": "data",
          "visible": true,
          "width": 0
         },
         "marker": {
          "color": "rgb(120,171,201)"
         },
         "orientation": "h",
         "showlegend": false,
         "type": "scatter",
         "x": [
          -0.016
         ],
         "y": [
          "Biomedical Research"
         ]
        },
        {
         "error_x": {
          "array": [],
          "color": "rgb(200,200,200)",
          "type": "data",
          "visible": true,
          "width": 0
         },
         "marker": {
          "color": "rgb(200,200,200)"
         },
         "orientation": "h",
         "showlegend": false,
         "type": "scatter",
         "x": [],
         "y": []
        },
        {
         "error_x": {
          "array": [],
          "color": "rgb(224,144,91)",
          "type": "data",
          "visible": true,
          "width": 0
         },
         "marker": {
          "color": "rgb(224,144,91)"
         },
         "orientation": "h",
         "showlegend": false,
         "type": "scatter",
         "x": [],
         "y": []
        },
        {
         "error_x": {
          "array": [
           0.0060172
          ],
          "color": "rgb(120,171,201)",
          "type": "data",
          "visible": true,
          "width": 0
         },
         "marker": {
          "color": "rgb(120,171,201)"
         },
         "orientation": "h",
         "showlegend": false,
         "type": "scatter",
         "x": [
          -0.0522
         ],
         "y": [
          "Clinical Medicine"
         ]
        },
        {
         "error_x": {
          "array": [],
          "color": "rgb(200,200,200)",
          "type": "data",
          "visible": true,
          "width": 0
         },
         "marker": {
          "color": "rgb(200,200,200)"
         },
         "orientation": "h",
         "showlegend": false,
         "type": "scatter",
         "x": [],
         "y": []
        },
        {
         "error_x": {
          "array": [],
          "color": "rgb(224,144,91)",
          "type": "data",
          "visible": true,
          "width": 0
         },
         "marker": {
          "color": "rgb(224,144,91)"
         },
         "orientation": "h",
         "showlegend": false,
         "type": "scatter",
         "x": [],
         "y": []
        },
        {
         "error_x": {
          "array": [],
          "color": "rgb(120,171,201)",
          "type": "data",
          "visible": true,
          "width": 0
         },
         "marker": {
          "color": "rgb(120,171,201)"
         },
         "orientation": "h",
         "showlegend": false,
         "type": "scatter",
         "x": [],
         "y": []
        },
        {
         "error_x": {
          "array": [],
          "color": "rgb(200,200,200)",
          "type": "data",
          "visible": true,
          "width": 0
         },
         "marker": {
          "color": "rgb(200,200,200)"
         },
         "orientation": "h",
         "showlegend": false,
         "type": "scatter",
         "x": [],
         "y": []
        },
        {
         "error_x": {
          "array": [
           0.018082959999999995
          ],
          "color": "rgb(224,144,91)",
          "type": "data",
          "visible": true,
          "width": 0
         },
         "marker": {
          "color": "rgb(224,144,91)"
         },
         "orientation": "h",
         "showlegend": false,
         "type": "scatter",
         "x": [
          0.0223
         ],
         "y": [
          "Psych & Cog Sciences"
         ]
        },
        {
         "error_x": {
          "array": [
           0.013469120000000001
          ],
          "color": "rgb(120,171,201)",
          "type": "data",
          "visible": true,
          "width": 0
         },
         "marker": {
          "color": "rgb(120,171,201)"
         },
         "orientation": "h",
         "showlegend": false,
         "type": "scatter",
         "x": [
          -0.116713
         ],
         "y": [
          "Public Health & Services"
         ]
        },
        {
         "error_x": {
          "array": [],
          "color": "rgb(200,200,200)",
          "type": "data",
          "visible": true,
          "width": 0
         },
         "marker": {
          "color": "rgb(200,200,200)"
         },
         "orientation": "h",
         "showlegend": false,
         "type": "scatter",
         "x": [],
         "y": []
        },
        {
         "error_x": {
          "array": [],
          "color": "rgb(224,144,91)",
          "type": "data",
          "visible": true,
          "width": 0
         },
         "marker": {
          "color": "rgb(224,144,91)"
         },
         "orientation": "h",
         "showlegend": false,
         "type": "scatter",
         "x": [],
         "y": []
        },
        {
         "error_x": {
          "array": [
           0.035280000000000006
          ],
          "color": "rgb(120,171,201)",
          "type": "data",
          "visible": true,
          "width": 0
         },
         "marker": {
          "color": "rgb(120,171,201)"
         },
         "orientation": "h",
         "showlegend": false,
         "type": "scatter",
         "x": [
          -0.13189
         ],
         "y": [
          "Econ & Business"
         ]
        },
        {
         "error_x": {
          "array": [],
          "color": "rgb(200,200,200)",
          "type": "data",
          "visible": true,
          "width": 0
         },
         "marker": {
          "color": "rgb(200,200,200)"
         },
         "orientation": "h",
         "showlegend": false,
         "type": "scatter",
         "x": [],
         "y": []
        },
        {
         "error_x": {
          "array": [],
          "color": "rgb(224,144,91)",
          "type": "data",
          "visible": true,
          "width": 0
         },
         "marker": {
          "color": "rgb(224,144,91)"
         },
         "orientation": "h",
         "showlegend": false,
         "type": "scatter",
         "x": [],
         "y": []
        },
        {
         "error_x": {
          "array": [
           0.023990399999999995
          ],
          "color": "rgb(120,171,201)",
          "type": "data",
          "visible": true,
          "width": 0
         },
         "marker": {
          "color": "rgb(120,171,201)"
         },
         "orientation": "h",
         "showlegend": false,
         "type": "scatter",
         "x": [
          -0.0799
         ],
         "y": [
          "Social Sciences"
         ]
        },
        {
         "error_x": {
          "array": [],
          "color": "rgb(200,200,200)",
          "type": "data",
          "visible": true,
          "width": 0
         },
         "marker": {
          "color": "rgb(200,200,200)"
         },
         "orientation": "h",
         "showlegend": false,
         "type": "scatter",
         "x": [],
         "y": []
        },
        {
         "error_x": {
          "array": [],
          "color": "rgb(224,144,91)",
          "type": "data",
          "visible": true,
          "width": 0
         },
         "marker": {
          "color": "rgb(224,144,91)"
         },
         "orientation": "h",
         "showlegend": false,
         "type": "scatter",
         "x": [],
         "y": []
        },
        {
         "error_x": {
          "array": [
           0.06281799999999998
          ],
          "color": "rgb(120,171,201)",
          "type": "data",
          "visible": true,
          "width": 0
         },
         "marker": {
          "color": "rgb(120,171,201)"
         },
         "orientation": "h",
         "showlegend": false,
         "type": "scatter",
         "x": [
          -0.2358
         ],
         "y": [
          "Com & Text Studies"
         ]
        },
        {
         "error_x": {
          "array": [],
          "color": "rgb(200,200,200)",
          "type": "data",
          "visible": true,
          "width": 0
         },
         "marker": {
          "color": "rgb(200,200,200)"
         },
         "orientation": "h",
         "showlegend": false,
         "type": "scatter",
         "x": [],
         "y": []
        },
        {
         "error_x": {
          "array": [],
          "color": "rgb(224,144,91)",
          "type": "data",
          "visible": true,
          "width": 0
         },
         "marker": {
          "color": "rgb(224,144,91)"
         },
         "orientation": "h",
         "showlegend": false,
         "type": "scatter",
         "x": [],
         "y": []
        },
        {
         "error_x": {
          "array": [
           0.054292
          ],
          "color": "rgb(120,171,201)",
          "type": "data",
          "visible": true,
          "width": 0
         },
         "marker": {
          "color": "rgb(120,171,201)"
         },
         "orientation": "h",
         "showlegend": false,
         "type": "scatter",
         "x": [
          -0.0566
         ],
         "y": [
          "Historical Studies"
         ]
        },
        {
         "error_x": {
          "array": [],
          "color": "rgb(200,200,200)",
          "type": "data",
          "visible": true,
          "width": 0
         },
         "marker": {
          "color": "rgb(200,200,200)"
         },
         "orientation": "h",
         "showlegend": false,
         "type": "scatter",
         "x": [],
         "y": []
        },
        {
         "error_x": {
          "array": [],
          "color": "rgb(224,144,91)",
          "type": "data",
          "visible": true,
          "width": 0
         },
         "marker": {
          "color": "rgb(224,144,91)"
         },
         "orientation": "h",
         "showlegend": false,
         "type": "scatter",
         "x": [],
         "y": []
        },
        {
         "error_x": {
          "array": [],
          "color": "rgb(120,171,201)",
          "type": "data",
          "visible": true,
          "width": 0
         },
         "marker": {
          "color": "rgb(120,171,201)"
         },
         "orientation": "h",
         "showlegend": false,
         "type": "scatter",
         "x": [],
         "y": []
        },
        {
         "error_x": {
          "array": [
           0.176008
          ],
          "color": "rgb(200,200,200)",
          "type": "data",
          "visible": true,
          "width": 0
         },
         "marker": {
          "color": "rgb(200,200,200)"
         },
         "orientation": "h",
         "showlegend": false,
         "type": "scatter",
         "x": [
          -0.00686
         ],
         "y": [
          "Phil & Theo"
         ]
        },
        {
         "error_x": {
          "array": [],
          "color": "rgb(224,144,91)",
          "type": "data",
          "visible": true,
          "width": 0
         },
         "marker": {
          "color": "rgb(224,144,91)"
         },
         "orientation": "h",
         "showlegend": false,
         "type": "scatter",
         "x": [],
         "y": []
        }
       ],
       "layout": {
        "font": {
         "family": "Arial",
         "size": 12
        },
        "height": 500,
        "margin": {
         "b": 20,
         "l": 100,
         "r": 20,
         "t": 50
        },
        "shapes": [
         {
          "line": {
           "color": "black",
           "dash": "dash",
           "width": 1
          },
          "type": "line",
          "x0": 0,
          "x1": 0,
          "xref": "x",
          "y0": 0,
          "y1": 1,
          "yref": "y domain"
         }
        ],
        "template": {
         "data": {
          "bar": [
           {
            "error_x": {
             "color": "rgb(36,36,36)"
            },
            "error_y": {
             "color": "rgb(36,36,36)"
            },
            "marker": {
             "line": {
              "color": "white",
              "width": 0.5
             },
             "pattern": {
              "fillmode": "overlay",
              "size": 10,
              "solidity": 0.2
             }
            },
            "type": "bar"
           }
          ],
          "barpolar": [
           {
            "marker": {
             "line": {
              "color": "white",
              "width": 0.5
             },
             "pattern": {
              "fillmode": "overlay",
              "size": 10,
              "solidity": 0.2
             }
            },
            "type": "barpolar"
           }
          ],
          "carpet": [
           {
            "aaxis": {
             "endlinecolor": "rgb(36,36,36)",
             "gridcolor": "white",
             "linecolor": "white",
             "minorgridcolor": "white",
             "startlinecolor": "rgb(36,36,36)"
            },
            "baxis": {
             "endlinecolor": "rgb(36,36,36)",
             "gridcolor": "white",
             "linecolor": "white",
             "minorgridcolor": "white",
             "startlinecolor": "rgb(36,36,36)"
            },
            "type": "carpet"
           }
          ],
          "choropleth": [
           {
            "colorbar": {
             "outlinewidth": 1,
             "tickcolor": "rgb(36,36,36)",
             "ticks": "outside"
            },
            "type": "choropleth"
           }
          ],
          "contour": [
           {
            "colorbar": {
             "outlinewidth": 1,
             "tickcolor": "rgb(36,36,36)",
             "ticks": "outside"
            },
            "colorscale": [
             [
              0,
              "#440154"
             ],
             [
              0.1111111111111111,
              "#482878"
             ],
             [
              0.2222222222222222,
              "#3e4989"
             ],
             [
              0.3333333333333333,
              "#31688e"
             ],
             [
              0.4444444444444444,
              "#26828e"
             ],
             [
              0.5555555555555556,
              "#1f9e89"
             ],
             [
              0.6666666666666666,
              "#35b779"
             ],
             [
              0.7777777777777778,
              "#6ece58"
             ],
             [
              0.8888888888888888,
              "#b5de2b"
             ],
             [
              1,
              "#fde725"
             ]
            ],
            "type": "contour"
           }
          ],
          "contourcarpet": [
           {
            "colorbar": {
             "outlinewidth": 1,
             "tickcolor": "rgb(36,36,36)",
             "ticks": "outside"
            },
            "type": "contourcarpet"
           }
          ],
          "heatmap": [
           {
            "colorbar": {
             "outlinewidth": 1,
             "tickcolor": "rgb(36,36,36)",
             "ticks": "outside"
            },
            "colorscale": [
             [
              0,
              "#440154"
             ],
             [
              0.1111111111111111,
              "#482878"
             ],
             [
              0.2222222222222222,
              "#3e4989"
             ],
             [
              0.3333333333333333,
              "#31688e"
             ],
             [
              0.4444444444444444,
              "#26828e"
             ],
             [
              0.5555555555555556,
              "#1f9e89"
             ],
             [
              0.6666666666666666,
              "#35b779"
             ],
             [
              0.7777777777777778,
              "#6ece58"
             ],
             [
              0.8888888888888888,
              "#b5de2b"
             ],
             [
              1,
              "#fde725"
             ]
            ],
            "type": "heatmap"
           }
          ],
          "heatmapgl": [
           {
            "colorbar": {
             "outlinewidth": 1,
             "tickcolor": "rgb(36,36,36)",
             "ticks": "outside"
            },
            "colorscale": [
             [
              0,
              "#440154"
             ],
             [
              0.1111111111111111,
              "#482878"
             ],
             [
              0.2222222222222222,
              "#3e4989"
             ],
             [
              0.3333333333333333,
              "#31688e"
             ],
             [
              0.4444444444444444,
              "#26828e"
             ],
             [
              0.5555555555555556,
              "#1f9e89"
             ],
             [
              0.6666666666666666,
              "#35b779"
             ],
             [
              0.7777777777777778,
              "#6ece58"
             ],
             [
              0.8888888888888888,
              "#b5de2b"
             ],
             [
              1,
              "#fde725"
             ]
            ],
            "type": "heatmapgl"
           }
          ],
          "histogram": [
           {
            "marker": {
             "line": {
              "color": "white",
              "width": 0.6
             }
            },
            "type": "histogram"
           }
          ],
          "histogram2d": [
           {
            "colorbar": {
             "outlinewidth": 1,
             "tickcolor": "rgb(36,36,36)",
             "ticks": "outside"
            },
            "colorscale": [
             [
              0,
              "#440154"
             ],
             [
              0.1111111111111111,
              "#482878"
             ],
             [
              0.2222222222222222,
              "#3e4989"
             ],
             [
              0.3333333333333333,
              "#31688e"
             ],
             [
              0.4444444444444444,
              "#26828e"
             ],
             [
              0.5555555555555556,
              "#1f9e89"
             ],
             [
              0.6666666666666666,
              "#35b779"
             ],
             [
              0.7777777777777778,
              "#6ece58"
             ],
             [
              0.8888888888888888,
              "#b5de2b"
             ],
             [
              1,
              "#fde725"
             ]
            ],
            "type": "histogram2d"
           }
          ],
          "histogram2dcontour": [
           {
            "colorbar": {
             "outlinewidth": 1,
             "tickcolor": "rgb(36,36,36)",
             "ticks": "outside"
            },
            "colorscale": [
             [
              0,
              "#440154"
             ],
             [
              0.1111111111111111,
              "#482878"
             ],
             [
              0.2222222222222222,
              "#3e4989"
             ],
             [
              0.3333333333333333,
              "#31688e"
             ],
             [
              0.4444444444444444,
              "#26828e"
             ],
             [
              0.5555555555555556,
              "#1f9e89"
             ],
             [
              0.6666666666666666,
              "#35b779"
             ],
             [
              0.7777777777777778,
              "#6ece58"
             ],
             [
              0.8888888888888888,
              "#b5de2b"
             ],
             [
              1,
              "#fde725"
             ]
            ],
            "type": "histogram2dcontour"
           }
          ],
          "mesh3d": [
           {
            "colorbar": {
             "outlinewidth": 1,
             "tickcolor": "rgb(36,36,36)",
             "ticks": "outside"
            },
            "type": "mesh3d"
           }
          ],
          "parcoords": [
           {
            "line": {
             "colorbar": {
              "outlinewidth": 1,
              "tickcolor": "rgb(36,36,36)",
              "ticks": "outside"
             }
            },
            "type": "parcoords"
           }
          ],
          "pie": [
           {
            "automargin": true,
            "type": "pie"
           }
          ],
          "scatter": [
           {
            "fillpattern": {
             "fillmode": "overlay",
             "size": 10,
             "solidity": 0.2
            },
            "type": "scatter"
           }
          ],
          "scatter3d": [
           {
            "line": {
             "colorbar": {
              "outlinewidth": 1,
              "tickcolor": "rgb(36,36,36)",
              "ticks": "outside"
             }
            },
            "marker": {
             "colorbar": {
              "outlinewidth": 1,
              "tickcolor": "rgb(36,36,36)",
              "ticks": "outside"
             }
            },
            "type": "scatter3d"
           }
          ],
          "scattercarpet": [
           {
            "marker": {
             "colorbar": {
              "outlinewidth": 1,
              "tickcolor": "rgb(36,36,36)",
              "ticks": "outside"
             }
            },
            "type": "scattercarpet"
           }
          ],
          "scattergeo": [
           {
            "marker": {
             "colorbar": {
              "outlinewidth": 1,
              "tickcolor": "rgb(36,36,36)",
              "ticks": "outside"
             }
            },
            "type": "scattergeo"
           }
          ],
          "scattergl": [
           {
            "marker": {
             "colorbar": {
              "outlinewidth": 1,
              "tickcolor": "rgb(36,36,36)",
              "ticks": "outside"
             }
            },
            "type": "scattergl"
           }
          ],
          "scattermapbox": [
           {
            "marker": {
             "colorbar": {
              "outlinewidth": 1,
              "tickcolor": "rgb(36,36,36)",
              "ticks": "outside"
             }
            },
            "type": "scattermapbox"
           }
          ],
          "scatterpolar": [
           {
            "marker": {
             "colorbar": {
              "outlinewidth": 1,
              "tickcolor": "rgb(36,36,36)",
              "ticks": "outside"
             }
            },
            "type": "scatterpolar"
           }
          ],
          "scatterpolargl": [
           {
            "marker": {
             "colorbar": {
              "outlinewidth": 1,
              "tickcolor": "rgb(36,36,36)",
              "ticks": "outside"
             }
            },
            "type": "scatterpolargl"
           }
          ],
          "scatterternary": [
           {
            "marker": {
             "colorbar": {
              "outlinewidth": 1,
              "tickcolor": "rgb(36,36,36)",
              "ticks": "outside"
             }
            },
            "type": "scatterternary"
           }
          ],
          "surface": [
           {
            "colorbar": {
             "outlinewidth": 1,
             "tickcolor": "rgb(36,36,36)",
             "ticks": "outside"
            },
            "colorscale": [
             [
              0,
              "#440154"
             ],
             [
              0.1111111111111111,
              "#482878"
             ],
             [
              0.2222222222222222,
              "#3e4989"
             ],
             [
              0.3333333333333333,
              "#31688e"
             ],
             [
              0.4444444444444444,
              "#26828e"
             ],
             [
              0.5555555555555556,
              "#1f9e89"
             ],
             [
              0.6666666666666666,
              "#35b779"
             ],
             [
              0.7777777777777778,
              "#6ece58"
             ],
             [
              0.8888888888888888,
              "#b5de2b"
             ],
             [
              1,
              "#fde725"
             ]
            ],
            "type": "surface"
           }
          ],
          "table": [
           {
            "cells": {
             "fill": {
              "color": "rgb(237,237,237)"
             },
             "line": {
              "color": "white"
             }
            },
            "header": {
             "fill": {
              "color": "rgb(217,217,217)"
             },
             "line": {
              "color": "white"
             }
            },
            "type": "table"
           }
          ]
         },
         "layout": {
          "annotationdefaults": {
           "arrowhead": 0,
           "arrowwidth": 1
          },
          "autotypenumbers": "strict",
          "coloraxis": {
           "colorbar": {
            "outlinewidth": 1,
            "tickcolor": "rgb(36,36,36)",
            "ticks": "outside"
           }
          },
          "colorscale": {
           "diverging": [
            [
             0,
             "rgb(103,0,31)"
            ],
            [
             0.1,
             "rgb(178,24,43)"
            ],
            [
             0.2,
             "rgb(214,96,77)"
            ],
            [
             0.3,
             "rgb(244,165,130)"
            ],
            [
             0.4,
             "rgb(253,219,199)"
            ],
            [
             0.5,
             "rgb(247,247,247)"
            ],
            [
             0.6,
             "rgb(209,229,240)"
            ],
            [
             0.7,
             "rgb(146,197,222)"
            ],
            [
             0.8,
             "rgb(67,147,195)"
            ],
            [
             0.9,
             "rgb(33,102,172)"
            ],
            [
             1,
             "rgb(5,48,97)"
            ]
           ],
           "sequential": [
            [
             0,
             "#440154"
            ],
            [
             0.1111111111111111,
             "#482878"
            ],
            [
             0.2222222222222222,
             "#3e4989"
            ],
            [
             0.3333333333333333,
             "#31688e"
            ],
            [
             0.4444444444444444,
             "#26828e"
            ],
            [
             0.5555555555555556,
             "#1f9e89"
            ],
            [
             0.6666666666666666,
             "#35b779"
            ],
            [
             0.7777777777777778,
             "#6ece58"
            ],
            [
             0.8888888888888888,
             "#b5de2b"
            ],
            [
             1,
             "#fde725"
            ]
           ],
           "sequentialminus": [
            [
             0,
             "#440154"
            ],
            [
             0.1111111111111111,
             "#482878"
            ],
            [
             0.2222222222222222,
             "#3e4989"
            ],
            [
             0.3333333333333333,
             "#31688e"
            ],
            [
             0.4444444444444444,
             "#26828e"
            ],
            [
             0.5555555555555556,
             "#1f9e89"
            ],
            [
             0.6666666666666666,
             "#35b779"
            ],
            [
             0.7777777777777778,
             "#6ece58"
            ],
            [
             0.8888888888888888,
             "#b5de2b"
            ],
            [
             1,
             "#fde725"
            ]
           ]
          },
          "colorway": [
           "#1F77B4",
           "#FF7F0E",
           "#2CA02C",
           "#D62728",
           "#9467BD",
           "#8C564B",
           "#E377C2",
           "#7F7F7F",
           "#BCBD22",
           "#17BECF"
          ],
          "font": {
           "color": "rgb(36,36,36)"
          },
          "geo": {
           "bgcolor": "white",
           "lakecolor": "white",
           "landcolor": "white",
           "showlakes": true,
           "showland": true,
           "subunitcolor": "white"
          },
          "hoverlabel": {
           "align": "left"
          },
          "hovermode": "closest",
          "mapbox": {
           "style": "light"
          },
          "paper_bgcolor": "white",
          "plot_bgcolor": "white",
          "polar": {
           "angularaxis": {
            "gridcolor": "rgb(232,232,232)",
            "linecolor": "rgb(36,36,36)",
            "showgrid": false,
            "showline": true,
            "ticks": "outside"
           },
           "bgcolor": "white",
           "radialaxis": {
            "gridcolor": "rgb(232,232,232)",
            "linecolor": "rgb(36,36,36)",
            "showgrid": false,
            "showline": true,
            "ticks": "outside"
           }
          },
          "scene": {
           "xaxis": {
            "backgroundcolor": "white",
            "gridcolor": "rgb(232,232,232)",
            "gridwidth": 2,
            "linecolor": "rgb(36,36,36)",
            "showbackground": true,
            "showgrid": false,
            "showline": true,
            "ticks": "outside",
            "zeroline": false,
            "zerolinecolor": "rgb(36,36,36)"
           },
           "yaxis": {
            "backgroundcolor": "white",
            "gridcolor": "rgb(232,232,232)",
            "gridwidth": 2,
            "linecolor": "rgb(36,36,36)",
            "showbackground": true,
            "showgrid": false,
            "showline": true,
            "ticks": "outside",
            "zeroline": false,
            "zerolinecolor": "rgb(36,36,36)"
           },
           "zaxis": {
            "backgroundcolor": "white",
            "gridcolor": "rgb(232,232,232)",
            "gridwidth": 2,
            "linecolor": "rgb(36,36,36)",
            "showbackground": true,
            "showgrid": false,
            "showline": true,
            "ticks": "outside",
            "zeroline": false,
            "zerolinecolor": "rgb(36,36,36)"
           }
          },
          "shapedefaults": {
           "fillcolor": "black",
           "line": {
            "width": 0
           },
           "opacity": 0.3
          },
          "ternary": {
           "aaxis": {
            "gridcolor": "rgb(232,232,232)",
            "linecolor": "rgb(36,36,36)",
            "showgrid": false,
            "showline": true,
            "ticks": "outside"
           },
           "baxis": {
            "gridcolor": "rgb(232,232,232)",
            "linecolor": "rgb(36,36,36)",
            "showgrid": false,
            "showline": true,
            "ticks": "outside"
           },
           "bgcolor": "white",
           "caxis": {
            "gridcolor": "rgb(232,232,232)",
            "linecolor": "rgb(36,36,36)",
            "showgrid": false,
            "showline": true,
            "ticks": "outside"
           }
          },
          "title": {
           "x": 0.05
          },
          "xaxis": {
           "automargin": true,
           "gridcolor": "rgb(232,232,232)",
           "linecolor": "rgb(36,36,36)",
           "showgrid": false,
           "showline": true,
           "ticks": "outside",
           "title": {
            "standoff": 15
           },
           "zeroline": false,
           "zerolinecolor": "rgb(36,36,36)"
          },
          "yaxis": {
           "automargin": true,
           "gridcolor": "rgb(232,232,232)",
           "linecolor": "rgb(36,36,36)",
           "showgrid": false,
           "showline": true,
           "ticks": "outside",
           "title": {
            "standoff": 15
           },
           "zeroline": false,
           "zerolinecolor": "rgb(36,36,36)"
          }
         }
        },
        "width": 400,
        "xaxis": {
         "mirror": true,
         "title": {
          "text": "Difference in media citation<br>(women over men)"
         }
        },
        "yaxis": {
         "autorange": "reversed",
         "mirror": true
        }
       }
      }
     },
     "metadata": {},
     "output_type": "display_data"
    }
   ],
   "source": [
    "# Create a bar chart\n",
    "indicators = [-1, 0, 1]\n",
    "fig = go.Figure()\n",
    "\n",
    "for i, subdomain in enumerate(subdomains):\n",
    "    for j, indicator in enumerate(indicators):\n",
    "        t = df.query(\"subdomain == @subdomain and indicator == @indicator\")\n",
    "        fig.add_trace(\n",
    "            go.Scatter(\n",
    "                x=t[\"est\"],\n",
    "                y=t[\"subdomain\"],\n",
    "                error_x=dict(\n",
    "                    type=\"data\",\n",
    "                    array=t[\"ci_error\"],\n",
    "                    visible=True,\n",
    "                    color=indicator_colors[indicator],\n",
    "                    width=0,\n",
    "                ),\n",
    "                orientation=\"h\",\n",
    "                marker_color=indicator_colors[indicator],\n",
    "                showlegend=False,\n",
    "            )\n",
    "        )\n",
    "\n",
    "# Customize layout\n",
    "fig.update_layout(\n",
    "    template=\"simple_white\",\n",
    "    font=dict(size=12, family=\"Arial\"),\n",
    "    height=500,\n",
    "    width=400,\n",
    "    margin=dict(l=100, r=20, t=50, b=20),\n",
    ")\n",
    "\n",
    "fig.update_xaxes(title=\"Difference in media citation<br>(women over men)\", mirror=True)\n",
    "fig.update_yaxes(autorange=\"reversed\", mirror=True)\n",
    "\n",
    "# add reference line\n",
    "fig.add_vline(x=0, line_width=1, line_dash=\"dash\", line_color=\"black\")\n",
    "\n",
    "# Show the plot\n",
    "fig.show()\n",
    "fig.write_image(\"figures/raw_count_subdomain.svg\")"
   ]
  },
  {
   "cell_type": "markdown",
   "metadata": {
    "id": "pAyC8aKt9jrm"
   },
   "source": [
    "### Fig 5"
   ]
  },
  {
   "cell_type": "code",
   "execution_count": 5,
   "metadata": {
    "colab": {
     "base_uri": "https://localhost:8080/",
     "height": 781
    },
    "id": "6cR9qeQn9i0K",
    "outputId": "144b0823-db82-4521-b9a8-8a32eab7f94e"
   },
   "outputs": [
    {
     "data": {
      "text/html": [
       "<div>\n",
       "<style scoped>\n",
       "    .dataframe tbody tr th:only-of-type {\n",
       "        vertical-align: middle;\n",
       "    }\n",
       "\n",
       "    .dataframe tbody tr th {\n",
       "        vertical-align: top;\n",
       "    }\n",
       "\n",
       "    .dataframe thead th {\n",
       "        text-align: right;\n",
       "    }\n",
       "</style>\n",
       "<table border=\"1\" class=\"dataframe\">\n",
       "  <thead>\n",
       "    <tr style=\"text-align: right;\">\n",
       "      <th></th>\n",
       "      <th>subdomain</th>\n",
       "      <th>fem_entire</th>\n",
       "      <th>fem_top</th>\n",
       "      <th>fem_bot</th>\n",
       "      <th>domain</th>\n",
       "      <th>top_pct</th>\n",
       "      <th>bottom_pct</th>\n",
       "    </tr>\n",
       "  </thead>\n",
       "  <tbody>\n",
       "    <tr>\n",
       "      <th>1</th>\n",
       "      <td>Biology</td>\n",
       "      <td>0.38220</td>\n",
       "      <td>-0.06580</td>\n",
       "      <td>-0.02020</td>\n",
       "      <td>Natural Sciences</td>\n",
       "      <td>0.31640</td>\n",
       "      <td>0.36200</td>\n",
       "    </tr>\n",
       "    <tr>\n",
       "      <th>4</th>\n",
       "      <td>Chemistry</td>\n",
       "      <td>0.21150</td>\n",
       "      <td>-0.01430</td>\n",
       "      <td>-0.01980</td>\n",
       "      <td>Natural Sciences</td>\n",
       "      <td>0.19720</td>\n",
       "      <td>0.19170</td>\n",
       "    </tr>\n",
       "    <tr>\n",
       "      <th>7</th>\n",
       "      <td>Earth &amp; Env Sciences</td>\n",
       "      <td>0.33690</td>\n",
       "      <td>-0.11690</td>\n",
       "      <td>0.02090</td>\n",
       "      <td>Natural Sciences</td>\n",
       "      <td>0.22000</td>\n",
       "      <td>0.35780</td>\n",
       "    </tr>\n",
       "    <tr>\n",
       "      <th>13</th>\n",
       "      <td>Math &amp; Stat</td>\n",
       "      <td>0.22330</td>\n",
       "      <td>0.13670</td>\n",
       "      <td>0.10320</td>\n",
       "      <td>Natural Sciences</td>\n",
       "      <td>0.36000</td>\n",
       "      <td>0.32650</td>\n",
       "    </tr>\n",
       "    <tr>\n",
       "      <th>15</th>\n",
       "      <td>Physics &amp; Astronomy</td>\n",
       "      <td>0.20030</td>\n",
       "      <td>-0.00520</td>\n",
       "      <td>0.01080</td>\n",
       "      <td>Natural Sciences</td>\n",
       "      <td>0.19510</td>\n",
       "      <td>0.21110</td>\n",
       "    </tr>\n",
       "    <tr>\n",
       "      <th>0</th>\n",
       "      <td>Agri, Fish &amp; Forestry</td>\n",
       "      <td>0.38030</td>\n",
       "      <td>0.08398</td>\n",
       "      <td>0.06870</td>\n",
       "      <td>Applied Sciences</td>\n",
       "      <td>0.46428</td>\n",
       "      <td>0.44900</td>\n",
       "    </tr>\n",
       "    <tr>\n",
       "      <th>3</th>\n",
       "      <td>Built Env &amp; Design</td>\n",
       "      <td>0.34690</td>\n",
       "      <td>-0.13690</td>\n",
       "      <td>0.02710</td>\n",
       "      <td>Applied Sciences</td>\n",
       "      <td>0.21000</td>\n",
       "      <td>0.37400</td>\n",
       "    </tr>\n",
       "    <tr>\n",
       "      <th>9</th>\n",
       "      <td>Enab &amp; Strategic Tech</td>\n",
       "      <td>0.23360</td>\n",
       "      <td>0.01840</td>\n",
       "      <td>0.01040</td>\n",
       "      <td>Applied Sciences</td>\n",
       "      <td>0.25200</td>\n",
       "      <td>0.24400</td>\n",
       "    </tr>\n",
       "    <tr>\n",
       "      <th>10</th>\n",
       "      <td>Engineering</td>\n",
       "      <td>0.23780</td>\n",
       "      <td>0.01480</td>\n",
       "      <td>0.03920</td>\n",
       "      <td>Applied Sciences</td>\n",
       "      <td>0.25260</td>\n",
       "      <td>0.27700</td>\n",
       "    </tr>\n",
       "    <tr>\n",
       "      <th>12</th>\n",
       "      <td>Info &amp; Com Tech</td>\n",
       "      <td>0.28459</td>\n",
       "      <td>-0.05569</td>\n",
       "      <td>0.05691</td>\n",
       "      <td>Applied Sciences</td>\n",
       "      <td>0.22890</td>\n",
       "      <td>0.34150</td>\n",
       "    </tr>\n",
       "    <tr>\n",
       "      <th>2</th>\n",
       "      <td>Biomedical Research</td>\n",
       "      <td>0.35900</td>\n",
       "      <td>-0.01650</td>\n",
       "      <td>-0.01200</td>\n",
       "      <td>Health Sciences</td>\n",
       "      <td>0.34250</td>\n",
       "      <td>0.34700</td>\n",
       "    </tr>\n",
       "    <tr>\n",
       "      <th>5</th>\n",
       "      <td>Clinical Medicine</td>\n",
       "      <td>0.36618</td>\n",
       "      <td>0.01082</td>\n",
       "      <td>0.01882</td>\n",
       "      <td>Health Sciences</td>\n",
       "      <td>0.37700</td>\n",
       "      <td>0.38500</td>\n",
       "    </tr>\n",
       "    <tr>\n",
       "      <th>16</th>\n",
       "      <td>Psych &amp; Cog Sciences</td>\n",
       "      <td>0.56360</td>\n",
       "      <td>-0.03580</td>\n",
       "      <td>-0.00480</td>\n",
       "      <td>Health Sciences</td>\n",
       "      <td>0.52780</td>\n",
       "      <td>0.55880</td>\n",
       "    </tr>\n",
       "    <tr>\n",
       "      <th>17</th>\n",
       "      <td>Public Health &amp; Services</td>\n",
       "      <td>0.62100</td>\n",
       "      <td>-0.10670</td>\n",
       "      <td>-0.02500</td>\n",
       "      <td>Health Sciences</td>\n",
       "      <td>0.51430</td>\n",
       "      <td>0.59600</td>\n",
       "    </tr>\n",
       "    <tr>\n",
       "      <th>8</th>\n",
       "      <td>Econ &amp; Business</td>\n",
       "      <td>0.31450</td>\n",
       "      <td>-0.03550</td>\n",
       "      <td>0.01810</td>\n",
       "      <td>Economic &amp; Social Sciences</td>\n",
       "      <td>0.27900</td>\n",
       "      <td>0.33260</td>\n",
       "    </tr>\n",
       "    <tr>\n",
       "      <th>18</th>\n",
       "      <td>Social Sciences</td>\n",
       "      <td>0.53860</td>\n",
       "      <td>-0.12130</td>\n",
       "      <td>-0.03757</td>\n",
       "      <td>Economic &amp; Social Sciences</td>\n",
       "      <td>0.41730</td>\n",
       "      <td>0.50103</td>\n",
       "    </tr>\n",
       "    <tr>\n",
       "      <th>6</th>\n",
       "      <td>Com &amp; Text Studies</td>\n",
       "      <td>0.52800</td>\n",
       "      <td>-0.27800</td>\n",
       "      <td>0.01150</td>\n",
       "      <td>Arts &amp; Humanities</td>\n",
       "      <td>0.25000</td>\n",
       "      <td>0.53950</td>\n",
       "    </tr>\n",
       "    <tr>\n",
       "      <th>11</th>\n",
       "      <td>Historical Studies</td>\n",
       "      <td>0.47060</td>\n",
       "      <td>-0.19560</td>\n",
       "      <td>-0.05220</td>\n",
       "      <td>Arts &amp; Humanities</td>\n",
       "      <td>0.27500</td>\n",
       "      <td>0.41840</td>\n",
       "    </tr>\n",
       "    <tr>\n",
       "      <th>14</th>\n",
       "      <td>Phil &amp; Theo</td>\n",
       "      <td>0.29880</td>\n",
       "      <td>0.15520</td>\n",
       "      <td>0.08020</td>\n",
       "      <td>Arts &amp; Humanities</td>\n",
       "      <td>0.45400</td>\n",
       "      <td>0.37900</td>\n",
       "    </tr>\n",
       "  </tbody>\n",
       "</table>\n",
       "</div>"
      ],
      "text/plain": [
       "                   subdomain  fem_entire  fem_top  fem_bot  \\\n",
       "1                    Biology     0.38220 -0.06580 -0.02020   \n",
       "4                  Chemistry     0.21150 -0.01430 -0.01980   \n",
       "7       Earth & Env Sciences     0.33690 -0.11690  0.02090   \n",
       "13               Math & Stat     0.22330  0.13670  0.10320   \n",
       "15       Physics & Astronomy     0.20030 -0.00520  0.01080   \n",
       "0      Agri, Fish & Forestry     0.38030  0.08398  0.06870   \n",
       "3         Built Env & Design     0.34690 -0.13690  0.02710   \n",
       "9      Enab & Strategic Tech     0.23360  0.01840  0.01040   \n",
       "10               Engineering     0.23780  0.01480  0.03920   \n",
       "12           Info & Com Tech     0.28459 -0.05569  0.05691   \n",
       "2        Biomedical Research     0.35900 -0.01650 -0.01200   \n",
       "5          Clinical Medicine     0.36618  0.01082  0.01882   \n",
       "16      Psych & Cog Sciences     0.56360 -0.03580 -0.00480   \n",
       "17  Public Health & Services     0.62100 -0.10670 -0.02500   \n",
       "8            Econ & Business     0.31450 -0.03550  0.01810   \n",
       "18           Social Sciences     0.53860 -0.12130 -0.03757   \n",
       "6         Com & Text Studies     0.52800 -0.27800  0.01150   \n",
       "11        Historical Studies     0.47060 -0.19560 -0.05220   \n",
       "14               Phil & Theo     0.29880  0.15520  0.08020   \n",
       "\n",
       "                        domain  top_pct  bottom_pct  \n",
       "1             Natural Sciences  0.31640     0.36200  \n",
       "4             Natural Sciences  0.19720     0.19170  \n",
       "7             Natural Sciences  0.22000     0.35780  \n",
       "13            Natural Sciences  0.36000     0.32650  \n",
       "15            Natural Sciences  0.19510     0.21110  \n",
       "0             Applied Sciences  0.46428     0.44900  \n",
       "3             Applied Sciences  0.21000     0.37400  \n",
       "9             Applied Sciences  0.25200     0.24400  \n",
       "10            Applied Sciences  0.25260     0.27700  \n",
       "12            Applied Sciences  0.22890     0.34150  \n",
       "2              Health Sciences  0.34250     0.34700  \n",
       "5              Health Sciences  0.37700     0.38500  \n",
       "16             Health Sciences  0.52780     0.55880  \n",
       "17             Health Sciences  0.51430     0.59600  \n",
       "8   Economic & Social Sciences  0.27900     0.33260  \n",
       "18  Economic & Social Sciences  0.41730     0.50103  \n",
       "6            Arts & Humanities  0.25000     0.53950  \n",
       "11           Arts & Humanities  0.27500     0.41840  \n",
       "14           Arts & Humanities  0.45400     0.37900  "
      ]
     },
     "execution_count": 5,
     "metadata": {},
     "output_type": "execute_result"
    }
   ],
   "source": [
    "df = pd.read_excel(\"raw count.xlsx\", sheet_name=\"top_bottom\")\n",
    "# reordering\n",
    "df[\"subdomain\"] = pd.Categorical(df[\"subdomain\"], subdomains)\n",
    "df[\"domain\"] = pd.Categorical(df[\"domain\"], domains)\n",
    "df = df.sort_values([\"domain\", \"subdomain\"])\n",
    "\n",
    "# percentage\n",
    "df[\"top_pct\"] = df[\"fem_top\"] + df[\"fem_entire\"]\n",
    "df[\"bottom_pct\"] = df[\"fem_bot\"] + df[\"fem_entire\"]\n",
    "\n",
    "df"
   ]
  },
  {
   "cell_type": "code",
   "execution_count": 8,
   "metadata": {
    "colab": {
     "base_uri": "https://localhost:8080/",
     "height": 815
    },
    "id": "8d32C_VZBXEx",
    "outputId": "1da52da1-f2ab-4b3e-c735-c0ee0f763d36"
   },
   "outputs": [
    {
     "data": {
      "application/vnd.plotly.v1+json": {
       "config": {
        "plotlyServerURL": "https://plot.ly"
       },
       "data": [
        {
         "hoverinfo": "x+y+text",
         "marker": {
          "color": "rgb(145,181,214)"
         },
         "mode": "markers",
         "name": "Natural Sciences",
         "showlegend": true,
         "text": [
          "Biology",
          "Chemistry",
          "Earth & Env Sciences",
          "Math & Stat",
          "Physics & Astronomy"
         ],
         "type": "scatter",
         "x": [
          -0.0202,
          -0.0198,
          0.0209,
          0.1032,
          0.0108
         ],
         "y": [
          -0.0658,
          -0.0143,
          -0.1169,
          0.1367,
          -0.0052
         ]
        },
        {
         "hoverinfo": "x+y+text",
         "marker": {
          "color": "rgb(255,187,120)"
         },
         "mode": "markers",
         "name": "Applied Sciences",
         "showlegend": true,
         "text": [
          "Agri, Fish & Forestry",
          "Built Env & Design",
          "Enab & Strategic Tech",
          "Engineering",
          "Info & Com Tech"
         ],
         "type": "scatter",
         "x": [
          0.0687,
          0.0271,
          0.0104,
          0.0392,
          0.05691
         ],
         "y": [
          0.08398,
          -0.1369,
          0.0184,
          0.0148,
          -0.05569
         ]
        },
        {
         "hoverinfo": "x+y+text",
         "marker": {
          "color": "rgb(31,119,180)"
         },
         "mode": "markers",
         "name": "Health Sciences",
         "showlegend": true,
         "text": [
          "Biomedical Research",
          "Clinical Medicine",
          "Psych & Cog Sciences",
          "Public Health & Services"
         ],
         "type": "scatter",
         "x": [
          -0.012,
          0.01882,
          -0.0048,
          -0.025
         ],
         "y": [
          -0.0165,
          0.01082,
          -0.0358,
          -0.1067
         ]
        },
        {
         "hoverinfo": "x+y+text",
         "marker": {
          "color": "rgb(81,182,137)"
         },
         "mode": "markers",
         "name": "Economic & Social Sciences",
         "showlegend": true,
         "text": [
          "Econ & Business",
          "Social Sciences"
         ],
         "type": "scatter",
         "x": [
          0.0181,
          -0.03757
         ],
         "y": [
          -0.0355,
          -0.1213
         ]
        },
        {
         "hoverinfo": "x+y+text",
         "marker": {
          "color": "rgb(197,176,213)"
         },
         "mode": "markers",
         "name": "Arts & Humanities",
         "showlegend": true,
         "text": [
          "Com & Text Studies",
          "Historical Studies",
          "Phil & Theo"
         ],
         "type": "scatter",
         "x": [
          0.0115,
          -0.0522,
          0.0802
         ],
         "y": [
          -0.278,
          -0.1956,
          0.1552
         ]
        }
       ],
       "layout": {
        "font": {
         "family": "Arial",
         "size": 12
        },
        "height": 300,
        "legend": {
         "bgcolor": "rgba(255, 255, 255, 0.5)",
         "x": 1.01,
         "y": 0.99
        },
        "margin": {
         "b": 20,
         "l": 100,
         "r": 100,
         "t": 50
        },
        "shapes": [
         {
          "line": {
           "color": "black",
           "dash": "dash",
           "width": 1
          },
          "type": "line",
          "x0": 0,
          "x1": 0,
          "xref": "x",
          "y0": 0,
          "y1": 1,
          "yref": "y domain"
         },
         {
          "line": {
           "color": "black",
           "dash": "dash",
           "width": 1
          },
          "type": "line",
          "x0": 0,
          "x1": 1,
          "xref": "x domain",
          "y0": 0,
          "y1": 0,
          "yref": "y"
         },
         {
          "fillcolor": "gray",
          "layer": "below",
          "line": {
           "width": 0
          },
          "opacity": 0.1,
          "type": "rect",
          "x0": 0,
          "x1": -0.28800000000000003,
          "xref": "x",
          "y0": 0,
          "y1": 1,
          "yref": "paper"
         },
         {
          "fillcolor": "gray",
          "layer": "below",
          "line": {
           "width": 0
          },
          "opacity": 0.1,
          "type": "rect",
          "x0": -0.28800000000000003,
          "x1": 0.1652,
          "xref": "x",
          "y0": -0.28800000000000003,
          "y1": 0,
          "yref": "y"
         }
        ],
        "template": {
         "data": {
          "bar": [
           {
            "error_x": {
             "color": "rgb(36,36,36)"
            },
            "error_y": {
             "color": "rgb(36,36,36)"
            },
            "marker": {
             "line": {
              "color": "white",
              "width": 0.5
             },
             "pattern": {
              "fillmode": "overlay",
              "size": 10,
              "solidity": 0.2
             }
            },
            "type": "bar"
           }
          ],
          "barpolar": [
           {
            "marker": {
             "line": {
              "color": "white",
              "width": 0.5
             },
             "pattern": {
              "fillmode": "overlay",
              "size": 10,
              "solidity": 0.2
             }
            },
            "type": "barpolar"
           }
          ],
          "carpet": [
           {
            "aaxis": {
             "endlinecolor": "rgb(36,36,36)",
             "gridcolor": "white",
             "linecolor": "white",
             "minorgridcolor": "white",
             "startlinecolor": "rgb(36,36,36)"
            },
            "baxis": {
             "endlinecolor": "rgb(36,36,36)",
             "gridcolor": "white",
             "linecolor": "white",
             "minorgridcolor": "white",
             "startlinecolor": "rgb(36,36,36)"
            },
            "type": "carpet"
           }
          ],
          "choropleth": [
           {
            "colorbar": {
             "outlinewidth": 1,
             "tickcolor": "rgb(36,36,36)",
             "ticks": "outside"
            },
            "type": "choropleth"
           }
          ],
          "contour": [
           {
            "colorbar": {
             "outlinewidth": 1,
             "tickcolor": "rgb(36,36,36)",
             "ticks": "outside"
            },
            "colorscale": [
             [
              0,
              "#440154"
             ],
             [
              0.1111111111111111,
              "#482878"
             ],
             [
              0.2222222222222222,
              "#3e4989"
             ],
             [
              0.3333333333333333,
              "#31688e"
             ],
             [
              0.4444444444444444,
              "#26828e"
             ],
             [
              0.5555555555555556,
              "#1f9e89"
             ],
             [
              0.6666666666666666,
              "#35b779"
             ],
             [
              0.7777777777777778,
              "#6ece58"
             ],
             [
              0.8888888888888888,
              "#b5de2b"
             ],
             [
              1,
              "#fde725"
             ]
            ],
            "type": "contour"
           }
          ],
          "contourcarpet": [
           {
            "colorbar": {
             "outlinewidth": 1,
             "tickcolor": "rgb(36,36,36)",
             "ticks": "outside"
            },
            "type": "contourcarpet"
           }
          ],
          "heatmap": [
           {
            "colorbar": {
             "outlinewidth": 1,
             "tickcolor": "rgb(36,36,36)",
             "ticks": "outside"
            },
            "colorscale": [
             [
              0,
              "#440154"
             ],
             [
              0.1111111111111111,
              "#482878"
             ],
             [
              0.2222222222222222,
              "#3e4989"
             ],
             [
              0.3333333333333333,
              "#31688e"
             ],
             [
              0.4444444444444444,
              "#26828e"
             ],
             [
              0.5555555555555556,
              "#1f9e89"
             ],
             [
              0.6666666666666666,
              "#35b779"
             ],
             [
              0.7777777777777778,
              "#6ece58"
             ],
             [
              0.8888888888888888,
              "#b5de2b"
             ],
             [
              1,
              "#fde725"
             ]
            ],
            "type": "heatmap"
           }
          ],
          "heatmapgl": [
           {
            "colorbar": {
             "outlinewidth": 1,
             "tickcolor": "rgb(36,36,36)",
             "ticks": "outside"
            },
            "colorscale": [
             [
              0,
              "#440154"
             ],
             [
              0.1111111111111111,
              "#482878"
             ],
             [
              0.2222222222222222,
              "#3e4989"
             ],
             [
              0.3333333333333333,
              "#31688e"
             ],
             [
              0.4444444444444444,
              "#26828e"
             ],
             [
              0.5555555555555556,
              "#1f9e89"
             ],
             [
              0.6666666666666666,
              "#35b779"
             ],
             [
              0.7777777777777778,
              "#6ece58"
             ],
             [
              0.8888888888888888,
              "#b5de2b"
             ],
             [
              1,
              "#fde725"
             ]
            ],
            "type": "heatmapgl"
           }
          ],
          "histogram": [
           {
            "marker": {
             "line": {
              "color": "white",
              "width": 0.6
             }
            },
            "type": "histogram"
           }
          ],
          "histogram2d": [
           {
            "colorbar": {
             "outlinewidth": 1,
             "tickcolor": "rgb(36,36,36)",
             "ticks": "outside"
            },
            "colorscale": [
             [
              0,
              "#440154"
             ],
             [
              0.1111111111111111,
              "#482878"
             ],
             [
              0.2222222222222222,
              "#3e4989"
             ],
             [
              0.3333333333333333,
              "#31688e"
             ],
             [
              0.4444444444444444,
              "#26828e"
             ],
             [
              0.5555555555555556,
              "#1f9e89"
             ],
             [
              0.6666666666666666,
              "#35b779"
             ],
             [
              0.7777777777777778,
              "#6ece58"
             ],
             [
              0.8888888888888888,
              "#b5de2b"
             ],
             [
              1,
              "#fde725"
             ]
            ],
            "type": "histogram2d"
           }
          ],
          "histogram2dcontour": [
           {
            "colorbar": {
             "outlinewidth": 1,
             "tickcolor": "rgb(36,36,36)",
             "ticks": "outside"
            },
            "colorscale": [
             [
              0,
              "#440154"
             ],
             [
              0.1111111111111111,
              "#482878"
             ],
             [
              0.2222222222222222,
              "#3e4989"
             ],
             [
              0.3333333333333333,
              "#31688e"
             ],
             [
              0.4444444444444444,
              "#26828e"
             ],
             [
              0.5555555555555556,
              "#1f9e89"
             ],
             [
              0.6666666666666666,
              "#35b779"
             ],
             [
              0.7777777777777778,
              "#6ece58"
             ],
             [
              0.8888888888888888,
              "#b5de2b"
             ],
             [
              1,
              "#fde725"
             ]
            ],
            "type": "histogram2dcontour"
           }
          ],
          "mesh3d": [
           {
            "colorbar": {
             "outlinewidth": 1,
             "tickcolor": "rgb(36,36,36)",
             "ticks": "outside"
            },
            "type": "mesh3d"
           }
          ],
          "parcoords": [
           {
            "line": {
             "colorbar": {
              "outlinewidth": 1,
              "tickcolor": "rgb(36,36,36)",
              "ticks": "outside"
             }
            },
            "type": "parcoords"
           }
          ],
          "pie": [
           {
            "automargin": true,
            "type": "pie"
           }
          ],
          "scatter": [
           {
            "fillpattern": {
             "fillmode": "overlay",
             "size": 10,
             "solidity": 0.2
            },
            "type": "scatter"
           }
          ],
          "scatter3d": [
           {
            "line": {
             "colorbar": {
              "outlinewidth": 1,
              "tickcolor": "rgb(36,36,36)",
              "ticks": "outside"
             }
            },
            "marker": {
             "colorbar": {
              "outlinewidth": 1,
              "tickcolor": "rgb(36,36,36)",
              "ticks": "outside"
             }
            },
            "type": "scatter3d"
           }
          ],
          "scattercarpet": [
           {
            "marker": {
             "colorbar": {
              "outlinewidth": 1,
              "tickcolor": "rgb(36,36,36)",
              "ticks": "outside"
             }
            },
            "type": "scattercarpet"
           }
          ],
          "scattergeo": [
           {
            "marker": {
             "colorbar": {
              "outlinewidth": 1,
              "tickcolor": "rgb(36,36,36)",
              "ticks": "outside"
             }
            },
            "type": "scattergeo"
           }
          ],
          "scattergl": [
           {
            "marker": {
             "colorbar": {
              "outlinewidth": 1,
              "tickcolor": "rgb(36,36,36)",
              "ticks": "outside"
             }
            },
            "type": "scattergl"
           }
          ],
          "scattermapbox": [
           {
            "marker": {
             "colorbar": {
              "outlinewidth": 1,
              "tickcolor": "rgb(36,36,36)",
              "ticks": "outside"
             }
            },
            "type": "scattermapbox"
           }
          ],
          "scatterpolar": [
           {
            "marker": {
             "colorbar": {
              "outlinewidth": 1,
              "tickcolor": "rgb(36,36,36)",
              "ticks": "outside"
             }
            },
            "type": "scatterpolar"
           }
          ],
          "scatterpolargl": [
           {
            "marker": {
             "colorbar": {
              "outlinewidth": 1,
              "tickcolor": "rgb(36,36,36)",
              "ticks": "outside"
             }
            },
            "type": "scatterpolargl"
           }
          ],
          "scatterternary": [
           {
            "marker": {
             "colorbar": {
              "outlinewidth": 1,
              "tickcolor": "rgb(36,36,36)",
              "ticks": "outside"
             }
            },
            "type": "scatterternary"
           }
          ],
          "surface": [
           {
            "colorbar": {
             "outlinewidth": 1,
             "tickcolor": "rgb(36,36,36)",
             "ticks": "outside"
            },
            "colorscale": [
             [
              0,
              "#440154"
             ],
             [
              0.1111111111111111,
              "#482878"
             ],
             [
              0.2222222222222222,
              "#3e4989"
             ],
             [
              0.3333333333333333,
              "#31688e"
             ],
             [
              0.4444444444444444,
              "#26828e"
             ],
             [
              0.5555555555555556,
              "#1f9e89"
             ],
             [
              0.6666666666666666,
              "#35b779"
             ],
             [
              0.7777777777777778,
              "#6ece58"
             ],
             [
              0.8888888888888888,
              "#b5de2b"
             ],
             [
              1,
              "#fde725"
             ]
            ],
            "type": "surface"
           }
          ],
          "table": [
           {
            "cells": {
             "fill": {
              "color": "rgb(237,237,237)"
             },
             "line": {
              "color": "white"
             }
            },
            "header": {
             "fill": {
              "color": "rgb(217,217,217)"
             },
             "line": {
              "color": "white"
             }
            },
            "type": "table"
           }
          ]
         },
         "layout": {
          "annotationdefaults": {
           "arrowhead": 0,
           "arrowwidth": 1
          },
          "autotypenumbers": "strict",
          "coloraxis": {
           "colorbar": {
            "outlinewidth": 1,
            "tickcolor": "rgb(36,36,36)",
            "ticks": "outside"
           }
          },
          "colorscale": {
           "diverging": [
            [
             0,
             "rgb(103,0,31)"
            ],
            [
             0.1,
             "rgb(178,24,43)"
            ],
            [
             0.2,
             "rgb(214,96,77)"
            ],
            [
             0.3,
             "rgb(244,165,130)"
            ],
            [
             0.4,
             "rgb(253,219,199)"
            ],
            [
             0.5,
             "rgb(247,247,247)"
            ],
            [
             0.6,
             "rgb(209,229,240)"
            ],
            [
             0.7,
             "rgb(146,197,222)"
            ],
            [
             0.8,
             "rgb(67,147,195)"
            ],
            [
             0.9,
             "rgb(33,102,172)"
            ],
            [
             1,
             "rgb(5,48,97)"
            ]
           ],
           "sequential": [
            [
             0,
             "#440154"
            ],
            [
             0.1111111111111111,
             "#482878"
            ],
            [
             0.2222222222222222,
             "#3e4989"
            ],
            [
             0.3333333333333333,
             "#31688e"
            ],
            [
             0.4444444444444444,
             "#26828e"
            ],
            [
             0.5555555555555556,
             "#1f9e89"
            ],
            [
             0.6666666666666666,
             "#35b779"
            ],
            [
             0.7777777777777778,
             "#6ece58"
            ],
            [
             0.8888888888888888,
             "#b5de2b"
            ],
            [
             1,
             "#fde725"
            ]
           ],
           "sequentialminus": [
            [
             0,
             "#440154"
            ],
            [
             0.1111111111111111,
             "#482878"
            ],
            [
             0.2222222222222222,
             "#3e4989"
            ],
            [
             0.3333333333333333,
             "#31688e"
            ],
            [
             0.4444444444444444,
             "#26828e"
            ],
            [
             0.5555555555555556,
             "#1f9e89"
            ],
            [
             0.6666666666666666,
             "#35b779"
            ],
            [
             0.7777777777777778,
             "#6ece58"
            ],
            [
             0.8888888888888888,
             "#b5de2b"
            ],
            [
             1,
             "#fde725"
            ]
           ]
          },
          "colorway": [
           "#1F77B4",
           "#FF7F0E",
           "#2CA02C",
           "#D62728",
           "#9467BD",
           "#8C564B",
           "#E377C2",
           "#7F7F7F",
           "#BCBD22",
           "#17BECF"
          ],
          "font": {
           "color": "rgb(36,36,36)"
          },
          "geo": {
           "bgcolor": "white",
           "lakecolor": "white",
           "landcolor": "white",
           "showlakes": true,
           "showland": true,
           "subunitcolor": "white"
          },
          "hoverlabel": {
           "align": "left"
          },
          "hovermode": "closest",
          "mapbox": {
           "style": "light"
          },
          "paper_bgcolor": "white",
          "plot_bgcolor": "white",
          "polar": {
           "angularaxis": {
            "gridcolor": "rgb(232,232,232)",
            "linecolor": "rgb(36,36,36)",
            "showgrid": false,
            "showline": true,
            "ticks": "outside"
           },
           "bgcolor": "white",
           "radialaxis": {
            "gridcolor": "rgb(232,232,232)",
            "linecolor": "rgb(36,36,36)",
            "showgrid": false,
            "showline": true,
            "ticks": "outside"
           }
          },
          "scene": {
           "xaxis": {
            "backgroundcolor": "white",
            "gridcolor": "rgb(232,232,232)",
            "gridwidth": 2,
            "linecolor": "rgb(36,36,36)",
            "showbackground": true,
            "showgrid": false,
            "showline": true,
            "ticks": "outside",
            "zeroline": false,
            "zerolinecolor": "rgb(36,36,36)"
           },
           "yaxis": {
            "backgroundcolor": "white",
            "gridcolor": "rgb(232,232,232)",
            "gridwidth": 2,
            "linecolor": "rgb(36,36,36)",
            "showbackground": true,
            "showgrid": false,
            "showline": true,
            "ticks": "outside",
            "zeroline": false,
            "zerolinecolor": "rgb(36,36,36)"
           },
           "zaxis": {
            "backgroundcolor": "white",
            "gridcolor": "rgb(232,232,232)",
            "gridwidth": 2,
            "linecolor": "rgb(36,36,36)",
            "showbackground": true,
            "showgrid": false,
            "showline": true,
            "ticks": "outside",
            "zeroline": false,
            "zerolinecolor": "rgb(36,36,36)"
           }
          },
          "shapedefaults": {
           "fillcolor": "black",
           "line": {
            "width": 0
           },
           "opacity": 0.3
          },
          "ternary": {
           "aaxis": {
            "gridcolor": "rgb(232,232,232)",
            "linecolor": "rgb(36,36,36)",
            "showgrid": false,
            "showline": true,
            "ticks": "outside"
           },
           "baxis": {
            "gridcolor": "rgb(232,232,232)",
            "linecolor": "rgb(36,36,36)",
            "showgrid": false,
            "showline": true,
            "ticks": "outside"
           },
           "bgcolor": "white",
           "caxis": {
            "gridcolor": "rgb(232,232,232)",
            "linecolor": "rgb(36,36,36)",
            "showgrid": false,
            "showline": true,
            "ticks": "outside"
           }
          },
          "title": {
           "x": 0.05
          },
          "xaxis": {
           "automargin": true,
           "gridcolor": "rgb(232,232,232)",
           "linecolor": "rgb(36,36,36)",
           "showgrid": false,
           "showline": true,
           "ticks": "outside",
           "title": {
            "standoff": 15
           },
           "zeroline": false,
           "zerolinecolor": "rgb(36,36,36)"
          },
          "yaxis": {
           "automargin": true,
           "gridcolor": "rgb(232,232,232)",
           "linecolor": "rgb(36,36,36)",
           "showgrid": false,
           "showline": true,
           "ticks": "outside",
           "title": {
            "standoff": 15
           },
           "zeroline": false,
           "zerolinecolor": "rgb(36,36,36)"
          }
         }
        },
        "width": 500,
        "xaxis": {
         "dtick": 0.1,
         "mirror": true,
         "range": [
          -0.28800000000000003,
          0.1652
         ],
         "title": {
          "text": "bottom 5% media-cited vs all"
         }
        },
        "yaxis": {
         "dtick": 0.1,
         "mirror": true,
         "range": [
          -0.28800000000000003,
          0.1652
         ],
         "title": {
          "text": "top 5% media-cited vs all"
         }
        }
       }
      }
     },
     "metadata": {},
     "output_type": "display_data"
    }
   ],
   "source": [
    "# Create a bar chart\n",
    "fig = go.Figure()\n",
    "\n",
    "for i, domain in enumerate(domains):\n",
    "    try:\n",
    "        t = df.query(\"domain == @domain\")\n",
    "        fig.add_trace(\n",
    "            go.Scatter(\n",
    "                x=t[\"fem_bot\"],\n",
    "                y=t[\"fem_top\"],\n",
    "                text=t[\"subdomain\"],\n",
    "                mode=\"markers\",\n",
    "                marker=dict(\n",
    "                    color=domain_colors[domain]\n",
    "                ),  # , size= (t['number'] /50) ** 0.5\n",
    "                hoverinfo=\"x+y+text\",\n",
    "                name=domain,\n",
    "                showlegend=True,\n",
    "            )\n",
    "        )\n",
    "    except:\n",
    "        pass\n",
    "\n",
    "# Customize layout\n",
    "fig.update_layout(\n",
    "    template=\"simple_white\",\n",
    "    font=dict(size=12, family=\"Arial\"),\n",
    "    height=300,\n",
    "    width=500,\n",
    "    margin=dict(l=100, r=100, t=50, b=20),\n",
    "    legend=dict(\n",
    "        x=1.01,\n",
    "        y=0.99,\n",
    "        bgcolor=\"rgba(255, 255, 255, 0.5)\",\n",
    "    ),\n",
    ")\n",
    "\n",
    "#Diff. in % women corresponding authors<br>(\n",
    "fig.update_xaxes(\n",
    "    title=r\"bottom 5% media-cited vs all\",\n",
    "    mirror=True,\n",
    ")\n",
    "fig.update_yaxes(\n",
    "    title=r\"top 5% media-cited vs all\",\n",
    "    mirror=True,\n",
    ")\n",
    "\n",
    "# use same range for both axes\n",
    "max_val = max(df[\"fem_top\"].max(), df[\"fem_bot\"].max())\n",
    "min_val = min(df[\"fem_top\"].min(), df[\"fem_bot\"].min())\n",
    "fig.update_xaxes(range=[min_val - 0.01, max_val + 0.01], dtick=0.1)\n",
    "fig.update_yaxes(range=[min_val - 0.01, max_val + 0.01], dtick=0.1)\n",
    "\n",
    "# add reference line\n",
    "fig.add_vline(x=0, line_width=1, line_dash=\"dash\", line_color=\"black\")\n",
    "fig.add_hline(y=0, line_width=1, line_dash=\"dash\", line_color=\"black\")\n",
    "\n",
    "# add gray shading for negative values\n",
    "fig.add_shape(\n",
    "    type=\"rect\",\n",
    "    xref=\"x\",\n",
    "    yref=\"paper\",\n",
    "    x0=0,\n",
    "    y0=0,\n",
    "    x1=min_val - 0.01,\n",
    "    y1=1,\n",
    "    fillcolor=\"gray\",\n",
    "    opacity=0.1,\n",
    "    layer=\"below\",\n",
    "    line_width=0,\n",
    ")\n",
    "\n",
    "# add gray shading for negative values\n",
    "fig.add_shape(\n",
    "    type=\"rect\",\n",
    "    xref=\"x\",\n",
    "    yref=\"y\",\n",
    "    x0=min_val - 0.01,\n",
    "    y0=min_val - 0.01,\n",
    "    x1=max_val + 0.01,\n",
    "    y1=0,\n",
    "    fillcolor=\"gray\",\n",
    "    opacity=0.1,\n",
    "    layer=\"below\",\n",
    "    line_width=0,\n",
    ")\n",
    "\n",
    "# Show the plot\n",
    "fig.show()\n",
    "fig.write_image(\"figures/raw_count_top_bottom.svg\")"
   ]
  },
  {
   "cell_type": "code",
   "execution_count": 20,
   "metadata": {
    "colab": {
     "base_uri": "https://localhost:8080/",
     "height": 835
    },
    "id": "dXs7K_Iyg089",
    "outputId": "c966ea51-e222-465e-d3d1-44b8d8d733f9"
   },
   "outputs": [
    {
     "data": {
      "application/vnd.plotly.v1+json": {
       "config": {
        "plotlyServerURL": "https://plot.ly"
       },
       "data": [
        {
         "marker": {
          "color": "rgb(145,181,214)"
         },
         "name": "Top 5%",
         "orientation": "h",
         "showlegend": true,
         "type": "bar",
         "width": 0.4,
         "x": [
          0.3164,
          0.1972,
          0.21999999999999997,
          0.36,
          0.1951
         ],
         "y": [
          -0.2,
          0.8,
          1.8,
          2.8,
          3.8
         ]
        },
        {
         "marker": {
          "color": "rgb(255,187,120)"
         },
         "name": "Top 5%",
         "orientation": "h",
         "showlegend": false,
         "type": "bar",
         "width": 0.4,
         "x": [
          0.46428,
          0.21,
          0.252,
          0.2526,
          0.2289
         ],
         "y": [
          4.8,
          5.8,
          6.8,
          7.8,
          8.8
         ]
        },
        {
         "marker": {
          "color": "rgb(31,119,180)"
         },
         "name": "Top 5%",
         "orientation": "h",
         "showlegend": false,
         "type": "bar",
         "width": 0.4,
         "x": [
          0.34249999999999997,
          0.377,
          0.5278,
          0.5143
         ],
         "y": [
          9.8,
          10.8,
          11.8,
          12.8
         ]
        },
        {
         "marker": {
          "color": "rgb(81,182,137)"
         },
         "name": "Top 5%",
         "orientation": "h",
         "showlegend": false,
         "type": "bar",
         "width": 0.4,
         "x": [
          0.279,
          0.41729999999999995
         ],
         "y": [
          13.8,
          14.8
         ]
        },
        {
         "marker": {
          "color": "rgb(197,176,213)"
         },
         "name": "Top 5%",
         "orientation": "h",
         "showlegend": false,
         "type": "bar",
         "width": 0.4,
         "x": [
          0.25,
          0.275,
          0.454
         ],
         "y": [
          15.8,
          16.8,
          17.8
         ]
        },
        {
         "marker": {
          "color": "rgb(145,181,214)",
          "pattern": {
           "shape": "/"
          }
         },
         "name": "Bottom 5%",
         "orientation": "h",
         "showlegend": true,
         "type": "bar",
         "width": 0.35,
         "x": [
          0.362,
          0.19169999999999998,
          0.35779999999999995,
          0.3265,
          0.2111
         ],
         "y": [
          0.2,
          1.2,
          2.2,
          3.2,
          4.2
         ]
        },
        {
         "marker": {
          "color": "rgb(255,187,120)",
          "pattern": {
           "shape": "/"
          }
         },
         "name": "Bottom 5%",
         "orientation": "h",
         "showlegend": false,
         "type": "bar",
         "width": 0.35,
         "x": [
          0.449,
          0.374,
          0.244,
          0.277,
          0.3415
         ],
         "y": [
          5.2,
          6.2,
          7.2,
          8.2,
          9.2
         ]
        },
        {
         "marker": {
          "color": "rgb(31,119,180)",
          "pattern": {
           "shape": "/"
          }
         },
         "name": "Bottom 5%",
         "orientation": "h",
         "showlegend": false,
         "type": "bar",
         "width": 0.35,
         "x": [
          0.347,
          0.385,
          0.5588,
          0.596
         ],
         "y": [
          10.2,
          11.2,
          12.2,
          13.2
         ]
        },
        {
         "marker": {
          "color": "rgb(81,182,137)",
          "pattern": {
           "shape": "/"
          }
         },
         "name": "Bottom 5%",
         "orientation": "h",
         "showlegend": false,
         "type": "bar",
         "width": 0.35,
         "x": [
          0.3326,
          0.50103
         ],
         "y": [
          14.2,
          15.2
         ]
        },
        {
         "marker": {
          "color": "rgb(197,176,213)",
          "pattern": {
           "shape": "/"
          }
         },
         "name": "Bottom 5%",
         "orientation": "h",
         "showlegend": false,
         "type": "bar",
         "width": 0.35,
         "x": [
          0.5395,
          0.4184,
          0.379
         ],
         "y": [
          16.2,
          17.2,
          18.2
         ]
        }
       ],
       "layout": {
        "bargroupgap": 0.3,
        "font": {
         "family": "Arial",
         "size": 12
        },
        "height": 600,
        "template": {
         "data": {
          "bar": [
           {
            "error_x": {
             "color": "rgb(36,36,36)"
            },
            "error_y": {
             "color": "rgb(36,36,36)"
            },
            "marker": {
             "line": {
              "color": "white",
              "width": 0.5
             },
             "pattern": {
              "fillmode": "overlay",
              "size": 10,
              "solidity": 0.2
             }
            },
            "type": "bar"
           }
          ],
          "barpolar": [
           {
            "marker": {
             "line": {
              "color": "white",
              "width": 0.5
             },
             "pattern": {
              "fillmode": "overlay",
              "size": 10,
              "solidity": 0.2
             }
            },
            "type": "barpolar"
           }
          ],
          "carpet": [
           {
            "aaxis": {
             "endlinecolor": "rgb(36,36,36)",
             "gridcolor": "white",
             "linecolor": "white",
             "minorgridcolor": "white",
             "startlinecolor": "rgb(36,36,36)"
            },
            "baxis": {
             "endlinecolor": "rgb(36,36,36)",
             "gridcolor": "white",
             "linecolor": "white",
             "minorgridcolor": "white",
             "startlinecolor": "rgb(36,36,36)"
            },
            "type": "carpet"
           }
          ],
          "choropleth": [
           {
            "colorbar": {
             "outlinewidth": 1,
             "tickcolor": "rgb(36,36,36)",
             "ticks": "outside"
            },
            "type": "choropleth"
           }
          ],
          "contour": [
           {
            "colorbar": {
             "outlinewidth": 1,
             "tickcolor": "rgb(36,36,36)",
             "ticks": "outside"
            },
            "colorscale": [
             [
              0,
              "#440154"
             ],
             [
              0.1111111111111111,
              "#482878"
             ],
             [
              0.2222222222222222,
              "#3e4989"
             ],
             [
              0.3333333333333333,
              "#31688e"
             ],
             [
              0.4444444444444444,
              "#26828e"
             ],
             [
              0.5555555555555556,
              "#1f9e89"
             ],
             [
              0.6666666666666666,
              "#35b779"
             ],
             [
              0.7777777777777778,
              "#6ece58"
             ],
             [
              0.8888888888888888,
              "#b5de2b"
             ],
             [
              1,
              "#fde725"
             ]
            ],
            "type": "contour"
           }
          ],
          "contourcarpet": [
           {
            "colorbar": {
             "outlinewidth": 1,
             "tickcolor": "rgb(36,36,36)",
             "ticks": "outside"
            },
            "type": "contourcarpet"
           }
          ],
          "heatmap": [
           {
            "colorbar": {
             "outlinewidth": 1,
             "tickcolor": "rgb(36,36,36)",
             "ticks": "outside"
            },
            "colorscale": [
             [
              0,
              "#440154"
             ],
             [
              0.1111111111111111,
              "#482878"
             ],
             [
              0.2222222222222222,
              "#3e4989"
             ],
             [
              0.3333333333333333,
              "#31688e"
             ],
             [
              0.4444444444444444,
              "#26828e"
             ],
             [
              0.5555555555555556,
              "#1f9e89"
             ],
             [
              0.6666666666666666,
              "#35b779"
             ],
             [
              0.7777777777777778,
              "#6ece58"
             ],
             [
              0.8888888888888888,
              "#b5de2b"
             ],
             [
              1,
              "#fde725"
             ]
            ],
            "type": "heatmap"
           }
          ],
          "heatmapgl": [
           {
            "colorbar": {
             "outlinewidth": 1,
             "tickcolor": "rgb(36,36,36)",
             "ticks": "outside"
            },
            "colorscale": [
             [
              0,
              "#440154"
             ],
             [
              0.1111111111111111,
              "#482878"
             ],
             [
              0.2222222222222222,
              "#3e4989"
             ],
             [
              0.3333333333333333,
              "#31688e"
             ],
             [
              0.4444444444444444,
              "#26828e"
             ],
             [
              0.5555555555555556,
              "#1f9e89"
             ],
             [
              0.6666666666666666,
              "#35b779"
             ],
             [
              0.7777777777777778,
              "#6ece58"
             ],
             [
              0.8888888888888888,
              "#b5de2b"
             ],
             [
              1,
              "#fde725"
             ]
            ],
            "type": "heatmapgl"
           }
          ],
          "histogram": [
           {
            "marker": {
             "line": {
              "color": "white",
              "width": 0.6
             }
            },
            "type": "histogram"
           }
          ],
          "histogram2d": [
           {
            "colorbar": {
             "outlinewidth": 1,
             "tickcolor": "rgb(36,36,36)",
             "ticks": "outside"
            },
            "colorscale": [
             [
              0,
              "#440154"
             ],
             [
              0.1111111111111111,
              "#482878"
             ],
             [
              0.2222222222222222,
              "#3e4989"
             ],
             [
              0.3333333333333333,
              "#31688e"
             ],
             [
              0.4444444444444444,
              "#26828e"
             ],
             [
              0.5555555555555556,
              "#1f9e89"
             ],
             [
              0.6666666666666666,
              "#35b779"
             ],
             [
              0.7777777777777778,
              "#6ece58"
             ],
             [
              0.8888888888888888,
              "#b5de2b"
             ],
             [
              1,
              "#fde725"
             ]
            ],
            "type": "histogram2d"
           }
          ],
          "histogram2dcontour": [
           {
            "colorbar": {
             "outlinewidth": 1,
             "tickcolor": "rgb(36,36,36)",
             "ticks": "outside"
            },
            "colorscale": [
             [
              0,
              "#440154"
             ],
             [
              0.1111111111111111,
              "#482878"
             ],
             [
              0.2222222222222222,
              "#3e4989"
             ],
             [
              0.3333333333333333,
              "#31688e"
             ],
             [
              0.4444444444444444,
              "#26828e"
             ],
             [
              0.5555555555555556,
              "#1f9e89"
             ],
             [
              0.6666666666666666,
              "#35b779"
             ],
             [
              0.7777777777777778,
              "#6ece58"
             ],
             [
              0.8888888888888888,
              "#b5de2b"
             ],
             [
              1,
              "#fde725"
             ]
            ],
            "type": "histogram2dcontour"
           }
          ],
          "mesh3d": [
           {
            "colorbar": {
             "outlinewidth": 1,
             "tickcolor": "rgb(36,36,36)",
             "ticks": "outside"
            },
            "type": "mesh3d"
           }
          ],
          "parcoords": [
           {
            "line": {
             "colorbar": {
              "outlinewidth": 1,
              "tickcolor": "rgb(36,36,36)",
              "ticks": "outside"
             }
            },
            "type": "parcoords"
           }
          ],
          "pie": [
           {
            "automargin": true,
            "type": "pie"
           }
          ],
          "scatter": [
           {
            "fillpattern": {
             "fillmode": "overlay",
             "size": 10,
             "solidity": 0.2
            },
            "type": "scatter"
           }
          ],
          "scatter3d": [
           {
            "line": {
             "colorbar": {
              "outlinewidth": 1,
              "tickcolor": "rgb(36,36,36)",
              "ticks": "outside"
             }
            },
            "marker": {
             "colorbar": {
              "outlinewidth": 1,
              "tickcolor": "rgb(36,36,36)",
              "ticks": "outside"
             }
            },
            "type": "scatter3d"
           }
          ],
          "scattercarpet": [
           {
            "marker": {
             "colorbar": {
              "outlinewidth": 1,
              "tickcolor": "rgb(36,36,36)",
              "ticks": "outside"
             }
            },
            "type": "scattercarpet"
           }
          ],
          "scattergeo": [
           {
            "marker": {
             "colorbar": {
              "outlinewidth": 1,
              "tickcolor": "rgb(36,36,36)",
              "ticks": "outside"
             }
            },
            "type": "scattergeo"
           }
          ],
          "scattergl": [
           {
            "marker": {
             "colorbar": {
              "outlinewidth": 1,
              "tickcolor": "rgb(36,36,36)",
              "ticks": "outside"
             }
            },
            "type": "scattergl"
           }
          ],
          "scattermapbox": [
           {
            "marker": {
             "colorbar": {
              "outlinewidth": 1,
              "tickcolor": "rgb(36,36,36)",
              "ticks": "outside"
             }
            },
            "type": "scattermapbox"
           }
          ],
          "scatterpolar": [
           {
            "marker": {
             "colorbar": {
              "outlinewidth": 1,
              "tickcolor": "rgb(36,36,36)",
              "ticks": "outside"
             }
            },
            "type": "scatterpolar"
           }
          ],
          "scatterpolargl": [
           {
            "marker": {
             "colorbar": {
              "outlinewidth": 1,
              "tickcolor": "rgb(36,36,36)",
              "ticks": "outside"
             }
            },
            "type": "scatterpolargl"
           }
          ],
          "scatterternary": [
           {
            "marker": {
             "colorbar": {
              "outlinewidth": 1,
              "tickcolor": "rgb(36,36,36)",
              "ticks": "outside"
             }
            },
            "type": "scatterternary"
           }
          ],
          "surface": [
           {
            "colorbar": {
             "outlinewidth": 1,
             "tickcolor": "rgb(36,36,36)",
             "ticks": "outside"
            },
            "colorscale": [
             [
              0,
              "#440154"
             ],
             [
              0.1111111111111111,
              "#482878"
             ],
             [
              0.2222222222222222,
              "#3e4989"
             ],
             [
              0.3333333333333333,
              "#31688e"
             ],
             [
              0.4444444444444444,
              "#26828e"
             ],
             [
              0.5555555555555556,
              "#1f9e89"
             ],
             [
              0.6666666666666666,
              "#35b779"
             ],
             [
              0.7777777777777778,
              "#6ece58"
             ],
             [
              0.8888888888888888,
              "#b5de2b"
             ],
             [
              1,
              "#fde725"
             ]
            ],
            "type": "surface"
           }
          ],
          "table": [
           {
            "cells": {
             "fill": {
              "color": "rgb(237,237,237)"
             },
             "line": {
              "color": "white"
             }
            },
            "header": {
             "fill": {
              "color": "rgb(217,217,217)"
             },
             "line": {
              "color": "white"
             }
            },
            "type": "table"
           }
          ]
         },
         "layout": {
          "annotationdefaults": {
           "arrowhead": 0,
           "arrowwidth": 1
          },
          "autotypenumbers": "strict",
          "coloraxis": {
           "colorbar": {
            "outlinewidth": 1,
            "tickcolor": "rgb(36,36,36)",
            "ticks": "outside"
           }
          },
          "colorscale": {
           "diverging": [
            [
             0,
             "rgb(103,0,31)"
            ],
            [
             0.1,
             "rgb(178,24,43)"
            ],
            [
             0.2,
             "rgb(214,96,77)"
            ],
            [
             0.3,
             "rgb(244,165,130)"
            ],
            [
             0.4,
             "rgb(253,219,199)"
            ],
            [
             0.5,
             "rgb(247,247,247)"
            ],
            [
             0.6,
             "rgb(209,229,240)"
            ],
            [
             0.7,
             "rgb(146,197,222)"
            ],
            [
             0.8,
             "rgb(67,147,195)"
            ],
            [
             0.9,
             "rgb(33,102,172)"
            ],
            [
             1,
             "rgb(5,48,97)"
            ]
           ],
           "sequential": [
            [
             0,
             "#440154"
            ],
            [
             0.1111111111111111,
             "#482878"
            ],
            [
             0.2222222222222222,
             "#3e4989"
            ],
            [
             0.3333333333333333,
             "#31688e"
            ],
            [
             0.4444444444444444,
             "#26828e"
            ],
            [
             0.5555555555555556,
             "#1f9e89"
            ],
            [
             0.6666666666666666,
             "#35b779"
            ],
            [
             0.7777777777777778,
             "#6ece58"
            ],
            [
             0.8888888888888888,
             "#b5de2b"
            ],
            [
             1,
             "#fde725"
            ]
           ],
           "sequentialminus": [
            [
             0,
             "#440154"
            ],
            [
             0.1111111111111111,
             "#482878"
            ],
            [
             0.2222222222222222,
             "#3e4989"
            ],
            [
             0.3333333333333333,
             "#31688e"
            ],
            [
             0.4444444444444444,
             "#26828e"
            ],
            [
             0.5555555555555556,
             "#1f9e89"
            ],
            [
             0.6666666666666666,
             "#35b779"
            ],
            [
             0.7777777777777778,
             "#6ece58"
            ],
            [
             0.8888888888888888,
             "#b5de2b"
            ],
            [
             1,
             "#fde725"
            ]
           ]
          },
          "colorway": [
           "#1F77B4",
           "#FF7F0E",
           "#2CA02C",
           "#D62728",
           "#9467BD",
           "#8C564B",
           "#E377C2",
           "#7F7F7F",
           "#BCBD22",
           "#17BECF"
          ],
          "font": {
           "color": "rgb(36,36,36)"
          },
          "geo": {
           "bgcolor": "white",
           "lakecolor": "white",
           "landcolor": "white",
           "showlakes": true,
           "showland": true,
           "subunitcolor": "white"
          },
          "hoverlabel": {
           "align": "left"
          },
          "hovermode": "closest",
          "mapbox": {
           "style": "light"
          },
          "paper_bgcolor": "white",
          "plot_bgcolor": "white",
          "polar": {
           "angularaxis": {
            "gridcolor": "rgb(232,232,232)",
            "linecolor": "rgb(36,36,36)",
            "showgrid": false,
            "showline": true,
            "ticks": "outside"
           },
           "bgcolor": "white",
           "radialaxis": {
            "gridcolor": "rgb(232,232,232)",
            "linecolor": "rgb(36,36,36)",
            "showgrid": false,
            "showline": true,
            "ticks": "outside"
           }
          },
          "scene": {
           "xaxis": {
            "backgroundcolor": "white",
            "gridcolor": "rgb(232,232,232)",
            "gridwidth": 2,
            "linecolor": "rgb(36,36,36)",
            "showbackground": true,
            "showgrid": false,
            "showline": true,
            "ticks": "outside",
            "zeroline": false,
            "zerolinecolor": "rgb(36,36,36)"
           },
           "yaxis": {
            "backgroundcolor": "white",
            "gridcolor": "rgb(232,232,232)",
            "gridwidth": 2,
            "linecolor": "rgb(36,36,36)",
            "showbackground": true,
            "showgrid": false,
            "showline": true,
            "ticks": "outside",
            "zeroline": false,
            "zerolinecolor": "rgb(36,36,36)"
           },
           "zaxis": {
            "backgroundcolor": "white",
            "gridcolor": "rgb(232,232,232)",
            "gridwidth": 2,
            "linecolor": "rgb(36,36,36)",
            "showbackground": true,
            "showgrid": false,
            "showline": true,
            "ticks": "outside",
            "zeroline": false,
            "zerolinecolor": "rgb(36,36,36)"
           }
          },
          "shapedefaults": {
           "fillcolor": "black",
           "line": {
            "width": 0
           },
           "opacity": 0.3
          },
          "ternary": {
           "aaxis": {
            "gridcolor": "rgb(232,232,232)",
            "linecolor": "rgb(36,36,36)",
            "showgrid": false,
            "showline": true,
            "ticks": "outside"
           },
           "baxis": {
            "gridcolor": "rgb(232,232,232)",
            "linecolor": "rgb(36,36,36)",
            "showgrid": false,
            "showline": true,
            "ticks": "outside"
           },
           "bgcolor": "white",
           "caxis": {
            "gridcolor": "rgb(232,232,232)",
            "linecolor": "rgb(36,36,36)",
            "showgrid": false,
            "showline": true,
            "ticks": "outside"
           }
          },
          "title": {
           "x": 0.05
          },
          "xaxis": {
           "automargin": true,
           "gridcolor": "rgb(232,232,232)",
           "linecolor": "rgb(36,36,36)",
           "showgrid": false,
           "showline": true,
           "ticks": "outside",
           "title": {
            "standoff": 15
           },
           "zeroline": false,
           "zerolinecolor": "rgb(36,36,36)"
          },
          "yaxis": {
           "automargin": true,
           "gridcolor": "rgb(232,232,232)",
           "linecolor": "rgb(36,36,36)",
           "showgrid": false,
           "showline": true,
           "ticks": "outside",
           "title": {
            "standoff": 15
           },
           "zeroline": false,
           "zerolinecolor": "rgb(36,36,36)"
          }
         }
        },
        "width": 400,
        "xaxis": {
         "mirror": true,
         "tickformat": ".0%",
         "title": {
          "text": "% women corresponding authors"
         }
        },
        "yaxis": {
         "autorange": "reversed",
         "mirror": true,
         "ticklen": 0,
         "ticktext": [
          "Biology",
          "Chemistry",
          "Earth & Env Sciences",
          "Math & Stat",
          "Physics & Astronomy",
          "Agri, Fish & Forestry",
          "Built Env & Design",
          "Enab & Strategic Tech",
          "Engineering",
          "Info & Com Tech",
          "Biomedical Research",
          "Clinical Medicine",
          "Psych & Cog Sciences",
          "Public Health & Services",
          "Econ & Business",
          "Social Sciences",
          "Com & Text Studies",
          "Historical Studies",
          "Phil & Theo"
         ],
         "tickvals": [
          0,
          1,
          2,
          3,
          4,
          5,
          6,
          7,
          8,
          9,
          10,
          11,
          12,
          13,
          14,
          15,
          16,
          17,
          18
         ]
        }
       }
      }
     },
     "metadata": {},
     "output_type": "display_data"
    }
   ],
   "source": [
    "# Create a bar chart\n",
    "fig = go.Figure()\n",
    "offset = 0.2\n",
    "\n",
    "\n",
    "for i, domain in enumerate(domains):\n",
    "        t = df.query(\"domain == @domain\")\n",
    "        if len(t) == 0:\n",
    "            continue\n",
    "        fig.add_trace(\n",
    "            go.Bar(\n",
    "                x=t[\"top_pct\"],\n",
    "                y=[subdomains.index(s) - offset for j, s in enumerate(t[\"subdomain\"])],\n",
    "                orientation=\"h\",\n",
    "                marker_color=domain_colors[domain],\n",
    "                name=\"Top 5%\",\n",
    "                showlegend=True if i == 0 else False,\n",
    "                width=0.4,\n",
    "            )\n",
    "        )\n",
    "\n",
    "for i, domain in enumerate(domains):\n",
    "    t = df.query(\"domain == @domain\")\n",
    "    if len(t) == 0:\n",
    "        continue\n",
    "    fig.add_trace(\n",
    "        go.Bar(\n",
    "            x=t[\"bottom_pct\"],\n",
    "            y=[subdomains.index(s) + offset for j, s in enumerate(t[\"subdomain\"])],\n",
    "            orientation=\"h\",\n",
    "            marker=dict(color=domain_colors[domain], pattern_shape=\"/\"),\n",
    "            name=\"Bottom 5%\",\n",
    "            showlegend=True if i == 0 else False,\n",
    "            width=0.35,\n",
    "        )\n",
    "    )\n",
    "\n",
    "# Customize layout\n",
    "fig.update_layout(\n",
    "    template=\"simple_white\",\n",
    "    font=dict(size=12, family=\"Arial\"),\n",
    "    height=600,\n",
    "    width=400,\n",
    "    bargroupgap=0.3,\n",
    ")\n",
    "\n",
    "fig.update_xaxes(title=r\"% women corresponding authors\", mirror=True, tickformat=\".0%\")\n",
    "fig.update_yaxes(autorange=\"reversed\", mirror=True, ticklen=0, tickvals=list(range(len(subdomains))), ticktext=subdomains)\n",
    "\n",
    "# Show the plot\n",
    "fig.show()\n",
    "fig.write_image(\"figures/raw_count_top_bottom_bar.svg\")\n"
   ]
  },
  {
   "cell_type": "code",
   "execution_count": 58,
   "metadata": {},
   "outputs": [
    {
     "data": {
      "text/html": [
       "<div>\n",
       "<style scoped>\n",
       "    .dataframe tbody tr th:only-of-type {\n",
       "        vertical-align: middle;\n",
       "    }\n",
       "\n",
       "    .dataframe tbody tr th {\n",
       "        vertical-align: top;\n",
       "    }\n",
       "\n",
       "    .dataframe thead th {\n",
       "        text-align: right;\n",
       "    }\n",
       "</style>\n",
       "<table border=\"1\" class=\"dataframe\">\n",
       "  <thead>\n",
       "    <tr style=\"text-align: right;\">\n",
       "      <th></th>\n",
       "      <th>Category</th>\n",
       "      <th>Group</th>\n",
       "      <th>Percent</th>\n",
       "    </tr>\n",
       "  </thead>\n",
       "  <tbody>\n",
       "    <tr>\n",
       "      <th>0</th>\n",
       "      <td>Local</td>\n",
       "      <td>Treatment</td>\n",
       "      <td>0.40540</td>\n",
       "    </tr>\n",
       "    <tr>\n",
       "      <th>1</th>\n",
       "      <td>Local</td>\n",
       "      <td>Control</td>\n",
       "      <td>0.37820</td>\n",
       "    </tr>\n",
       "    <tr>\n",
       "      <th>2</th>\n",
       "      <td>National</td>\n",
       "      <td>Treatment</td>\n",
       "      <td>0.37030</td>\n",
       "    </tr>\n",
       "    <tr>\n",
       "      <th>3</th>\n",
       "      <td>National</td>\n",
       "      <td>Control</td>\n",
       "      <td>0.39400</td>\n",
       "    </tr>\n",
       "    <tr>\n",
       "      <th>4</th>\n",
       "      <td>International</td>\n",
       "      <td>Treatment</td>\n",
       "      <td>0.37910</td>\n",
       "    </tr>\n",
       "    <tr>\n",
       "      <th>5</th>\n",
       "      <td>International</td>\n",
       "      <td>Control</td>\n",
       "      <td>0.38247</td>\n",
       "    </tr>\n",
       "    <tr>\n",
       "      <th>6</th>\n",
       "      <td>Specialty</td>\n",
       "      <td>Treatment</td>\n",
       "      <td>0.37733</td>\n",
       "    </tr>\n",
       "    <tr>\n",
       "      <th>7</th>\n",
       "      <td>Specialty</td>\n",
       "      <td>Control</td>\n",
       "      <td>0.41240</td>\n",
       "    </tr>\n",
       "  </tbody>\n",
       "</table>\n",
       "</div>"
      ],
      "text/plain": [
       "        Category      Group  Percent\n",
       "0          Local  Treatment  0.40540\n",
       "1          Local    Control  0.37820\n",
       "2       National  Treatment  0.37030\n",
       "3       National    Control  0.39400\n",
       "4  International  Treatment  0.37910\n",
       "5  International    Control  0.38247\n",
       "6      Specialty  Treatment  0.37733\n",
       "7      Specialty    Control  0.41240"
      ]
     },
     "execution_count": 58,
     "metadata": {},
     "output_type": "execute_result"
    }
   ],
   "source": [
    "df = pd.read_excel(\"media level.xlsx\", sheet_name=\"cite\")\n",
    "df[\"Group\"] = df[\"Group\"].map({\"Cited\": \"Treatment\", \"Uncited\": \"Control\"})\n",
    "df"
   ]
  },
  {
   "cell_type": "code",
   "execution_count": null,
   "metadata": {
    "colab": {
     "base_uri": "https://localhost:8080/",
     "height": 634
    },
    "id": "eP_55m-FLvzg",
    "outputId": "4c522610-be58-40b8-9965-339cb6b4eb95"
   },
   "outputs": [
    {
     "data": {
      "application/vnd.plotly.v1+json": {
       "config": {
        "plotlyServerURL": "https://plot.ly"
       },
       "data": [
        {
         "marker": {
          "color": "rgb(84,198,103)",
          "pattern": {
           "shape": ""
          }
         },
         "name": "Treatment",
         "showlegend": true,
         "type": "bar",
         "width": 0.3,
         "x": [
          -0.15
         ],
         "y": [
          0.4054
         ]
        },
        {
         "marker": {
          "color": "rgb(84,198,103)",
          "pattern": {
           "shape": "-"
          }
         },
         "name": "Control",
         "showlegend": true,
         "type": "bar",
         "width": 0.3,
         "x": [
          0.15
         ],
         "y": [
          0.3782
         ]
        },
        {
         "marker": {
          "color": "rgb(35,138,141)",
          "pattern": {
           "shape": ""
          }
         },
         "name": "Treatment",
         "showlegend": false,
         "type": "bar",
         "width": 0.3,
         "x": [
          0.85
         ],
         "y": [
          0.3703
         ]
        },
        {
         "marker": {
          "color": "rgb(35,138,141)",
          "pattern": {
           "shape": "-"
          }
         },
         "name": "Control",
         "showlegend": false,
         "type": "bar",
         "width": 0.3,
         "x": [
          1.15
         ],
         "y": [
          0.394
         ]
        },
        {
         "marker": {
          "color": "rgb(64,71,136)",
          "pattern": {
           "shape": ""
          }
         },
         "name": "Treatment",
         "showlegend": false,
         "type": "bar",
         "width": 0.3,
         "x": [
          1.85
         ],
         "y": [
          0.3791
         ]
        },
        {
         "marker": {
          "color": "rgb(64,71,136)",
          "pattern": {
           "shape": "-"
          }
         },
         "name": "Control",
         "showlegend": false,
         "type": "bar",
         "width": 0.3,
         "x": [
          2.15
         ],
         "y": [
          0.38247
         ]
        },
        {
         "marker": {
          "color": "rgb(227,114,82)",
          "pattern": {
           "shape": ""
          }
         },
         "name": "Treatment",
         "showlegend": false,
         "type": "bar",
         "width": 0.3,
         "x": [
          2.85
         ],
         "y": [
          0.37733
         ]
        },
        {
         "marker": {
          "color": "rgb(227,114,82)",
          "pattern": {
           "shape": "-"
          }
         },
         "name": "Control",
         "showlegend": false,
         "type": "bar",
         "width": 0.3,
         "x": [
          3.15
         ],
         "y": [
          0.4124
         ]
        }
       ],
       "layout": {
        "annotations": [
         {
          "font": {
           "color": "red",
           "size": 12
          },
          "showarrow": false,
          "text": "% in<br>all data",
          "x": 1,
          "xanchor": "left",
          "xref": "paper",
          "y": 0.3705,
          "yref": "y"
         }
        ],
        "bargap": 0,
        "barmode": "group",
        "font": {
         "family": "Arial",
         "size": 12
        },
        "height": 350,
        "legend": {
         "bgcolor": "rgba(255, 255, 255, 0)",
         "orientation": "h",
         "title": {},
         "x": 0.5,
         "xanchor": "center",
         "y": -0.22
        },
        "margin": {
         "b": 20,
         "l": 100,
         "r": 50,
         "t": 50
        },
        "shapes": [
         {
          "line": {
           "color": "red",
           "dash": "solid",
           "width": 3
          },
          "type": "line",
          "x0": 0,
          "x1": 1,
          "xref": "x domain",
          "y0": 0.3705,
          "y1": 0.3705,
          "yref": "y"
         }
        ],
        "template": {
         "data": {
          "bar": [
           {
            "error_x": {
             "color": "rgb(36,36,36)"
            },
            "error_y": {
             "color": "rgb(36,36,36)"
            },
            "marker": {
             "line": {
              "color": "white",
              "width": 0.5
             },
             "pattern": {
              "fillmode": "overlay",
              "size": 10,
              "solidity": 0.2
             }
            },
            "type": "bar"
           }
          ],
          "barpolar": [
           {
            "marker": {
             "line": {
              "color": "white",
              "width": 0.5
             },
             "pattern": {
              "fillmode": "overlay",
              "size": 10,
              "solidity": 0.2
             }
            },
            "type": "barpolar"
           }
          ],
          "carpet": [
           {
            "aaxis": {
             "endlinecolor": "rgb(36,36,36)",
             "gridcolor": "white",
             "linecolor": "white",
             "minorgridcolor": "white",
             "startlinecolor": "rgb(36,36,36)"
            },
            "baxis": {
             "endlinecolor": "rgb(36,36,36)",
             "gridcolor": "white",
             "linecolor": "white",
             "minorgridcolor": "white",
             "startlinecolor": "rgb(36,36,36)"
            },
            "type": "carpet"
           }
          ],
          "choropleth": [
           {
            "colorbar": {
             "outlinewidth": 1,
             "tickcolor": "rgb(36,36,36)",
             "ticks": "outside"
            },
            "type": "choropleth"
           }
          ],
          "contour": [
           {
            "colorbar": {
             "outlinewidth": 1,
             "tickcolor": "rgb(36,36,36)",
             "ticks": "outside"
            },
            "colorscale": [
             [
              0,
              "#440154"
             ],
             [
              0.1111111111111111,
              "#482878"
             ],
             [
              0.2222222222222222,
              "#3e4989"
             ],
             [
              0.3333333333333333,
              "#31688e"
             ],
             [
              0.4444444444444444,
              "#26828e"
             ],
             [
              0.5555555555555556,
              "#1f9e89"
             ],
             [
              0.6666666666666666,
              "#35b779"
             ],
             [
              0.7777777777777778,
              "#6ece58"
             ],
             [
              0.8888888888888888,
              "#b5de2b"
             ],
             [
              1,
              "#fde725"
             ]
            ],
            "type": "contour"
           }
          ],
          "contourcarpet": [
           {
            "colorbar": {
             "outlinewidth": 1,
             "tickcolor": "rgb(36,36,36)",
             "ticks": "outside"
            },
            "type": "contourcarpet"
           }
          ],
          "heatmap": [
           {
            "colorbar": {
             "outlinewidth": 1,
             "tickcolor": "rgb(36,36,36)",
             "ticks": "outside"
            },
            "colorscale": [
             [
              0,
              "#440154"
             ],
             [
              0.1111111111111111,
              "#482878"
             ],
             [
              0.2222222222222222,
              "#3e4989"
             ],
             [
              0.3333333333333333,
              "#31688e"
             ],
             [
              0.4444444444444444,
              "#26828e"
             ],
             [
              0.5555555555555556,
              "#1f9e89"
             ],
             [
              0.6666666666666666,
              "#35b779"
             ],
             [
              0.7777777777777778,
              "#6ece58"
             ],
             [
              0.8888888888888888,
              "#b5de2b"
             ],
             [
              1,
              "#fde725"
             ]
            ],
            "type": "heatmap"
           }
          ],
          "heatmapgl": [
           {
            "colorbar": {
             "outlinewidth": 1,
             "tickcolor": "rgb(36,36,36)",
             "ticks": "outside"
            },
            "colorscale": [
             [
              0,
              "#440154"
             ],
             [
              0.1111111111111111,
              "#482878"
             ],
             [
              0.2222222222222222,
              "#3e4989"
             ],
             [
              0.3333333333333333,
              "#31688e"
             ],
             [
              0.4444444444444444,
              "#26828e"
             ],
             [
              0.5555555555555556,
              "#1f9e89"
             ],
             [
              0.6666666666666666,
              "#35b779"
             ],
             [
              0.7777777777777778,
              "#6ece58"
             ],
             [
              0.8888888888888888,
              "#b5de2b"
             ],
             [
              1,
              "#fde725"
             ]
            ],
            "type": "heatmapgl"
           }
          ],
          "histogram": [
           {
            "marker": {
             "line": {
              "color": "white",
              "width": 0.6
             }
            },
            "type": "histogram"
           }
          ],
          "histogram2d": [
           {
            "colorbar": {
             "outlinewidth": 1,
             "tickcolor": "rgb(36,36,36)",
             "ticks": "outside"
            },
            "colorscale": [
             [
              0,
              "#440154"
             ],
             [
              0.1111111111111111,
              "#482878"
             ],
             [
              0.2222222222222222,
              "#3e4989"
             ],
             [
              0.3333333333333333,
              "#31688e"
             ],
             [
              0.4444444444444444,
              "#26828e"
             ],
             [
              0.5555555555555556,
              "#1f9e89"
             ],
             [
              0.6666666666666666,
              "#35b779"
             ],
             [
              0.7777777777777778,
              "#6ece58"
             ],
             [
              0.8888888888888888,
              "#b5de2b"
             ],
             [
              1,
              "#fde725"
             ]
            ],
            "type": "histogram2d"
           }
          ],
          "histogram2dcontour": [
           {
            "colorbar": {
             "outlinewidth": 1,
             "tickcolor": "rgb(36,36,36)",
             "ticks": "outside"
            },
            "colorscale": [
             [
              0,
              "#440154"
             ],
             [
              0.1111111111111111,
              "#482878"
             ],
             [
              0.2222222222222222,
              "#3e4989"
             ],
             [
              0.3333333333333333,
              "#31688e"
             ],
             [
              0.4444444444444444,
              "#26828e"
             ],
             [
              0.5555555555555556,
              "#1f9e89"
             ],
             [
              0.6666666666666666,
              "#35b779"
             ],
             [
              0.7777777777777778,
              "#6ece58"
             ],
             [
              0.8888888888888888,
              "#b5de2b"
             ],
             [
              1,
              "#fde725"
             ]
            ],
            "type": "histogram2dcontour"
           }
          ],
          "mesh3d": [
           {
            "colorbar": {
             "outlinewidth": 1,
             "tickcolor": "rgb(36,36,36)",
             "ticks": "outside"
            },
            "type": "mesh3d"
           }
          ],
          "parcoords": [
           {
            "line": {
             "colorbar": {
              "outlinewidth": 1,
              "tickcolor": "rgb(36,36,36)",
              "ticks": "outside"
             }
            },
            "type": "parcoords"
           }
          ],
          "pie": [
           {
            "automargin": true,
            "type": "pie"
           }
          ],
          "scatter": [
           {
            "fillpattern": {
             "fillmode": "overlay",
             "size": 10,
             "solidity": 0.2
            },
            "type": "scatter"
           }
          ],
          "scatter3d": [
           {
            "line": {
             "colorbar": {
              "outlinewidth": 1,
              "tickcolor": "rgb(36,36,36)",
              "ticks": "outside"
             }
            },
            "marker": {
             "colorbar": {
              "outlinewidth": 1,
              "tickcolor": "rgb(36,36,36)",
              "ticks": "outside"
             }
            },
            "type": "scatter3d"
           }
          ],
          "scattercarpet": [
           {
            "marker": {
             "colorbar": {
              "outlinewidth": 1,
              "tickcolor": "rgb(36,36,36)",
              "ticks": "outside"
             }
            },
            "type": "scattercarpet"
           }
          ],
          "scattergeo": [
           {
            "marker": {
             "colorbar": {
              "outlinewidth": 1,
              "tickcolor": "rgb(36,36,36)",
              "ticks": "outside"
             }
            },
            "type": "scattergeo"
           }
          ],
          "scattergl": [
           {
            "marker": {
             "colorbar": {
              "outlinewidth": 1,
              "tickcolor": "rgb(36,36,36)",
              "ticks": "outside"
             }
            },
            "type": "scattergl"
           }
          ],
          "scattermapbox": [
           {
            "marker": {
             "colorbar": {
              "outlinewidth": 1,
              "tickcolor": "rgb(36,36,36)",
              "ticks": "outside"
             }
            },
            "type": "scattermapbox"
           }
          ],
          "scatterpolar": [
           {
            "marker": {
             "colorbar": {
              "outlinewidth": 1,
              "tickcolor": "rgb(36,36,36)",
              "ticks": "outside"
             }
            },
            "type": "scatterpolar"
           }
          ],
          "scatterpolargl": [
           {
            "marker": {
             "colorbar": {
              "outlinewidth": 1,
              "tickcolor": "rgb(36,36,36)",
              "ticks": "outside"
             }
            },
            "type": "scatterpolargl"
           }
          ],
          "scatterternary": [
           {
            "marker": {
             "colorbar": {
              "outlinewidth": 1,
              "tickcolor": "rgb(36,36,36)",
              "ticks": "outside"
             }
            },
            "type": "scatterternary"
           }
          ],
          "surface": [
           {
            "colorbar": {
             "outlinewidth": 1,
             "tickcolor": "rgb(36,36,36)",
             "ticks": "outside"
            },
            "colorscale": [
             [
              0,
              "#440154"
             ],
             [
              0.1111111111111111,
              "#482878"
             ],
             [
              0.2222222222222222,
              "#3e4989"
             ],
             [
              0.3333333333333333,
              "#31688e"
             ],
             [
              0.4444444444444444,
              "#26828e"
             ],
             [
              0.5555555555555556,
              "#1f9e89"
             ],
             [
              0.6666666666666666,
              "#35b779"
             ],
             [
              0.7777777777777778,
              "#6ece58"
             ],
             [
              0.8888888888888888,
              "#b5de2b"
             ],
             [
              1,
              "#fde725"
             ]
            ],
            "type": "surface"
           }
          ],
          "table": [
           {
            "cells": {
             "fill": {
              "color": "rgb(237,237,237)"
             },
             "line": {
              "color": "white"
             }
            },
            "header": {
             "fill": {
              "color": "rgb(217,217,217)"
             },
             "line": {
              "color": "white"
             }
            },
            "type": "table"
           }
          ]
         },
         "layout": {
          "annotationdefaults": {
           "arrowhead": 0,
           "arrowwidth": 1
          },
          "autotypenumbers": "strict",
          "coloraxis": {
           "colorbar": {
            "outlinewidth": 1,
            "tickcolor": "rgb(36,36,36)",
            "ticks": "outside"
           }
          },
          "colorscale": {
           "diverging": [
            [
             0,
             "rgb(103,0,31)"
            ],
            [
             0.1,
             "rgb(178,24,43)"
            ],
            [
             0.2,
             "rgb(214,96,77)"
            ],
            [
             0.3,
             "rgb(244,165,130)"
            ],
            [
             0.4,
             "rgb(253,219,199)"
            ],
            [
             0.5,
             "rgb(247,247,247)"
            ],
            [
             0.6,
             "rgb(209,229,240)"
            ],
            [
             0.7,
             "rgb(146,197,222)"
            ],
            [
             0.8,
             "rgb(67,147,195)"
            ],
            [
             0.9,
             "rgb(33,102,172)"
            ],
            [
             1,
             "rgb(5,48,97)"
            ]
           ],
           "sequential": [
            [
             0,
             "#440154"
            ],
            [
             0.1111111111111111,
             "#482878"
            ],
            [
             0.2222222222222222,
             "#3e4989"
            ],
            [
             0.3333333333333333,
             "#31688e"
            ],
            [
             0.4444444444444444,
             "#26828e"
            ],
            [
             0.5555555555555556,
             "#1f9e89"
            ],
            [
             0.6666666666666666,
             "#35b779"
            ],
            [
             0.7777777777777778,
             "#6ece58"
            ],
            [
             0.8888888888888888,
             "#b5de2b"
            ],
            [
             1,
             "#fde725"
            ]
           ],
           "sequentialminus": [
            [
             0,
             "#440154"
            ],
            [
             0.1111111111111111,
             "#482878"
            ],
            [
             0.2222222222222222,
             "#3e4989"
            ],
            [
             0.3333333333333333,
             "#31688e"
            ],
            [
             0.4444444444444444,
             "#26828e"
            ],
            [
             0.5555555555555556,
             "#1f9e89"
            ],
            [
             0.6666666666666666,
             "#35b779"
            ],
            [
             0.7777777777777778,
             "#6ece58"
            ],
            [
             0.8888888888888888,
             "#b5de2b"
            ],
            [
             1,
             "#fde725"
            ]
           ]
          },
          "colorway": [
           "#1F77B4",
           "#FF7F0E",
           "#2CA02C",
           "#D62728",
           "#9467BD",
           "#8C564B",
           "#E377C2",
           "#7F7F7F",
           "#BCBD22",
           "#17BECF"
          ],
          "font": {
           "color": "rgb(36,36,36)"
          },
          "geo": {
           "bgcolor": "white",
           "lakecolor": "white",
           "landcolor": "white",
           "showlakes": true,
           "showland": true,
           "subunitcolor": "white"
          },
          "hoverlabel": {
           "align": "left"
          },
          "hovermode": "closest",
          "mapbox": {
           "style": "light"
          },
          "paper_bgcolor": "white",
          "plot_bgcolor": "white",
          "polar": {
           "angularaxis": {
            "gridcolor": "rgb(232,232,232)",
            "linecolor": "rgb(36,36,36)",
            "showgrid": false,
            "showline": true,
            "ticks": "outside"
           },
           "bgcolor": "white",
           "radialaxis": {
            "gridcolor": "rgb(232,232,232)",
            "linecolor": "rgb(36,36,36)",
            "showgrid": false,
            "showline": true,
            "ticks": "outside"
           }
          },
          "scene": {
           "xaxis": {
            "backgroundcolor": "white",
            "gridcolor": "rgb(232,232,232)",
            "gridwidth": 2,
            "linecolor": "rgb(36,36,36)",
            "showbackground": true,
            "showgrid": false,
            "showline": true,
            "ticks": "outside",
            "zeroline": false,
            "zerolinecolor": "rgb(36,36,36)"
           },
           "yaxis": {
            "backgroundcolor": "white",
            "gridcolor": "rgb(232,232,232)",
            "gridwidth": 2,
            "linecolor": "rgb(36,36,36)",
            "showbackground": true,
            "showgrid": false,
            "showline": true,
            "ticks": "outside",
            "zeroline": false,
            "zerolinecolor": "rgb(36,36,36)"
           },
           "zaxis": {
            "backgroundcolor": "white",
            "gridcolor": "rgb(232,232,232)",
            "gridwidth": 2,
            "linecolor": "rgb(36,36,36)",
            "showbackground": true,
            "showgrid": false,
            "showline": true,
            "ticks": "outside",
            "zeroline": false,
            "zerolinecolor": "rgb(36,36,36)"
           }
          },
          "shapedefaults": {
           "fillcolor": "black",
           "line": {
            "width": 0
           },
           "opacity": 0.3
          },
          "ternary": {
           "aaxis": {
            "gridcolor": "rgb(232,232,232)",
            "linecolor": "rgb(36,36,36)",
            "showgrid": false,
            "showline": true,
            "ticks": "outside"
           },
           "baxis": {
            "gridcolor": "rgb(232,232,232)",
            "linecolor": "rgb(36,36,36)",
            "showgrid": false,
            "showline": true,
            "ticks": "outside"
           },
           "bgcolor": "white",
           "caxis": {
            "gridcolor": "rgb(232,232,232)",
            "linecolor": "rgb(36,36,36)",
            "showgrid": false,
            "showline": true,
            "ticks": "outside"
           }
          },
          "title": {
           "x": 0.05
          },
          "xaxis": {
           "automargin": true,
           "gridcolor": "rgb(232,232,232)",
           "linecolor": "rgb(36,36,36)",
           "showgrid": false,
           "showline": true,
           "ticks": "outside",
           "title": {
            "standoff": 15
           },
           "zeroline": false,
           "zerolinecolor": "rgb(36,36,36)"
          },
          "yaxis": {
           "automargin": true,
           "gridcolor": "rgb(232,232,232)",
           "linecolor": "rgb(36,36,36)",
           "showgrid": false,
           "showline": true,
           "ticks": "outside",
           "title": {
            "standoff": 15
           },
           "zeroline": false,
           "zerolinecolor": "rgb(36,36,36)"
          }
         }
        },
        "width": 380,
        "xaxis": {
         "range": [
          -0.5,
          3.5
         ],
         "ticktext": [
          "Local",
          "National",
          "International",
          "Specialty"
         ],
         "tickvals": [
          0,
          1,
          2,
          3
         ],
         "title": {}
        },
        "yaxis": {
         "tickformat": ".0%",
         "title": {
          "text": "% women corresponding authors"
         }
        }
       }
      }
     },
     "metadata": {},
     "output_type": "display_data"
    }
   ],
   "source": [
    "# Create a bar chart\n",
    "fig = go.Figure()\n",
    "offset = 0.15\n",
    "\n",
    "for i, media in enumerate(medias):\n",
    "    for j, group in enumerate([\"Treatment\", \"Control\"]):\n",
    "        t = df.query(\"Category == @media and Group == @group\")\n",
    "        fig.add_trace(\n",
    "            go.Bar(\n",
    "                x=[i - offset] if group == \"Treatment\" else [i + offset],\n",
    "                y=t[\"Percent\"],\n",
    "                marker=dict(color = media_colors[media],\n",
    "                            pattern_shape=\"-\" if group == \"Control\" else \"\"\n",
    "                            ),\n",
    "                name=group,\n",
    "                showlegend=True if media == \"Local\" else False,\n",
    "                width=offset * 2,\n",
    "            )\n",
    "        )\n",
    "\n",
    "fig.update_layout(\n",
    "    template=\"simple_white\",\n",
    "    font=dict(size=12, family=\"Arial\"),\n",
    "    height=350,\n",
    "    width=380,\n",
    "    margin=dict(l=100, r=50, t=50, b=20),\n",
    "    legend=dict(\n",
    "        title=None,\n",
    "        orientation=\"h\",\n",
    "        y=-0.22,\n",
    "        x=0.5,\n",
    "        xanchor=\"center\",\n",
    "        bgcolor=\"rgba(255, 255, 255, 0)\",\n",
    "    ),\n",
    "    barmode=\"group\",\n",
    "    bargap=0.,\n",
    ")\n",
    "\n",
    "fig.update_xaxes(title=None, tickvals=list(range(len(medias))), ticktext=medias, range=[-0.5, 3.5])\n",
    "fig.update_yaxes(title=r\"% women corresponding authors\", tickformat=\".0%\")\n",
    "\n",
    "# add reference line\n",
    "fig.add_hline(y=0.3705, line_width=3, line_dash=\"solid\", line_color=\"red\")\n",
    "\n",
    "# annotation\n",
    "fig.add_annotation(\n",
    "    x=1,\n",
    "    y=0.3705,\n",
    "    xref=\"paper\",\n",
    "    yref=\"y\",\n",
    "    xanchor=\"left\",\n",
    "    text=r\"% in<br>all data\",\n",
    "    showarrow=False,\n",
    "    font=dict(size=12, color=\"red\"),\n",
    ")\n",
    "\n",
    "# Show the plot\n",
    "fig.show()\n",
    "fig.write_image(\"figures/media_level_cite.svg\")"
   ]
  },
  {
   "cell_type": "code",
   "execution_count": null,
   "metadata": {},
   "outputs": [
    {
     "data": {
      "text/html": [
       "<div>\n",
       "<style scoped>\n",
       "    .dataframe tbody tr th:only-of-type {\n",
       "        vertical-align: middle;\n",
       "    }\n",
       "\n",
       "    .dataframe tbody tr th {\n",
       "        vertical-align: top;\n",
       "    }\n",
       "\n",
       "    .dataframe thead th {\n",
       "        text-align: right;\n",
       "    }\n",
       "</style>\n",
       "<table border=\"1\" class=\"dataframe\">\n",
       "  <thead>\n",
       "    <tr style=\"text-align: right;\">\n",
       "      <th></th>\n",
       "      <th>Category</th>\n",
       "      <th>Group</th>\n",
       "      <th>Percent</th>\n",
       "    </tr>\n",
       "  </thead>\n",
       "  <tbody>\n",
       "    <tr>\n",
       "      <th>0</th>\n",
       "      <td>Local</td>\n",
       "      <td>Top 5%</td>\n",
       "      <td>0.3608</td>\n",
       "    </tr>\n",
       "    <tr>\n",
       "      <th>1</th>\n",
       "      <td>National</td>\n",
       "      <td>Top 5%</td>\n",
       "      <td>0.3534</td>\n",
       "    </tr>\n",
       "    <tr>\n",
       "      <th>2</th>\n",
       "      <td>International</td>\n",
       "      <td>Top 5%</td>\n",
       "      <td>0.3075</td>\n",
       "    </tr>\n",
       "    <tr>\n",
       "      <th>3</th>\n",
       "      <td>Specialty</td>\n",
       "      <td>Top 5%</td>\n",
       "      <td>0.3494</td>\n",
       "    </tr>\n",
       "    <tr>\n",
       "      <th>4</th>\n",
       "      <td>Overall</td>\n",
       "      <td>Top 5%</td>\n",
       "      <td>0.3598</td>\n",
       "    </tr>\n",
       "    <tr>\n",
       "      <th>5</th>\n",
       "      <td>Local</td>\n",
       "      <td>Bottom 5%</td>\n",
       "      <td>0.3944</td>\n",
       "    </tr>\n",
       "    <tr>\n",
       "      <th>6</th>\n",
       "      <td>National</td>\n",
       "      <td>Bottom 5%</td>\n",
       "      <td>0.3650</td>\n",
       "    </tr>\n",
       "    <tr>\n",
       "      <th>7</th>\n",
       "      <td>International</td>\n",
       "      <td>Bottom 5%</td>\n",
       "      <td>0.3900</td>\n",
       "    </tr>\n",
       "    <tr>\n",
       "      <th>8</th>\n",
       "      <td>Specialty</td>\n",
       "      <td>Bottom 5%</td>\n",
       "      <td>0.4000</td>\n",
       "    </tr>\n",
       "    <tr>\n",
       "      <th>9</th>\n",
       "      <td>Overall</td>\n",
       "      <td>Bottom 5%</td>\n",
       "      <td>0.4100</td>\n",
       "    </tr>\n",
       "  </tbody>\n",
       "</table>\n",
       "</div>"
      ],
      "text/plain": [
       "        Category      Group  Percent\n",
       "0          Local     Top 5%   0.3608\n",
       "1       National     Top 5%   0.3534\n",
       "2  International     Top 5%   0.3075\n",
       "3      Specialty     Top 5%   0.3494\n",
       "4        Overall     Top 5%   0.3598\n",
       "5          Local  Bottom 5%   0.3944\n",
       "6       National  Bottom 5%   0.3650\n",
       "7  International  Bottom 5%   0.3900\n",
       "8      Specialty  Bottom 5%   0.4000\n",
       "9        Overall  Bottom 5%   0.4100"
      ]
     },
     "execution_count": 36,
     "metadata": {},
     "output_type": "execute_result"
    }
   ],
   "source": [
    "df = pd.read_excel(\"media level.xlsx\", sheet_name=\"top_bottom\")\n",
    "df = df.melt(id_vars=[\"Category\"], var_name=\"Group\", value_name=\"Percent\")\n",
    "df[\"Group\"] = df[\"Group\"].map({\"top_pct\": \"Top 5%\", \"bottom_pct\": \"Bottom 5%\"})\n",
    "df"
   ]
  },
  {
   "cell_type": "code",
   "execution_count": null,
   "metadata": {
    "colab": {
     "base_uri": "https://localhost:8080/",
     "height": 371
    },
    "id": "eUwbZe5sXnuu",
    "outputId": "37bd3994-e16a-4254-cb27-382bc0418087"
   },
   "outputs": [
    {
     "data": {
      "application/vnd.plotly.v1+json": {
       "config": {
        "plotlyServerURL": "https://plot.ly"
       },
       "data": [
        {
         "marker": {
          "color": "rgb(84,198,103)",
          "pattern": {
           "shape": "/"
          }
         },
         "name": "Top 5%",
         "showlegend": true,
         "type": "bar",
         "width": 0.3,
         "x": [
          -0.15
         ],
         "y": [
          0.3608
         ]
        },
        {
         "marker": {
          "color": "rgb(84,198,103)",
          "pattern": {
           "shape": "\\"
          }
         },
         "name": "Bottom 5%",
         "showlegend": true,
         "type": "bar",
         "width": 0.3,
         "x": [
          0.15
         ],
         "y": [
          0.3944
         ]
        },
        {
         "marker": {
          "color": "rgb(35,138,141)",
          "pattern": {
           "shape": "/"
          }
         },
         "name": "Top 5%",
         "showlegend": false,
         "type": "bar",
         "width": 0.3,
         "x": [
          0.85
         ],
         "y": [
          0.3534
         ]
        },
        {
         "marker": {
          "color": "rgb(35,138,141)",
          "pattern": {
           "shape": "\\"
          }
         },
         "name": "Bottom 5%",
         "showlegend": false,
         "type": "bar",
         "width": 0.3,
         "x": [
          1.15
         ],
         "y": [
          0.365
         ]
        },
        {
         "marker": {
          "color": "rgb(64,71,136)",
          "pattern": {
           "shape": "/"
          }
         },
         "name": "Top 5%",
         "showlegend": false,
         "type": "bar",
         "width": 0.3,
         "x": [
          1.85
         ],
         "y": [
          0.3075
         ]
        },
        {
         "marker": {
          "color": "rgb(64,71,136)",
          "pattern": {
           "shape": "\\"
          }
         },
         "name": "Bottom 5%",
         "showlegend": false,
         "type": "bar",
         "width": 0.3,
         "x": [
          2.15
         ],
         "y": [
          0.39
         ]
        },
        {
         "marker": {
          "color": "rgb(227,114,82)",
          "pattern": {
           "shape": "/"
          }
         },
         "name": "Top 5%",
         "showlegend": false,
         "type": "bar",
         "width": 0.3,
         "x": [
          2.85
         ],
         "y": [
          0.3494
         ]
        },
        {
         "marker": {
          "color": "rgb(227,114,82)",
          "pattern": {
           "shape": "\\"
          }
         },
         "name": "Bottom 5%",
         "showlegend": false,
         "type": "bar",
         "width": 0.3,
         "x": [
          3.15
         ],
         "y": [
          0.4
         ]
        }
       ],
       "layout": {
        "annotations": [
         {
          "font": {
           "color": "red",
           "size": 12
          },
          "showarrow": false,
          "text": "% in<br>all data",
          "x": 1,
          "xanchor": "left",
          "xref": "paper",
          "y": 0.3705,
          "yref": "y"
         }
        ],
        "bargap": 0,
        "barmode": "group",
        "font": {
         "family": "Arial",
         "size": 12
        },
        "height": 350,
        "legend": {
         "bgcolor": "rgba(255, 255, 255, 0)",
         "orientation": "h",
         "title": {},
         "x": 0.5,
         "xanchor": "center",
         "y": -0.22
        },
        "margin": {
         "b": 20,
         "l": 100,
         "r": 50,
         "t": 50
        },
        "shapes": [
         {
          "line": {
           "color": "red",
           "dash": "solid",
           "width": 3
          },
          "type": "line",
          "x0": 0,
          "x1": 1,
          "xref": "x domain",
          "y0": 0.3705,
          "y1": 0.3705,
          "yref": "y"
         }
        ],
        "template": {
         "data": {
          "bar": [
           {
            "error_x": {
             "color": "rgb(36,36,36)"
            },
            "error_y": {
             "color": "rgb(36,36,36)"
            },
            "marker": {
             "line": {
              "color": "white",
              "width": 0.5
             },
             "pattern": {
              "fillmode": "overlay",
              "size": 10,
              "solidity": 0.2
             }
            },
            "type": "bar"
           }
          ],
          "barpolar": [
           {
            "marker": {
             "line": {
              "color": "white",
              "width": 0.5
             },
             "pattern": {
              "fillmode": "overlay",
              "size": 10,
              "solidity": 0.2
             }
            },
            "type": "barpolar"
           }
          ],
          "carpet": [
           {
            "aaxis": {
             "endlinecolor": "rgb(36,36,36)",
             "gridcolor": "white",
             "linecolor": "white",
             "minorgridcolor": "white",
             "startlinecolor": "rgb(36,36,36)"
            },
            "baxis": {
             "endlinecolor": "rgb(36,36,36)",
             "gridcolor": "white",
             "linecolor": "white",
             "minorgridcolor": "white",
             "startlinecolor": "rgb(36,36,36)"
            },
            "type": "carpet"
           }
          ],
          "choropleth": [
           {
            "colorbar": {
             "outlinewidth": 1,
             "tickcolor": "rgb(36,36,36)",
             "ticks": "outside"
            },
            "type": "choropleth"
           }
          ],
          "contour": [
           {
            "colorbar": {
             "outlinewidth": 1,
             "tickcolor": "rgb(36,36,36)",
             "ticks": "outside"
            },
            "colorscale": [
             [
              0,
              "#440154"
             ],
             [
              0.1111111111111111,
              "#482878"
             ],
             [
              0.2222222222222222,
              "#3e4989"
             ],
             [
              0.3333333333333333,
              "#31688e"
             ],
             [
              0.4444444444444444,
              "#26828e"
             ],
             [
              0.5555555555555556,
              "#1f9e89"
             ],
             [
              0.6666666666666666,
              "#35b779"
             ],
             [
              0.7777777777777778,
              "#6ece58"
             ],
             [
              0.8888888888888888,
              "#b5de2b"
             ],
             [
              1,
              "#fde725"
             ]
            ],
            "type": "contour"
           }
          ],
          "contourcarpet": [
           {
            "colorbar": {
             "outlinewidth": 1,
             "tickcolor": "rgb(36,36,36)",
             "ticks": "outside"
            },
            "type": "contourcarpet"
           }
          ],
          "heatmap": [
           {
            "colorbar": {
             "outlinewidth": 1,
             "tickcolor": "rgb(36,36,36)",
             "ticks": "outside"
            },
            "colorscale": [
             [
              0,
              "#440154"
             ],
             [
              0.1111111111111111,
              "#482878"
             ],
             [
              0.2222222222222222,
              "#3e4989"
             ],
             [
              0.3333333333333333,
              "#31688e"
             ],
             [
              0.4444444444444444,
              "#26828e"
             ],
             [
              0.5555555555555556,
              "#1f9e89"
             ],
             [
              0.6666666666666666,
              "#35b779"
             ],
             [
              0.7777777777777778,
              "#6ece58"
             ],
             [
              0.8888888888888888,
              "#b5de2b"
             ],
             [
              1,
              "#fde725"
             ]
            ],
            "type": "heatmap"
           }
          ],
          "heatmapgl": [
           {
            "colorbar": {
             "outlinewidth": 1,
             "tickcolor": "rgb(36,36,36)",
             "ticks": "outside"
            },
            "colorscale": [
             [
              0,
              "#440154"
             ],
             [
              0.1111111111111111,
              "#482878"
             ],
             [
              0.2222222222222222,
              "#3e4989"
             ],
             [
              0.3333333333333333,
              "#31688e"
             ],
             [
              0.4444444444444444,
              "#26828e"
             ],
             [
              0.5555555555555556,
              "#1f9e89"
             ],
             [
              0.6666666666666666,
              "#35b779"
             ],
             [
              0.7777777777777778,
              "#6ece58"
             ],
             [
              0.8888888888888888,
              "#b5de2b"
             ],
             [
              1,
              "#fde725"
             ]
            ],
            "type": "heatmapgl"
           }
          ],
          "histogram": [
           {
            "marker": {
             "line": {
              "color": "white",
              "width": 0.6
             }
            },
            "type": "histogram"
           }
          ],
          "histogram2d": [
           {
            "colorbar": {
             "outlinewidth": 1,
             "tickcolor": "rgb(36,36,36)",
             "ticks": "outside"
            },
            "colorscale": [
             [
              0,
              "#440154"
             ],
             [
              0.1111111111111111,
              "#482878"
             ],
             [
              0.2222222222222222,
              "#3e4989"
             ],
             [
              0.3333333333333333,
              "#31688e"
             ],
             [
              0.4444444444444444,
              "#26828e"
             ],
             [
              0.5555555555555556,
              "#1f9e89"
             ],
             [
              0.6666666666666666,
              "#35b779"
             ],
             [
              0.7777777777777778,
              "#6ece58"
             ],
             [
              0.8888888888888888,
              "#b5de2b"
             ],
             [
              1,
              "#fde725"
             ]
            ],
            "type": "histogram2d"
           }
          ],
          "histogram2dcontour": [
           {
            "colorbar": {
             "outlinewidth": 1,
             "tickcolor": "rgb(36,36,36)",
             "ticks": "outside"
            },
            "colorscale": [
             [
              0,
              "#440154"
             ],
             [
              0.1111111111111111,
              "#482878"
             ],
             [
              0.2222222222222222,
              "#3e4989"
             ],
             [
              0.3333333333333333,
              "#31688e"
             ],
             [
              0.4444444444444444,
              "#26828e"
             ],
             [
              0.5555555555555556,
              "#1f9e89"
             ],
             [
              0.6666666666666666,
              "#35b779"
             ],
             [
              0.7777777777777778,
              "#6ece58"
             ],
             [
              0.8888888888888888,
              "#b5de2b"
             ],
             [
              1,
              "#fde725"
             ]
            ],
            "type": "histogram2dcontour"
           }
          ],
          "mesh3d": [
           {
            "colorbar": {
             "outlinewidth": 1,
             "tickcolor": "rgb(36,36,36)",
             "ticks": "outside"
            },
            "type": "mesh3d"
           }
          ],
          "parcoords": [
           {
            "line": {
             "colorbar": {
              "outlinewidth": 1,
              "tickcolor": "rgb(36,36,36)",
              "ticks": "outside"
             }
            },
            "type": "parcoords"
           }
          ],
          "pie": [
           {
            "automargin": true,
            "type": "pie"
           }
          ],
          "scatter": [
           {
            "fillpattern": {
             "fillmode": "overlay",
             "size": 10,
             "solidity": 0.2
            },
            "type": "scatter"
           }
          ],
          "scatter3d": [
           {
            "line": {
             "colorbar": {
              "outlinewidth": 1,
              "tickcolor": "rgb(36,36,36)",
              "ticks": "outside"
             }
            },
            "marker": {
             "colorbar": {
              "outlinewidth": 1,
              "tickcolor": "rgb(36,36,36)",
              "ticks": "outside"
             }
            },
            "type": "scatter3d"
           }
          ],
          "scattercarpet": [
           {
            "marker": {
             "colorbar": {
              "outlinewidth": 1,
              "tickcolor": "rgb(36,36,36)",
              "ticks": "outside"
             }
            },
            "type": "scattercarpet"
           }
          ],
          "scattergeo": [
           {
            "marker": {
             "colorbar": {
              "outlinewidth": 1,
              "tickcolor": "rgb(36,36,36)",
              "ticks": "outside"
             }
            },
            "type": "scattergeo"
           }
          ],
          "scattergl": [
           {
            "marker": {
             "colorbar": {
              "outlinewidth": 1,
              "tickcolor": "rgb(36,36,36)",
              "ticks": "outside"
             }
            },
            "type": "scattergl"
           }
          ],
          "scattermapbox": [
           {
            "marker": {
             "colorbar": {
              "outlinewidth": 1,
              "tickcolor": "rgb(36,36,36)",
              "ticks": "outside"
             }
            },
            "type": "scattermapbox"
           }
          ],
          "scatterpolar": [
           {
            "marker": {
             "colorbar": {
              "outlinewidth": 1,
              "tickcolor": "rgb(36,36,36)",
              "ticks": "outside"
             }
            },
            "type": "scatterpolar"
           }
          ],
          "scatterpolargl": [
           {
            "marker": {
             "colorbar": {
              "outlinewidth": 1,
              "tickcolor": "rgb(36,36,36)",
              "ticks": "outside"
             }
            },
            "type": "scatterpolargl"
           }
          ],
          "scatterternary": [
           {
            "marker": {
             "colorbar": {
              "outlinewidth": 1,
              "tickcolor": "rgb(36,36,36)",
              "ticks": "outside"
             }
            },
            "type": "scatterternary"
           }
          ],
          "surface": [
           {
            "colorbar": {
             "outlinewidth": 1,
             "tickcolor": "rgb(36,36,36)",
             "ticks": "outside"
            },
            "colorscale": [
             [
              0,
              "#440154"
             ],
             [
              0.1111111111111111,
              "#482878"
             ],
             [
              0.2222222222222222,
              "#3e4989"
             ],
             [
              0.3333333333333333,
              "#31688e"
             ],
             [
              0.4444444444444444,
              "#26828e"
             ],
             [
              0.5555555555555556,
              "#1f9e89"
             ],
             [
              0.6666666666666666,
              "#35b779"
             ],
             [
              0.7777777777777778,
              "#6ece58"
             ],
             [
              0.8888888888888888,
              "#b5de2b"
             ],
             [
              1,
              "#fde725"
             ]
            ],
            "type": "surface"
           }
          ],
          "table": [
           {
            "cells": {
             "fill": {
              "color": "rgb(237,237,237)"
             },
             "line": {
              "color": "white"
             }
            },
            "header": {
             "fill": {
              "color": "rgb(217,217,217)"
             },
             "line": {
              "color": "white"
             }
            },
            "type": "table"
           }
          ]
         },
         "layout": {
          "annotationdefaults": {
           "arrowhead": 0,
           "arrowwidth": 1
          },
          "autotypenumbers": "strict",
          "coloraxis": {
           "colorbar": {
            "outlinewidth": 1,
            "tickcolor": "rgb(36,36,36)",
            "ticks": "outside"
           }
          },
          "colorscale": {
           "diverging": [
            [
             0,
             "rgb(103,0,31)"
            ],
            [
             0.1,
             "rgb(178,24,43)"
            ],
            [
             0.2,
             "rgb(214,96,77)"
            ],
            [
             0.3,
             "rgb(244,165,130)"
            ],
            [
             0.4,
             "rgb(253,219,199)"
            ],
            [
             0.5,
             "rgb(247,247,247)"
            ],
            [
             0.6,
             "rgb(209,229,240)"
            ],
            [
             0.7,
             "rgb(146,197,222)"
            ],
            [
             0.8,
             "rgb(67,147,195)"
            ],
            [
             0.9,
             "rgb(33,102,172)"
            ],
            [
             1,
             "rgb(5,48,97)"
            ]
           ],
           "sequential": [
            [
             0,
             "#440154"
            ],
            [
             0.1111111111111111,
             "#482878"
            ],
            [
             0.2222222222222222,
             "#3e4989"
            ],
            [
             0.3333333333333333,
             "#31688e"
            ],
            [
             0.4444444444444444,
             "#26828e"
            ],
            [
             0.5555555555555556,
             "#1f9e89"
            ],
            [
             0.6666666666666666,
             "#35b779"
            ],
            [
             0.7777777777777778,
             "#6ece58"
            ],
            [
             0.8888888888888888,
             "#b5de2b"
            ],
            [
             1,
             "#fde725"
            ]
           ],
           "sequentialminus": [
            [
             0,
             "#440154"
            ],
            [
             0.1111111111111111,
             "#482878"
            ],
            [
             0.2222222222222222,
             "#3e4989"
            ],
            [
             0.3333333333333333,
             "#31688e"
            ],
            [
             0.4444444444444444,
             "#26828e"
            ],
            [
             0.5555555555555556,
             "#1f9e89"
            ],
            [
             0.6666666666666666,
             "#35b779"
            ],
            [
             0.7777777777777778,
             "#6ece58"
            ],
            [
             0.8888888888888888,
             "#b5de2b"
            ],
            [
             1,
             "#fde725"
            ]
           ]
          },
          "colorway": [
           "#1F77B4",
           "#FF7F0E",
           "#2CA02C",
           "#D62728",
           "#9467BD",
           "#8C564B",
           "#E377C2",
           "#7F7F7F",
           "#BCBD22",
           "#17BECF"
          ],
          "font": {
           "color": "rgb(36,36,36)"
          },
          "geo": {
           "bgcolor": "white",
           "lakecolor": "white",
           "landcolor": "white",
           "showlakes": true,
           "showland": true,
           "subunitcolor": "white"
          },
          "hoverlabel": {
           "align": "left"
          },
          "hovermode": "closest",
          "mapbox": {
           "style": "light"
          },
          "paper_bgcolor": "white",
          "plot_bgcolor": "white",
          "polar": {
           "angularaxis": {
            "gridcolor": "rgb(232,232,232)",
            "linecolor": "rgb(36,36,36)",
            "showgrid": false,
            "showline": true,
            "ticks": "outside"
           },
           "bgcolor": "white",
           "radialaxis": {
            "gridcolor": "rgb(232,232,232)",
            "linecolor": "rgb(36,36,36)",
            "showgrid": false,
            "showline": true,
            "ticks": "outside"
           }
          },
          "scene": {
           "xaxis": {
            "backgroundcolor": "white",
            "gridcolor": "rgb(232,232,232)",
            "gridwidth": 2,
            "linecolor": "rgb(36,36,36)",
            "showbackground": true,
            "showgrid": false,
            "showline": true,
            "ticks": "outside",
            "zeroline": false,
            "zerolinecolor": "rgb(36,36,36)"
           },
           "yaxis": {
            "backgroundcolor": "white",
            "gridcolor": "rgb(232,232,232)",
            "gridwidth": 2,
            "linecolor": "rgb(36,36,36)",
            "showbackground": true,
            "showgrid": false,
            "showline": true,
            "ticks": "outside",
            "zeroline": false,
            "zerolinecolor": "rgb(36,36,36)"
           },
           "zaxis": {
            "backgroundcolor": "white",
            "gridcolor": "rgb(232,232,232)",
            "gridwidth": 2,
            "linecolor": "rgb(36,36,36)",
            "showbackground": true,
            "showgrid": false,
            "showline": true,
            "ticks": "outside",
            "zeroline": false,
            "zerolinecolor": "rgb(36,36,36)"
           }
          },
          "shapedefaults": {
           "fillcolor": "black",
           "line": {
            "width": 0
           },
           "opacity": 0.3
          },
          "ternary": {
           "aaxis": {
            "gridcolor": "rgb(232,232,232)",
            "linecolor": "rgb(36,36,36)",
            "showgrid": false,
            "showline": true,
            "ticks": "outside"
           },
           "baxis": {
            "gridcolor": "rgb(232,232,232)",
            "linecolor": "rgb(36,36,36)",
            "showgrid": false,
            "showline": true,
            "ticks": "outside"
           },
           "bgcolor": "white",
           "caxis": {
            "gridcolor": "rgb(232,232,232)",
            "linecolor": "rgb(36,36,36)",
            "showgrid": false,
            "showline": true,
            "ticks": "outside"
           }
          },
          "title": {
           "x": 0.05
          },
          "xaxis": {
           "automargin": true,
           "gridcolor": "rgb(232,232,232)",
           "linecolor": "rgb(36,36,36)",
           "showgrid": false,
           "showline": true,
           "ticks": "outside",
           "title": {
            "standoff": 15
           },
           "zeroline": false,
           "zerolinecolor": "rgb(36,36,36)"
          },
          "yaxis": {
           "automargin": true,
           "gridcolor": "rgb(232,232,232)",
           "linecolor": "rgb(36,36,36)",
           "showgrid": false,
           "showline": true,
           "ticks": "outside",
           "title": {
            "standoff": 15
           },
           "zeroline": false,
           "zerolinecolor": "rgb(36,36,36)"
          }
         }
        },
        "width": 380,
        "xaxis": {
         "range": [
          -0.5,
          3.5
         ],
         "ticktext": [
          "Local",
          "National",
          "International",
          "Specialty"
         ],
         "tickvals": [
          0,
          1,
          2,
          3
         ],
         "title": {}
        },
        "yaxis": {
         "tickformat": ".0%",
         "title": {
          "text": "% women corresponding authors"
         }
        }
       }
      }
     },
     "metadata": {},
     "output_type": "display_data"
    }
   ],
   "source": [
    "# Create a bar chart\n",
    "fig = go.Figure()\n",
    "offset = 0.15\n",
    "\n",
    "for i, media in enumerate(medias):\n",
    "    for j, group in enumerate([\"Top 5%\", \"Bottom 5%\"]):\n",
    "        t = df.query(\"Category == @media and Group == @group\")\n",
    "        fig.add_trace(\n",
    "            go.Bar(\n",
    "                x=[i - offset] if group == \"Top 5%\" else [i + offset],\n",
    "                y=t[\"Percent\"],\n",
    "                marker=dict(color = media_colors[media],\n",
    "                            pattern_shape=\"/\" if group == \"Top 5%\" else \"\\\\\"\n",
    "                            ),\n",
    "                name=group,\n",
    "                showlegend=True if media == \"Local\" else False,\n",
    "                width=offset * 2,\n",
    "            )\n",
    "        )\n",
    "\n",
    "fig.update_layout(\n",
    "    template=\"simple_white\",\n",
    "    font=dict(size=12, family=\"Arial\"),\n",
    "    height=350,\n",
    "    width=380,\n",
    "    margin=dict(l=100, r=50, t=50, b=20),\n",
    "    legend=dict(\n",
    "        title=None,\n",
    "        orientation=\"h\",\n",
    "        y=-0.22,\n",
    "        x=0.5,\n",
    "        xanchor=\"center\",\n",
    "        bgcolor=\"rgba(255, 255, 255, 0)\",\n",
    "    ),\n",
    "    barmode=\"group\",\n",
    "    bargap=0.,\n",
    ")\n",
    "\n",
    "fig.update_xaxes(title=None, tickvals=list(range(len(medias))), ticktext=medias, range=[-0.5, 3.5])\n",
    "fig.update_yaxes(title=r\"% women corresponding authors\", tickformat=\".0%\")\n",
    "\n",
    "# add reference line\n",
    "fig.add_hline(y=0.3705, line_width=3, line_dash=\"solid\", line_color=\"red\")\n",
    "\n",
    "# annotation\n",
    "fig.add_annotation(\n",
    "    x=1,\n",
    "    y=0.3705,\n",
    "    xref=\"paper\",\n",
    "    yref=\"y\",\n",
    "    xanchor=\"left\",\n",
    "    text=r\"% in<br>all data\",\n",
    "    showarrow=False,\n",
    "    font=dict(size=12, color=\"red\"),\n",
    ")\n",
    "\n",
    "# Show the plot\n",
    "fig.show()\n",
    "fig.write_image(\"figures/media_level_top_bottom.svg\")"
   ]
  },
  {
   "cell_type": "markdown",
   "metadata": {
    "id": "6lvx9On99o7q"
   },
   "source": [
    "## Fig 2(b) - Regression result of categorical analysis"
   ]
  },
  {
   "cell_type": "code",
   "execution_count": 2,
   "metadata": {
    "id": "zG7XepFoqw1f"
   },
   "outputs": [
    {
     "data": {
      "text/html": [
       "<div>\n",
       "<style scoped>\n",
       "    .dataframe tbody tr th:only-of-type {\n",
       "        vertical-align: middle;\n",
       "    }\n",
       "\n",
       "    .dataframe tbody tr th {\n",
       "        vertical-align: top;\n",
       "    }\n",
       "\n",
       "    .dataframe thead th {\n",
       "        text-align: right;\n",
       "    }\n",
       "</style>\n",
       "<table border=\"1\" class=\"dataframe\">\n",
       "  <thead>\n",
       "    <tr style=\"text-align: right;\">\n",
       "      <th></th>\n",
       "      <th>domain</th>\n",
       "      <th>est</th>\n",
       "      <th>error</th>\n",
       "      <th>pval</th>\n",
       "      <th>Category</th>\n",
       "      <th>Odds ratio</th>\n",
       "      <th>upper</th>\n",
       "      <th>ci_error</th>\n",
       "      <th>indicator</th>\n",
       "    </tr>\n",
       "  </thead>\n",
       "  <tbody>\n",
       "    <tr>\n",
       "      <th>9</th>\n",
       "      <td>Natural Sciences</td>\n",
       "      <td>-0.057830</td>\n",
       "      <td>0.04799</td>\n",
       "      <td>NaN</td>\n",
       "      <td>National</td>\n",
       "      <td>0.943810</td>\n",
       "      <td>1.036895</td>\n",
       "      <td>0.093084</td>\n",
       "      <td>0</td>\n",
       "    </tr>\n",
       "    <tr>\n",
       "      <th>14</th>\n",
       "      <td>Natural Sciences</td>\n",
       "      <td>-0.110230</td>\n",
       "      <td>0.05361</td>\n",
       "      <td>*</td>\n",
       "      <td>International</td>\n",
       "      <td>0.895628</td>\n",
       "      <td>0.994859</td>\n",
       "      <td>0.099231</td>\n",
       "      <td>-1</td>\n",
       "    </tr>\n",
       "    <tr>\n",
       "      <th>4</th>\n",
       "      <td>Natural Sciences</td>\n",
       "      <td>0.053310</td>\n",
       "      <td>0.05204</td>\n",
       "      <td>NaN</td>\n",
       "      <td>Local</td>\n",
       "      <td>1.054757</td>\n",
       "      <td>1.168018</td>\n",
       "      <td>0.113262</td>\n",
       "      <td>0</td>\n",
       "    </tr>\n",
       "    <tr>\n",
       "      <th>19</th>\n",
       "      <td>Natural Sciences</td>\n",
       "      <td>-0.073150</td>\n",
       "      <td>0.04578</td>\n",
       "      <td>NaN</td>\n",
       "      <td>Specialty</td>\n",
       "      <td>0.929461</td>\n",
       "      <td>1.016717</td>\n",
       "      <td>0.087256</td>\n",
       "      <td>0</td>\n",
       "    </tr>\n",
       "    <tr>\n",
       "      <th>5</th>\n",
       "      <td>Applied Sciences</td>\n",
       "      <td>-0.104690</td>\n",
       "      <td>0.05279</td>\n",
       "      <td>*</td>\n",
       "      <td>National</td>\n",
       "      <td>0.900604</td>\n",
       "      <td>0.998779</td>\n",
       "      <td>0.098175</td>\n",
       "      <td>-1</td>\n",
       "    </tr>\n",
       "    <tr>\n",
       "      <th>10</th>\n",
       "      <td>Applied Sciences</td>\n",
       "      <td>-0.088019</td>\n",
       "      <td>0.07929</td>\n",
       "      <td>NaN</td>\n",
       "      <td>International</td>\n",
       "      <td>0.915743</td>\n",
       "      <td>1.069712</td>\n",
       "      <td>0.153968</td>\n",
       "      <td>0</td>\n",
       "    </tr>\n",
       "    <tr>\n",
       "      <th>15</th>\n",
       "      <td>Applied Sciences</td>\n",
       "      <td>-0.015670</td>\n",
       "      <td>0.06333</td>\n",
       "      <td>NaN</td>\n",
       "      <td>Specialty</td>\n",
       "      <td>0.984452</td>\n",
       "      <td>1.114557</td>\n",
       "      <td>0.130105</td>\n",
       "      <td>0</td>\n",
       "    </tr>\n",
       "    <tr>\n",
       "      <th>0</th>\n",
       "      <td>Applied Sciences</td>\n",
       "      <td>0.128500</td>\n",
       "      <td>0.07390</td>\n",
       "      <td>NaN</td>\n",
       "      <td>Local</td>\n",
       "      <td>1.137121</td>\n",
       "      <td>1.314352</td>\n",
       "      <td>0.177231</td>\n",
       "      <td>0</td>\n",
       "    </tr>\n",
       "    <tr>\n",
       "      <th>8</th>\n",
       "      <td>Health Sciences</td>\n",
       "      <td>-0.085460</td>\n",
       "      <td>0.01749</td>\n",
       "      <td>***</td>\n",
       "      <td>National</td>\n",
       "      <td>0.918090</td>\n",
       "      <td>0.950108</td>\n",
       "      <td>0.032018</td>\n",
       "      <td>-1</td>\n",
       "    </tr>\n",
       "    <tr>\n",
       "      <th>18</th>\n",
       "      <td>Health Sciences</td>\n",
       "      <td>-0.144470</td>\n",
       "      <td>0.02682</td>\n",
       "      <td>***</td>\n",
       "      <td>Specialty</td>\n",
       "      <td>0.865481</td>\n",
       "      <td>0.912194</td>\n",
       "      <td>0.046713</td>\n",
       "      <td>-1</td>\n",
       "    </tr>\n",
       "    <tr>\n",
       "      <th>13</th>\n",
       "      <td>Health Sciences</td>\n",
       "      <td>0.017560</td>\n",
       "      <td>0.02797</td>\n",
       "      <td>NaN</td>\n",
       "      <td>International</td>\n",
       "      <td>1.017715</td>\n",
       "      <td>1.075065</td>\n",
       "      <td>0.057350</td>\n",
       "      <td>0</td>\n",
       "    </tr>\n",
       "    <tr>\n",
       "      <th>3</th>\n",
       "      <td>Health Sciences</td>\n",
       "      <td>0.076810</td>\n",
       "      <td>0.02447</td>\n",
       "      <td>**</td>\n",
       "      <td>Local</td>\n",
       "      <td>1.079837</td>\n",
       "      <td>1.132889</td>\n",
       "      <td>0.053052</td>\n",
       "      <td>1</td>\n",
       "    </tr>\n",
       "    <tr>\n",
       "      <th>2</th>\n",
       "      <td>Economic &amp; Social Sciences</td>\n",
       "      <td>-0.086410</td>\n",
       "      <td>0.06409</td>\n",
       "      <td>NaN</td>\n",
       "      <td>Local</td>\n",
       "      <td>0.917218</td>\n",
       "      <td>1.039985</td>\n",
       "      <td>0.122767</td>\n",
       "      <td>0</td>\n",
       "    </tr>\n",
       "    <tr>\n",
       "      <th>7</th>\n",
       "      <td>Economic &amp; Social Sciences</td>\n",
       "      <td>-0.139820</td>\n",
       "      <td>0.06590</td>\n",
       "      <td>*</td>\n",
       "      <td>National</td>\n",
       "      <td>0.869515</td>\n",
       "      <td>0.989401</td>\n",
       "      <td>0.119886</td>\n",
       "      <td>-1</td>\n",
       "    </tr>\n",
       "    <tr>\n",
       "      <th>12</th>\n",
       "      <td>Economic &amp; Social Sciences</td>\n",
       "      <td>-0.029090</td>\n",
       "      <td>0.07916</td>\n",
       "      <td>NaN</td>\n",
       "      <td>International</td>\n",
       "      <td>0.971329</td>\n",
       "      <td>1.134354</td>\n",
       "      <td>0.163025</td>\n",
       "      <td>0</td>\n",
       "    </tr>\n",
       "    <tr>\n",
       "      <th>17</th>\n",
       "      <td>Economic &amp; Social Sciences</td>\n",
       "      <td>-0.059240</td>\n",
       "      <td>0.05491</td>\n",
       "      <td>NaN</td>\n",
       "      <td>Specialty</td>\n",
       "      <td>0.942481</td>\n",
       "      <td>1.049573</td>\n",
       "      <td>0.107093</td>\n",
       "      <td>0</td>\n",
       "    </tr>\n",
       "    <tr>\n",
       "      <th>6</th>\n",
       "      <td>Arts &amp; Humanities</td>\n",
       "      <td>-0.179300</td>\n",
       "      <td>0.14510</td>\n",
       "      <td>NaN</td>\n",
       "      <td>National</td>\n",
       "      <td>0.835855</td>\n",
       "      <td>1.110817</td>\n",
       "      <td>0.274962</td>\n",
       "      <td>0</td>\n",
       "    </tr>\n",
       "    <tr>\n",
       "      <th>11</th>\n",
       "      <td>Arts &amp; Humanities</td>\n",
       "      <td>-0.243770</td>\n",
       "      <td>0.14478</td>\n",
       "      <td>NaN</td>\n",
       "      <td>International</td>\n",
       "      <td>0.783668</td>\n",
       "      <td>1.040810</td>\n",
       "      <td>0.257142</td>\n",
       "      <td>0</td>\n",
       "    </tr>\n",
       "    <tr>\n",
       "      <th>1</th>\n",
       "      <td>Arts &amp; Humanities</td>\n",
       "      <td>0.050480</td>\n",
       "      <td>0.13922</td>\n",
       "      <td>NaN</td>\n",
       "      <td>Local</td>\n",
       "      <td>1.051776</td>\n",
       "      <td>1.381751</td>\n",
       "      <td>0.329975</td>\n",
       "      <td>0</td>\n",
       "    </tr>\n",
       "    <tr>\n",
       "      <th>16</th>\n",
       "      <td>Arts &amp; Humanities</td>\n",
       "      <td>-0.051440</td>\n",
       "      <td>0.12052</td>\n",
       "      <td>NaN</td>\n",
       "      <td>Specialty</td>\n",
       "      <td>0.949861</td>\n",
       "      <td>1.202953</td>\n",
       "      <td>0.253092</td>\n",
       "      <td>0</td>\n",
       "    </tr>\n",
       "  </tbody>\n",
       "</table>\n",
       "</div>"
      ],
      "text/plain": [
       "                        domain       est    error pval       Category  \\\n",
       "9             Natural Sciences -0.057830  0.04799  NaN       National   \n",
       "14            Natural Sciences -0.110230  0.05361    *  International   \n",
       "4             Natural Sciences  0.053310  0.05204  NaN          Local   \n",
       "19            Natural Sciences -0.073150  0.04578  NaN      Specialty   \n",
       "5             Applied Sciences -0.104690  0.05279    *       National   \n",
       "10            Applied Sciences -0.088019  0.07929  NaN  International   \n",
       "15            Applied Sciences -0.015670  0.06333  NaN      Specialty   \n",
       "0             Applied Sciences  0.128500  0.07390  NaN          Local   \n",
       "8              Health Sciences -0.085460  0.01749  ***       National   \n",
       "18             Health Sciences -0.144470  0.02682  ***      Specialty   \n",
       "13             Health Sciences  0.017560  0.02797  NaN  International   \n",
       "3              Health Sciences  0.076810  0.02447   **          Local   \n",
       "2   Economic & Social Sciences -0.086410  0.06409  NaN          Local   \n",
       "7   Economic & Social Sciences -0.139820  0.06590    *       National   \n",
       "12  Economic & Social Sciences -0.029090  0.07916  NaN  International   \n",
       "17  Economic & Social Sciences -0.059240  0.05491  NaN      Specialty   \n",
       "6            Arts & Humanities -0.179300  0.14510  NaN       National   \n",
       "11           Arts & Humanities -0.243770  0.14478  NaN  International   \n",
       "1            Arts & Humanities  0.050480  0.13922  NaN          Local   \n",
       "16           Arts & Humanities -0.051440  0.12052  NaN      Specialty   \n",
       "\n",
       "    Odds ratio     upper  ci_error  indicator  \n",
       "9     0.943810  1.036895  0.093084          0  \n",
       "14    0.895628  0.994859  0.099231         -1  \n",
       "4     1.054757  1.168018  0.113262          0  \n",
       "19    0.929461  1.016717  0.087256          0  \n",
       "5     0.900604  0.998779  0.098175         -1  \n",
       "10    0.915743  1.069712  0.153968          0  \n",
       "15    0.984452  1.114557  0.130105          0  \n",
       "0     1.137121  1.314352  0.177231          0  \n",
       "8     0.918090  0.950108  0.032018         -1  \n",
       "18    0.865481  0.912194  0.046713         -1  \n",
       "13    1.017715  1.075065  0.057350          0  \n",
       "3     1.079837  1.132889  0.053052          1  \n",
       "2     0.917218  1.039985  0.122767          0  \n",
       "7     0.869515  0.989401  0.119886         -1  \n",
       "12    0.971329  1.134354  0.163025          0  \n",
       "17    0.942481  1.049573  0.107093          0  \n",
       "6     0.835855  1.110817  0.274962          0  \n",
       "11    0.783668  1.040810  0.257142          0  \n",
       "1     1.051776  1.381751  0.329975          0  \n",
       "16    0.949861  1.202953  0.253092          0  "
      ]
     },
     "execution_count": 2,
     "metadata": {},
     "output_type": "execute_result"
    }
   ],
   "source": [
    "df = pd.read_excel(\"media level.xlsx\", sheet_name=\"media reg\")\n",
    "df[\"Odds ratio\"] = df[\"est\"].apply(lambda x: math.exp(x))\n",
    "df[\"upper\"] = df.apply(lambda x: get_ci(x[\"est\"], x[\"error\"], isExp=True)[1], axis=1)\n",
    "df[\"ci_error\"] = df[\"upper\"] - df[\"Odds ratio\"]\n",
    "df[\"indicator\"] = df.apply(\n",
    "    lambda x: get_indicator(x[\"Odds ratio\"], x[\"pval\"], thresh=1), axis=1\n",
    ")\n",
    "# reordering\n",
    "df[\"domain\"] = pd.Categorical(df[\"domain\"], domains)\n",
    "df = df.sort_values([\"domain\"])\n",
    "\n",
    "df"
   ]
  },
  {
   "cell_type": "code",
   "execution_count": null,
   "metadata": {
    "id": "MSX4XJ6d4pQZ"
   },
   "outputs": [
    {
     "data": {
      "application/vnd.plotly.v1+json": {
       "config": {
        "plotlyServerURL": "https://plot.ly"
       },
       "data": [
        {
         "error_x": {
          "array": [],
          "color": "rgb(120,171,201)",
          "type": "data",
          "visible": true,
          "width": 0
         },
         "marker": {
          "color": "rgb(120,171,201)"
         },
         "orientation": "h",
         "showlegend": false,
         "type": "scatter",
         "x": [],
         "xaxis": "x",
         "y": [],
         "yaxis": "y"
        },
        {
         "error_x": {
          "array": [],
          "color": "rgb(120,171,201)",
          "type": "data",
          "visible": true,
          "width": 0
         },
         "marker": {
          "color": "rgb(120,171,201)"
         },
         "orientation": "h",
         "showlegend": false,
         "type": "scatter",
         "x": [],
         "xaxis": "x2",
         "y": [],
         "yaxis": "y2"
        },
        {
         "error_x": {
          "array": [
           0.09923074398710852
          ],
          "color": "rgb(120,171,201)",
          "type": "data",
          "visible": true,
          "width": 0
         },
         "marker": {
          "color": "rgb(120,171,201)"
         },
         "orientation": "h",
         "showlegend": false,
         "type": "scatter",
         "x": [
          0.8956281171384064
         ],
         "xaxis": "x3",
         "y": [
          "Natural Sciences"
         ],
         "yaxis": "y3"
        },
        {
         "error_x": {
          "array": [],
          "color": "rgb(120,171,201)",
          "type": "data",
          "visible": true,
          "width": 0
         },
         "marker": {
          "color": "rgb(120,171,201)"
         },
         "orientation": "h",
         "showlegend": false,
         "type": "scatter",
         "x": [],
         "xaxis": "x4",
         "y": [],
         "yaxis": "y4"
        },
        {
         "error_x": {
          "array": [
           0.11326155337441679
          ],
          "color": "rgb(200,200,200)",
          "type": "data",
          "visible": true,
          "width": 0
         },
         "marker": {
          "color": "rgb(200,200,200)"
         },
         "orientation": "h",
         "showlegend": false,
         "type": "scatter",
         "x": [
          1.0547565689799232
         ],
         "xaxis": "x",
         "y": [
          "Natural Sciences"
         ],
         "yaxis": "y"
        },
        {
         "error_x": {
          "array": [
           0.0930843379506936
          ],
          "color": "rgb(200,200,200)",
          "type": "data",
          "visible": true,
          "width": 0
         },
         "marker": {
          "color": "rgb(200,200,200)"
         },
         "orientation": "h",
         "showlegend": false,
         "type": "scatter",
         "x": [
          0.9438103815643772
         ],
         "xaxis": "x2",
         "y": [
          "Natural Sciences"
         ],
         "yaxis": "y2"
        },
        {
         "error_x": {
          "array": [],
          "color": "rgb(200,200,200)",
          "type": "data",
          "visible": true,
          "width": 0
         },
         "marker": {
          "color": "rgb(200,200,200)"
         },
         "orientation": "h",
         "showlegend": false,
         "type": "scatter",
         "x": [],
         "xaxis": "x3",
         "y": [],
         "yaxis": "y3"
        },
        {
         "error_x": {
          "array": [
           0.08725559056962662
          ],
          "color": "rgb(200,200,200)",
          "type": "data",
          "visible": true,
          "width": 0
         },
         "marker": {
          "color": "rgb(200,200,200)"
         },
         "orientation": "h",
         "showlegend": false,
         "type": "scatter",
         "x": [
          0.9294614003587753
         ],
         "xaxis": "x4",
         "y": [
          "Natural Sciences"
         ],
         "yaxis": "y4"
        },
        {
         "error_x": {
          "array": [],
          "color": "rgb(224,144,91)",
          "type": "data",
          "visible": true,
          "width": 0
         },
         "marker": {
          "color": "rgb(224,144,91)"
         },
         "orientation": "h",
         "showlegend": false,
         "type": "scatter",
         "x": [],
         "xaxis": "x",
         "y": [],
         "yaxis": "y"
        },
        {
         "error_x": {
          "array": [],
          "color": "rgb(224,144,91)",
          "type": "data",
          "visible": true,
          "width": 0
         },
         "marker": {
          "color": "rgb(224,144,91)"
         },
         "orientation": "h",
         "showlegend": false,
         "type": "scatter",
         "x": [],
         "xaxis": "x2",
         "y": [],
         "yaxis": "y2"
        },
        {
         "error_x": {
          "array": [],
          "color": "rgb(224,144,91)",
          "type": "data",
          "visible": true,
          "width": 0
         },
         "marker": {
          "color": "rgb(224,144,91)"
         },
         "orientation": "h",
         "showlegend": false,
         "type": "scatter",
         "x": [],
         "xaxis": "x3",
         "y": [],
         "yaxis": "y3"
        },
        {
         "error_x": {
          "array": [],
          "color": "rgb(224,144,91)",
          "type": "data",
          "visible": true,
          "width": 0
         },
         "marker": {
          "color": "rgb(224,144,91)"
         },
         "orientation": "h",
         "showlegend": false,
         "type": "scatter",
         "x": [],
         "xaxis": "x4",
         "y": [],
         "yaxis": "y4"
        },
        {
         "error_x": {
          "array": [],
          "color": "rgb(120,171,201)",
          "type": "data",
          "visible": true,
          "width": 0
         },
         "marker": {
          "color": "rgb(120,171,201)"
         },
         "orientation": "h",
         "showlegend": false,
         "type": "scatter",
         "x": [],
         "xaxis": "x",
         "y": [],
         "yaxis": "y"
        },
        {
         "error_x": {
          "array": [
           0.09817547939620785
          ],
          "color": "rgb(120,171,201)",
          "type": "data",
          "visible": true,
          "width": 0
         },
         "marker": {
          "color": "rgb(120,171,201)"
         },
         "orientation": "h",
         "showlegend": false,
         "type": "scatter",
         "x": [
          0.9006036664533312
         ],
         "xaxis": "x2",
         "y": [
          "Applied Sciences"
         ],
         "yaxis": "y2"
        },
        {
         "error_x": {
          "array": [],
          "color": "rgb(120,171,201)",
          "type": "data",
          "visible": true,
          "width": 0
         },
         "marker": {
          "color": "rgb(120,171,201)"
         },
         "orientation": "h",
         "showlegend": false,
         "type": "scatter",
         "x": [],
         "xaxis": "x3",
         "y": [],
         "yaxis": "y3"
        },
        {
         "error_x": {
          "array": [],
          "color": "rgb(120,171,201)",
          "type": "data",
          "visible": true,
          "width": 0
         },
         "marker": {
          "color": "rgb(120,171,201)"
         },
         "orientation": "h",
         "showlegend": false,
         "type": "scatter",
         "x": [],
         "xaxis": "x4",
         "y": [],
         "yaxis": "y4"
        },
        {
         "error_x": {
          "array": [
           0.17723088296750844
          ],
          "color": "rgb(200,200,200)",
          "type": "data",
          "visible": true,
          "width": 0
         },
         "marker": {
          "color": "rgb(200,200,200)"
         },
         "orientation": "h",
         "showlegend": false,
         "type": "scatter",
         "x": [
          1.1371214212912153
         ],
         "xaxis": "x",
         "y": [
          "Applied Sciences"
         ],
         "yaxis": "y"
        },
        {
         "error_x": {
          "array": [],
          "color": "rgb(200,200,200)",
          "type": "data",
          "visible": true,
          "width": 0
         },
         "marker": {
          "color": "rgb(200,200,200)"
         },
         "orientation": "h",
         "showlegend": false,
         "type": "scatter",
         "x": [],
         "xaxis": "x2",
         "y": [],
         "yaxis": "y2"
        },
        {
         "error_x": {
          "array": [
           0.15396846548226195
          ],
          "color": "rgb(200,200,200)",
          "type": "data",
          "visible": true,
          "width": 0
         },
         "marker": {
          "color": "rgb(200,200,200)"
         },
         "orientation": "h",
         "showlegend": false,
         "type": "scatter",
         "x": [
          0.9157434774319617
         ],
         "xaxis": "x3",
         "y": [
          "Applied Sciences"
         ],
         "yaxis": "y3"
        },
        {
         "error_x": {
          "array": [
           0.13010462298380676
          ],
          "color": "rgb(200,200,200)",
          "type": "data",
          "visible": true,
          "width": 0
         },
         "marker": {
          "color": "rgb(200,200,200)"
         },
         "orientation": "h",
         "showlegend": false,
         "type": "scatter",
         "x": [
          0.9844521356625309
         ],
         "xaxis": "x4",
         "y": [
          "Applied Sciences"
         ],
         "yaxis": "y4"
        },
        {
         "error_x": {
          "array": [],
          "color": "rgb(224,144,91)",
          "type": "data",
          "visible": true,
          "width": 0
         },
         "marker": {
          "color": "rgb(224,144,91)"
         },
         "orientation": "h",
         "showlegend": false,
         "type": "scatter",
         "x": [],
         "xaxis": "x",
         "y": [],
         "yaxis": "y"
        },
        {
         "error_x": {
          "array": [],
          "color": "rgb(224,144,91)",
          "type": "data",
          "visible": true,
          "width": 0
         },
         "marker": {
          "color": "rgb(224,144,91)"
         },
         "orientation": "h",
         "showlegend": false,
         "type": "scatter",
         "x": [],
         "xaxis": "x2",
         "y": [],
         "yaxis": "y2"
        },
        {
         "error_x": {
          "array": [],
          "color": "rgb(224,144,91)",
          "type": "data",
          "visible": true,
          "width": 0
         },
         "marker": {
          "color": "rgb(224,144,91)"
         },
         "orientation": "h",
         "showlegend": false,
         "type": "scatter",
         "x": [],
         "xaxis": "x3",
         "y": [],
         "yaxis": "y3"
        },
        {
         "error_x": {
          "array": [],
          "color": "rgb(224,144,91)",
          "type": "data",
          "visible": true,
          "width": 0
         },
         "marker": {
          "color": "rgb(224,144,91)"
         },
         "orientation": "h",
         "showlegend": false,
         "type": "scatter",
         "x": [],
         "xaxis": "x4",
         "y": [],
         "yaxis": "y4"
        },
        {
         "error_x": {
          "array": [],
          "color": "rgb(120,171,201)",
          "type": "data",
          "visible": true,
          "width": 0
         },
         "marker": {
          "color": "rgb(120,171,201)"
         },
         "orientation": "h",
         "showlegend": false,
         "type": "scatter",
         "x": [],
         "xaxis": "x",
         "y": [],
         "yaxis": "y"
        },
        {
         "error_x": {
          "array": [
           0.032018149894118886
          ],
          "color": "rgb(120,171,201)",
          "type": "data",
          "visible": true,
          "width": 0
         },
         "marker": {
          "color": "rgb(120,171,201)"
         },
         "orientation": "h",
         "showlegend": false,
         "type": "scatter",
         "x": [
          0.9180898659143334
         ],
         "xaxis": "x2",
         "y": [
          "Health Sciences"
         ],
         "yaxis": "y2"
        },
        {
         "error_x": {
          "array": [],
          "color": "rgb(120,171,201)",
          "type": "data",
          "visible": true,
          "width": 0
         },
         "marker": {
          "color": "rgb(120,171,201)"
         },
         "orientation": "h",
         "showlegend": false,
         "type": "scatter",
         "x": [],
         "xaxis": "x3",
         "y": [],
         "yaxis": "y3"
        },
        {
         "error_x": {
          "array": [
           0.04671293403454002
          ],
          "color": "rgb(120,171,201)",
          "type": "data",
          "visible": true,
          "width": 0
         },
         "marker": {
          "color": "rgb(120,171,201)"
         },
         "orientation": "h",
         "showlegend": false,
         "type": "scatter",
         "x": [
          0.8654808764399375
         ],
         "xaxis": "x4",
         "y": [
          "Health Sciences"
         ],
         "yaxis": "y4"
        },
        {
         "error_x": {
          "array": [],
          "color": "rgb(200,200,200)",
          "type": "data",
          "visible": true,
          "width": 0
         },
         "marker": {
          "color": "rgb(200,200,200)"
         },
         "orientation": "h",
         "showlegend": false,
         "type": "scatter",
         "x": [],
         "xaxis": "x",
         "y": [],
         "yaxis": "y"
        },
        {
         "error_x": {
          "array": [],
          "color": "rgb(200,200,200)",
          "type": "data",
          "visible": true,
          "width": 0
         },
         "marker": {
          "color": "rgb(200,200,200)"
         },
         "orientation": "h",
         "showlegend": false,
         "type": "scatter",
         "x": [],
         "xaxis": "x2",
         "y": [],
         "yaxis": "y2"
        },
        {
         "error_x": {
          "array": [
           0.057349997547920806
          ],
          "color": "rgb(200,200,200)",
          "type": "data",
          "visible": true,
          "width": 0
         },
         "marker": {
          "color": "rgb(200,200,200)"
         },
         "orientation": "h",
         "showlegend": false,
         "type": "scatter",
         "x": [
          1.0177150832239048
         ],
         "xaxis": "x3",
         "y": [
          "Health Sciences"
         ],
         "yaxis": "y3"
        },
        {
         "error_x": {
          "array": [],
          "color": "rgb(200,200,200)",
          "type": "data",
          "visible": true,
          "width": 0
         },
         "marker": {
          "color": "rgb(200,200,200)"
         },
         "orientation": "h",
         "showlegend": false,
         "type": "scatter",
         "x": [],
         "xaxis": "x4",
         "y": [],
         "yaxis": "y4"
        },
        {
         "error_x": {
          "array": [
           0.05305233046673541
          ],
          "color": "rgb(224,144,91)",
          "type": "data",
          "visible": true,
          "width": 0
         },
         "marker": {
          "color": "rgb(224,144,91)"
         },
         "orientation": "h",
         "showlegend": false,
         "type": "scatter",
         "x": [
          1.0798368878916107
         ],
         "xaxis": "x",
         "y": [
          "Health Sciences"
         ],
         "yaxis": "y"
        },
        {
         "error_x": {
          "array": [],
          "color": "rgb(224,144,91)",
          "type": "data",
          "visible": true,
          "width": 0
         },
         "marker": {
          "color": "rgb(224,144,91)"
         },
         "orientation": "h",
         "showlegend": false,
         "type": "scatter",
         "x": [],
         "xaxis": "x2",
         "y": [],
         "yaxis": "y2"
        },
        {
         "error_x": {
          "array": [],
          "color": "rgb(224,144,91)",
          "type": "data",
          "visible": true,
          "width": 0
         },
         "marker": {
          "color": "rgb(224,144,91)"
         },
         "orientation": "h",
         "showlegend": false,
         "type": "scatter",
         "x": [],
         "xaxis": "x3",
         "y": [],
         "yaxis": "y3"
        },
        {
         "error_x": {
          "array": [],
          "color": "rgb(224,144,91)",
          "type": "data",
          "visible": true,
          "width": 0
         },
         "marker": {
          "color": "rgb(224,144,91)"
         },
         "orientation": "h",
         "showlegend": false,
         "type": "scatter",
         "x": [],
         "xaxis": "x4",
         "y": [],
         "yaxis": "y4"
        },
        {
         "error_x": {
          "array": [],
          "color": "rgb(120,171,201)",
          "type": "data",
          "visible": true,
          "width": 0
         },
         "marker": {
          "color": "rgb(120,171,201)"
         },
         "orientation": "h",
         "showlegend": false,
         "type": "scatter",
         "x": [],
         "xaxis": "x",
         "y": [],
         "yaxis": "y"
        },
        {
         "error_x": {
          "array": [
           0.1198858400730709
          ],
          "color": "rgb(120,171,201)",
          "type": "data",
          "visible": true,
          "width": 0
         },
         "marker": {
          "color": "rgb(120,171,201)"
         },
         "orientation": "h",
         "showlegend": false,
         "type": "scatter",
         "x": [
          0.8695147339656261
         ],
         "xaxis": "x2",
         "y": [
          "Economic & Social Sciences"
         ],
         "yaxis": "y2"
        },
        {
         "error_x": {
          "array": [],
          "color": "rgb(120,171,201)",
          "type": "data",
          "visible": true,
          "width": 0
         },
         "marker": {
          "color": "rgb(120,171,201)"
         },
         "orientation": "h",
         "showlegend": false,
         "type": "scatter",
         "x": [],
         "xaxis": "x3",
         "y": [],
         "yaxis": "y3"
        },
        {
         "error_x": {
          "array": [],
          "color": "rgb(120,171,201)",
          "type": "data",
          "visible": true,
          "width": 0
         },
         "marker": {
          "color": "rgb(120,171,201)"
         },
         "orientation": "h",
         "showlegend": false,
         "type": "scatter",
         "x": [],
         "xaxis": "x4",
         "y": [],
         "yaxis": "y4"
        },
        {
         "error_x": {
          "array": [
           0.12276701972851078
          ],
          "color": "rgb(200,200,200)",
          "type": "data",
          "visible": true,
          "width": 0
         },
         "marker": {
          "color": "rgb(200,200,200)"
         },
         "orientation": "h",
         "showlegend": false,
         "type": "scatter",
         "x": [
          0.9172180946986067
         ],
         "xaxis": "x",
         "y": [
          "Economic & Social Sciences"
         ],
         "yaxis": "y"
        },
        {
         "error_x": {
          "array": [],
          "color": "rgb(200,200,200)",
          "type": "data",
          "visible": true,
          "width": 0
         },
         "marker": {
          "color": "rgb(200,200,200)"
         },
         "orientation": "h",
         "showlegend": false,
         "type": "scatter",
         "x": [],
         "xaxis": "x2",
         "y": [],
         "yaxis": "y2"
        },
        {
         "error_x": {
          "array": [
           0.16302527000411793
          ],
          "color": "rgb(200,200,200)",
          "type": "data",
          "visible": true,
          "width": 0
         },
         "marker": {
          "color": "rgb(200,200,200)"
         },
         "orientation": "h",
         "showlegend": false,
         "type": "scatter",
         "x": [
          0.9713290409189215
         ],
         "xaxis": "x3",
         "y": [
          "Economic & Social Sciences"
         ],
         "yaxis": "y3"
        },
        {
         "error_x": {
          "array": [
           0.10709264770962446
          ],
          "color": "rgb(200,200,200)",
          "type": "data",
          "visible": true,
          "width": 0
         },
         "marker": {
          "color": "rgb(200,200,200)"
         },
         "orientation": "h",
         "showlegend": false,
         "type": "scatter",
         "x": [
          0.9424805466802851
         ],
         "xaxis": "x4",
         "y": [
          "Economic & Social Sciences"
         ],
         "yaxis": "y4"
        },
        {
         "error_x": {
          "array": [],
          "color": "rgb(224,144,91)",
          "type": "data",
          "visible": true,
          "width": 0
         },
         "marker": {
          "color": "rgb(224,144,91)"
         },
         "orientation": "h",
         "showlegend": false,
         "type": "scatter",
         "x": [],
         "xaxis": "x",
         "y": [],
         "yaxis": "y"
        },
        {
         "error_x": {
          "array": [],
          "color": "rgb(224,144,91)",
          "type": "data",
          "visible": true,
          "width": 0
         },
         "marker": {
          "color": "rgb(224,144,91)"
         },
         "orientation": "h",
         "showlegend": false,
         "type": "scatter",
         "x": [],
         "xaxis": "x2",
         "y": [],
         "yaxis": "y2"
        },
        {
         "error_x": {
          "array": [],
          "color": "rgb(224,144,91)",
          "type": "data",
          "visible": true,
          "width": 0
         },
         "marker": {
          "color": "rgb(224,144,91)"
         },
         "orientation": "h",
         "showlegend": false,
         "type": "scatter",
         "x": [],
         "xaxis": "x3",
         "y": [],
         "yaxis": "y3"
        },
        {
         "error_x": {
          "array": [],
          "color": "rgb(224,144,91)",
          "type": "data",
          "visible": true,
          "width": 0
         },
         "marker": {
          "color": "rgb(224,144,91)"
         },
         "orientation": "h",
         "showlegend": false,
         "type": "scatter",
         "x": [],
         "xaxis": "x4",
         "y": [],
         "yaxis": "y4"
        },
        {
         "error_x": {
          "array": [],
          "color": "rgb(120,171,201)",
          "type": "data",
          "visible": true,
          "width": 0
         },
         "marker": {
          "color": "rgb(120,171,201)"
         },
         "orientation": "h",
         "showlegend": false,
         "type": "scatter",
         "x": [],
         "xaxis": "x",
         "y": [],
         "yaxis": "y"
        },
        {
         "error_x": {
          "array": [],
          "color": "rgb(120,171,201)",
          "type": "data",
          "visible": true,
          "width": 0
         },
         "marker": {
          "color": "rgb(120,171,201)"
         },
         "orientation": "h",
         "showlegend": false,
         "type": "scatter",
         "x": [],
         "xaxis": "x2",
         "y": [],
         "yaxis": "y2"
        },
        {
         "error_x": {
          "array": [],
          "color": "rgb(120,171,201)",
          "type": "data",
          "visible": true,
          "width": 0
         },
         "marker": {
          "color": "rgb(120,171,201)"
         },
         "orientation": "h",
         "showlegend": false,
         "type": "scatter",
         "x": [],
         "xaxis": "x3",
         "y": [],
         "yaxis": "y3"
        },
        {
         "error_x": {
          "array": [],
          "color": "rgb(120,171,201)",
          "type": "data",
          "visible": true,
          "width": 0
         },
         "marker": {
          "color": "rgb(120,171,201)"
         },
         "orientation": "h",
         "showlegend": false,
         "type": "scatter",
         "x": [],
         "xaxis": "x4",
         "y": [],
         "yaxis": "y4"
        },
        {
         "error_x": {
          "array": [
           0.3299747088623757
          ],
          "color": "rgb(200,200,200)",
          "type": "data",
          "visible": true,
          "width": 0
         },
         "marker": {
          "color": "rgb(200,200,200)"
         },
         "orientation": "h",
         "showlegend": false,
         "type": "scatter",
         "x": [
          1.0517758276280942
         ],
         "xaxis": "x",
         "y": [
          "Arts & Humanities"
         ],
         "yaxis": "y"
        },
        {
         "error_x": {
          "array": [
           0.2749621384443979
          ],
          "color": "rgb(200,200,200)",
          "type": "data",
          "visible": true,
          "width": 0
         },
         "marker": {
          "color": "rgb(200,200,200)"
         },
         "orientation": "h",
         "showlegend": false,
         "type": "scatter",
         "x": [
          0.8358551052482197
         ],
         "xaxis": "x2",
         "y": [
          "Arts & Humanities"
         ],
         "yaxis": "y2"
        },
        {
         "error_x": {
          "array": [
           0.25714166807662875
          ],
          "color": "rgb(200,200,200)",
          "type": "data",
          "visible": true,
          "width": 0
         },
         "marker": {
          "color": "rgb(200,200,200)"
         },
         "orientation": "h",
         "showlegend": false,
         "type": "scatter",
         "x": [
          0.7836678571435798
         ],
         "xaxis": "x3",
         "y": [
          "Arts & Humanities"
         ],
         "yaxis": "y3"
        },
        {
         "error_x": {
          "array": [
           0.2530921589331163
          ],
          "color": "rgb(200,200,200)",
          "type": "data",
          "visible": true,
          "width": 0
         },
         "marker": {
          "color": "rgb(200,200,200)"
         },
         "orientation": "h",
         "showlegend": false,
         "type": "scatter",
         "x": [
          0.949860639890878
         ],
         "xaxis": "x4",
         "y": [
          "Arts & Humanities"
         ],
         "yaxis": "y4"
        },
        {
         "error_x": {
          "array": [],
          "color": "rgb(224,144,91)",
          "type": "data",
          "visible": true,
          "width": 0
         },
         "marker": {
          "color": "rgb(224,144,91)"
         },
         "orientation": "h",
         "showlegend": false,
         "type": "scatter",
         "x": [],
         "xaxis": "x",
         "y": [],
         "yaxis": "y"
        },
        {
         "error_x": {
          "array": [],
          "color": "rgb(224,144,91)",
          "type": "data",
          "visible": true,
          "width": 0
         },
         "marker": {
          "color": "rgb(224,144,91)"
         },
         "orientation": "h",
         "showlegend": false,
         "type": "scatter",
         "x": [],
         "xaxis": "x2",
         "y": [],
         "yaxis": "y2"
        },
        {
         "error_x": {
          "array": [],
          "color": "rgb(224,144,91)",
          "type": "data",
          "visible": true,
          "width": 0
         },
         "marker": {
          "color": "rgb(224,144,91)"
         },
         "orientation": "h",
         "showlegend": false,
         "type": "scatter",
         "x": [],
         "xaxis": "x3",
         "y": [],
         "yaxis": "y3"
        },
        {
         "error_x": {
          "array": [],
          "color": "rgb(224,144,91)",
          "type": "data",
          "visible": true,
          "width": 0
         },
         "marker": {
          "color": "rgb(224,144,91)"
         },
         "orientation": "h",
         "showlegend": false,
         "type": "scatter",
         "x": [],
         "xaxis": "x4",
         "y": [],
         "yaxis": "y4"
        }
       ],
       "layout": {
        "annotations": [
         {
          "font": {
           "size": 16
          },
          "showarrow": false,
          "text": "Local",
          "x": 0.225,
          "xanchor": "center",
          "xref": "paper",
          "y": 1,
          "yanchor": "bottom",
          "yref": "paper"
         },
         {
          "font": {
           "size": 16
          },
          "showarrow": false,
          "text": "National",
          "x": 0.775,
          "xanchor": "center",
          "xref": "paper",
          "y": 1,
          "yanchor": "bottom",
          "yref": "paper"
         },
         {
          "font": {
           "size": 16
          },
          "showarrow": false,
          "text": "International",
          "x": 0.225,
          "xanchor": "center",
          "xref": "paper",
          "y": 0.4,
          "yanchor": "bottom",
          "yref": "paper"
         },
         {
          "font": {
           "size": 16
          },
          "showarrow": false,
          "text": "Specialty",
          "x": 0.775,
          "xanchor": "center",
          "xref": "paper",
          "y": 0.4,
          "yanchor": "bottom",
          "yref": "paper"
         },
         {
          "font": {
           "size": 15
          },
          "showarrow": false,
          "text": "Odds ratio of being cited more by media<br>(women over men)",
          "x": 0.5,
          "xref": "paper",
          "y": -0.2,
          "yref": "paper"
         }
        ],
        "font": {
         "family": "Arial",
         "size": 12
        },
        "height": 500,
        "shapes": [
         {
          "line": {
           "color": "black",
           "dash": "dash",
           "width": 1
          },
          "type": "line",
          "x0": 1,
          "x1": 1,
          "xref": "x",
          "y0": 0,
          "y1": 1,
          "yref": "y domain"
         },
         {
          "line": {
           "color": "black",
           "dash": "dash",
           "width": 1
          },
          "type": "line",
          "x0": 1,
          "x1": 1,
          "xref": "x2",
          "y0": 0,
          "y1": 1,
          "yref": "y2 domain"
         },
         {
          "line": {
           "color": "black",
           "dash": "dash",
           "width": 1
          },
          "type": "line",
          "x0": 1,
          "x1": 1,
          "xref": "x3",
          "y0": 0,
          "y1": 1,
          "yref": "y3 domain"
         },
         {
          "line": {
           "color": "black",
           "dash": "dash",
           "width": 1
          },
          "type": "line",
          "x0": 1,
          "x1": 1,
          "xref": "x4",
          "y0": 0,
          "y1": 1,
          "yref": "y4 domain"
         }
        ],
        "template": {
         "data": {
          "bar": [
           {
            "error_x": {
             "color": "rgb(36,36,36)"
            },
            "error_y": {
             "color": "rgb(36,36,36)"
            },
            "marker": {
             "line": {
              "color": "white",
              "width": 0.5
             },
             "pattern": {
              "fillmode": "overlay",
              "size": 10,
              "solidity": 0.2
             }
            },
            "type": "bar"
           }
          ],
          "barpolar": [
           {
            "marker": {
             "line": {
              "color": "white",
              "width": 0.5
             },
             "pattern": {
              "fillmode": "overlay",
              "size": 10,
              "solidity": 0.2
             }
            },
            "type": "barpolar"
           }
          ],
          "carpet": [
           {
            "aaxis": {
             "endlinecolor": "rgb(36,36,36)",
             "gridcolor": "white",
             "linecolor": "white",
             "minorgridcolor": "white",
             "startlinecolor": "rgb(36,36,36)"
            },
            "baxis": {
             "endlinecolor": "rgb(36,36,36)",
             "gridcolor": "white",
             "linecolor": "white",
             "minorgridcolor": "white",
             "startlinecolor": "rgb(36,36,36)"
            },
            "type": "carpet"
           }
          ],
          "choropleth": [
           {
            "colorbar": {
             "outlinewidth": 1,
             "tickcolor": "rgb(36,36,36)",
             "ticks": "outside"
            },
            "type": "choropleth"
           }
          ],
          "contour": [
           {
            "colorbar": {
             "outlinewidth": 1,
             "tickcolor": "rgb(36,36,36)",
             "ticks": "outside"
            },
            "colorscale": [
             [
              0,
              "#440154"
             ],
             [
              0.1111111111111111,
              "#482878"
             ],
             [
              0.2222222222222222,
              "#3e4989"
             ],
             [
              0.3333333333333333,
              "#31688e"
             ],
             [
              0.4444444444444444,
              "#26828e"
             ],
             [
              0.5555555555555556,
              "#1f9e89"
             ],
             [
              0.6666666666666666,
              "#35b779"
             ],
             [
              0.7777777777777778,
              "#6ece58"
             ],
             [
              0.8888888888888888,
              "#b5de2b"
             ],
             [
              1,
              "#fde725"
             ]
            ],
            "type": "contour"
           }
          ],
          "contourcarpet": [
           {
            "colorbar": {
             "outlinewidth": 1,
             "tickcolor": "rgb(36,36,36)",
             "ticks": "outside"
            },
            "type": "contourcarpet"
           }
          ],
          "heatmap": [
           {
            "colorbar": {
             "outlinewidth": 1,
             "tickcolor": "rgb(36,36,36)",
             "ticks": "outside"
            },
            "colorscale": [
             [
              0,
              "#440154"
             ],
             [
              0.1111111111111111,
              "#482878"
             ],
             [
              0.2222222222222222,
              "#3e4989"
             ],
             [
              0.3333333333333333,
              "#31688e"
             ],
             [
              0.4444444444444444,
              "#26828e"
             ],
             [
              0.5555555555555556,
              "#1f9e89"
             ],
             [
              0.6666666666666666,
              "#35b779"
             ],
             [
              0.7777777777777778,
              "#6ece58"
             ],
             [
              0.8888888888888888,
              "#b5de2b"
             ],
             [
              1,
              "#fde725"
             ]
            ],
            "type": "heatmap"
           }
          ],
          "heatmapgl": [
           {
            "colorbar": {
             "outlinewidth": 1,
             "tickcolor": "rgb(36,36,36)",
             "ticks": "outside"
            },
            "colorscale": [
             [
              0,
              "#440154"
             ],
             [
              0.1111111111111111,
              "#482878"
             ],
             [
              0.2222222222222222,
              "#3e4989"
             ],
             [
              0.3333333333333333,
              "#31688e"
             ],
             [
              0.4444444444444444,
              "#26828e"
             ],
             [
              0.5555555555555556,
              "#1f9e89"
             ],
             [
              0.6666666666666666,
              "#35b779"
             ],
             [
              0.7777777777777778,
              "#6ece58"
             ],
             [
              0.8888888888888888,
              "#b5de2b"
             ],
             [
              1,
              "#fde725"
             ]
            ],
            "type": "heatmapgl"
           }
          ],
          "histogram": [
           {
            "marker": {
             "line": {
              "color": "white",
              "width": 0.6
             }
            },
            "type": "histogram"
           }
          ],
          "histogram2d": [
           {
            "colorbar": {
             "outlinewidth": 1,
             "tickcolor": "rgb(36,36,36)",
             "ticks": "outside"
            },
            "colorscale": [
             [
              0,
              "#440154"
             ],
             [
              0.1111111111111111,
              "#482878"
             ],
             [
              0.2222222222222222,
              "#3e4989"
             ],
             [
              0.3333333333333333,
              "#31688e"
             ],
             [
              0.4444444444444444,
              "#26828e"
             ],
             [
              0.5555555555555556,
              "#1f9e89"
             ],
             [
              0.6666666666666666,
              "#35b779"
             ],
             [
              0.7777777777777778,
              "#6ece58"
             ],
             [
              0.8888888888888888,
              "#b5de2b"
             ],
             [
              1,
              "#fde725"
             ]
            ],
            "type": "histogram2d"
           }
          ],
          "histogram2dcontour": [
           {
            "colorbar": {
             "outlinewidth": 1,
             "tickcolor": "rgb(36,36,36)",
             "ticks": "outside"
            },
            "colorscale": [
             [
              0,
              "#440154"
             ],
             [
              0.1111111111111111,
              "#482878"
             ],
             [
              0.2222222222222222,
              "#3e4989"
             ],
             [
              0.3333333333333333,
              "#31688e"
             ],
             [
              0.4444444444444444,
              "#26828e"
             ],
             [
              0.5555555555555556,
              "#1f9e89"
             ],
             [
              0.6666666666666666,
              "#35b779"
             ],
             [
              0.7777777777777778,
              "#6ece58"
             ],
             [
              0.8888888888888888,
              "#b5de2b"
             ],
             [
              1,
              "#fde725"
             ]
            ],
            "type": "histogram2dcontour"
           }
          ],
          "mesh3d": [
           {
            "colorbar": {
             "outlinewidth": 1,
             "tickcolor": "rgb(36,36,36)",
             "ticks": "outside"
            },
            "type": "mesh3d"
           }
          ],
          "parcoords": [
           {
            "line": {
             "colorbar": {
              "outlinewidth": 1,
              "tickcolor": "rgb(36,36,36)",
              "ticks": "outside"
             }
            },
            "type": "parcoords"
           }
          ],
          "pie": [
           {
            "automargin": true,
            "type": "pie"
           }
          ],
          "scatter": [
           {
            "fillpattern": {
             "fillmode": "overlay",
             "size": 10,
             "solidity": 0.2
            },
            "type": "scatter"
           }
          ],
          "scatter3d": [
           {
            "line": {
             "colorbar": {
              "outlinewidth": 1,
              "tickcolor": "rgb(36,36,36)",
              "ticks": "outside"
             }
            },
            "marker": {
             "colorbar": {
              "outlinewidth": 1,
              "tickcolor": "rgb(36,36,36)",
              "ticks": "outside"
             }
            },
            "type": "scatter3d"
           }
          ],
          "scattercarpet": [
           {
            "marker": {
             "colorbar": {
              "outlinewidth": 1,
              "tickcolor": "rgb(36,36,36)",
              "ticks": "outside"
             }
            },
            "type": "scattercarpet"
           }
          ],
          "scattergeo": [
           {
            "marker": {
             "colorbar": {
              "outlinewidth": 1,
              "tickcolor": "rgb(36,36,36)",
              "ticks": "outside"
             }
            },
            "type": "scattergeo"
           }
          ],
          "scattergl": [
           {
            "marker": {
             "colorbar": {
              "outlinewidth": 1,
              "tickcolor": "rgb(36,36,36)",
              "ticks": "outside"
             }
            },
            "type": "scattergl"
           }
          ],
          "scattermapbox": [
           {
            "marker": {
             "colorbar": {
              "outlinewidth": 1,
              "tickcolor": "rgb(36,36,36)",
              "ticks": "outside"
             }
            },
            "type": "scattermapbox"
           }
          ],
          "scatterpolar": [
           {
            "marker": {
             "colorbar": {
              "outlinewidth": 1,
              "tickcolor": "rgb(36,36,36)",
              "ticks": "outside"
             }
            },
            "type": "scatterpolar"
           }
          ],
          "scatterpolargl": [
           {
            "marker": {
             "colorbar": {
              "outlinewidth": 1,
              "tickcolor": "rgb(36,36,36)",
              "ticks": "outside"
             }
            },
            "type": "scatterpolargl"
           }
          ],
          "scatterternary": [
           {
            "marker": {
             "colorbar": {
              "outlinewidth": 1,
              "tickcolor": "rgb(36,36,36)",
              "ticks": "outside"
             }
            },
            "type": "scatterternary"
           }
          ],
          "surface": [
           {
            "colorbar": {
             "outlinewidth": 1,
             "tickcolor": "rgb(36,36,36)",
             "ticks": "outside"
            },
            "colorscale": [
             [
              0,
              "#440154"
             ],
             [
              0.1111111111111111,
              "#482878"
             ],
             [
              0.2222222222222222,
              "#3e4989"
             ],
             [
              0.3333333333333333,
              "#31688e"
             ],
             [
              0.4444444444444444,
              "#26828e"
             ],
             [
              0.5555555555555556,
              "#1f9e89"
             ],
             [
              0.6666666666666666,
              "#35b779"
             ],
             [
              0.7777777777777778,
              "#6ece58"
             ],
             [
              0.8888888888888888,
              "#b5de2b"
             ],
             [
              1,
              "#fde725"
             ]
            ],
            "type": "surface"
           }
          ],
          "table": [
           {
            "cells": {
             "fill": {
              "color": "rgb(237,237,237)"
             },
             "line": {
              "color": "white"
             }
            },
            "header": {
             "fill": {
              "color": "rgb(217,217,217)"
             },
             "line": {
              "color": "white"
             }
            },
            "type": "table"
           }
          ]
         },
         "layout": {
          "annotationdefaults": {
           "arrowhead": 0,
           "arrowwidth": 1
          },
          "autotypenumbers": "strict",
          "coloraxis": {
           "colorbar": {
            "outlinewidth": 1,
            "tickcolor": "rgb(36,36,36)",
            "ticks": "outside"
           }
          },
          "colorscale": {
           "diverging": [
            [
             0,
             "rgb(103,0,31)"
            ],
            [
             0.1,
             "rgb(178,24,43)"
            ],
            [
             0.2,
             "rgb(214,96,77)"
            ],
            [
             0.3,
             "rgb(244,165,130)"
            ],
            [
             0.4,
             "rgb(253,219,199)"
            ],
            [
             0.5,
             "rgb(247,247,247)"
            ],
            [
             0.6,
             "rgb(209,229,240)"
            ],
            [
             0.7,
             "rgb(146,197,222)"
            ],
            [
             0.8,
             "rgb(67,147,195)"
            ],
            [
             0.9,
             "rgb(33,102,172)"
            ],
            [
             1,
             "rgb(5,48,97)"
            ]
           ],
           "sequential": [
            [
             0,
             "#440154"
            ],
            [
             0.1111111111111111,
             "#482878"
            ],
            [
             0.2222222222222222,
             "#3e4989"
            ],
            [
             0.3333333333333333,
             "#31688e"
            ],
            [
             0.4444444444444444,
             "#26828e"
            ],
            [
             0.5555555555555556,
             "#1f9e89"
            ],
            [
             0.6666666666666666,
             "#35b779"
            ],
            [
             0.7777777777777778,
             "#6ece58"
            ],
            [
             0.8888888888888888,
             "#b5de2b"
            ],
            [
             1,
             "#fde725"
            ]
           ],
           "sequentialminus": [
            [
             0,
             "#440154"
            ],
            [
             0.1111111111111111,
             "#482878"
            ],
            [
             0.2222222222222222,
             "#3e4989"
            ],
            [
             0.3333333333333333,
             "#31688e"
            ],
            [
             0.4444444444444444,
             "#26828e"
            ],
            [
             0.5555555555555556,
             "#1f9e89"
            ],
            [
             0.6666666666666666,
             "#35b779"
            ],
            [
             0.7777777777777778,
             "#6ece58"
            ],
            [
             0.8888888888888888,
             "#b5de2b"
            ],
            [
             1,
             "#fde725"
            ]
           ]
          },
          "colorway": [
           "#1F77B4",
           "#FF7F0E",
           "#2CA02C",
           "#D62728",
           "#9467BD",
           "#8C564B",
           "#E377C2",
           "#7F7F7F",
           "#BCBD22",
           "#17BECF"
          ],
          "font": {
           "color": "rgb(36,36,36)"
          },
          "geo": {
           "bgcolor": "white",
           "lakecolor": "white",
           "landcolor": "white",
           "showlakes": true,
           "showland": true,
           "subunitcolor": "white"
          },
          "hoverlabel": {
           "align": "left"
          },
          "hovermode": "closest",
          "mapbox": {
           "style": "light"
          },
          "paper_bgcolor": "white",
          "plot_bgcolor": "white",
          "polar": {
           "angularaxis": {
            "gridcolor": "rgb(232,232,232)",
            "linecolor": "rgb(36,36,36)",
            "showgrid": false,
            "showline": true,
            "ticks": "outside"
           },
           "bgcolor": "white",
           "radialaxis": {
            "gridcolor": "rgb(232,232,232)",
            "linecolor": "rgb(36,36,36)",
            "showgrid": false,
            "showline": true,
            "ticks": "outside"
           }
          },
          "scene": {
           "xaxis": {
            "backgroundcolor": "white",
            "gridcolor": "rgb(232,232,232)",
            "gridwidth": 2,
            "linecolor": "rgb(36,36,36)",
            "showbackground": true,
            "showgrid": false,
            "showline": true,
            "ticks": "outside",
            "zeroline": false,
            "zerolinecolor": "rgb(36,36,36)"
           },
           "yaxis": {
            "backgroundcolor": "white",
            "gridcolor": "rgb(232,232,232)",
            "gridwidth": 2,
            "linecolor": "rgb(36,36,36)",
            "showbackground": true,
            "showgrid": false,
            "showline": true,
            "ticks": "outside",
            "zeroline": false,
            "zerolinecolor": "rgb(36,36,36)"
           },
           "zaxis": {
            "backgroundcolor": "white",
            "gridcolor": "rgb(232,232,232)",
            "gridwidth": 2,
            "linecolor": "rgb(36,36,36)",
            "showbackground": true,
            "showgrid": false,
            "showline": true,
            "ticks": "outside",
            "zeroline": false,
            "zerolinecolor": "rgb(36,36,36)"
           }
          },
          "shapedefaults": {
           "fillcolor": "black",
           "line": {
            "width": 0
           },
           "opacity": 0.3
          },
          "ternary": {
           "aaxis": {
            "gridcolor": "rgb(232,232,232)",
            "linecolor": "rgb(36,36,36)",
            "showgrid": false,
            "showline": true,
            "ticks": "outside"
           },
           "baxis": {
            "gridcolor": "rgb(232,232,232)",
            "linecolor": "rgb(36,36,36)",
            "showgrid": false,
            "showline": true,
            "ticks": "outside"
           },
           "bgcolor": "white",
           "caxis": {
            "gridcolor": "rgb(232,232,232)",
            "linecolor": "rgb(36,36,36)",
            "showgrid": false,
            "showline": true,
            "ticks": "outside"
           }
          },
          "title": {
           "x": 0.05
          },
          "xaxis": {
           "automargin": true,
           "gridcolor": "rgb(232,232,232)",
           "linecolor": "rgb(36,36,36)",
           "showgrid": false,
           "showline": true,
           "ticks": "outside",
           "title": {
            "standoff": 15
           },
           "zeroline": false,
           "zerolinecolor": "rgb(36,36,36)"
          },
          "yaxis": {
           "automargin": true,
           "gridcolor": "rgb(232,232,232)",
           "linecolor": "rgb(36,36,36)",
           "showgrid": false,
           "showline": true,
           "ticks": "outside",
           "title": {
            "standoff": 15
           },
           "zeroline": false,
           "zerolinecolor": "rgb(36,36,36)"
          }
         }
        },
        "width": 600,
        "xaxis": {
         "anchor": "y",
         "domain": [
          0,
          0.45
         ],
         "mirror": true
        },
        "xaxis2": {
         "anchor": "y2",
         "domain": [
          0.55,
          1
         ],
         "mirror": true
        },
        "xaxis3": {
         "anchor": "y3",
         "domain": [
          0,
          0.45
         ],
         "mirror": true
        },
        "xaxis4": {
         "anchor": "y4",
         "domain": [
          0.55,
          1
         ],
         "mirror": true
        },
        "yaxis": {
         "anchor": "x",
         "autorange": "reversed",
         "domain": [
          0.6000000000000001,
          1
         ],
         "mirror": true
        },
        "yaxis2": {
         "anchor": "x2",
         "autorange": "reversed",
         "domain": [
          0.6000000000000001,
          1
         ],
         "matches": "y",
         "mirror": true,
         "showticklabels": false
        },
        "yaxis3": {
         "anchor": "x3",
         "autorange": "reversed",
         "domain": [
          0,
          0.4
         ],
         "mirror": true
        },
        "yaxis4": {
         "anchor": "x4",
         "autorange": "reversed",
         "domain": [
          0,
          0.4
         ],
         "matches": "y3",
         "mirror": true,
         "showticklabels": false
        }
       }
      }
     },
     "metadata": {},
     "output_type": "display_data"
    }
   ],
   "source": [
    "# Create a bar chart\n",
    "indicators = [-1, 0, 1]\n",
    "\n",
    "fig = make_subplots(\n",
    "    rows=2,\n",
    "    cols=2,\n",
    "    subplot_titles=medias,\n",
    "    shared_yaxes=True,\n",
    "    vertical_spacing=0.2,\n",
    ")\n",
    "\n",
    "for i, domain in enumerate(domains):\n",
    "    for j, indicator in enumerate(indicators):\n",
    "        for k, media in enumerate(medias):\n",
    "            t = df.query(\n",
    "                \"domain == @domain and indicator == @indicator and Category == @media\"\n",
    "            )\n",
    "            fig.add_trace(\n",
    "                go.Scatter(\n",
    "                    x=t[\"Odds ratio\"],\n",
    "                    y=t[\"domain\"],\n",
    "                    error_x=dict(\n",
    "                        type=\"data\",\n",
    "                        array=t[\"ci_error\"],\n",
    "                        visible=True,\n",
    "                        color=indicator_colors[indicator],\n",
    "                        width=0,\n",
    "                    ),\n",
    "                    orientation=\"h\",\n",
    "                    marker_color=indicator_colors[indicator],\n",
    "                    showlegend=False,\n",
    "                ),\n",
    "                row=k // 2 + 1,\n",
    "                col=k % 2 + 1,\n",
    "            )\n",
    "\n",
    "# Customize layout\n",
    "fig.update_layout(\n",
    "    template=\"simple_white\",\n",
    "    font=dict(size=12, family=\"Arial\"),\n",
    "    height=500,\n",
    "    width=600,\n",
    ")\n",
    "\n",
    "fig.update_xaxes(mirror=True)\n",
    "fig.update_yaxes(autorange=\"reversed\", mirror=True)\n",
    "\n",
    "# add x-axis title\n",
    "fig.add_annotation(\n",
    "    text=\"Odds ratio of being cited more by media<br>(women over men)\",\n",
    "    x=0.5,\n",
    "    y=-0.2,\n",
    "    xref=\"paper\",\n",
    "    yref=\"paper\",\n",
    "    showarrow=False,\n",
    "    font=dict(size=15),\n",
    ")\n",
    "\n",
    "# add reference line\n",
    "fig.add_vline(x=1, line_width=1, line_dash=\"dash\", line_color=\"black\")\n",
    "\n",
    "# Show the plot\n",
    "fig.show()\n",
    "fig.write_image(\"figures/media_level_reg.svg\")"
   ]
  },
  {
   "cell_type": "markdown",
   "metadata": {
    "id": "XDmInbWqoXmT"
   },
   "source": [
    "### Gender and Ideology Figure"
   ]
  },
  {
   "cell_type": "code",
   "execution_count": 3,
   "metadata": {},
   "outputs": [
    {
     "data": {
      "text/html": [
       "<div>\n",
       "<style scoped>\n",
       "    .dataframe tbody tr th:only-of-type {\n",
       "        vertical-align: middle;\n",
       "    }\n",
       "\n",
       "    .dataframe tbody tr th {\n",
       "        vertical-align: top;\n",
       "    }\n",
       "\n",
       "    .dataframe thead th {\n",
       "        text-align: right;\n",
       "    }\n",
       "</style>\n",
       "<table border=\"1\" class=\"dataframe\">\n",
       "  <thead>\n",
       "    <tr style=\"text-align: right;\">\n",
       "      <th></th>\n",
       "      <th>domain</th>\n",
       "      <th>est</th>\n",
       "      <th>error</th>\n",
       "      <th>pval</th>\n",
       "      <th>upper</th>\n",
       "      <th>ci_error</th>\n",
       "      <th>indicator</th>\n",
       "    </tr>\n",
       "  </thead>\n",
       "  <tbody>\n",
       "    <tr>\n",
       "      <th>5</th>\n",
       "      <td>Natural Sciences</td>\n",
       "      <td>-0.005979</td>\n",
       "      <td>0.002382</td>\n",
       "      <td>*</td>\n",
       "      <td>-0.001310</td>\n",
       "      <td>0.004669</td>\n",
       "      <td>-1</td>\n",
       "    </tr>\n",
       "    <tr>\n",
       "      <th>1</th>\n",
       "      <td>Applied Sciences</td>\n",
       "      <td>0.006413</td>\n",
       "      <td>0.003695</td>\n",
       "      <td>NaN</td>\n",
       "      <td>0.013655</td>\n",
       "      <td>0.007242</td>\n",
       "      <td>0</td>\n",
       "    </tr>\n",
       "    <tr>\n",
       "      <th>4</th>\n",
       "      <td>Health Sciences</td>\n",
       "      <td>-0.002957</td>\n",
       "      <td>0.001217</td>\n",
       "      <td>*</td>\n",
       "      <td>-0.000572</td>\n",
       "      <td>0.002385</td>\n",
       "      <td>-1</td>\n",
       "    </tr>\n",
       "    <tr>\n",
       "      <th>3</th>\n",
       "      <td>Economic &amp; Social Sciences</td>\n",
       "      <td>-0.016016</td>\n",
       "      <td>0.003655</td>\n",
       "      <td>***</td>\n",
       "      <td>-0.008852</td>\n",
       "      <td>0.007164</td>\n",
       "      <td>-1</td>\n",
       "    </tr>\n",
       "    <tr>\n",
       "      <th>2</th>\n",
       "      <td>Arts &amp; Humanities</td>\n",
       "      <td>0.006185</td>\n",
       "      <td>0.008018</td>\n",
       "      <td>NaN</td>\n",
       "      <td>0.021900</td>\n",
       "      <td>0.015715</td>\n",
       "      <td>0</td>\n",
       "    </tr>\n",
       "    <tr>\n",
       "      <th>0</th>\n",
       "      <td>Total</td>\n",
       "      <td>-0.003682</td>\n",
       "      <td>0.000992</td>\n",
       "      <td>***</td>\n",
       "      <td>-0.001738</td>\n",
       "      <td>0.001944</td>\n",
       "      <td>-1</td>\n",
       "    </tr>\n",
       "  </tbody>\n",
       "</table>\n",
       "</div>"
      ],
      "text/plain": [
       "                       domain       est     error pval     upper  ci_error  \\\n",
       "5            Natural Sciences -0.005979  0.002382    * -0.001310  0.004669   \n",
       "1            Applied Sciences  0.006413  0.003695  NaN  0.013655  0.007242   \n",
       "4             Health Sciences -0.002957  0.001217    * -0.000572  0.002385   \n",
       "3  Economic & Social Sciences -0.016016  0.003655  *** -0.008852  0.007164   \n",
       "2           Arts & Humanities  0.006185  0.008018  NaN  0.021900  0.015715   \n",
       "0                       Total -0.003682  0.000992  *** -0.001738  0.001944   \n",
       "\n",
       "   indicator  \n",
       "5         -1  \n",
       "1          0  \n",
       "4         -1  \n",
       "3         -1  \n",
       "2          0  \n",
       "0         -1  "
      ]
     },
     "execution_count": 3,
     "metadata": {},
     "output_type": "execute_result"
    }
   ],
   "source": [
    "df = pd.read_excel(\"media level.xlsx\", sheet_name=\"ideo reg\")\n",
    "df[\"upper\"] = df.apply(lambda x: get_ci(x[\"est\"], x[\"error\"], isExp=False)[1], axis=1)\n",
    "df[\"ci_error\"] = df[\"upper\"] - df[\"est\"]\n",
    "df[\"indicator\"] = df.apply(\n",
    "    lambda x: get_indicator(x[\"est\"], x[\"pval\"], thresh=0), axis=1\n",
    ")\n",
    "# reordering\n",
    "df[\"domain\"] = pd.Categorical(df[\"domain\"], domains)\n",
    "df = df.sort_values([\"domain\"])\n",
    "\n",
    "df"
   ]
  },
  {
   "cell_type": "code",
   "execution_count": 16,
   "metadata": {
    "colab": {
     "base_uri": "https://localhost:8080/",
     "height": 333
    },
    "id": "wRPDG2rKoc39",
    "outputId": "385c6278-7028-459f-d0b6-15ecf2c99986"
   },
   "outputs": [
    {
     "data": {
      "application/vnd.plotly.v1+json": {
       "config": {
        "plotlyServerURL": "https://plot.ly"
       },
       "data": [
        {
         "error_x": {
          "array": [
           0.00466872
          ],
          "color": "rgb(0,87,206)",
          "type": "data",
          "visible": true,
          "width": 0
         },
         "marker": {
          "color": "rgb(0,87,206)"
         },
         "orientation": "h",
         "showlegend": false,
         "type": "scatter",
         "x": [
          -0.005979
         ],
         "y": [
          "Natural Sciences"
         ]
        },
        {
         "error_x": {
          "array": [],
          "color": "gray",
          "type": "data",
          "visible": true,
          "width": 0
         },
         "marker": {
          "color": "gray"
         },
         "orientation": "h",
         "showlegend": false,
         "type": "scatter",
         "x": [],
         "y": []
        },
        {
         "error_x": {
          "array": [],
          "color": "rgb(184,33,0)",
          "type": "data",
          "visible": true,
          "width": 0
         },
         "marker": {
          "color": "rgb(184,33,0)"
         },
         "orientation": "h",
         "showlegend": false,
         "type": "scatter",
         "x": [],
         "y": []
        },
        {
         "error_x": {
          "array": [],
          "color": "rgb(0,87,206)",
          "type": "data",
          "visible": true,
          "width": 0
         },
         "marker": {
          "color": "rgb(0,87,206)"
         },
         "orientation": "h",
         "showlegend": false,
         "type": "scatter",
         "x": [],
         "y": []
        },
        {
         "error_x": {
          "array": [
           0.007242199999999999
          ],
          "color": "gray",
          "type": "data",
          "visible": true,
          "width": 0
         },
         "marker": {
          "color": "gray"
         },
         "orientation": "h",
         "showlegend": false,
         "type": "scatter",
         "x": [
          0.006413
         ],
         "y": [
          "Applied Sciences"
         ]
        },
        {
         "error_x": {
          "array": [],
          "color": "rgb(184,33,0)",
          "type": "data",
          "visible": true,
          "width": 0
         },
         "marker": {
          "color": "rgb(184,33,0)"
         },
         "orientation": "h",
         "showlegend": false,
         "type": "scatter",
         "x": [],
         "y": []
        },
        {
         "error_x": {
          "array": [
           0.00238532
          ],
          "color": "rgb(0,87,206)",
          "type": "data",
          "visible": true,
          "width": 0
         },
         "marker": {
          "color": "rgb(0,87,206)"
         },
         "orientation": "h",
         "showlegend": false,
         "type": "scatter",
         "x": [
          -0.002957
         ],
         "y": [
          "Health Sciences"
         ]
        },
        {
         "error_x": {
          "array": [],
          "color": "gray",
          "type": "data",
          "visible": true,
          "width": 0
         },
         "marker": {
          "color": "gray"
         },
         "orientation": "h",
         "showlegend": false,
         "type": "scatter",
         "x": [],
         "y": []
        },
        {
         "error_x": {
          "array": [],
          "color": "rgb(184,33,0)",
          "type": "data",
          "visible": true,
          "width": 0
         },
         "marker": {
          "color": "rgb(184,33,0)"
         },
         "orientation": "h",
         "showlegend": false,
         "type": "scatter",
         "x": [],
         "y": []
        },
        {
         "error_x": {
          "array": [
           0.0071638
          ],
          "color": "rgb(0,87,206)",
          "type": "data",
          "visible": true,
          "width": 0
         },
         "marker": {
          "color": "rgb(0,87,206)"
         },
         "orientation": "h",
         "showlegend": false,
         "type": "scatter",
         "x": [
          -0.016016
         ],
         "y": [
          "Economic & Social Sciences"
         ]
        },
        {
         "error_x": {
          "array": [],
          "color": "gray",
          "type": "data",
          "visible": true,
          "width": 0
         },
         "marker": {
          "color": "gray"
         },
         "orientation": "h",
         "showlegend": false,
         "type": "scatter",
         "x": [],
         "y": []
        },
        {
         "error_x": {
          "array": [],
          "color": "rgb(184,33,0)",
          "type": "data",
          "visible": true,
          "width": 0
         },
         "marker": {
          "color": "rgb(184,33,0)"
         },
         "orientation": "h",
         "showlegend": false,
         "type": "scatter",
         "x": [],
         "y": []
        },
        {
         "error_x": {
          "array": [],
          "color": "rgb(0,87,206)",
          "type": "data",
          "visible": true,
          "width": 0
         },
         "marker": {
          "color": "rgb(0,87,206)"
         },
         "orientation": "h",
         "showlegend": false,
         "type": "scatter",
         "x": [],
         "y": []
        },
        {
         "error_x": {
          "array": [
           0.01571528
          ],
          "color": "gray",
          "type": "data",
          "visible": true,
          "width": 0
         },
         "marker": {
          "color": "gray"
         },
         "orientation": "h",
         "showlegend": false,
         "type": "scatter",
         "x": [
          0.006185
         ],
         "y": [
          "Arts & Humanities"
         ]
        },
        {
         "error_x": {
          "array": [],
          "color": "rgb(184,33,0)",
          "type": "data",
          "visible": true,
          "width": 0
         },
         "marker": {
          "color": "rgb(184,33,0)"
         },
         "orientation": "h",
         "showlegend": false,
         "type": "scatter",
         "x": [],
         "y": []
        },
        {
         "error_x": {
          "array": [
           0.00194432
          ],
          "color": "rgb(0,87,206)",
          "type": "data",
          "visible": true,
          "width": 0
         },
         "marker": {
          "color": "rgb(0,87,206)"
         },
         "orientation": "h",
         "showlegend": false,
         "type": "scatter",
         "x": [
          -0.003682
         ],
         "y": [
          "Total"
         ]
        },
        {
         "error_x": {
          "array": [],
          "color": "gray",
          "type": "data",
          "visible": true,
          "width": 0
         },
         "marker": {
          "color": "gray"
         },
         "orientation": "h",
         "showlegend": false,
         "type": "scatter",
         "x": [],
         "y": []
        },
        {
         "error_x": {
          "array": [],
          "color": "rgb(184,33,0)",
          "type": "data",
          "visible": true,
          "width": 0
         },
         "marker": {
          "color": "rgb(184,33,0)"
         },
         "orientation": "h",
         "showlegend": false,
         "type": "scatter",
         "x": [],
         "y": []
        }
       ],
       "layout": {
        "annotations": [
         {
          "font": {
           "size": 15
          },
          "showarrow": false,
          "text": "Diff. in citing media's ideology score<br>(women over men)",
          "x": 0.5,
          "xref": "paper",
          "y": -0.4,
          "yref": "paper"
         },
         {
          "font": {
           "color": "rgb(0,87,206)",
           "size": 12
          },
          "showarrow": false,
          "text": "Media citing women<br>are more liberal",
          "x": -0.05,
          "xanchor": "left",
          "xref": "paper",
          "y": 1.3,
          "yref": "paper"
         },
         {
          "font": {
           "color": "rgb(184,33,0)",
           "size": 12
          },
          "showarrow": false,
          "text": "Media citing women<br>are more conservative",
          "x": 1.05,
          "xanchor": "right",
          "xref": "paper",
          "y": 1.3,
          "yref": "paper"
         },
         {
          "arrowhead": 2,
          "arrowsize": 1,
          "arrowwidth": 1,
          "ax": -100,
          "ay": 0,
          "showarrow": true,
          "x": 1,
          "xref": "paper",
          "y": 1.07,
          "yref": "paper"
         },
         {
          "arrowhead": 2,
          "arrowsize": 1,
          "arrowwidth": 1,
          "ax": 100,
          "ay": 0,
          "showarrow": true,
          "x": 0,
          "xref": "paper",
          "y": 1.07,
          "yref": "paper"
         }
        ],
        "font": {
         "family": "Arial",
         "size": 12
        },
        "height": 350,
        "shapes": [
         {
          "line": {
           "color": "black",
           "dash": "dash",
           "width": 1
          },
          "type": "line",
          "x0": 0,
          "x1": 0,
          "xref": "x",
          "y0": 0,
          "y1": 1,
          "yref": "y domain"
         }
        ],
        "template": {
         "data": {
          "bar": [
           {
            "error_x": {
             "color": "rgb(36,36,36)"
            },
            "error_y": {
             "color": "rgb(36,36,36)"
            },
            "marker": {
             "line": {
              "color": "white",
              "width": 0.5
             },
             "pattern": {
              "fillmode": "overlay",
              "size": 10,
              "solidity": 0.2
             }
            },
            "type": "bar"
           }
          ],
          "barpolar": [
           {
            "marker": {
             "line": {
              "color": "white",
              "width": 0.5
             },
             "pattern": {
              "fillmode": "overlay",
              "size": 10,
              "solidity": 0.2
             }
            },
            "type": "barpolar"
           }
          ],
          "carpet": [
           {
            "aaxis": {
             "endlinecolor": "rgb(36,36,36)",
             "gridcolor": "white",
             "linecolor": "white",
             "minorgridcolor": "white",
             "startlinecolor": "rgb(36,36,36)"
            },
            "baxis": {
             "endlinecolor": "rgb(36,36,36)",
             "gridcolor": "white",
             "linecolor": "white",
             "minorgridcolor": "white",
             "startlinecolor": "rgb(36,36,36)"
            },
            "type": "carpet"
           }
          ],
          "choropleth": [
           {
            "colorbar": {
             "outlinewidth": 1,
             "tickcolor": "rgb(36,36,36)",
             "ticks": "outside"
            },
            "type": "choropleth"
           }
          ],
          "contour": [
           {
            "colorbar": {
             "outlinewidth": 1,
             "tickcolor": "rgb(36,36,36)",
             "ticks": "outside"
            },
            "colorscale": [
             [
              0,
              "#440154"
             ],
             [
              0.1111111111111111,
              "#482878"
             ],
             [
              0.2222222222222222,
              "#3e4989"
             ],
             [
              0.3333333333333333,
              "#31688e"
             ],
             [
              0.4444444444444444,
              "#26828e"
             ],
             [
              0.5555555555555556,
              "#1f9e89"
             ],
             [
              0.6666666666666666,
              "#35b779"
             ],
             [
              0.7777777777777778,
              "#6ece58"
             ],
             [
              0.8888888888888888,
              "#b5de2b"
             ],
             [
              1,
              "#fde725"
             ]
            ],
            "type": "contour"
           }
          ],
          "contourcarpet": [
           {
            "colorbar": {
             "outlinewidth": 1,
             "tickcolor": "rgb(36,36,36)",
             "ticks": "outside"
            },
            "type": "contourcarpet"
           }
          ],
          "heatmap": [
           {
            "colorbar": {
             "outlinewidth": 1,
             "tickcolor": "rgb(36,36,36)",
             "ticks": "outside"
            },
            "colorscale": [
             [
              0,
              "#440154"
             ],
             [
              0.1111111111111111,
              "#482878"
             ],
             [
              0.2222222222222222,
              "#3e4989"
             ],
             [
              0.3333333333333333,
              "#31688e"
             ],
             [
              0.4444444444444444,
              "#26828e"
             ],
             [
              0.5555555555555556,
              "#1f9e89"
             ],
             [
              0.6666666666666666,
              "#35b779"
             ],
             [
              0.7777777777777778,
              "#6ece58"
             ],
             [
              0.8888888888888888,
              "#b5de2b"
             ],
             [
              1,
              "#fde725"
             ]
            ],
            "type": "heatmap"
           }
          ],
          "heatmapgl": [
           {
            "colorbar": {
             "outlinewidth": 1,
             "tickcolor": "rgb(36,36,36)",
             "ticks": "outside"
            },
            "colorscale": [
             [
              0,
              "#440154"
             ],
             [
              0.1111111111111111,
              "#482878"
             ],
             [
              0.2222222222222222,
              "#3e4989"
             ],
             [
              0.3333333333333333,
              "#31688e"
             ],
             [
              0.4444444444444444,
              "#26828e"
             ],
             [
              0.5555555555555556,
              "#1f9e89"
             ],
             [
              0.6666666666666666,
              "#35b779"
             ],
             [
              0.7777777777777778,
              "#6ece58"
             ],
             [
              0.8888888888888888,
              "#b5de2b"
             ],
             [
              1,
              "#fde725"
             ]
            ],
            "type": "heatmapgl"
           }
          ],
          "histogram": [
           {
            "marker": {
             "line": {
              "color": "white",
              "width": 0.6
             }
            },
            "type": "histogram"
           }
          ],
          "histogram2d": [
           {
            "colorbar": {
             "outlinewidth": 1,
             "tickcolor": "rgb(36,36,36)",
             "ticks": "outside"
            },
            "colorscale": [
             [
              0,
              "#440154"
             ],
             [
              0.1111111111111111,
              "#482878"
             ],
             [
              0.2222222222222222,
              "#3e4989"
             ],
             [
              0.3333333333333333,
              "#31688e"
             ],
             [
              0.4444444444444444,
              "#26828e"
             ],
             [
              0.5555555555555556,
              "#1f9e89"
             ],
             [
              0.6666666666666666,
              "#35b779"
             ],
             [
              0.7777777777777778,
              "#6ece58"
             ],
             [
              0.8888888888888888,
              "#b5de2b"
             ],
             [
              1,
              "#fde725"
             ]
            ],
            "type": "histogram2d"
           }
          ],
          "histogram2dcontour": [
           {
            "colorbar": {
             "outlinewidth": 1,
             "tickcolor": "rgb(36,36,36)",
             "ticks": "outside"
            },
            "colorscale": [
             [
              0,
              "#440154"
             ],
             [
              0.1111111111111111,
              "#482878"
             ],
             [
              0.2222222222222222,
              "#3e4989"
             ],
             [
              0.3333333333333333,
              "#31688e"
             ],
             [
              0.4444444444444444,
              "#26828e"
             ],
             [
              0.5555555555555556,
              "#1f9e89"
             ],
             [
              0.6666666666666666,
              "#35b779"
             ],
             [
              0.7777777777777778,
              "#6ece58"
             ],
             [
              0.8888888888888888,
              "#b5de2b"
             ],
             [
              1,
              "#fde725"
             ]
            ],
            "type": "histogram2dcontour"
           }
          ],
          "mesh3d": [
           {
            "colorbar": {
             "outlinewidth": 1,
             "tickcolor": "rgb(36,36,36)",
             "ticks": "outside"
            },
            "type": "mesh3d"
           }
          ],
          "parcoords": [
           {
            "line": {
             "colorbar": {
              "outlinewidth": 1,
              "tickcolor": "rgb(36,36,36)",
              "ticks": "outside"
             }
            },
            "type": "parcoords"
           }
          ],
          "pie": [
           {
            "automargin": true,
            "type": "pie"
           }
          ],
          "scatter": [
           {
            "fillpattern": {
             "fillmode": "overlay",
             "size": 10,
             "solidity": 0.2
            },
            "type": "scatter"
           }
          ],
          "scatter3d": [
           {
            "line": {
             "colorbar": {
              "outlinewidth": 1,
              "tickcolor": "rgb(36,36,36)",
              "ticks": "outside"
             }
            },
            "marker": {
             "colorbar": {
              "outlinewidth": 1,
              "tickcolor": "rgb(36,36,36)",
              "ticks": "outside"
             }
            },
            "type": "scatter3d"
           }
          ],
          "scattercarpet": [
           {
            "marker": {
             "colorbar": {
              "outlinewidth": 1,
              "tickcolor": "rgb(36,36,36)",
              "ticks": "outside"
             }
            },
            "type": "scattercarpet"
           }
          ],
          "scattergeo": [
           {
            "marker": {
             "colorbar": {
              "outlinewidth": 1,
              "tickcolor": "rgb(36,36,36)",
              "ticks": "outside"
             }
            },
            "type": "scattergeo"
           }
          ],
          "scattergl": [
           {
            "marker": {
             "colorbar": {
              "outlinewidth": 1,
              "tickcolor": "rgb(36,36,36)",
              "ticks": "outside"
             }
            },
            "type": "scattergl"
           }
          ],
          "scattermapbox": [
           {
            "marker": {
             "colorbar": {
              "outlinewidth": 1,
              "tickcolor": "rgb(36,36,36)",
              "ticks": "outside"
             }
            },
            "type": "scattermapbox"
           }
          ],
          "scatterpolar": [
           {
            "marker": {
             "colorbar": {
              "outlinewidth": 1,
              "tickcolor": "rgb(36,36,36)",
              "ticks": "outside"
             }
            },
            "type": "scatterpolar"
           }
          ],
          "scatterpolargl": [
           {
            "marker": {
             "colorbar": {
              "outlinewidth": 1,
              "tickcolor": "rgb(36,36,36)",
              "ticks": "outside"
             }
            },
            "type": "scatterpolargl"
           }
          ],
          "scatterternary": [
           {
            "marker": {
             "colorbar": {
              "outlinewidth": 1,
              "tickcolor": "rgb(36,36,36)",
              "ticks": "outside"
             }
            },
            "type": "scatterternary"
           }
          ],
          "surface": [
           {
            "colorbar": {
             "outlinewidth": 1,
             "tickcolor": "rgb(36,36,36)",
             "ticks": "outside"
            },
            "colorscale": [
             [
              0,
              "#440154"
             ],
             [
              0.1111111111111111,
              "#482878"
             ],
             [
              0.2222222222222222,
              "#3e4989"
             ],
             [
              0.3333333333333333,
              "#31688e"
             ],
             [
              0.4444444444444444,
              "#26828e"
             ],
             [
              0.5555555555555556,
              "#1f9e89"
             ],
             [
              0.6666666666666666,
              "#35b779"
             ],
             [
              0.7777777777777778,
              "#6ece58"
             ],
             [
              0.8888888888888888,
              "#b5de2b"
             ],
             [
              1,
              "#fde725"
             ]
            ],
            "type": "surface"
           }
          ],
          "table": [
           {
            "cells": {
             "fill": {
              "color": "rgb(237,237,237)"
             },
             "line": {
              "color": "white"
             }
            },
            "header": {
             "fill": {
              "color": "rgb(217,217,217)"
             },
             "line": {
              "color": "white"
             }
            },
            "type": "table"
           }
          ]
         },
         "layout": {
          "annotationdefaults": {
           "arrowhead": 0,
           "arrowwidth": 1
          },
          "autotypenumbers": "strict",
          "coloraxis": {
           "colorbar": {
            "outlinewidth": 1,
            "tickcolor": "rgb(36,36,36)",
            "ticks": "outside"
           }
          },
          "colorscale": {
           "diverging": [
            [
             0,
             "rgb(103,0,31)"
            ],
            [
             0.1,
             "rgb(178,24,43)"
            ],
            [
             0.2,
             "rgb(214,96,77)"
            ],
            [
             0.3,
             "rgb(244,165,130)"
            ],
            [
             0.4,
             "rgb(253,219,199)"
            ],
            [
             0.5,
             "rgb(247,247,247)"
            ],
            [
             0.6,
             "rgb(209,229,240)"
            ],
            [
             0.7,
             "rgb(146,197,222)"
            ],
            [
             0.8,
             "rgb(67,147,195)"
            ],
            [
             0.9,
             "rgb(33,102,172)"
            ],
            [
             1,
             "rgb(5,48,97)"
            ]
           ],
           "sequential": [
            [
             0,
             "#440154"
            ],
            [
             0.1111111111111111,
             "#482878"
            ],
            [
             0.2222222222222222,
             "#3e4989"
            ],
            [
             0.3333333333333333,
             "#31688e"
            ],
            [
             0.4444444444444444,
             "#26828e"
            ],
            [
             0.5555555555555556,
             "#1f9e89"
            ],
            [
             0.6666666666666666,
             "#35b779"
            ],
            [
             0.7777777777777778,
             "#6ece58"
            ],
            [
             0.8888888888888888,
             "#b5de2b"
            ],
            [
             1,
             "#fde725"
            ]
           ],
           "sequentialminus": [
            [
             0,
             "#440154"
            ],
            [
             0.1111111111111111,
             "#482878"
            ],
            [
             0.2222222222222222,
             "#3e4989"
            ],
            [
             0.3333333333333333,
             "#31688e"
            ],
            [
             0.4444444444444444,
             "#26828e"
            ],
            [
             0.5555555555555556,
             "#1f9e89"
            ],
            [
             0.6666666666666666,
             "#35b779"
            ],
            [
             0.7777777777777778,
             "#6ece58"
            ],
            [
             0.8888888888888888,
             "#b5de2b"
            ],
            [
             1,
             "#fde725"
            ]
           ]
          },
          "colorway": [
           "#1F77B4",
           "#FF7F0E",
           "#2CA02C",
           "#D62728",
           "#9467BD",
           "#8C564B",
           "#E377C2",
           "#7F7F7F",
           "#BCBD22",
           "#17BECF"
          ],
          "font": {
           "color": "rgb(36,36,36)"
          },
          "geo": {
           "bgcolor": "white",
           "lakecolor": "white",
           "landcolor": "white",
           "showlakes": true,
           "showland": true,
           "subunitcolor": "white"
          },
          "hoverlabel": {
           "align": "left"
          },
          "hovermode": "closest",
          "mapbox": {
           "style": "light"
          },
          "paper_bgcolor": "white",
          "plot_bgcolor": "white",
          "polar": {
           "angularaxis": {
            "gridcolor": "rgb(232,232,232)",
            "linecolor": "rgb(36,36,36)",
            "showgrid": false,
            "showline": true,
            "ticks": "outside"
           },
           "bgcolor": "white",
           "radialaxis": {
            "gridcolor": "rgb(232,232,232)",
            "linecolor": "rgb(36,36,36)",
            "showgrid": false,
            "showline": true,
            "ticks": "outside"
           }
          },
          "scene": {
           "xaxis": {
            "backgroundcolor": "white",
            "gridcolor": "rgb(232,232,232)",
            "gridwidth": 2,
            "linecolor": "rgb(36,36,36)",
            "showbackground": true,
            "showgrid": false,
            "showline": true,
            "ticks": "outside",
            "zeroline": false,
            "zerolinecolor": "rgb(36,36,36)"
           },
           "yaxis": {
            "backgroundcolor": "white",
            "gridcolor": "rgb(232,232,232)",
            "gridwidth": 2,
            "linecolor": "rgb(36,36,36)",
            "showbackground": true,
            "showgrid": false,
            "showline": true,
            "ticks": "outside",
            "zeroline": false,
            "zerolinecolor": "rgb(36,36,36)"
           },
           "zaxis": {
            "backgroundcolor": "white",
            "gridcolor": "rgb(232,232,232)",
            "gridwidth": 2,
            "linecolor": "rgb(36,36,36)",
            "showbackground": true,
            "showgrid": false,
            "showline": true,
            "ticks": "outside",
            "zeroline": false,
            "zerolinecolor": "rgb(36,36,36)"
           }
          },
          "shapedefaults": {
           "fillcolor": "black",
           "line": {
            "width": 0
           },
           "opacity": 0.3
          },
          "ternary": {
           "aaxis": {
            "gridcolor": "rgb(232,232,232)",
            "linecolor": "rgb(36,36,36)",
            "showgrid": false,
            "showline": true,
            "ticks": "outside"
           },
           "baxis": {
            "gridcolor": "rgb(232,232,232)",
            "linecolor": "rgb(36,36,36)",
            "showgrid": false,
            "showline": true,
            "ticks": "outside"
           },
           "bgcolor": "white",
           "caxis": {
            "gridcolor": "rgb(232,232,232)",
            "linecolor": "rgb(36,36,36)",
            "showgrid": false,
            "showline": true,
            "ticks": "outside"
           }
          },
          "title": {
           "x": 0.05
          },
          "xaxis": {
           "automargin": true,
           "gridcolor": "rgb(232,232,232)",
           "linecolor": "rgb(36,36,36)",
           "showgrid": false,
           "showline": true,
           "ticks": "outside",
           "title": {
            "standoff": 15
           },
           "zeroline": false,
           "zerolinecolor": "rgb(36,36,36)"
          },
          "yaxis": {
           "automargin": true,
           "gridcolor": "rgb(232,232,232)",
           "linecolor": "rgb(36,36,36)",
           "showgrid": false,
           "showline": true,
           "ticks": "outside",
           "title": {
            "standoff": 15
           },
           "zeroline": false,
           "zerolinecolor": "rgb(36,36,36)"
          }
         }
        },
        "width": 500,
        "xaxis": {
         "mirror": true
        },
        "yaxis": {
         "autorange": "reversed",
         "mirror": true
        }
       }
      }
     },
     "metadata": {},
     "output_type": "display_data"
    }
   ],
   "source": [
    "# Create a bar chart\n",
    "indicators = [-1, 0, 1]\n",
    "colors = {-1: \"rgb(0,87,206)\", 0: \"gray\", 1: \"rgb(184,33,0)\"}\n",
    "\n",
    "fig = go.Figure()\n",
    "\n",
    "for i, domain in enumerate(domains):\n",
    "    for j, indicator in enumerate(indicators):\n",
    "        t = df.query(\"domain == @domain and indicator == @indicator\")\n",
    "        fig.add_trace(\n",
    "            go.Scatter(\n",
    "                x=t[\"est\"],\n",
    "                y=t[\"domain\"],\n",
    "                error_x=dict(\n",
    "                    type=\"data\",\n",
    "                    array=t[\"ci_error\"],\n",
    "                    visible=True,\n",
    "                    color=colors[indicator],\n",
    "                    width=0,\n",
    "                ),\n",
    "                orientation=\"h\",\n",
    "                marker_color=colors[indicator],\n",
    "                showlegend=False,\n",
    "            ),\n",
    "        )\n",
    "\n",
    "# Customize layout\n",
    "fig.update_layout(\n",
    "    template=\"simple_white\",\n",
    "    font=dict(size=12, family=\"Arial\"),\n",
    "    height=350,\n",
    "    width=500,\n",
    ")\n",
    "\n",
    "fig.update_xaxes(mirror=True)\n",
    "fig.update_yaxes(autorange=\"reversed\", mirror=True)\n",
    "\n",
    "# add x-axis title\n",
    "fig.add_annotation(\n",
    "    text=\"Diff. in citing media's ideology score<br>(women over men)\",\n",
    "    x=0.5,\n",
    "    y=-0.4,\n",
    "    xref=\"paper\",\n",
    "    yref=\"paper\",\n",
    "    showarrow=False,\n",
    "    font=dict(size=15),\n",
    ")\n",
    "\n",
    "# add reference line\n",
    "fig.add_vline(x=0, line_width=1, line_dash=\"dash\", line_color=\"black\")\n",
    "\n",
    "# add annotation\n",
    "fig.add_annotation(\n",
    "    x=-0.05,\n",
    "    y=1.3,\n",
    "    xref=\"paper\",\n",
    "    yref=\"paper\",\n",
    "    xanchor=\"left\",\n",
    "    text=\"Media citing women<br>are more liberal\",\n",
    "    showarrow=False,\n",
    "    font=dict(size=12, color=colors[-1]),\n",
    ")\n",
    "\n",
    "fig.add_annotation(\n",
    "    x=1.05,\n",
    "    y=1.3,\n",
    "    xref=\"paper\",\n",
    "    yref=\"paper\",\n",
    "    xanchor=\"right\",\n",
    "    text=\"Media citing women<br>are more conservative\",\n",
    "    showarrow=False,\n",
    "    font=dict(size=12, color=colors[1]),\n",
    ")\n",
    "\n",
    "# add arrow\n",
    "fig.add_annotation(\n",
    "    x=1,\n",
    "    y=1.07,\n",
    "    xref=\"paper\",\n",
    "    yref=\"paper\",\n",
    "    showarrow=True,\n",
    "    arrowhead=2,\n",
    "    arrowsize=1,\n",
    "    arrowwidth=1,\n",
    "    ax=-100,\n",
    "    ay=0,\n",
    ")\n",
    "\n",
    "fig.add_annotation(\n",
    "    x=0,\n",
    "    y=1.07,\n",
    "    xref=\"paper\",\n",
    "    yref=\"paper\",\n",
    "    showarrow=True,\n",
    "    arrowhead=2,\n",
    "    arrowsize=1,\n",
    "    arrowwidth=1,\n",
    "    ax=100,\n",
    "    ay=0,\n",
    ")\n",
    "\n",
    "# Show the plot\n",
    "fig.show()\n",
    "fig.write_image(\"figures/ideo_level_reg.svg\")"
   ]
  },
  {
   "cell_type": "markdown",
   "metadata": {
    "id": "T0yA8cNdSidr"
   },
   "source": [
    "### Sentiment Figures"
   ]
  },
  {
   "cell_type": "code",
   "execution_count": 18,
   "metadata": {},
   "outputs": [
    {
     "data": {
      "text/html": [
       "<div>\n",
       "<style scoped>\n",
       "    .dataframe tbody tr th:only-of-type {\n",
       "        vertical-align: middle;\n",
       "    }\n",
       "\n",
       "    .dataframe tbody tr th {\n",
       "        vertical-align: top;\n",
       "    }\n",
       "\n",
       "    .dataframe thead th {\n",
       "        text-align: right;\n",
       "    }\n",
       "</style>\n",
       "<table border=\"1\" class=\"dataframe\">\n",
       "  <thead>\n",
       "    <tr style=\"text-align: right;\">\n",
       "      <th></th>\n",
       "      <th>domain</th>\n",
       "      <th>est</th>\n",
       "      <th>error</th>\n",
       "      <th>pval</th>\n",
       "      <th>sentiment</th>\n",
       "      <th>upper</th>\n",
       "      <th>ci_error</th>\n",
       "      <th>indicator</th>\n",
       "    </tr>\n",
       "  </thead>\n",
       "  <tbody>\n",
       "    <tr>\n",
       "      <th>17</th>\n",
       "      <td>Natural Sciences</td>\n",
       "      <td>0.006651</td>\n",
       "      <td>0.001873</td>\n",
       "      <td>***</td>\n",
       "      <td>Negative</td>\n",
       "      <td>0.010322</td>\n",
       "      <td>0.003671</td>\n",
       "      <td>1</td>\n",
       "    </tr>\n",
       "    <tr>\n",
       "      <th>5</th>\n",
       "      <td>Natural Sciences</td>\n",
       "      <td>0.002584</td>\n",
       "      <td>0.004553</td>\n",
       "      <td>NaN</td>\n",
       "      <td>Positive</td>\n",
       "      <td>0.011508</td>\n",
       "      <td>0.008924</td>\n",
       "      <td>0</td>\n",
       "    </tr>\n",
       "    <tr>\n",
       "      <th>11</th>\n",
       "      <td>Natural Sciences</td>\n",
       "      <td>-0.004162</td>\n",
       "      <td>0.002182</td>\n",
       "      <td>.</td>\n",
       "      <td>Neutral</td>\n",
       "      <td>0.000115</td>\n",
       "      <td>0.004277</td>\n",
       "      <td>-1</td>\n",
       "    </tr>\n",
       "    <tr>\n",
       "      <th>1</th>\n",
       "      <td>Applied Sciences</td>\n",
       "      <td>-0.031015</td>\n",
       "      <td>0.002162</td>\n",
       "      <td>***</td>\n",
       "      <td>Positive</td>\n",
       "      <td>-0.026777</td>\n",
       "      <td>0.004238</td>\n",
       "      <td>-1</td>\n",
       "    </tr>\n",
       "    <tr>\n",
       "      <th>7</th>\n",
       "      <td>Applied Sciences</td>\n",
       "      <td>-0.001622</td>\n",
       "      <td>0.001015</td>\n",
       "      <td>NaN</td>\n",
       "      <td>Neutral</td>\n",
       "      <td>0.000367</td>\n",
       "      <td>0.001989</td>\n",
       "      <td>0</td>\n",
       "    </tr>\n",
       "    <tr>\n",
       "      <th>13</th>\n",
       "      <td>Applied Sciences</td>\n",
       "      <td>0.013067</td>\n",
       "      <td>0.000875</td>\n",
       "      <td>***</td>\n",
       "      <td>Negative</td>\n",
       "      <td>0.014782</td>\n",
       "      <td>0.001715</td>\n",
       "      <td>1</td>\n",
       "    </tr>\n",
       "    <tr>\n",
       "      <th>4</th>\n",
       "      <td>Health Sciences</td>\n",
       "      <td>-0.030636</td>\n",
       "      <td>0.003908</td>\n",
       "      <td>***</td>\n",
       "      <td>Positive</td>\n",
       "      <td>-0.022976</td>\n",
       "      <td>0.007660</td>\n",
       "      <td>-1</td>\n",
       "    </tr>\n",
       "    <tr>\n",
       "      <th>16</th>\n",
       "      <td>Health Sciences</td>\n",
       "      <td>0.013117</td>\n",
       "      <td>0.001813</td>\n",
       "      <td>***</td>\n",
       "      <td>Negative</td>\n",
       "      <td>0.016670</td>\n",
       "      <td>0.003553</td>\n",
       "      <td>1</td>\n",
       "    </tr>\n",
       "    <tr>\n",
       "      <th>10</th>\n",
       "      <td>Health Sciences</td>\n",
       "      <td>-0.007207</td>\n",
       "      <td>0.001783</td>\n",
       "      <td>***</td>\n",
       "      <td>Neutral</td>\n",
       "      <td>-0.003712</td>\n",
       "      <td>0.003495</td>\n",
       "      <td>-1</td>\n",
       "    </tr>\n",
       "    <tr>\n",
       "      <th>15</th>\n",
       "      <td>Economic &amp; Social Sciences</td>\n",
       "      <td>-0.004829</td>\n",
       "      <td>0.007520</td>\n",
       "      <td>NaN</td>\n",
       "      <td>Negative</td>\n",
       "      <td>0.009910</td>\n",
       "      <td>0.014739</td>\n",
       "      <td>0</td>\n",
       "    </tr>\n",
       "    <tr>\n",
       "      <th>3</th>\n",
       "      <td>Economic &amp; Social Sciences</td>\n",
       "      <td>0.003344</td>\n",
       "      <td>0.017528</td>\n",
       "      <td>NaN</td>\n",
       "      <td>Positive</td>\n",
       "      <td>0.037699</td>\n",
       "      <td>0.034355</td>\n",
       "      <td>0</td>\n",
       "    </tr>\n",
       "    <tr>\n",
       "      <th>9</th>\n",
       "      <td>Economic &amp; Social Sciences</td>\n",
       "      <td>-0.024566</td>\n",
       "      <td>0.008184</td>\n",
       "      <td>**</td>\n",
       "      <td>Neutral</td>\n",
       "      <td>-0.008525</td>\n",
       "      <td>0.016041</td>\n",
       "      <td>-1</td>\n",
       "    </tr>\n",
       "    <tr>\n",
       "      <th>14</th>\n",
       "      <td>Arts &amp; Humanities</td>\n",
       "      <td>-0.037791</td>\n",
       "      <td>0.014710</td>\n",
       "      <td>*</td>\n",
       "      <td>Negative</td>\n",
       "      <td>-0.008959</td>\n",
       "      <td>0.028832</td>\n",
       "      <td>-1</td>\n",
       "    </tr>\n",
       "    <tr>\n",
       "      <th>8</th>\n",
       "      <td>Arts &amp; Humanities</td>\n",
       "      <td>0.129380</td>\n",
       "      <td>0.022470</td>\n",
       "      <td>***</td>\n",
       "      <td>Neutral</td>\n",
       "      <td>0.173421</td>\n",
       "      <td>0.044041</td>\n",
       "      <td>1</td>\n",
       "    </tr>\n",
       "    <tr>\n",
       "      <th>2</th>\n",
       "      <td>Arts &amp; Humanities</td>\n",
       "      <td>0.071248</td>\n",
       "      <td>0.045387</td>\n",
       "      <td>NaN</td>\n",
       "      <td>Positive</td>\n",
       "      <td>0.160207</td>\n",
       "      <td>0.088959</td>\n",
       "      <td>0</td>\n",
       "    </tr>\n",
       "    <tr>\n",
       "      <th>6</th>\n",
       "      <td>Total</td>\n",
       "      <td>-0.003071</td>\n",
       "      <td>0.000810</td>\n",
       "      <td>***</td>\n",
       "      <td>Neutral</td>\n",
       "      <td>-0.001483</td>\n",
       "      <td>0.001588</td>\n",
       "      <td>-1</td>\n",
       "    </tr>\n",
       "    <tr>\n",
       "      <th>12</th>\n",
       "      <td>Total</td>\n",
       "      <td>0.011652</td>\n",
       "      <td>0.000713</td>\n",
       "      <td>***</td>\n",
       "      <td>Negative</td>\n",
       "      <td>0.013049</td>\n",
       "      <td>0.001397</td>\n",
       "      <td>1</td>\n",
       "    </tr>\n",
       "    <tr>\n",
       "      <th>0</th>\n",
       "      <td>Total</td>\n",
       "      <td>-0.025826</td>\n",
       "      <td>0.001731</td>\n",
       "      <td>***</td>\n",
       "      <td>Positive</td>\n",
       "      <td>-0.022433</td>\n",
       "      <td>0.003393</td>\n",
       "      <td>-1</td>\n",
       "    </tr>\n",
       "  </tbody>\n",
       "</table>\n",
       "</div>"
      ],
      "text/plain": [
       "                        domain       est     error pval sentiment     upper  \\\n",
       "17            Natural Sciences  0.006651  0.001873  ***  Negative  0.010322   \n",
       "5             Natural Sciences  0.002584  0.004553  NaN  Positive  0.011508   \n",
       "11            Natural Sciences -0.004162  0.002182    .   Neutral  0.000115   \n",
       "1             Applied Sciences -0.031015  0.002162  ***  Positive -0.026777   \n",
       "7             Applied Sciences -0.001622  0.001015  NaN   Neutral  0.000367   \n",
       "13            Applied Sciences  0.013067  0.000875  ***  Negative  0.014782   \n",
       "4              Health Sciences -0.030636  0.003908  ***  Positive -0.022976   \n",
       "16             Health Sciences  0.013117  0.001813  ***  Negative  0.016670   \n",
       "10             Health Sciences -0.007207  0.001783  ***   Neutral -0.003712   \n",
       "15  Economic & Social Sciences -0.004829  0.007520  NaN  Negative  0.009910   \n",
       "3   Economic & Social Sciences  0.003344  0.017528  NaN  Positive  0.037699   \n",
       "9   Economic & Social Sciences -0.024566  0.008184   **   Neutral -0.008525   \n",
       "14           Arts & Humanities -0.037791  0.014710    *  Negative -0.008959   \n",
       "8            Arts & Humanities  0.129380  0.022470  ***   Neutral  0.173421   \n",
       "2            Arts & Humanities  0.071248  0.045387  NaN  Positive  0.160207   \n",
       "6                        Total -0.003071  0.000810  ***   Neutral -0.001483   \n",
       "12                       Total  0.011652  0.000713  ***  Negative  0.013049   \n",
       "0                        Total -0.025826  0.001731  ***  Positive -0.022433   \n",
       "\n",
       "    ci_error  indicator  \n",
       "17  0.003671          1  \n",
       "5   0.008924          0  \n",
       "11  0.004277         -1  \n",
       "1   0.004238         -1  \n",
       "7   0.001989          0  \n",
       "13  0.001715          1  \n",
       "4   0.007660         -1  \n",
       "16  0.003553          1  \n",
       "10  0.003495         -1  \n",
       "15  0.014739          0  \n",
       "3   0.034355          0  \n",
       "9   0.016041         -1  \n",
       "14  0.028832         -1  \n",
       "8   0.044041          1  \n",
       "2   0.088959          0  \n",
       "6   0.001588         -1  \n",
       "12  0.001397          1  \n",
       "0   0.003393         -1  "
      ]
     },
     "execution_count": 18,
     "metadata": {},
     "output_type": "execute_result"
    }
   ],
   "source": [
    "df = pd.read_excel(\"sentiment.xlsx\")\n",
    "df[\"upper\"] = df.apply(lambda x: get_ci(x[\"est\"], x[\"error\"], isExp=False)[1], axis=1)\n",
    "df[\"ci_error\"] = df[\"upper\"] - df[\"est\"]\n",
    "df[\"indicator\"] = df.apply(\n",
    "    lambda x: get_indicator(x[\"est\"], x[\"pval\"], thresh=0), axis=1\n",
    ")\n",
    "# reordering\n",
    "df[\"domain\"] = pd.Categorical(df[\"domain\"], domains)\n",
    "df = df.sort_values([\"domain\"])\n",
    "\n",
    "df"
   ]
  },
  {
   "cell_type": "code",
   "execution_count": 25,
   "metadata": {
    "colab": {
     "base_uri": "https://localhost:8080/",
     "height": 405
    },
    "id": "_ocVW67iSlYE",
    "outputId": "f970c3ab-a4cf-491e-efdd-376de12af20a"
   },
   "outputs": [
    {
     "data": {
      "application/vnd.plotly.v1+json": {
       "config": {
        "plotlyServerURL": "https://plot.ly"
       },
       "data": [
        {
         "error_x": {
          "array": [],
          "color": "rgb(120,171,201)",
          "type": "data",
          "visible": true,
          "width": 0
         },
         "marker": {
          "color": "rgb(120,171,201)"
         },
         "orientation": "h",
         "showlegend": false,
         "type": "scatter",
         "x": [],
         "xaxis": "x",
         "y": [],
         "yaxis": "y"
        },
        {
         "error_x": {
          "array": [
           0.0042767199999999995
          ],
          "color": "rgb(120,171,201)",
          "type": "data",
          "visible": true,
          "width": 0
         },
         "marker": {
          "color": "rgb(120,171,201)"
         },
         "orientation": "h",
         "showlegend": false,
         "type": "scatter",
         "x": [
          -0.004162
         ],
         "xaxis": "x2",
         "y": [
          "Natural Sciences"
         ],
         "yaxis": "y2"
        },
        {
         "error_x": {
          "array": [],
          "color": "rgb(120,171,201)",
          "type": "data",
          "visible": true,
          "width": 0
         },
         "marker": {
          "color": "rgb(120,171,201)"
         },
         "orientation": "h",
         "showlegend": false,
         "type": "scatter",
         "x": [],
         "xaxis": "x3",
         "y": [],
         "yaxis": "y3"
        },
        {
         "error_x": {
          "array": [],
          "color": "rgb(200,200,200)",
          "type": "data",
          "visible": true,
          "width": 0
         },
         "marker": {
          "color": "rgb(200,200,200)"
         },
         "orientation": "h",
         "showlegend": false,
         "type": "scatter",
         "x": [],
         "xaxis": "x",
         "y": [],
         "yaxis": "y"
        },
        {
         "error_x": {
          "array": [],
          "color": "rgb(200,200,200)",
          "type": "data",
          "visible": true,
          "width": 0
         },
         "marker": {
          "color": "rgb(200,200,200)"
         },
         "orientation": "h",
         "showlegend": false,
         "type": "scatter",
         "x": [],
         "xaxis": "x2",
         "y": [],
         "yaxis": "y2"
        },
        {
         "error_x": {
          "array": [
           0.008923879999999999
          ],
          "color": "rgb(200,200,200)",
          "type": "data",
          "visible": true,
          "width": 0
         },
         "marker": {
          "color": "rgb(200,200,200)"
         },
         "orientation": "h",
         "showlegend": false,
         "type": "scatter",
         "x": [
          0.002584
         ],
         "xaxis": "x3",
         "y": [
          "Natural Sciences"
         ],
         "yaxis": "y3"
        },
        {
         "error_x": {
          "array": [
           0.003671080000000001
          ],
          "color": "rgb(224,144,91)",
          "type": "data",
          "visible": true,
          "width": 0
         },
         "marker": {
          "color": "rgb(224,144,91)"
         },
         "orientation": "h",
         "showlegend": false,
         "type": "scatter",
         "x": [
          0.006651
         ],
         "xaxis": "x",
         "y": [
          "Natural Sciences"
         ],
         "yaxis": "y"
        },
        {
         "error_x": {
          "array": [],
          "color": "rgb(224,144,91)",
          "type": "data",
          "visible": true,
          "width": 0
         },
         "marker": {
          "color": "rgb(224,144,91)"
         },
         "orientation": "h",
         "showlegend": false,
         "type": "scatter",
         "x": [],
         "xaxis": "x2",
         "y": [],
         "yaxis": "y2"
        },
        {
         "error_x": {
          "array": [],
          "color": "rgb(224,144,91)",
          "type": "data",
          "visible": true,
          "width": 0
         },
         "marker": {
          "color": "rgb(224,144,91)"
         },
         "orientation": "h",
         "showlegend": false,
         "type": "scatter",
         "x": [],
         "xaxis": "x3",
         "y": [],
         "yaxis": "y3"
        },
        {
         "error_x": {
          "array": [],
          "color": "rgb(120,171,201)",
          "type": "data",
          "visible": true,
          "width": 0
         },
         "marker": {
          "color": "rgb(120,171,201)"
         },
         "orientation": "h",
         "showlegend": false,
         "type": "scatter",
         "x": [],
         "xaxis": "x",
         "y": [],
         "yaxis": "y"
        },
        {
         "error_x": {
          "array": [],
          "color": "rgb(120,171,201)",
          "type": "data",
          "visible": true,
          "width": 0
         },
         "marker": {
          "color": "rgb(120,171,201)"
         },
         "orientation": "h",
         "showlegend": false,
         "type": "scatter",
         "x": [],
         "xaxis": "x2",
         "y": [],
         "yaxis": "y2"
        },
        {
         "error_x": {
          "array": [
           0.0042375200000000016
          ],
          "color": "rgb(120,171,201)",
          "type": "data",
          "visible": true,
          "width": 0
         },
         "marker": {
          "color": "rgb(120,171,201)"
         },
         "orientation": "h",
         "showlegend": false,
         "type": "scatter",
         "x": [
          -0.031015
         ],
         "xaxis": "x3",
         "y": [
          "Applied Sciences"
         ],
         "yaxis": "y3"
        },
        {
         "error_x": {
          "array": [],
          "color": "rgb(200,200,200)",
          "type": "data",
          "visible": true,
          "width": 0
         },
         "marker": {
          "color": "rgb(200,200,200)"
         },
         "orientation": "h",
         "showlegend": false,
         "type": "scatter",
         "x": [],
         "xaxis": "x",
         "y": [],
         "yaxis": "y"
        },
        {
         "error_x": {
          "array": [
           0.0019894
          ],
          "color": "rgb(200,200,200)",
          "type": "data",
          "visible": true,
          "width": 0
         },
         "marker": {
          "color": "rgb(200,200,200)"
         },
         "orientation": "h",
         "showlegend": false,
         "type": "scatter",
         "x": [
          -0.001622
         ],
         "xaxis": "x2",
         "y": [
          "Applied Sciences"
         ],
         "yaxis": "y2"
        },
        {
         "error_x": {
          "array": [],
          "color": "rgb(200,200,200)",
          "type": "data",
          "visible": true,
          "width": 0
         },
         "marker": {
          "color": "rgb(200,200,200)"
         },
         "orientation": "h",
         "showlegend": false,
         "type": "scatter",
         "x": [],
         "xaxis": "x3",
         "y": [],
         "yaxis": "y3"
        },
        {
         "error_x": {
          "array": [
           0.0017149999999999995
          ],
          "color": "rgb(224,144,91)",
          "type": "data",
          "visible": true,
          "width": 0
         },
         "marker": {
          "color": "rgb(224,144,91)"
         },
         "orientation": "h",
         "showlegend": false,
         "type": "scatter",
         "x": [
          0.013067
         ],
         "xaxis": "x",
         "y": [
          "Applied Sciences"
         ],
         "yaxis": "y"
        },
        {
         "error_x": {
          "array": [],
          "color": "rgb(224,144,91)",
          "type": "data",
          "visible": true,
          "width": 0
         },
         "marker": {
          "color": "rgb(224,144,91)"
         },
         "orientation": "h",
         "showlegend": false,
         "type": "scatter",
         "x": [],
         "xaxis": "x2",
         "y": [],
         "yaxis": "y2"
        },
        {
         "error_x": {
          "array": [],
          "color": "rgb(224,144,91)",
          "type": "data",
          "visible": true,
          "width": 0
         },
         "marker": {
          "color": "rgb(224,144,91)"
         },
         "orientation": "h",
         "showlegend": false,
         "type": "scatter",
         "x": [],
         "xaxis": "x3",
         "y": [],
         "yaxis": "y3"
        },
        {
         "error_x": {
          "array": [],
          "color": "rgb(120,171,201)",
          "type": "data",
          "visible": true,
          "width": 0
         },
         "marker": {
          "color": "rgb(120,171,201)"
         },
         "orientation": "h",
         "showlegend": false,
         "type": "scatter",
         "x": [],
         "xaxis": "x",
         "y": [],
         "yaxis": "y"
        },
        {
         "error_x": {
          "array": [
           0.00349468
          ],
          "color": "rgb(120,171,201)",
          "type": "data",
          "visible": true,
          "width": 0
         },
         "marker": {
          "color": "rgb(120,171,201)"
         },
         "orientation": "h",
         "showlegend": false,
         "type": "scatter",
         "x": [
          -0.007207
         ],
         "xaxis": "x2",
         "y": [
          "Health Sciences"
         ],
         "yaxis": "y2"
        },
        {
         "error_x": {
          "array": [
           0.007659679999999999
          ],
          "color": "rgb(120,171,201)",
          "type": "data",
          "visible": true,
          "width": 0
         },
         "marker": {
          "color": "rgb(120,171,201)"
         },
         "orientation": "h",
         "showlegend": false,
         "type": "scatter",
         "x": [
          -0.030636
         ],
         "xaxis": "x3",
         "y": [
          "Health Sciences"
         ],
         "yaxis": "y3"
        },
        {
         "error_x": {
          "array": [],
          "color": "rgb(200,200,200)",
          "type": "data",
          "visible": true,
          "width": 0
         },
         "marker": {
          "color": "rgb(200,200,200)"
         },
         "orientation": "h",
         "showlegend": false,
         "type": "scatter",
         "x": [],
         "xaxis": "x",
         "y": [],
         "yaxis": "y"
        },
        {
         "error_x": {
          "array": [],
          "color": "rgb(200,200,200)",
          "type": "data",
          "visible": true,
          "width": 0
         },
         "marker": {
          "color": "rgb(200,200,200)"
         },
         "orientation": "h",
         "showlegend": false,
         "type": "scatter",
         "x": [],
         "xaxis": "x2",
         "y": [],
         "yaxis": "y2"
        },
        {
         "error_x": {
          "array": [],
          "color": "rgb(200,200,200)",
          "type": "data",
          "visible": true,
          "width": 0
         },
         "marker": {
          "color": "rgb(200,200,200)"
         },
         "orientation": "h",
         "showlegend": false,
         "type": "scatter",
         "x": [],
         "xaxis": "x3",
         "y": [],
         "yaxis": "y3"
        },
        {
         "error_x": {
          "array": [
           0.0035534800000000012
          ],
          "color": "rgb(224,144,91)",
          "type": "data",
          "visible": true,
          "width": 0
         },
         "marker": {
          "color": "rgb(224,144,91)"
         },
         "orientation": "h",
         "showlegend": false,
         "type": "scatter",
         "x": [
          0.013117
         ],
         "xaxis": "x",
         "y": [
          "Health Sciences"
         ],
         "yaxis": "y"
        },
        {
         "error_x": {
          "array": [],
          "color": "rgb(224,144,91)",
          "type": "data",
          "visible": true,
          "width": 0
         },
         "marker": {
          "color": "rgb(224,144,91)"
         },
         "orientation": "h",
         "showlegend": false,
         "type": "scatter",
         "x": [],
         "xaxis": "x2",
         "y": [],
         "yaxis": "y2"
        },
        {
         "error_x": {
          "array": [],
          "color": "rgb(224,144,91)",
          "type": "data",
          "visible": true,
          "width": 0
         },
         "marker": {
          "color": "rgb(224,144,91)"
         },
         "orientation": "h",
         "showlegend": false,
         "type": "scatter",
         "x": [],
         "xaxis": "x3",
         "y": [],
         "yaxis": "y3"
        },
        {
         "error_x": {
          "array": [],
          "color": "rgb(120,171,201)",
          "type": "data",
          "visible": true,
          "width": 0
         },
         "marker": {
          "color": "rgb(120,171,201)"
         },
         "orientation": "h",
         "showlegend": false,
         "type": "scatter",
         "x": [],
         "xaxis": "x",
         "y": [],
         "yaxis": "y"
        },
        {
         "error_x": {
          "array": [
           0.016040640000000002
          ],
          "color": "rgb(120,171,201)",
          "type": "data",
          "visible": true,
          "width": 0
         },
         "marker": {
          "color": "rgb(120,171,201)"
         },
         "orientation": "h",
         "showlegend": false,
         "type": "scatter",
         "x": [
          -0.024566
         ],
         "xaxis": "x2",
         "y": [
          "Economic & Social Sciences"
         ],
         "yaxis": "y2"
        },
        {
         "error_x": {
          "array": [],
          "color": "rgb(120,171,201)",
          "type": "data",
          "visible": true,
          "width": 0
         },
         "marker": {
          "color": "rgb(120,171,201)"
         },
         "orientation": "h",
         "showlegend": false,
         "type": "scatter",
         "x": [],
         "xaxis": "x3",
         "y": [],
         "yaxis": "y3"
        },
        {
         "error_x": {
          "array": [
           0.0147392
          ],
          "color": "rgb(200,200,200)",
          "type": "data",
          "visible": true,
          "width": 0
         },
         "marker": {
          "color": "rgb(200,200,200)"
         },
         "orientation": "h",
         "showlegend": false,
         "type": "scatter",
         "x": [
          -0.004829
         ],
         "xaxis": "x",
         "y": [
          "Economic & Social Sciences"
         ],
         "yaxis": "y"
        },
        {
         "error_x": {
          "array": [],
          "color": "rgb(200,200,200)",
          "type": "data",
          "visible": true,
          "width": 0
         },
         "marker": {
          "color": "rgb(200,200,200)"
         },
         "orientation": "h",
         "showlegend": false,
         "type": "scatter",
         "x": [],
         "xaxis": "x2",
         "y": [],
         "yaxis": "y2"
        },
        {
         "error_x": {
          "array": [
           0.03435488
          ],
          "color": "rgb(200,200,200)",
          "type": "data",
          "visible": true,
          "width": 0
         },
         "marker": {
          "color": "rgb(200,200,200)"
         },
         "orientation": "h",
         "showlegend": false,
         "type": "scatter",
         "x": [
          0.003344
         ],
         "xaxis": "x3",
         "y": [
          "Economic & Social Sciences"
         ],
         "yaxis": "y3"
        },
        {
         "error_x": {
          "array": [],
          "color": "rgb(224,144,91)",
          "type": "data",
          "visible": true,
          "width": 0
         },
         "marker": {
          "color": "rgb(224,144,91)"
         },
         "orientation": "h",
         "showlegend": false,
         "type": "scatter",
         "x": [],
         "xaxis": "x",
         "y": [],
         "yaxis": "y"
        },
        {
         "error_x": {
          "array": [],
          "color": "rgb(224,144,91)",
          "type": "data",
          "visible": true,
          "width": 0
         },
         "marker": {
          "color": "rgb(224,144,91)"
         },
         "orientation": "h",
         "showlegend": false,
         "type": "scatter",
         "x": [],
         "xaxis": "x2",
         "y": [],
         "yaxis": "y2"
        },
        {
         "error_x": {
          "array": [],
          "color": "rgb(224,144,91)",
          "type": "data",
          "visible": true,
          "width": 0
         },
         "marker": {
          "color": "rgb(224,144,91)"
         },
         "orientation": "h",
         "showlegend": false,
         "type": "scatter",
         "x": [],
         "xaxis": "x3",
         "y": [],
         "yaxis": "y3"
        },
        {
         "error_x": {
          "array": [
           0.028831600000000002
          ],
          "color": "rgb(120,171,201)",
          "type": "data",
          "visible": true,
          "width": 0
         },
         "marker": {
          "color": "rgb(120,171,201)"
         },
         "orientation": "h",
         "showlegend": false,
         "type": "scatter",
         "x": [
          -0.037791
         ],
         "xaxis": "x",
         "y": [
          "Arts & Humanities"
         ],
         "yaxis": "y"
        },
        {
         "error_x": {
          "array": [],
          "color": "rgb(120,171,201)",
          "type": "data",
          "visible": true,
          "width": 0
         },
         "marker": {
          "color": "rgb(120,171,201)"
         },
         "orientation": "h",
         "showlegend": false,
         "type": "scatter",
         "x": [],
         "xaxis": "x2",
         "y": [],
         "yaxis": "y2"
        },
        {
         "error_x": {
          "array": [],
          "color": "rgb(120,171,201)",
          "type": "data",
          "visible": true,
          "width": 0
         },
         "marker": {
          "color": "rgb(120,171,201)"
         },
         "orientation": "h",
         "showlegend": false,
         "type": "scatter",
         "x": [],
         "xaxis": "x3",
         "y": [],
         "yaxis": "y3"
        },
        {
         "error_x": {
          "array": [],
          "color": "rgb(200,200,200)",
          "type": "data",
          "visible": true,
          "width": 0
         },
         "marker": {
          "color": "rgb(200,200,200)"
         },
         "orientation": "h",
         "showlegend": false,
         "type": "scatter",
         "x": [],
         "xaxis": "x",
         "y": [],
         "yaxis": "y"
        },
        {
         "error_x": {
          "array": [],
          "color": "rgb(200,200,200)",
          "type": "data",
          "visible": true,
          "width": 0
         },
         "marker": {
          "color": "rgb(200,200,200)"
         },
         "orientation": "h",
         "showlegend": false,
         "type": "scatter",
         "x": [],
         "xaxis": "x2",
         "y": [],
         "yaxis": "y2"
        },
        {
         "error_x": {
          "array": [
           0.08895851999999999
          ],
          "color": "rgb(200,200,200)",
          "type": "data",
          "visible": true,
          "width": 0
         },
         "marker": {
          "color": "rgb(200,200,200)"
         },
         "orientation": "h",
         "showlegend": false,
         "type": "scatter",
         "x": [
          0.071248
         ],
         "xaxis": "x3",
         "y": [
          "Arts & Humanities"
         ],
         "yaxis": "y3"
        },
        {
         "error_x": {
          "array": [],
          "color": "rgb(224,144,91)",
          "type": "data",
          "visible": true,
          "width": 0
         },
         "marker": {
          "color": "rgb(224,144,91)"
         },
         "orientation": "h",
         "showlegend": false,
         "type": "scatter",
         "x": [],
         "xaxis": "x",
         "y": [],
         "yaxis": "y"
        },
        {
         "error_x": {
          "array": [
           0.0440412
          ],
          "color": "rgb(224,144,91)",
          "type": "data",
          "visible": true,
          "width": 0
         },
         "marker": {
          "color": "rgb(224,144,91)"
         },
         "orientation": "h",
         "showlegend": false,
         "type": "scatter",
         "x": [
          0.12938
         ],
         "xaxis": "x2",
         "y": [
          "Arts & Humanities"
         ],
         "yaxis": "y2"
        },
        {
         "error_x": {
          "array": [],
          "color": "rgb(224,144,91)",
          "type": "data",
          "visible": true,
          "width": 0
         },
         "marker": {
          "color": "rgb(224,144,91)"
         },
         "orientation": "h",
         "showlegend": false,
         "type": "scatter",
         "x": [],
         "xaxis": "x3",
         "y": [],
         "yaxis": "y3"
        },
        {
         "error_x": {
          "array": [],
          "color": "rgb(120,171,201)",
          "type": "data",
          "visible": true,
          "width": 0
         },
         "marker": {
          "color": "rgb(120,171,201)"
         },
         "orientation": "h",
         "showlegend": false,
         "type": "scatter",
         "x": [],
         "xaxis": "x",
         "y": [],
         "yaxis": "y"
        },
        {
         "error_x": {
          "array": [
           0.0015876
          ],
          "color": "rgb(120,171,201)",
          "type": "data",
          "visible": true,
          "width": 0
         },
         "marker": {
          "color": "rgb(120,171,201)"
         },
         "orientation": "h",
         "showlegend": false,
         "type": "scatter",
         "x": [
          -0.003071
         ],
         "xaxis": "x2",
         "y": [
          "Total"
         ],
         "yaxis": "y2"
        },
        {
         "error_x": {
          "array": [
           0.0033927600000000016
          ],
          "color": "rgb(120,171,201)",
          "type": "data",
          "visible": true,
          "width": 0
         },
         "marker": {
          "color": "rgb(120,171,201)"
         },
         "orientation": "h",
         "showlegend": false,
         "type": "scatter",
         "x": [
          -0.025826
         ],
         "xaxis": "x3",
         "y": [
          "Total"
         ],
         "yaxis": "y3"
        },
        {
         "error_x": {
          "array": [],
          "color": "rgb(200,200,200)",
          "type": "data",
          "visible": true,
          "width": 0
         },
         "marker": {
          "color": "rgb(200,200,200)"
         },
         "orientation": "h",
         "showlegend": false,
         "type": "scatter",
         "x": [],
         "xaxis": "x",
         "y": [],
         "yaxis": "y"
        },
        {
         "error_x": {
          "array": [],
          "color": "rgb(200,200,200)",
          "type": "data",
          "visible": true,
          "width": 0
         },
         "marker": {
          "color": "rgb(200,200,200)"
         },
         "orientation": "h",
         "showlegend": false,
         "type": "scatter",
         "x": [],
         "xaxis": "x2",
         "y": [],
         "yaxis": "y2"
        },
        {
         "error_x": {
          "array": [],
          "color": "rgb(200,200,200)",
          "type": "data",
          "visible": true,
          "width": 0
         },
         "marker": {
          "color": "rgb(200,200,200)"
         },
         "orientation": "h",
         "showlegend": false,
         "type": "scatter",
         "x": [],
         "xaxis": "x3",
         "y": [],
         "yaxis": "y3"
        },
        {
         "error_x": {
          "array": [
           0.0013974799999999996
          ],
          "color": "rgb(224,144,91)",
          "type": "data",
          "visible": true,
          "width": 0
         },
         "marker": {
          "color": "rgb(224,144,91)"
         },
         "orientation": "h",
         "showlegend": false,
         "type": "scatter",
         "x": [
          0.011652
         ],
         "xaxis": "x",
         "y": [
          "Total"
         ],
         "yaxis": "y"
        },
        {
         "error_x": {
          "array": [],
          "color": "rgb(224,144,91)",
          "type": "data",
          "visible": true,
          "width": 0
         },
         "marker": {
          "color": "rgb(224,144,91)"
         },
         "orientation": "h",
         "showlegend": false,
         "type": "scatter",
         "x": [],
         "xaxis": "x2",
         "y": [],
         "yaxis": "y2"
        },
        {
         "error_x": {
          "array": [],
          "color": "rgb(224,144,91)",
          "type": "data",
          "visible": true,
          "width": 0
         },
         "marker": {
          "color": "rgb(224,144,91)"
         },
         "orientation": "h",
         "showlegend": false,
         "type": "scatter",
         "x": [],
         "xaxis": "x3",
         "y": [],
         "yaxis": "y3"
        }
       ],
       "layout": {
        "annotations": [
         {
          "font": {
           "size": 16
          },
          "showarrow": false,
          "text": "Negative",
          "x": 0.13999999999999999,
          "xanchor": "center",
          "xref": "paper",
          "y": 1,
          "yanchor": "bottom",
          "yref": "paper"
         },
         {
          "font": {
           "size": 16
          },
          "showarrow": false,
          "text": "Neutral",
          "x": 0.49999999999999994,
          "xanchor": "center",
          "xref": "paper",
          "y": 1,
          "yanchor": "bottom",
          "yref": "paper"
         },
         {
          "font": {
           "size": 16
          },
          "showarrow": false,
          "text": "Positive",
          "x": 0.86,
          "xanchor": "center",
          "xref": "paper",
          "y": 1,
          "yanchor": "bottom",
          "yref": "paper"
         }
        ],
        "font": {
         "family": "Arial",
         "size": 12
        },
        "height": 300,
        "shapes": [
         {
          "line": {
           "color": "black",
           "dash": "dash",
           "width": 1
          },
          "type": "line",
          "x0": 0,
          "x1": 0,
          "xref": "x",
          "y0": 0,
          "y1": 1,
          "yref": "y domain"
         },
         {
          "line": {
           "color": "black",
           "dash": "dash",
           "width": 1
          },
          "type": "line",
          "x0": 0,
          "x1": 0,
          "xref": "x2",
          "y0": 0,
          "y1": 1,
          "yref": "y2 domain"
         },
         {
          "line": {
           "color": "black",
           "dash": "dash",
           "width": 1
          },
          "type": "line",
          "x0": 0,
          "x1": 0,
          "xref": "x3",
          "y0": 0,
          "y1": 1,
          "yref": "y3 domain"
         }
        ],
        "template": {
         "data": {
          "bar": [
           {
            "error_x": {
             "color": "rgb(36,36,36)"
            },
            "error_y": {
             "color": "rgb(36,36,36)"
            },
            "marker": {
             "line": {
              "color": "white",
              "width": 0.5
             },
             "pattern": {
              "fillmode": "overlay",
              "size": 10,
              "solidity": 0.2
             }
            },
            "type": "bar"
           }
          ],
          "barpolar": [
           {
            "marker": {
             "line": {
              "color": "white",
              "width": 0.5
             },
             "pattern": {
              "fillmode": "overlay",
              "size": 10,
              "solidity": 0.2
             }
            },
            "type": "barpolar"
           }
          ],
          "carpet": [
           {
            "aaxis": {
             "endlinecolor": "rgb(36,36,36)",
             "gridcolor": "white",
             "linecolor": "white",
             "minorgridcolor": "white",
             "startlinecolor": "rgb(36,36,36)"
            },
            "baxis": {
             "endlinecolor": "rgb(36,36,36)",
             "gridcolor": "white",
             "linecolor": "white",
             "minorgridcolor": "white",
             "startlinecolor": "rgb(36,36,36)"
            },
            "type": "carpet"
           }
          ],
          "choropleth": [
           {
            "colorbar": {
             "outlinewidth": 1,
             "tickcolor": "rgb(36,36,36)",
             "ticks": "outside"
            },
            "type": "choropleth"
           }
          ],
          "contour": [
           {
            "colorbar": {
             "outlinewidth": 1,
             "tickcolor": "rgb(36,36,36)",
             "ticks": "outside"
            },
            "colorscale": [
             [
              0,
              "#440154"
             ],
             [
              0.1111111111111111,
              "#482878"
             ],
             [
              0.2222222222222222,
              "#3e4989"
             ],
             [
              0.3333333333333333,
              "#31688e"
             ],
             [
              0.4444444444444444,
              "#26828e"
             ],
             [
              0.5555555555555556,
              "#1f9e89"
             ],
             [
              0.6666666666666666,
              "#35b779"
             ],
             [
              0.7777777777777778,
              "#6ece58"
             ],
             [
              0.8888888888888888,
              "#b5de2b"
             ],
             [
              1,
              "#fde725"
             ]
            ],
            "type": "contour"
           }
          ],
          "contourcarpet": [
           {
            "colorbar": {
             "outlinewidth": 1,
             "tickcolor": "rgb(36,36,36)",
             "ticks": "outside"
            },
            "type": "contourcarpet"
           }
          ],
          "heatmap": [
           {
            "colorbar": {
             "outlinewidth": 1,
             "tickcolor": "rgb(36,36,36)",
             "ticks": "outside"
            },
            "colorscale": [
             [
              0,
              "#440154"
             ],
             [
              0.1111111111111111,
              "#482878"
             ],
             [
              0.2222222222222222,
              "#3e4989"
             ],
             [
              0.3333333333333333,
              "#31688e"
             ],
             [
              0.4444444444444444,
              "#26828e"
             ],
             [
              0.5555555555555556,
              "#1f9e89"
             ],
             [
              0.6666666666666666,
              "#35b779"
             ],
             [
              0.7777777777777778,
              "#6ece58"
             ],
             [
              0.8888888888888888,
              "#b5de2b"
             ],
             [
              1,
              "#fde725"
             ]
            ],
            "type": "heatmap"
           }
          ],
          "heatmapgl": [
           {
            "colorbar": {
             "outlinewidth": 1,
             "tickcolor": "rgb(36,36,36)",
             "ticks": "outside"
            },
            "colorscale": [
             [
              0,
              "#440154"
             ],
             [
              0.1111111111111111,
              "#482878"
             ],
             [
              0.2222222222222222,
              "#3e4989"
             ],
             [
              0.3333333333333333,
              "#31688e"
             ],
             [
              0.4444444444444444,
              "#26828e"
             ],
             [
              0.5555555555555556,
              "#1f9e89"
             ],
             [
              0.6666666666666666,
              "#35b779"
             ],
             [
              0.7777777777777778,
              "#6ece58"
             ],
             [
              0.8888888888888888,
              "#b5de2b"
             ],
             [
              1,
              "#fde725"
             ]
            ],
            "type": "heatmapgl"
           }
          ],
          "histogram": [
           {
            "marker": {
             "line": {
              "color": "white",
              "width": 0.6
             }
            },
            "type": "histogram"
           }
          ],
          "histogram2d": [
           {
            "colorbar": {
             "outlinewidth": 1,
             "tickcolor": "rgb(36,36,36)",
             "ticks": "outside"
            },
            "colorscale": [
             [
              0,
              "#440154"
             ],
             [
              0.1111111111111111,
              "#482878"
             ],
             [
              0.2222222222222222,
              "#3e4989"
             ],
             [
              0.3333333333333333,
              "#31688e"
             ],
             [
              0.4444444444444444,
              "#26828e"
             ],
             [
              0.5555555555555556,
              "#1f9e89"
             ],
             [
              0.6666666666666666,
              "#35b779"
             ],
             [
              0.7777777777777778,
              "#6ece58"
             ],
             [
              0.8888888888888888,
              "#b5de2b"
             ],
             [
              1,
              "#fde725"
             ]
            ],
            "type": "histogram2d"
           }
          ],
          "histogram2dcontour": [
           {
            "colorbar": {
             "outlinewidth": 1,
             "tickcolor": "rgb(36,36,36)",
             "ticks": "outside"
            },
            "colorscale": [
             [
              0,
              "#440154"
             ],
             [
              0.1111111111111111,
              "#482878"
             ],
             [
              0.2222222222222222,
              "#3e4989"
             ],
             [
              0.3333333333333333,
              "#31688e"
             ],
             [
              0.4444444444444444,
              "#26828e"
             ],
             [
              0.5555555555555556,
              "#1f9e89"
             ],
             [
              0.6666666666666666,
              "#35b779"
             ],
             [
              0.7777777777777778,
              "#6ece58"
             ],
             [
              0.8888888888888888,
              "#b5de2b"
             ],
             [
              1,
              "#fde725"
             ]
            ],
            "type": "histogram2dcontour"
           }
          ],
          "mesh3d": [
           {
            "colorbar": {
             "outlinewidth": 1,
             "tickcolor": "rgb(36,36,36)",
             "ticks": "outside"
            },
            "type": "mesh3d"
           }
          ],
          "parcoords": [
           {
            "line": {
             "colorbar": {
              "outlinewidth": 1,
              "tickcolor": "rgb(36,36,36)",
              "ticks": "outside"
             }
            },
            "type": "parcoords"
           }
          ],
          "pie": [
           {
            "automargin": true,
            "type": "pie"
           }
          ],
          "scatter": [
           {
            "fillpattern": {
             "fillmode": "overlay",
             "size": 10,
             "solidity": 0.2
            },
            "type": "scatter"
           }
          ],
          "scatter3d": [
           {
            "line": {
             "colorbar": {
              "outlinewidth": 1,
              "tickcolor": "rgb(36,36,36)",
              "ticks": "outside"
             }
            },
            "marker": {
             "colorbar": {
              "outlinewidth": 1,
              "tickcolor": "rgb(36,36,36)",
              "ticks": "outside"
             }
            },
            "type": "scatter3d"
           }
          ],
          "scattercarpet": [
           {
            "marker": {
             "colorbar": {
              "outlinewidth": 1,
              "tickcolor": "rgb(36,36,36)",
              "ticks": "outside"
             }
            },
            "type": "scattercarpet"
           }
          ],
          "scattergeo": [
           {
            "marker": {
             "colorbar": {
              "outlinewidth": 1,
              "tickcolor": "rgb(36,36,36)",
              "ticks": "outside"
             }
            },
            "type": "scattergeo"
           }
          ],
          "scattergl": [
           {
            "marker": {
             "colorbar": {
              "outlinewidth": 1,
              "tickcolor": "rgb(36,36,36)",
              "ticks": "outside"
             }
            },
            "type": "scattergl"
           }
          ],
          "scattermapbox": [
           {
            "marker": {
             "colorbar": {
              "outlinewidth": 1,
              "tickcolor": "rgb(36,36,36)",
              "ticks": "outside"
             }
            },
            "type": "scattermapbox"
           }
          ],
          "scatterpolar": [
           {
            "marker": {
             "colorbar": {
              "outlinewidth": 1,
              "tickcolor": "rgb(36,36,36)",
              "ticks": "outside"
             }
            },
            "type": "scatterpolar"
           }
          ],
          "scatterpolargl": [
           {
            "marker": {
             "colorbar": {
              "outlinewidth": 1,
              "tickcolor": "rgb(36,36,36)",
              "ticks": "outside"
             }
            },
            "type": "scatterpolargl"
           }
          ],
          "scatterternary": [
           {
            "marker": {
             "colorbar": {
              "outlinewidth": 1,
              "tickcolor": "rgb(36,36,36)",
              "ticks": "outside"
             }
            },
            "type": "scatterternary"
           }
          ],
          "surface": [
           {
            "colorbar": {
             "outlinewidth": 1,
             "tickcolor": "rgb(36,36,36)",
             "ticks": "outside"
            },
            "colorscale": [
             [
              0,
              "#440154"
             ],
             [
              0.1111111111111111,
              "#482878"
             ],
             [
              0.2222222222222222,
              "#3e4989"
             ],
             [
              0.3333333333333333,
              "#31688e"
             ],
             [
              0.4444444444444444,
              "#26828e"
             ],
             [
              0.5555555555555556,
              "#1f9e89"
             ],
             [
              0.6666666666666666,
              "#35b779"
             ],
             [
              0.7777777777777778,
              "#6ece58"
             ],
             [
              0.8888888888888888,
              "#b5de2b"
             ],
             [
              1,
              "#fde725"
             ]
            ],
            "type": "surface"
           }
          ],
          "table": [
           {
            "cells": {
             "fill": {
              "color": "rgb(237,237,237)"
             },
             "line": {
              "color": "white"
             }
            },
            "header": {
             "fill": {
              "color": "rgb(217,217,217)"
             },
             "line": {
              "color": "white"
             }
            },
            "type": "table"
           }
          ]
         },
         "layout": {
          "annotationdefaults": {
           "arrowhead": 0,
           "arrowwidth": 1
          },
          "autotypenumbers": "strict",
          "coloraxis": {
           "colorbar": {
            "outlinewidth": 1,
            "tickcolor": "rgb(36,36,36)",
            "ticks": "outside"
           }
          },
          "colorscale": {
           "diverging": [
            [
             0,
             "rgb(103,0,31)"
            ],
            [
             0.1,
             "rgb(178,24,43)"
            ],
            [
             0.2,
             "rgb(214,96,77)"
            ],
            [
             0.3,
             "rgb(244,165,130)"
            ],
            [
             0.4,
             "rgb(253,219,199)"
            ],
            [
             0.5,
             "rgb(247,247,247)"
            ],
            [
             0.6,
             "rgb(209,229,240)"
            ],
            [
             0.7,
             "rgb(146,197,222)"
            ],
            [
             0.8,
             "rgb(67,147,195)"
            ],
            [
             0.9,
             "rgb(33,102,172)"
            ],
            [
             1,
             "rgb(5,48,97)"
            ]
           ],
           "sequential": [
            [
             0,
             "#440154"
            ],
            [
             0.1111111111111111,
             "#482878"
            ],
            [
             0.2222222222222222,
             "#3e4989"
            ],
            [
             0.3333333333333333,
             "#31688e"
            ],
            [
             0.4444444444444444,
             "#26828e"
            ],
            [
             0.5555555555555556,
             "#1f9e89"
            ],
            [
             0.6666666666666666,
             "#35b779"
            ],
            [
             0.7777777777777778,
             "#6ece58"
            ],
            [
             0.8888888888888888,
             "#b5de2b"
            ],
            [
             1,
             "#fde725"
            ]
           ],
           "sequentialminus": [
            [
             0,
             "#440154"
            ],
            [
             0.1111111111111111,
             "#482878"
            ],
            [
             0.2222222222222222,
             "#3e4989"
            ],
            [
             0.3333333333333333,
             "#31688e"
            ],
            [
             0.4444444444444444,
             "#26828e"
            ],
            [
             0.5555555555555556,
             "#1f9e89"
            ],
            [
             0.6666666666666666,
             "#35b779"
            ],
            [
             0.7777777777777778,
             "#6ece58"
            ],
            [
             0.8888888888888888,
             "#b5de2b"
            ],
            [
             1,
             "#fde725"
            ]
           ]
          },
          "colorway": [
           "#1F77B4",
           "#FF7F0E",
           "#2CA02C",
           "#D62728",
           "#9467BD",
           "#8C564B",
           "#E377C2",
           "#7F7F7F",
           "#BCBD22",
           "#17BECF"
          ],
          "font": {
           "color": "rgb(36,36,36)"
          },
          "geo": {
           "bgcolor": "white",
           "lakecolor": "white",
           "landcolor": "white",
           "showlakes": true,
           "showland": true,
           "subunitcolor": "white"
          },
          "hoverlabel": {
           "align": "left"
          },
          "hovermode": "closest",
          "mapbox": {
           "style": "light"
          },
          "paper_bgcolor": "white",
          "plot_bgcolor": "white",
          "polar": {
           "angularaxis": {
            "gridcolor": "rgb(232,232,232)",
            "linecolor": "rgb(36,36,36)",
            "showgrid": false,
            "showline": true,
            "ticks": "outside"
           },
           "bgcolor": "white",
           "radialaxis": {
            "gridcolor": "rgb(232,232,232)",
            "linecolor": "rgb(36,36,36)",
            "showgrid": false,
            "showline": true,
            "ticks": "outside"
           }
          },
          "scene": {
           "xaxis": {
            "backgroundcolor": "white",
            "gridcolor": "rgb(232,232,232)",
            "gridwidth": 2,
            "linecolor": "rgb(36,36,36)",
            "showbackground": true,
            "showgrid": false,
            "showline": true,
            "ticks": "outside",
            "zeroline": false,
            "zerolinecolor": "rgb(36,36,36)"
           },
           "yaxis": {
            "backgroundcolor": "white",
            "gridcolor": "rgb(232,232,232)",
            "gridwidth": 2,
            "linecolor": "rgb(36,36,36)",
            "showbackground": true,
            "showgrid": false,
            "showline": true,
            "ticks": "outside",
            "zeroline": false,
            "zerolinecolor": "rgb(36,36,36)"
           },
           "zaxis": {
            "backgroundcolor": "white",
            "gridcolor": "rgb(232,232,232)",
            "gridwidth": 2,
            "linecolor": "rgb(36,36,36)",
            "showbackground": true,
            "showgrid": false,
            "showline": true,
            "ticks": "outside",
            "zeroline": false,
            "zerolinecolor": "rgb(36,36,36)"
           }
          },
          "shapedefaults": {
           "fillcolor": "black",
           "line": {
            "width": 0
           },
           "opacity": 0.3
          },
          "ternary": {
           "aaxis": {
            "gridcolor": "rgb(232,232,232)",
            "linecolor": "rgb(36,36,36)",
            "showgrid": false,
            "showline": true,
            "ticks": "outside"
           },
           "baxis": {
            "gridcolor": "rgb(232,232,232)",
            "linecolor": "rgb(36,36,36)",
            "showgrid": false,
            "showline": true,
            "ticks": "outside"
           },
           "bgcolor": "white",
           "caxis": {
            "gridcolor": "rgb(232,232,232)",
            "linecolor": "rgb(36,36,36)",
            "showgrid": false,
            "showline": true,
            "ticks": "outside"
           }
          },
          "title": {
           "x": 0.05
          },
          "xaxis": {
           "automargin": true,
           "gridcolor": "rgb(232,232,232)",
           "linecolor": "rgb(36,36,36)",
           "showgrid": false,
           "showline": true,
           "ticks": "outside",
           "title": {
            "standoff": 15
           },
           "zeroline": false,
           "zerolinecolor": "rgb(36,36,36)"
          },
          "yaxis": {
           "automargin": true,
           "gridcolor": "rgb(232,232,232)",
           "linecolor": "rgb(36,36,36)",
           "showgrid": false,
           "showline": true,
           "ticks": "outside",
           "title": {
            "standoff": 15
           },
           "zeroline": false,
           "zerolinecolor": "rgb(36,36,36)"
          }
         }
        },
        "width": 800,
        "xaxis": {
         "anchor": "y",
         "domain": [
          0,
          0.27999999999999997
         ],
         "mirror": true,
         "title": {
          "text": "Diff. in Negative score"
         }
        },
        "xaxis2": {
         "anchor": "y2",
         "domain": [
          0.36,
          0.6399999999999999
         ],
         "mirror": true,
         "title": {
          "text": "Diff. in Neutral score"
         }
        },
        "xaxis3": {
         "anchor": "y3",
         "domain": [
          0.72,
          1
         ],
         "mirror": true,
         "title": {
          "text": "Diff. in Positive score"
         }
        },
        "yaxis": {
         "anchor": "x",
         "autorange": "reversed",
         "domain": [
          0,
          1
         ],
         "mirror": true
        },
        "yaxis2": {
         "anchor": "x2",
         "autorange": "reversed",
         "domain": [
          0,
          1
         ],
         "matches": "y",
         "mirror": true,
         "showticklabels": false
        },
        "yaxis3": {
         "anchor": "x3",
         "autorange": "reversed",
         "domain": [
          0,
          1
         ],
         "matches": "y",
         "mirror": true,
         "showticklabels": false
        }
       }
      }
     },
     "metadata": {},
     "output_type": "display_data"
    }
   ],
   "source": [
    "# Create a bar chart\n",
    "indicators = [-1, 0, 1]\n",
    "sentiments = [\"Negative\", \"Neutral\", \"Positive\"]\n",
    "\n",
    "fig = make_subplots(\n",
    "    rows=1,\n",
    "    cols=3,\n",
    "    subplot_titles=sentiments,\n",
    "    shared_yaxes=True,\n",
    "    horizontal_spacing=0.08,\n",
    ")\n",
    "\n",
    "for i, domain in enumerate(domains):\n",
    "    for j, indicator in enumerate(indicators):\n",
    "        for k, sentiment in enumerate(sentiments):\n",
    "            t = df.query(\n",
    "                \"domain == @domain and indicator == @indicator and sentiment == @sentiment\"\n",
    "            )\n",
    "            fig.add_trace(\n",
    "                go.Scatter(\n",
    "                    x=t[\"est\"],\n",
    "                    y=t[\"domain\"],\n",
    "                    error_x=dict(\n",
    "                        type=\"data\",\n",
    "                        array=t[\"ci_error\"],\n",
    "                        visible=True,\n",
    "                        color=indicator_colors[indicator],\n",
    "                        width=0,\n",
    "                    ),\n",
    "                    orientation=\"h\",\n",
    "                    marker_color=indicator_colors[indicator],\n",
    "                    showlegend=False,\n",
    "                ),\n",
    "                row=1,\n",
    "                col=k+1,\n",
    "            )\n",
    "            \n",
    "            fig.update_xaxes(title=f'Diff. in {sentiment} score', mirror=True, row=1, col=k+1)\n",
    "\n",
    "# Customize layout\n",
    "fig.update_layout(\n",
    "    template=\"simple_white\",\n",
    "    font=dict(size=12, family=\"Arial\"),\n",
    "    height=300,\n",
    "    width=800,\n",
    ")\n",
    "\n",
    "fig.update_xaxes(mirror=True)\n",
    "fig.update_yaxes(autorange=\"reversed\", mirror=True)\n",
    "\n",
    "# add reference line\n",
    "fig.add_vline(x=0, line_width=1, line_dash=\"dash\", line_color=\"black\")\n",
    "\n",
    "# Show the plot\n",
    "fig.show()\n",
    "fig.write_image(\"figures/sentiment.svg\")"
   ]
  },
  {
   "cell_type": "code",
   "execution_count": null,
   "metadata": {
    "colab": {
     "base_uri": "https://localhost:8080/",
     "height": 335
    },
    "id": "1cM8HauaZNCU",
    "outputId": "fc98d04d-e3d6-48ab-d639-b125dc509d20"
   },
   "outputs": [
    {
     "data": {
      "image/png": "[encoded data removed]",
      "text/plain": [
       "<Figure size 350x300 with 1 Axes>"
      ]
     },
     "metadata": {},
     "output_type": "display_data"
    }
   ],
   "source": [
    "def plot_ci_sentiment_pos(a, title):\n",
    "    a[\"gender\"] = a[\"est\"].apply(lambda x: 1 if x > 0 else 0)\n",
    "    # print(a)\n",
    "\n",
    "    # a['odds_ratio'] = a['est'].apply(lambda x: math.exp(x))\n",
    "    a[\"odds_ratio\"] = a[\"est\"]\n",
    "\n",
    "    left_ci = []\n",
    "    right_ci = []\n",
    "\n",
    "    for ind in a.index:\n",
    "        # left_ci.append(math.exp(a['est'][ind] - 1.96 * a['error'][ind]))\n",
    "        # right_ci.append(math.exp(a['est'][ind] + 1.96 * a['error'][ind]))\n",
    "        left_ci.append(a[\"est\"][ind] - 1.96 * a[\"error\"][ind])\n",
    "        right_ci.append(a[\"est\"][ind] + 1.96 * a[\"error\"][ind])\n",
    "\n",
    "    a[\"left_ci\"] = left_ci\n",
    "    a[\"right_ci\"] = right_ci\n",
    "    # print(a)\n",
    "\n",
    "    import matplotlib.pyplot as plt\n",
    "    import seaborn as sns\n",
    "\n",
    "    plt.rcParams[\"font.family\"] = \"serif\"\n",
    "\n",
    "    # Create a DataFrame\n",
    "    df = a.copy()\n",
    "\n",
    "    # Set up the matplotlib figure\n",
    "    plt.figure(figsize=(3.5, 3))\n",
    "\n",
    "    # Add confidence interval lines with dots for odds ratio, color-coded by gender\n",
    "    for i, row in df.iterrows():\n",
    "        color = \"red\" if row[\"gender\"] == 0 else \"black\"\n",
    "        plt.plot(row[\"odds_ratio\"], i, \"o\", markersize=2, color=color)\n",
    "        plt.plot([row[\"left_ci\"], row[\"right_ci\"]], [i, i], color=color, linewidth=1)\n",
    "\n",
    "    # Annotate significance\n",
    "    for i, row in df.iterrows():\n",
    "        plt.text(\n",
    "            row[\"right_ci\"] - 0.0015,\n",
    "            i - 0.3,\n",
    "            row[\"pval\"],\n",
    "            color=\"red\" if row[\"gender\"] == 0 else \"black\",\n",
    "            verticalalignment=\"center\",\n",
    "            fontsize=8,\n",
    "        )\n",
    "\n",
    "    # Customize the plot\n",
    "    plt.yticks(\n",
    "        range(len(df)),\n",
    "        df[\"Domain\"],\n",
    "        fontweight=\"normal\",\n",
    "        fontfamily=\"serif\",\n",
    "        fontsize=10,\n",
    "    )\n",
    "    plt.xlabel(\"Coefficients\", fontsize=12, fontweight=\"normal\", fontfamily=\"serif\")\n",
    "    # plt.title(\"Odds Ratio with Confidence Intervals\", fontsize=16)\n",
    "    plt.grid(axis=\"x\", linestyle=\"--\", alpha=0.6)\n",
    "\n",
    "    legend_elements = [\n",
    "        Line2D(\n",
    "            [0],\n",
    "            [0],\n",
    "            color=\"red\",\n",
    "            marker=\"o\",\n",
    "            linestyle=\"-\",\n",
    "            markersize=2,\n",
    "            label=\"Women get low\\npositive score\",\n",
    "        ),\n",
    "        Line2D(\n",
    "            [0],\n",
    "            [0],\n",
    "            color=\"black\",\n",
    "            marker=\"o\",\n",
    "            linestyle=\"-\",\n",
    "            markersize=2,\n",
    "            label=\"Women get high\\npositive score\",\n",
    "        ),\n",
    "    ]\n",
    "\n",
    "    plt.legend(\n",
    "        handles=legend_elements, fontsize=8, loc=\"upper right\"\n",
    "    )  # , prop={'family':'serif'}\n",
    "    plt.title(title)\n",
    "    plt.ylim(-0.7, 5.5)\n",
    "    # plt.xlim(-0.0567,0.20)\n",
    "    # print(df)\n",
    "    plt.show()\n",
    "\n",
    "\n",
    "a = pd.DataFrame()\n",
    "a[\"Domain\"] = [\"Total\", \"AS\", \"A&H\", \"ESS\", \"HS\", \"NS\"]\n",
    "a[\"est\"] = [-0.025826, -0.031015, 0.071248, 0.003344, -0.030636, 0.002584]\n",
    "a[\"error\"] = [0.001731, 0.002162, 0.045387, 0.017528, 0.003908, 0.004553]\n",
    "a[\"pval\"] = [\"*** (ES: -0.053)\", \"*** (ES: -0.08)\", \" \", \" \", \"*** (ES: -0.03)\", \" \"]\n",
    "plot_ci_sentiment_pos(a, \"Positive\")"
   ]
  },
  {
   "cell_type": "code",
   "execution_count": null,
   "metadata": {
    "colab": {
     "base_uri": "https://localhost:8080/",
     "height": 335
    },
    "id": "SBtPRpvCZm0F",
    "outputId": "9ceada45-056a-48e8-f6f3-3a8d81150c69"
   },
   "outputs": [
    {
     "data": {
      "image/png": "[encoded data removed]",
      "text/plain": [
       "<Figure size 350x300 with 1 Axes>"
      ]
     },
     "metadata": {},
     "output_type": "display_data"
    }
   ],
   "source": [
    "def plot_ci_sentiment_neg(a, title):\n",
    "    a[\"gender\"] = a[\"est\"].apply(lambda x: 1 if x > 0 else 0)\n",
    "    # print(a)\n",
    "\n",
    "    # a['odds_ratio'] = a['est'].apply(lambda x: math.exp(x))\n",
    "    a[\"odds_ratio\"] = a[\"est\"]\n",
    "\n",
    "    left_ci = []\n",
    "    right_ci = []\n",
    "\n",
    "    for ind in a.index:\n",
    "        # left_ci.append(math.exp(a['est'][ind] - 1.96 * a['error'][ind]))\n",
    "        # right_ci.append(math.exp(a['est'][ind] + 1.96 * a['error'][ind]))\n",
    "        left_ci.append(a[\"est\"][ind] - 1.96 * a[\"error\"][ind])\n",
    "        right_ci.append(a[\"est\"][ind] + 1.96 * a[\"error\"][ind])\n",
    "\n",
    "    a[\"left_ci\"] = left_ci\n",
    "    a[\"right_ci\"] = right_ci\n",
    "    # print(a)\n",
    "\n",
    "    import matplotlib.pyplot as plt\n",
    "    import seaborn as sns\n",
    "\n",
    "    plt.rcParams[\"font.family\"] = \"serif\"\n",
    "\n",
    "    # Create a DataFrame\n",
    "    df = a.copy()\n",
    "\n",
    "    # Set up the matplotlib figure\n",
    "    plt.figure(figsize=(3.5, 3))\n",
    "\n",
    "    # Add confidence interval lines with dots for odds ratio, color-coded by gender\n",
    "    for i, row in df.iterrows():\n",
    "        color = \"red\" if row[\"gender\"] == 0 else \"black\"\n",
    "        plt.plot(row[\"odds_ratio\"], i, \"o\", markersize=2, color=color)\n",
    "        plt.plot([row[\"left_ci\"], row[\"right_ci\"]], [i, i], color=color, linewidth=1)\n",
    "\n",
    "    # Annotate significance\n",
    "    for i, row in df.iterrows():\n",
    "        plt.text(\n",
    "            row[\"right_ci\"] - 0.015,\n",
    "            i - 0.3,\n",
    "            row[\"pval\"],\n",
    "            color=\"red\" if row[\"gender\"] == 0 else \"black\",\n",
    "            verticalalignment=\"center\",\n",
    "            fontsize=8,\n",
    "        )\n",
    "\n",
    "    # Customize the plot\n",
    "    plt.yticks(\n",
    "        range(len(df)),\n",
    "        df[\"Domain\"],\n",
    "        fontweight=\"normal\",\n",
    "        fontfamily=\"serif\",\n",
    "        fontsize=10,\n",
    "    )\n",
    "    plt.xlabel(\"Coefficients\", fontsize=12, fontweight=\"normal\", fontfamily=\"serif\")\n",
    "    # plt.title(\"Odds Ratio with Confidence Intervals\", fontsize=16)\n",
    "    plt.grid(axis=\"x\", linestyle=\"--\", alpha=0.6)\n",
    "\n",
    "    legend_elements = [\n",
    "        Line2D(\n",
    "            [0],\n",
    "            [0],\n",
    "            color=\"red\",\n",
    "            marker=\"o\",\n",
    "            linestyle=\"-\",\n",
    "            markersize=2,\n",
    "            label=\"Women get low\\nnegative score\",\n",
    "        ),\n",
    "        Line2D(\n",
    "            [0],\n",
    "            [0],\n",
    "            color=\"black\",\n",
    "            marker=\"o\",\n",
    "            linestyle=\"-\",\n",
    "            markersize=2,\n",
    "            label=\"Women get high\\nnegative score\",\n",
    "        ),\n",
    "    ]\n",
    "\n",
    "    plt.legend(\n",
    "        handles=legend_elements, fontsize=8, loc=\"upper left\"\n",
    "    )  # , prop={'family':'serif'}\n",
    "    plt.title(title)\n",
    "    plt.xlim(-0.068, 0.027)\n",
    "    plt.ylim(-0.7, 5.5)\n",
    "    # print(df)\n",
    "    plt.show()\n",
    "\n",
    "\n",
    "a = pd.DataFrame()\n",
    "a[\"Domain\"] = [\"Total\", \"AS\", \"A&H\", \"ESS\", \"HS\", \"NS\"]\n",
    "a[\"est\"] = [0.0116516, 0.0130674, -0.037791, -0.004829, 0.013117, 0.006651]\n",
    "a[\"error\"] = [0.0007131, 0.0008751, 0.014710, 0.007520, 0.001813, 0.001873]\n",
    "a[\"pval\"] = [\n",
    "    \"***\\n(ES: 0.07)\",\n",
    "    \"***\\n(ES: 0.10)\",\n",
    "    \"* (ES: -0.6)\",\n",
    "    \" \",\n",
    "    \"***\\n(ES: 0.08)\",\n",
    "    \"***\\n(ES: 0.04)\",\n",
    "]\n",
    "plot_ci_sentiment_neg(a, \"Negative\")"
   ]
  },
  {
   "cell_type": "code",
   "execution_count": null,
   "metadata": {
    "colab": {
     "base_uri": "https://localhost:8080/",
     "height": 335
    },
    "id": "yQjlrgD5bpPT",
    "outputId": "d97fc9ad-cfbf-4822-ef36-7130ec81adb5"
   },
   "outputs": [
    {
     "data": {
      "image/png": "[encoded data removed]",
      "text/plain": [
       "<Figure size 350x300 with 1 Axes>"
      ]
     },
     "metadata": {},
     "output_type": "display_data"
    }
   ],
   "source": [
    "def plot_ci_sentiment_agg(a, title):\n",
    "    a[\"gender\"] = a[\"est\"].apply(lambda x: 1 if x > 0 else 0)\n",
    "    # print(a)\n",
    "\n",
    "    # a['odds_ratio'] = a['est'].apply(lambda x: math.exp(x))\n",
    "    a[\"odds_ratio\"] = a[\"est\"]\n",
    "\n",
    "    left_ci = []\n",
    "    right_ci = []\n",
    "\n",
    "    for ind in a.index:\n",
    "        # left_ci.append(math.exp(a['est'][ind] - 1.96 * a['error'][ind]))\n",
    "        # right_ci.append(math.exp(a['est'][ind] + 1.96 * a['error'][ind]))\n",
    "        left_ci.append(a[\"est\"][ind] - 1.96 * a[\"error\"][ind])\n",
    "        right_ci.append(a[\"est\"][ind] + 1.96 * a[\"error\"][ind])\n",
    "\n",
    "    a[\"left_ci\"] = left_ci\n",
    "    a[\"right_ci\"] = right_ci\n",
    "    # print(a)\n",
    "\n",
    "    import matplotlib.pyplot as plt\n",
    "    import seaborn as sns\n",
    "\n",
    "    plt.rcParams[\"font.family\"] = \"serif\"\n",
    "\n",
    "    # Create a DataFrame\n",
    "    df = a.copy()\n",
    "\n",
    "    # Set up the matplotlib figure\n",
    "    plt.figure(figsize=(3.5, 3))\n",
    "\n",
    "    # Add confidence interval lines with dots for odds ratio, color-coded by gender\n",
    "    for i, row in df.iterrows():\n",
    "        color = \"red\" if row[\"gender\"] == 0 else \"black\"\n",
    "        plt.plot(row[\"odds_ratio\"], i, \"o\", markersize=8, color=color)\n",
    "        plt.plot([row[\"left_ci\"], row[\"right_ci\"]], [i, i], color=color, linewidth=2)\n",
    "\n",
    "    # Annotate significance\n",
    "    for i, row in df.iterrows():\n",
    "        plt.text(\n",
    "            row[\"right_ci\"] + 0.001,\n",
    "            i,\n",
    "            row[\"pval\"],\n",
    "            color=\"red\" if row[\"gender\"] == 0 else \"black\",\n",
    "            verticalalignment=\"center\",\n",
    "            fontsize=12,\n",
    "        )\n",
    "\n",
    "    # Customize the plot\n",
    "    plt.yticks(\n",
    "        range(len(df)),\n",
    "        df[\"Domain\"],\n",
    "        fontweight=\"normal\",\n",
    "        fontfamily=\"serif\",\n",
    "        fontsize=10,\n",
    "    )\n",
    "    plt.xlabel(\"Coefficients\", fontsize=12, fontweight=\"normal\", fontfamily=\"serif\")\n",
    "    # plt.title(\"Odds Ratio with Confidence Intervals\", fontsize=16)\n",
    "    plt.grid(axis=\"x\", linestyle=\"--\", alpha=0.6)\n",
    "\n",
    "    legend_elements = [\n",
    "        Line2D(\n",
    "            [0],\n",
    "            [0],\n",
    "            color=\"red\",\n",
    "            marker=\"o\",\n",
    "            linestyle=\"-\",\n",
    "            markersize=8,\n",
    "            label=\"Women get low\\naggregated score\",\n",
    "        ),\n",
    "        Line2D(\n",
    "            [0],\n",
    "            [0],\n",
    "            color=\"black\",\n",
    "            marker=\"o\",\n",
    "            linestyle=\"-\",\n",
    "            markersize=8,\n",
    "            label=\"Women get high\\naggregated score\",\n",
    "        ),\n",
    "    ]\n",
    "\n",
    "    plt.legend(\n",
    "        handles=legend_elements, fontsize=8, loc=\"upper right\"\n",
    "    )  # , prop={'family':'serif'}\n",
    "    plt.title(title)\n",
    "    # plt.xlim(-0.07,0.025)\n",
    "    # print(df)\n",
    "    plt.show()\n",
    "\n",
    "\n",
    "a = pd.DataFrame()\n",
    "a[\"Domain\"] = [\"Total\", \"AS\", \"A&H\", \"ESS\", \"HS\", \"NS\"]\n",
    "a[\"est\"] = [-0.0102529, -0.014782, 0.05157, 0.02475, -0.0085145, -0.001116]\n",
    "a[\"error\"] = [0.0023585, 0.002889, 0.04138, 0.02889, 0.0057174, 0.005843]\n",
    "a[\"pval\"] = [\"***\", \"***\", \" \", \" \", \" \", \" \"]\n",
    "plot_ci_sentiment_agg(a, \"Aggregated\")"
   ]
  },
  {
   "cell_type": "code",
   "execution_count": null,
   "metadata": {
    "colab": {
     "base_uri": "https://localhost:8080/",
     "height": 449
    },
    "id": "zs0lFvc52clv",
    "outputId": "b56187d1-9e29-4079-9f34-055b803ad68c"
   },
   "outputs": [
    {
     "data": {
      "image/png": "[encoded data removed]",
      "text/plain": [
       "<Figure size 640x480 with 1 Axes>"
      ]
     },
     "metadata": {},
     "output_type": "display_data"
    }
   ],
   "source": [
    "# importing the required library\n",
    "import seaborn as sns\n",
    "import matplotlib.pyplot as plt\n",
    "\n",
    "# read a titanic.csv file\n",
    "# from seaborn library\n",
    "df = pd.DataFrame()\n",
    "df[\"class\"] = [\"first\", \"second\", \"third\"]\n",
    "df[\"fare\"] = [10, 20, 15]\n",
    "\n",
    "# class v / s fare barplot in given order\n",
    "\"\"\"sns.barplot(x = 'class', y = 'fare', data = df,\n",
    "            order = [\"Third\", \"Second\", \"First\"])\"\"\"\n",
    "\n",
    "sns.barplot(y=\"class\", x=\"fare\", data=df)\n",
    "\n",
    "# Show the plot\n",
    "plt.show()"
   ]
  },
  {
   "cell_type": "code",
   "execution_count": null,
   "metadata": {
    "colab": {
     "base_uri": "https://localhost:8080/",
     "height": 547
    },
    "id": "GiQzHfWa2g2X",
    "outputId": "3c22273f-276a-4dce-acd2-838a131708fb"
   },
   "outputs": [
    {
     "data": {
      "image/png": "[encoded data removed]",
      "text/plain": [
       "<Figure size 1000x600 with 1 Axes>"
      ]
     },
     "metadata": {},
     "output_type": "display_data"
    }
   ],
   "source": [
    "import pandas as pd\n",
    "import seaborn as sns\n",
    "import matplotlib.pyplot as plt\n",
    "from textwrap import wrap\n",
    "import random\n",
    "\n",
    "# Set a seed for reproducibility\n",
    "random.seed(42)\n",
    "plt.rcParams[\"font.family\"] = \"serif\"\n",
    "df = pd.DataFrame()\n",
    "custom_colors = [\n",
    "    \"#91b5d6\",\n",
    "    \"#91b5d6\",\n",
    "    \"#91b5d6\",\n",
    "    \"#91b5d6\",\n",
    "    \"#91b5d6\",\n",
    "    \"#ffbb78\",\n",
    "    \"#ffbb78\",\n",
    "    \"#ffbb78\",\n",
    "    \"#ffd92f\",\n",
    "    \"#ffd92f\",  #'#1f77b4',\n",
    "    \"#51b689\",\n",
    "    \"#51b689\",\n",
    "    \"#51b689\",\n",
    "    \"#51b689\",\n",
    "    \"#c5b0d5\",\n",
    "    \"#c5b0d5\",\n",
    "    \"#c5b0d5\",\n",
    "    \"#c5b0d5\",\n",
    "    \"#c5b0d5\",\n",
    "]\n",
    "domain_colors = {\n",
    "    \"Applied Sciences\": \"#91b5d6\",\n",
    "    \"Arts & Humanities\": \"#ffbb78\",\n",
    "    \"Economic & Social Sciences\": \"#ffd92f\",\n",
    "    \"Health Sciences\": \"#51b689\",\n",
    "    \"Natural Sciences\": \"#c5b0d5\",\n",
    "}\n",
    "df[\"domain\"] = [\n",
    "    \"Applied Sciences\",\n",
    "    \"Applied Sciences\",\n",
    "    \"Applied Sciences\",\n",
    "    \"Applied Sciences\",\n",
    "    \"Applied Sciences\",\n",
    "    \"Arts & Humanities\",\n",
    "    \"Arts & Humanities\",\n",
    "    \"Arts & Humanities\",\n",
    "    \"Economic & Social Sciences\",\n",
    "    \"Economic & Social Sciences\",\n",
    "    \"Health Sciences\",\n",
    "    \"Health Sciences\",\n",
    "    \"Health Sciences\",\n",
    "    \"Health Sciences\",\n",
    "    \"Natural Sciences\",\n",
    "    \"Natural Sciences\",\n",
    "    \"Natural Sciences\",\n",
    "    \"Natural Sciences\",\n",
    "    \"Natural Sciences\",\n",
    "]\n",
    "df[\"subdomain\"] = [\n",
    "    \"Agri., Fish. & Forestry\",\n",
    "    \"Built Env. & Design\",\n",
    "    \"Enab. & Strategic Tech.\",\n",
    "    \"Engineering\",\n",
    "    \"Info. & Com. Tech.\",\n",
    "    \"Com. & Text. Studies\",\n",
    "    \"Historical Studies\",\n",
    "    \"Philosophy & Theology\",\n",
    "    \"Econ & Business\",\n",
    "    \"Social Sciences\",\n",
    "    \"Biomedical Research\",\n",
    "    \"Clinical Medicine\",\n",
    "    \"Psych. & Cog. Sciences\",\n",
    "    \"Public Health & Services\",\n",
    "    \"Biology\",\n",
    "    \"Chemistry\",\n",
    "    \"Earth & Env. Sciences\",\n",
    "    \"Math. & Stat.\",\n",
    "    \"Physics & Astronomy\",\n",
    "]\n",
    "# df['value'] = [5,-10,-5,-20,25,-30,5,-11,16,21,-26,31,-15,12,17,-22,27,-30,24,-34]\n",
    "df[\"relative diff %\"] = [\n",
    "    13.616,\n",
    "    0.954,\n",
    "    0.635,\n",
    "    5.91,\n",
    "    3.06,\n",
    "    2.713,\n",
    "    15.044,\n",
    "    14.567,\n",
    "    20.670,\n",
    "    8.25,\n",
    "    9.773,\n",
    "    2.435,\n",
    "    1.52,\n",
    "    8.142,\n",
    "    0.483,\n",
    "    1.278,\n",
    "    5.219,\n",
    "    10.852,\n",
    "    4.740,\n",
    "]\n",
    "\n",
    "df[\"con_val\"] = [\n",
    "    37.667,\n",
    "    36.129,\n",
    "    22.495,\n",
    "    25.775,\n",
    "    30.954,\n",
    "    51.006,\n",
    "    49.906,\n",
    "    29.35,\n",
    "    29.253,\n",
    "    54.079,\n",
    "    36.33,\n",
    "    35.665,\n",
    "    57.029,\n",
    "    64.69,\n",
    "    38.769,\n",
    "    19.488,\n",
    "    33.27,\n",
    "    28.04,\n",
    "    22.06,\n",
    "]\n",
    "\n",
    "df[\"treat_val\"] = [\n",
    "    42.796,\n",
    "    35.784,\n",
    "    22.638,\n",
    "    27.30,\n",
    "    31.904,\n",
    "    52.39,\n",
    "    42.397,\n",
    "    33.628,\n",
    "    35.30,\n",
    "    49.61,\n",
    "    32.78,\n",
    "    36.534,\n",
    "    56.160,\n",
    "    59.42,\n",
    "    38.58,\n",
    "    19.737,\n",
    "    35.01,\n",
    "    25.0,\n",
    "    21.018,\n",
    "]\n",
    "\n",
    "df[\"value\"] = [\n",
    "    38.034,\n",
    "    34.696,\n",
    "    23.36,\n",
    "    23.78,\n",
    "    28.459,\n",
    "    52.81,\n",
    "    47.069,\n",
    "    29.888,\n",
    "    31.457,\n",
    "    53.86,\n",
    "    35.934,\n",
    "    36.618,\n",
    "    56.365,\n",
    "    62.126,\n",
    "    38.22,\n",
    "    21.158,\n",
    "    33.693,\n",
    "    22.333,\n",
    "    20.034,\n",
    "]\n",
    "\n",
    "plt.figure(figsize=(10, 6))\n",
    "ax = sns.scatterplot(\n",
    "    data=df,\n",
    "    x=\"treat_val\",\n",
    "    y=\"con_val\",\n",
    "    hue=\"domain\",\n",
    "    size=\"relative diff %\",\n",
    "    sizes=(200, 2000),\n",
    "    palette=domain_colors,\n",
    "    alpha=0.8,\n",
    ")\n",
    "a1, a2 = [df[\"treat_val\"].min(), df[\"con_val\"].min()], [\n",
    "    df[\"treat_val\"].max(),\n",
    "    df[\"con_val\"].max(),\n",
    "]\n",
    "# plt.plot([df['treat_val'].min(), df['treat_val'].max()], [df['treat_val'].min(), df['treat_val'].max()], linestyle='--', color='red')\n",
    "# plt.plot(a1, a2, linestyle='--', color='red')\n",
    "ax.axline((0, 0), slope=1, linestyle=\"--\", color=\"red\")\n",
    "\n",
    "# Set labels and title\n",
    "plt.xlabel(\"Treatment Value\")\n",
    "plt.ylabel(\"Control Value\")\n",
    "plt.xlim(15, 70)\n",
    "plt.ylim(15, 70)\n",
    "\n",
    "\n",
    "plt.show()"
   ]
  }
 ],
 "metadata": {
  "colab": {
   "provenance": [],
   "toc_visible": true
  },
  "kernelspec": {
   "display_name": "base",
   "language": "python",
   "name": "python3"
  },
  "language_info": {
   "codemirror_mode": {
    "name": "ipython",
    "version": 3
   },
   "file_extension": ".py",
   "mimetype": "text/x-python",
   "name": "python",
   "nbconvert_exporter": "python",
   "pygments_lexer": "ipython3",
   "version": "3.8.13"
  }
 },
 "nbformat": 4,
 "nbformat_minor": 0
}
